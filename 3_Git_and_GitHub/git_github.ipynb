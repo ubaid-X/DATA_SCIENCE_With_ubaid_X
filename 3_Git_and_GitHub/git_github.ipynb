{
 "cells": [
  {
   "cell_type": "markdown",
   "id": "3f2caeb2",
   "metadata": {},
   "source": [
    "> # __Git, GitHub and Open Source__\n",
    "\n"
   ]
  },
  {
   "cell_type": "markdown",
   "id": "e3f0f75b",
   "metadata": {},
   "source": [
    "---\n",
    "### __What is a Version?__\n",
    "Version is like a level of software.if we want to upgrade the software than we add new features to the existing version ,so with the new features the version is also upgraded\n",
    "\n",
    "`for example:`\n",
    "\n",
    "window 7 to window 10 to window 11."
   ]
  },
  {
   "cell_type": "markdown",
   "id": "b4886d23",
   "metadata": {},
   "source": [
    "---\n",
    "### __Why track/manage different version of code?__\n",
    "\n",
    "1. Backup\n",
    "    - Undo or refer to old stuff\n",
    "2. Branch\n",
    "    - Maintain old release while working on new\n",
    "3. Collaborate\n",
    "    - Work in parallel with teamates"
   ]
  },
  {
   "cell_type": "markdown",
   "id": "cda862c7",
   "metadata": {},
   "source": [
    "---\n",
    "### __Version Control Systems (VCSs)__\n",
    "\n",
    "- Helps you track/manage/distribute revisions\n",
    "- Standard in modern development\n",
    "\n",
    "`Example:`\n",
    "\n",
    "**OLD**\n",
    "- Revision Control System (RCS)\n",
    "- Concurrent Version System (CVS)\n",
    "- Subversion\n",
    "\n",
    "__NEW__\n",
    "- GIT\n",
    "    - which we are going to learn\n",
    "\n",
    "---"
   ]
  },
  {
   "cell_type": "markdown",
   "id": "02e45347",
   "metadata": {},
   "source": [
    "### __Why Git__\n",
    "\n",
    "__Git__ is a software which helps us to control the different versions of a system.\n",
    "\n",
    "- Free\n",
    "- Open Source\n",
    "- Super Fast\n",
    "- Scalable\n",
    "- Fast merging and branching\n",
    "- Most famous VCS for portfolios\n",
    "- More than 99% of software and data science companies use it\n",
    "---\n",
    "\n",
    "### __Version Control Hosting Services__\n",
    "\n",
    "- Enable sharing version control repos\n",
    "- Internet/Web based\n",
    "  \n",
    "`Example:`\n",
    "\n",
    "- SourceForge\n",
    "- Bitbucket\n",
    "- GitLab\n",
    "- `GitHub`\n",
    "  - which we are going to learn\n",
    "    - because most people using it.\n",
    "    - Microsoft is perchased it.\n",
    "---\n",
    "### __`Install the git from their official site`__\n",
    "\n",
    "![git1](./git%20pics/gitpic1.png)\n",
    "\n",
    "![git2](./git%20pics/gitpic2.png)"
   ]
  },
  {
   "cell_type": "markdown",
   "id": "0ace0ae7",
   "metadata": {},
   "source": [
    "---\n",
    "\n",
    "__Author name__: UBAIDULLAH\n",
    "\n",
    "[GitHub Profile](https://github.com/ubaid-X/)\n",
    "\n",
    "[LinkedIn Profile](https://https://www.linkedin.com/in/ubaid-ullah-634563373/)\n",
    "\n",
    "[Kaggle Profile](https://www.kaggle.com/ubaidullah01)\n",
    "\n",
    "__Email__: `ai.bussiness.student0@gmail.com`\n",
    "\n",
    "---"
   ]
  }
 ],
 "metadata": {
  "language_info": {
   "name": "python"
  }
 },
 "nbformat": 4,
 "nbformat_minor": 5
}
