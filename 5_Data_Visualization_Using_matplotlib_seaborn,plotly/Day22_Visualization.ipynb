{
 "cells": [
  {
   "cell_type": "markdown",
   "id": "feff8287",
   "metadata": {},
   "source": [
    "---\n",
    "\n",
    "- __Author name:__ UBAIDULLAH\n",
    "\n",
    "- __Email:__ [ai.bussiness.student0@gmail.com](mailto:ai.bussiness.student0@gmail.com)\n",
    "\n",
    "- __GitHub:__ [github.com/ubaid-X/](https://github.com/ubaid-X/)\n",
    "\n",
    "- __LinkedIn Profile:__ [linkedin.com/in/ubaid-ullah-634563373/](https://www.linkedin.com/in/ubaid-ullah-634563373/)\n",
    "\n",
    "- __Kaggle:__ [kaggle.com/ubaidullah01](https://www.kaggle.com/ubaidullah01)\n",
    "\n",
    "---"
   ]
  },
  {
   "cell_type": "markdown",
   "id": "ec8a6cc6",
   "metadata": {},
   "source": [
    "[blog link](https://codanics.com/data-visualization-in-data-science/)"
   ]
  },
  {
   "cell_type": "markdown",
   "id": "de09f727",
   "metadata": {},
   "source": [
    "> # Data Visualization\n",
    " \n",
    "- What is Data Visualization?\n",
    "\n",
    "__Data Visualization__ is the representation of data in a graphical format.\n",
    "It allows users to see and understand patterns, trends and insights in data.\\\n",
    " From simple bar charts to intricate `3D models`, data visualiztion encompasses a wide range of techniques.\n",
    "\n",
    "-  Why Data Visualization is Important?\n",
    "\n",
    "1. Quick Insights from Data.\n",
    "2. Informed Decision Making.\n",
    "3. Engagement => to engage the audience like investors, clients etc\n",
    "4. Data Exploration.\n",
    "\n",
    "- __Key Principles__\n",
    "\n",
    "1. Simplicity  => less is always more, easy to understand\n",
    "2. Consistancy => same colors, same Fonts\n",
    "3. Accuracy => Plot ------> Data\n",
    "4. Interactivity;- `Data visualization` interact with `Data` and give mannual control to users.\n",
    "\n",
    "- __Popular Tools__\n",
    "\n",
    "1. MS Excel\n",
    "2. Tableau\n",
    "3. Power BI\n",
    "4. Python ------> Libraries\n",
    "   1. `Pandas` -----> sample plots to do EDA\n",
    "   2. `Matplotlib` ----------> sample + Advance PLots [3D] , Static PLots\n",
    "   3. `Seaborn` ------> it used Matplotlib plots but `More Controls`, Static Plots\n",
    "   4. `Plotly` -------> Interacitve Plots + Advance 3D PLots\n",
    "          `One Class for Animated PLots`\n",
    "   5. Bokeh\n",
    "   6. Altair\n",
    "   7. GeoPandas\n",
    "   8. Pygal\n",
    "   9. Geoplotlib\n",
    "   10. GGPlot\n",
    "   11. HoloViews\n",
    "\n",
    "\n",
    "5. `R` Programming Language\n",
    "\n",
    "🔹 COMMON PARAMETERS (used across plots): => with `pandas module`\n",
    "| Parameter        | Meaning                                                                 |\n",
    "|------------------|-------------------------------------------------------------------------|\n",
    "| x              | Column name for x-axis                                                  |\n",
    "| y              | Column name(s) for y-axis                                               |\n",
    "| kind           | Type of plot: 'line', 'bar', 'hist', etc.                         |\n",
    "| title          | Title of the plot                                                       |\n",
    "| xlabel, ylabel | Labels for axes                                                      |\n",
    "| legend         | Show legend (True/False)                                                |\n",
    "| grid           | Show grid (True/False)                                                  |\n",
    "| figsize        | Tuple for figure size, e.g., (8, 6)                   \n",
    "\n",
    "`Example`\n",
    "df.plot(kind='line', x='Year', y='Profit', title='Annual Profit', figsize=(10,5), grid=True, style='--', color='red')\n",
    "\n",
    "### Grammer of Grafics or Ingredient of plots\n",
    "1. Data\n",
    "2. x-axis\n",
    "3. y-axis\n",
    "4. plot type\n"
   ]
  },
  {
   "cell_type": "markdown",
   "id": "e1c21a9a",
   "metadata": {},
   "source": [
    "> # Plots Types\n",
    "\n",
    "![chart1](./visualization%20pics/chart1.png)\n",
    "\n",
    "**1. Scatter Plot**\n",
    "\n",
    "- *What:* A chart with dots showing the relationship between two variables.  \n",
    "\n",
    "- *Use:* To find patterns or correlations.\n",
    "\n",
    "- *Example:* Height vs Weight of people.\n",
    "\n",
    "- *When to use:* Comparing two continuous values.\n",
    "\n",
    "\n",
    "![chart2](./visualization%20pics/chart2.png)\n",
    "\n",
    "**2. Line Plot / Trend Plot**\n",
    "\n",
    "- *What:* A line connecting points over time.\n",
    "\n",
    "- *Use:* To show trends or changes over time.  \n",
    "\n",
    "📊 What to Use on X-axis (horizontal):\n",
    "- Time-related data:  \n",
    "  - e.g., Dates, Months, Years, Timestamps  \n",
    "  - Example: ['Jan', 'Feb', 'Mar', 'Apr']\n",
    "\n",
    "Ordered categories (if not time):  \n",
    "  - e.g., Age groups[0-10, 11-20...], Class levels, Stages in a process   `Not label data`\n",
    "\n",
    "📈 What to Use on Y-axis (vertical):\n",
    "- Numerical values:  \n",
    "  - Sales, Temperature, Downloads, Stock Price, User Growth  \n",
    "  - Example: [1200, 1500, 1700, 1900]\n",
    "\n",
    "- *Example:* Monthly sales over a year.  \n",
    "\n",
    "- *When to use:* Time-series data.\n",
    "\n",
    "\n",
    "![chart3](./visualization%20pics/chart3.png)\n",
    "\n",
    "**3. Bar Plot**\n",
    "\n",
    "- *What:* Bars to compare different categories. \n",
    "\n",
    "- *Use:* To compare size or count.  \n",
    "\n",
    "- *Example:* Sales by product type.  \n",
    "\n",
    "- *When to use:* Categorical data comparison.\n",
    "\n",
    "![chart4](./visualization%20pics/chart4.png)\n",
    "\n",
    "**4. Box Plot**\n",
    "\n",
    "✅ What is a Box Plot?\n",
    "A box plot (also called a box-and-whisker plot) shows:\n",
    "- Median\n",
    "- Quartiles (Q1, Q3)\n",
    "- Minimum & Maximum (excluding outliers)\n",
    "- Outliers\n",
    "\n",
    "---\n",
    "\n",
    "✅ When to Use Box Plot?\n",
    "Use it when:\n",
    "- You want to compare distributions of numerical data across categories.\n",
    "- You want to detect outliers.\n",
    "- You want to understand spread (variation) of data.\n",
    "\n",
    "---\n",
    "\n",
    "✅ Type of Data:\n",
    "- X-axis: Categories (e.g., Gender, Department, Region)\n",
    "- Y-axis: Numeric values (e.g., Salary, Age, Height, Score)\n",
    "\n",
    "\n",
    "![chart5](./visualization%20pics/chart5.png)\n",
    "\n",
    "![chart6](./visualization%20pics/chart6.png)\n",
    "\n",
    "**5. Pie Plot**\n",
    "\n",
    "✅ What is a Pie Plot?\n",
    "A pie plot (or pie chart) shows parts of a whole — how different categories contribute to 100%.\n",
    "\n",
    "---\n",
    "\n",
    "✅ When to Use Pie Plot?\n",
    "Use a pie chart when:\n",
    "- You want to show proportion or percentage of categories.\n",
    "- You are dealing with few categories (ideally 3–6).\n",
    "- Total adds up to 100% (or meaningful whole).\n",
    "\n",
    "---\n",
    "\n",
    "✅ Type of Data Needed:\n",
    "- X-axis: Not applicable (it's a circular chart).\n",
    "- Y-axis: Categories (e.g., Country, Gender, Product Type)\n",
    "- Values: Numeric values (e.g., Sales, Count, Population)\n",
    "\n",
    "---\n",
    "\n",
    "\n",
    "- *Example:* Market share of brands.  \n",
    "\n",
    "- *When to use:* Few categories, total = 100%.\n",
    "\n",
    "---\n",
    "\n",
    "**6. Donut Plot**\n",
    "\n",
    "- *What:* Like a pie chart but with a hole in the middle.  \n",
    "\n",
    "- *Use:* Same as pie chart but better for design.\n",
    "\n",
    "- *Example:* Website traffic sources.\n",
    "\n",
    "- *When to use:* Same as pie, with labels in the center.\n",
    "\n",
    "\n",
    "![chart7](./visualization%20pics/chart7.png)\n",
    "\n",
    "**7. Area Plot**\n",
    "\n",
    "✅ **What is an Area Plot?  \n",
    "An Area Plot* is like a line plot but the area under the line is filled with color. It shows how quantities change over time and how different parts contribute to a total*.\n",
    "\n",
    "---\n",
    "\n",
    "✅ When to Use Area Plot?\n",
    "Use it when:\n",
    "- You want to visualize change over time.\n",
    "- You want to compare multiple series (stacked area).\n",
    "- You need to show overall trend + part-to-whole.\n",
    "\n",
    "---\n",
    "\n",
    "✅ Type of Data:\n",
    "- X-axis: Continuous data — usually time (years, months, etc.)\n",
    "- Y-axis: Numeric values (sales, population, users, etc.)\n",
    "\n",
    "---\n",
    "\n",
    "- *Example:* Cumulative revenue growth.  \n",
    "\n",
    "- *When to use:* Compare multiple values over time.\n",
    "\n",
    "![chart8](./visualization%20pics/chart8.png)\n",
    "\n",
    "**8. Spider Plot (Radar Chart)**\n",
    "\n",
    "✅ What is a Spider Plot?\n",
    "A Spider Plot (or Radar Chart) is a circular graph where each axis represents a feature, and the shape shows how a subject scores across all those features.\n",
    "\n",
    "It looks like a spider web 🕸 — that's why the name.\n",
    "\n",
    "---\n",
    "\n",
    "✅ When to Use It?\n",
    "Use it when:\n",
    "- You want to compare multiple features of one item.\n",
    "- You want to compare multiple items across the same features.\n",
    "- Great for performance analysis, skill comparison, product features etc.\n",
    "\n",
    "---\n",
    "\n",
    "✅ Type of Data:\n",
    "- X-axis: Categorical (labels like \"Speed\", \"Power\", \"Accuracy\", etc.)\n",
    "- Y-axis: Numeric values (scores, ratings, levels)\n",
    "\n",
    "---\n",
    "\n",
    "- *Example:* Comparing features of 3 mobile phones.  \n",
    "\n",
    "- *When to use:* Multidimensional comparison.\n",
    "\n",
    "![chart9](./visualization%20pics/chart9.png)\n",
    "\n",
    "**9. Geographical Map**\n",
    "\n",
    "🌍 Geographical Map Plot (Geo Plot) — Simple Explanation\n",
    "\n",
    "---\n",
    "\n",
    "✅ What is a Geographical Map Plot?\n",
    "A Geo Plot shows data on a real-world map (world, country, region). It helps you visualize where something happens and how much happens in different places.\n",
    "\n",
    "---\n",
    "\n",
    "✅ When to Use It?\n",
    "Use it when:\n",
    "- You have location-based data (countries, cities, regions).\n",
    "- You want to compare values by geographic region.\n",
    "- Great for: COVID cases by country, sales by city, population by region, etc.\n",
    "\n",
    "---\n",
    "\n",
    "✅ What Kind of Data You Need:\n",
    "\n",
    "- X-axis & Y-axis: You don’t use normal x/y axes — instead, you use:\n",
    "  - Location names (e.g., 'Pakistan', 'USA')\n",
    "  - OR Latitude/Longitude values\n",
    "\n",
    "- Values: Numeric data (population, revenue, temperature, etc.)\n",
    "\n",
    "---\n",
    "\n",
    "✅ Popular Libraries to Use:\n",
    "- Plotly\n",
    "- Folium\n",
    "- Geopandas\n",
    "- Basemap / Cartopy (advanced)\n",
    "\n",
    "- *Example:* Population by country.  \n",
    "\n",
    "- *When to use:* Data linked to geography (countries, cities, regions).\n",
    "\n",
    "![chart10](./visualization%20pics/chart10.png)\n",
    "\n",
    "\n",
    "10. **Treemap:**\n",
    "\n",
    "- *Explanation:* A visualization of hierarchical data using nested rectangles.\n",
    "\n",
    "*Example:* Showing storage used by different types of files on a computer.\n",
    "\n",
    "---\n",
    "\n",
    "11. **Time Series:**\n",
    "Explanation: A sequence of data points indexed in time order.\n",
    "\n",
    "Example: Analyzing the daily temperature of a place over a year.\n",
    "\n",
    "---\n",
    "\n",
    "There are several other plots, such as bubble chart, violin plots and much more."
   ]
  },
  {
   "cell_type": "markdown",
   "id": "a1584ad4",
   "metadata": {},
   "source": [
    "> # Data Visualization\n",
    "\n",
    "\n",
    "`famous hashtag`: **#dataviz** **#datavisualization**"
   ]
  },
  {
   "cell_type": "markdown",
   "id": "913a9929",
   "metadata": {},
   "source": [
    "---\n",
    "# 1. Bar Plot"
   ]
  },
  {
   "cell_type": "code",
   "execution_count": 31,
   "id": "45cb791c",
   "metadata": {},
   "outputs": [
    {
     "data": {
      "image/png": "[encoded data removed]",
      "text/plain": [
       "<Figure size 640x480 with 1 Axes>"
      ]
     },
     "metadata": {},
     "output_type": "display_data"
    }
   ],
   "source": [
    "# import pandas and matplotlib.pyplot libraries\n",
    "import pandas as pd\n",
    "import matplotlib.pyplot as plt\n",
    "\n",
    "# create a dictionary with sample data\n",
    "data = {'Products': ['Product A', 'Product B', 'Product C'],\n",
    "    'Sales': [100, 150, 80]}\n",
    "\n",
    "# create a pandas dataframe from the dictionary\n",
    "df = pd.DataFrame(data)\n",
    "\n",
    "# plot the dataframe as a bar chart\n",
    "df.plot(x='Products', y='Sales', kind='bar', legend=False)\n",
    "\n",
    "# set the y-axis label\n",
    "plt.ylabel('Sales')\n",
    "\n",
    "# set the title of the plot\n",
    "plt.title('Sales of different products')\n",
    "\n",
    "# setting the x-Axis product names\n",
    "plt.xticks(rotation=0)\n",
    "\n",
    "# save the plot to a file\n",
    "plt.savefig('./viz outputs/plots/bar_chart.png', dpi=300, bbox_inches='tight')\n",
    "\n",
    "# display the plot\n",
    "plt.show()"
   ]
  },
  {
   "cell_type": "markdown",
   "id": "841df0fe",
   "metadata": {},
   "source": [
    "---\n",
    "# Pie Plot"
   ]
  },
  {
   "cell_type": "code",
   "execution_count": 32,
   "id": "ee555815",
   "metadata": {},
   "outputs": [
    {
     "data": {
      "image/png": "[encoded data removed]",
      "text/plain": [
       "<Figure size 640x480 with 1 Axes>"
      ]
     },
     "metadata": {},
     "output_type": "display_data"
    }
   ],
   "source": [
    "# import pandas and matplotlib.pyplot libraries\n",
    "import pandas as pd\n",
    "import matplotlib.pyplot as plt\n",
    "\n",
    "# create a dictionary with sample data\n",
    "data = {'Products': ['Product A', 'Product B', 'Product C'],\n",
    "        'Sales': [100, 150, 80]}\n",
    "\n",
    "# create a pandas dataframe from the dictionary\n",
    "df = pd.DataFrame(data)\n",
    "\n",
    "# plot the dataframe as a pie chart\n",
    "df.set_index('Products')['Sales'].plot(kind='pie', autopct='%1.1f%%', startangle=90)\n",
    "\n",
    "# set the title of the plot\n",
    "plt.title('Sales distribution of different products')\n",
    "\n",
    "# save the plot to a file\n",
    "plt.savefig('./viz outputs/plots/plotspie_chart.png', dpi=300, bbox_inches='tight')\n",
    "\n",
    "# display the plot\n",
    "plt.ylabel('')  # This is to remove the 'Sales' ylabel which is unnecessary in a pie chart\n",
    "plt.show()"
   ]
  },
  {
   "cell_type": "markdown",
   "id": "7ce3bbe9",
   "metadata": {},
   "source": [
    "---\n",
    "# 3. Histogram Plot"
   ]
  },
  {
   "cell_type": "code",
   "execution_count": 33,
   "id": "fa32a556",
   "metadata": {},
   "outputs": [
    {
     "data": {
      "image/png": "[encoded data removed]",
      "text/plain": [
       "<Figure size 640x480 with 1 Axes>"
      ]
     },
     "metadata": {},
     "output_type": "display_data"
    }
   ],
   "source": [
    "# import pandas and matplotlib.pyplot libraries\n",
    "import pandas as pd\n",
    "import matplotlib.pyplot as plt\n",
    "\n",
    "# create a dictionary with sample data\n",
    "data = {'Sales': [30,50,120,150,200,300,100, 150, 80, 120, 140, 130,\n",
    "                  50,50,30,20,10,50,35,45,55,50,55,65,56,58,58,54,55,50,5,\n",
    "                  110, 145, 105, 90, 115, 125, 135, 85, 95]}\n",
    "\n",
    "# create a pandas dataframe from the dictionary\n",
    "df = pd.DataFrame(data)\n",
    "\n",
    "# plot the dataframe as a histogram\n",
    "df['Sales'].plot(kind='hist', bins=5, edgecolor='white')\n",
    "\n",
    "# set the x-axis and y-axis labels\n",
    "plt.xlabel('Sales Value')\n",
    "plt.ylabel('Number of Transactions')\n",
    "\n",
    "# set the title of the plot\n",
    "plt.title('Distribution of Sales Transactions')\n",
    "\n",
    "# save the plot to a file\n",
    "plt.savefig('./viz outputs/plots/histogram.png', dpi=300, bbox_inches='tight')\n",
    "\n",
    "# display the plot\n",
    "plt.show()"
   ]
  },
  {
   "cell_type": "markdown",
   "id": "3c8cd0ce",
   "metadata": {},
   "source": [
    "---\n",
    "# 4. Scatter Plot"
   ]
  },
  {
   "cell_type": "code",
   "execution_count": 34,
   "id": "60f48fbe",
   "metadata": {},
   "outputs": [
    {
     "data": {
      "image/png": "[encoded data removed]",
      "text/plain": [
       "<Figure size 640x480 with 1 Axes>"
      ]
     },
     "metadata": {},
     "output_type": "display_data"
    }
   ],
   "source": [
    "# import pandas and matplotlib.pyplot libraries\n",
    "import pandas as pd\n",
    "import matplotlib.pyplot as plt\n",
    "\n",
    "# create a dictionary with sample data\n",
    "data = {\n",
    "    'Sales': [100, 150, 80, 120, 140, 130, 110, 145, 105, 90],\n",
    "    'Profit': [50, 70, 40, 60, 75, 65, 55, 72, 52, 45]\n",
    "}\n",
    "\n",
    "# create a pandas dataframe from the dictionary\n",
    "df = pd.DataFrame(data)\n",
    "\n",
    "# plot the dataframe as a scatter plot\n",
    "df.plot(x='Sales', y='Profit', kind='scatter')\n",
    "\n",
    "# set the x-axis and y-axis labels\n",
    "plt.xlabel('Sales Value')\n",
    "plt.ylabel('Profit Value')\n",
    "\n",
    "# set the title of the plot\n",
    "plt.title('Relationship between Sales and Profit')\n",
    "\n",
    "# save the plot to a file\n",
    "plt.savefig('./viz outputs/plots/scatter_plot.png', dpi=300, bbox_inches='tight')\n",
    "\n",
    "# display the plot\n",
    "plt.show()"
   ]
  },
  {
   "cell_type": "markdown",
   "id": "8c1284c5",
   "metadata": {},
   "source": [
    "---\n",
    "# 5. Line Plot"
   ]
  },
  {
   "cell_type": "code",
   "execution_count": 35,
   "id": "b33b7808",
   "metadata": {},
   "outputs": [
    {
     "data": {
      "image/png": "[encoded data removed]",
      "text/plain": [
       "<Figure size 640x480 with 1 Axes>"
      ]
     },
     "metadata": {},
     "output_type": "display_data"
    }
   ],
   "source": [
    "# import pandas and matplotlib.pyplot libraries\n",
    "import pandas as pd\n",
    "import matplotlib.pyplot as plt\n",
    "\n",
    "# create a dictionary with sample data\n",
    "data = {\n",
    "    'Month': ['Jan', 'Feb', 'Mar', 'Apr', 'May', 'Jun', 'Jul', 'Aug', 'Sep', 'Oct', 'Nov', 'Dec'],\n",
    "    'Monthly Sales': [100, 110, 105, 115, 120, 125, 130, 135, 140, 145, 150, 155]\n",
    "}\n",
    "\n",
    "# create a pandas dataframe from the dictionary\n",
    "df = pd.DataFrame(data)\n",
    "\n",
    "# plot the dataframe as a line chart\n",
    "df.plot(x='Month', y='Monthly Sales', kind='line', marker='o')\n",
    "\n",
    "# set the x-axis and y-axis labels\n",
    "plt.xlabel('Month')\n",
    "plt.ylabel('Sales Value')\n",
    "\n",
    "# set the title of the plot\n",
    "plt.title('Monthly Sales Trend over a Year')\n",
    "\n",
    "# save the plot to a file\n",
    "plt.savefig('./viz outputs/plots/line_chart.png', dpi=300, bbox_inches='tight')\n",
    "\n",
    "# display the plot\n",
    "plt.show()"
   ]
  },
  {
   "cell_type": "markdown",
   "id": "161f11c7",
   "metadata": {},
   "source": [
    "---\n",
    "# 6. Heatmap"
   ]
  },
  {
   "cell_type": "code",
   "execution_count": 36,
   "id": "be34860c",
   "metadata": {},
   "outputs": [
    {
     "data": {
      "image/png": "[encoded data removed]",
      "text/plain": [
       "<Figure size 800x600 with 2 Axes>"
      ]
     },
     "metadata": {},
     "output_type": "display_data"
    }
   ],
   "source": [
    "# import required libraries\n",
    "import pandas as pd\n",
    "import matplotlib.pyplot as plt\n",
    "import seaborn as sns\n",
    "\n",
    "# Sample correlation matrix\n",
    "data = {\n",
    "    'Product A': [1, 0.6, 0.8, 0.3],\n",
    "    'Product B': [0.6, 1, 0.5, 0.7],\n",
    "    'Product C': [0.8, 0.5, 1, 0.4],\n",
    "    'Product D': [0.3, 0.7, 0.4, 1]\n",
    "}\n",
    "\n",
    "# Create a pandas dataframe from the dictionary\n",
    "df = pd.DataFrame(data)\n",
    "\n",
    "# Plotting the heatmap\n",
    "plt.figure(figsize=(8, 6))\n",
    "sns.heatmap(df, annot=True, cmap='viridis', vmin=0, vmax=1)\n",
    "\n",
    "# Set the title of the plot\n",
    "plt.title('Product Correlation Heatmap')\n",
    "\n",
    "# Save the plot to a file\n",
    "plt.savefig('./viz outputs/plots/heatmap.png', dpi=300, bbox_inches='tight')\n",
    "\n",
    "# Display the plot\n",
    "plt.show()"
   ]
  },
  {
   "cell_type": "markdown",
   "id": "d2b74ea1",
   "metadata": {},
   "source": [
    "---\n",
    "# 7. Box Plot"
   ]
  },
  {
   "cell_type": "code",
   "execution_count": 37,
   "id": "facc956c",
   "metadata": {},
   "outputs": [
    {
     "data": {
      "image/png": "[encoded data removed]",
      "text/plain": [
       "<Figure size 640x480 with 1 Axes>"
      ]
     },
     "metadata": {},
     "output_type": "display_data"
    }
   ],
   "source": [
    "# import required libraries\n",
    "import pandas as pd\n",
    "import matplotlib.pyplot as plt\n",
    "\n",
    "# Sample data\n",
    "data = {\n",
    "    'Product A': [95, 85, 90, 100, 105, 110],\n",
    "    'Product B': [100, 105, 95, 90, 115, 120],\n",
    "    'Product C': [105, 110, 115, 120, 125, 130]\n",
    "}\n",
    "\n",
    "# Create a pandas dataframe from the dictionary\n",
    "df = pd.DataFrame(data)\n",
    "\n",
    "# Plotting the boxplot\n",
    "df.boxplot(grid=False, vert=True, fontsize=10)\n",
    "\n",
    "# Set the title of the plot\n",
    "plt.title('Sales Distribution by Product')\n",
    "\n",
    "# Set the y-axis label\n",
    "plt.ylabel('Sales Value')\n",
    "\n",
    "# Save the plot to a file\n",
    "plt.savefig('./viz outputs/plots/boxplot.png', dpi=300, bbox_inches='tight')\n",
    "\n",
    "# Display the plot\n",
    "plt.show()"
   ]
  },
  {
   "cell_type": "markdown",
   "id": "96d9f3cb",
   "metadata": {},
   "source": [
    "> # Using Seaborn Creating same box plot"
   ]
  },
  {
   "cell_type": "code",
   "execution_count": 38,
   "id": "c30c31cc",
   "metadata": {},
   "outputs": [
    {
     "data": {
      "image/png": "[encoded data removed]",
      "text/plain": [
       "<Figure size 1000x600 with 1 Axes>"
      ]
     },
     "metadata": {},
     "output_type": "display_data"
    }
   ],
   "source": [
    "# we can do the same thing with seaborn library as follows\n",
    "\n",
    "# import required libraries\n",
    "import pandas as pd\n",
    "import matplotlib.pyplot as plt\n",
    "import seaborn as sns\n",
    "\n",
    "# Sample data\n",
    "data = {\n",
    "    'Product A': [95, 85, 90, 100, 105, 110],\n",
    "    'Product B': [100, 105, 95, 90, 115, 120],\n",
    "    'Product C': [105, 110, 115, 120, 125, 130]\n",
    "}\n",
    "\n",
    "# Create a pandas dataframe from the dictionary\n",
    "df = pd.DataFrame(data)\n",
    "\n",
    "# Plotting the boxplot using seaborn\n",
    "plt.figure(figsize=(10, 6))\n",
    "sns.boxplot(data=df)\n",
    "\n",
    "# Set the title of the plot\n",
    "plt.title('Sales Distribution by Product')\n",
    "\n",
    "# Set the y-axis label\n",
    "plt.ylabel('Sales Value')\n",
    "\n",
    "# Save the plot to a file\n",
    "plt.savefig('./viz outputs/plots/sns_boxplot.png', dpi=300, bbox_inches='tight')\n",
    "\n",
    "# Display the plot\n",
    "plt.show()"
   ]
  },
  {
   "cell_type": "markdown",
   "id": "e8ecaf12",
   "metadata": {},
   "source": [
    "---\n",
    "# 8. Area Plot"
   ]
  },
  {
   "cell_type": "code",
   "execution_count": 39,
   "id": "93940d69",
   "metadata": {},
   "outputs": [
    {
     "data": {
      "image/png": "[encoded data removed]",
      "text/plain": [
       "<Figure size 1000x600 with 1 Axes>"
      ]
     },
     "metadata": {},
     "output_type": "display_data"
    }
   ],
   "source": [
    "# import required libraries\n",
    "import pandas as pd\n",
    "import matplotlib.pyplot as plt\n",
    "import seaborn as sns\n",
    "\n",
    "# Sample data\n",
    "data = {\n",
    "    'Month': ['Jan', 'Feb', 'Mar', 'Apr', 'May'],\n",
    "    'Sales': [100, 150, 180, 220, 270]  # Accumulated sales for demonstration\n",
    "}\n",
    "\n",
    "# Create a pandas dataframe from the dictionary\n",
    "df = pd.DataFrame(data)\n",
    "\n",
    "# Plotting the area chart\n",
    "plt.figure(figsize=(10, 6))\n",
    "sns.set_style(\"whitegrid\")\n",
    "plt.fill_between(df['Month'], df['Sales'], color=\"skyblue\", alpha=0.4)\n",
    "plt.plot(df['Month'], df['Sales'], color=\"Slateblue\", alpha=0.6)\n",
    "\n",
    "# Set the title, x-axis and y-axis labels\n",
    "plt.title('Monthly Accumulated Sales')\n",
    "plt.xlabel('Month')\n",
    "plt.ylabel('Accumulated Sales Value')\n",
    "\n",
    "# Save the plot to a file\n",
    "plt.savefig('./viz outputs/plots/area_chart.png', dpi=300, bbox_inches='tight')\n",
    "\n",
    "# Display the plot\n",
    "plt.show()"
   ]
  },
  {
   "cell_type": "markdown",
   "id": "4cfc4fd7",
   "metadata": {},
   "source": [
    "---\n",
    "# 9. Spider or Radar Plot"
   ]
  },
  {
   "cell_type": "code",
   "execution_count": 40,
   "id": "a4003def",
   "metadata": {},
   "outputs": [
    {
     "data": {
      "image/png": "[encoded data removed]",
      "text/plain": [
       "<Figure size 800x600 with 1 Axes>"
      ]
     },
     "metadata": {},
     "output_type": "display_data"
    }
   ],
   "source": [
    "# import required libraries\n",
    "import pandas as pd\n",
    "import matplotlib.pyplot as plt\n",
    "import numpy as np\n",
    "\n",
    "# Sample data\n",
    "data = {\n",
    "    'Metrics': ['Metric A', 'Metric B', 'Metric C', 'Metric D', 'Metric E'],\n",
    "    'Product 1': [3, 4, 5, 4, 2],\n",
    "    'Product 2': [4, 5, 4, 3, 3]\n",
    "}\n",
    "\n",
    "# Create a pandas dataframe from the dictionary\n",
    "df = pd.DataFrame(data)\n",
    "\n",
    "# Number of variables\n",
    "categories = list(df['Metrics'])\n",
    "N = len(categories)\n",
    "\n",
    "# Set the angle for each metric's axis\n",
    "angles = [n / float(N) * 2 * np.pi for n in range(N)]\n",
    "angles += angles[:1]\n",
    "\n",
    "# Initialize the spider plot\n",
    "plt.figure(figsize=(8, 6))\n",
    "ax = plt.subplot(111, polar=True)\n",
    "\n",
    "# Plotting for Product 1\n",
    "values = df['Product 1'].tolist()\n",
    "values += values[:1]  # Repeat the first value to close the circular graph\n",
    "ax.plot(angles, values, linewidth=2, linestyle='solid', label='Product 1')\n",
    "ax.fill(angles, values, 'b', alpha=0.1)\n",
    "\n",
    "# Plotting for Product 2\n",
    "values = df['Product 2'].tolist()\n",
    "values += values[:1]  # Repeat the first value to close the circular graph\n",
    "ax.plot(angles, values, linewidth=2, linestyle='solid', label='Product 2')\n",
    "ax.fill(angles, values, 'r', alpha=0.1)\n",
    "\n",
    "# Add the axis labels\n",
    "plt.xticks(angles[:-1], categories, color='grey', size=12)\n",
    "ax.set_rlabel_position(30)\n",
    "plt.yticks([1,2,3,4,5], [\"1\",\"2\",\"3\",\"4\",\"5\"], color=\"grey\", size=8)\n",
    "plt.ylim(0, 5)\n",
    "\n",
    "# Add title and legend\n",
    "plt.title('Comparison between Product 1 and Product 2 on various metrics')\n",
    "ax.legend(loc='upper right', bbox_to_anchor=(0.1, 0.1))\n",
    "\n",
    "# Save the plot to a file\n",
    "plt.savefig('./viz outputs/plots/radar_chart.png', dpi=300, bbox_inches='tight')\n",
    "\n",
    "# Display the plot\n",
    "plt.show()"
   ]
  },
  {
   "cell_type": "markdown",
   "id": "3328cc79",
   "metadata": {},
   "source": [
    "---\n",
    "# 10. Tree map"
   ]
  },
  {
   "cell_type": "code",
   "execution_count": 41,
   "id": "058860ec",
   "metadata": {},
   "outputs": [
    {
     "data": {
      "image/png": "[encoded data removed]",
      "text/plain": [
       "<Figure size 1200x800 with 1 Axes>"
      ]
     },
     "metadata": {},
     "output_type": "display_data"
    }
   ],
   "source": [
    "# Import required libraries\n",
    "import pandas as pd\n",
    "import matplotlib.pyplot as plt\n",
    "import squarify # install if you do not have it\n",
    "\n",
    "# Sample data\n",
    "data = {\n",
    "    'File Type': ['Documents', 'Videos', 'Images', 'Audio', 'Other'],\n",
    "    'Storage Used (GB)': [50, 150, 80, 60, 10]\n",
    "}\n",
    "\n",
    "# Create a pandas dataframe from the dictionary\n",
    "df = pd.DataFrame(data)\n",
    "\n",
    "# Plotting the treemap\n",
    "plt.figure(figsize=(12, 8))\n",
    "colors = ['red', 'green', 'blue', 'yellow', 'grey']\n",
    "squarify.plot(sizes=df['Storage Used (GB)'], label=df['File Type'], color=colors, alpha=0.6)\n",
    "\n",
    "# Add title\n",
    "plt.title('Storage Used by File Type')\n",
    "plt.axis('off')  # Turn off the axis\n",
    "\n",
    "# Save the plot to a file\n",
    "plt.savefig('./viz outputs/plots/treemap.png', dpi=300, bbox_inches='tight')\n",
    "\n",
    "# Display the plot\n",
    "plt.show()"
   ]
  },
  {
   "cell_type": "markdown",
   "id": "7ee4af23",
   "metadata": {},
   "source": [
    "---\n",
    "# 11. Geographical Maps"
   ]
  },
  {
   "cell_type": "code",
   "execution_count": 42,
   "id": "9b02954d",
   "metadata": {},
   "outputs": [
    {
     "data": {
      "application/vnd.plotly.v1+json": {
       "config": {
        "plotlyServerURL": "https://plot.ly"
       },
       "data": [
        {
         "lat": [
          40.7128,
          51.5074,
          -33.8688,
          35.6895,
          -22.9068
         ],
         "lon": [
          -74.006,
          -0.1278,
          151.2093,
          139.6917,
          -43.1729
         ],
         "marker": {
          "autocolorscale": false,
          "line": {
           "color": "rgba(102, 102, 102)",
           "width": 1
          },
          "opacity": 0.8,
          "reversescale": true,
          "size": 10,
          "symbol": "circle"
         },
         "mode": "markers",
         "text": [
          "New York",
          "London",
          "Sydney",
          "Tokyo",
          "Rio de Janeiro"
         ],
         "type": "scattergeo"
        }
       ],
       "layout": {
        "geo": {
         "scope": "world",
         "showland": true
        },
        "template": {
         "data": {
          "bar": [
           {
            "error_x": {
             "color": "#2a3f5f"
            },
            "error_y": {
             "color": "#2a3f5f"
            },
            "marker": {
             "line": {
              "color": "#E5ECF6",
              "width": 0.5
             },
             "pattern": {
              "fillmode": "overlay",
              "size": 10,
              "solidity": 0.2
             }
            },
            "type": "bar"
           }
          ],
          "barpolar": [
           {
            "marker": {
             "line": {
              "color": "#E5ECF6",
              "width": 0.5
             },
             "pattern": {
              "fillmode": "overlay",
              "size": 10,
              "solidity": 0.2
             }
            },
            "type": "barpolar"
           }
          ],
          "carpet": [
           {
            "aaxis": {
             "endlinecolor": "#2a3f5f",
             "gridcolor": "white",
             "linecolor": "white",
             "minorgridcolor": "white",
             "startlinecolor": "#2a3f5f"
            },
            "baxis": {
             "endlinecolor": "#2a3f5f",
             "gridcolor": "white",
             "linecolor": "white",
             "minorgridcolor": "white",
             "startlinecolor": "#2a3f5f"
            },
            "type": "carpet"
           }
          ],
          "choropleth": [
           {
            "colorbar": {
             "outlinewidth": 0,
             "ticks": ""
            },
            "type": "choropleth"
           }
          ],
          "contour": [
           {
            "colorbar": {
             "outlinewidth": 0,
             "ticks": ""
            },
            "colorscale": [
             [
              0,
              "#0d0887"
             ],
             [
              0.1111111111111111,
              "#46039f"
             ],
             [
              0.2222222222222222,
              "#7201a8"
             ],
             [
              0.3333333333333333,
              "#9c179e"
             ],
             [
              0.4444444444444444,
              "#bd3786"
             ],
             [
              0.5555555555555556,
              "#d8576b"
             ],
             [
              0.6666666666666666,
              "#ed7953"
             ],
             [
              0.7777777777777778,
              "#fb9f3a"
             ],
             [
              0.8888888888888888,
              "#fdca26"
             ],
             [
              1,
              "#f0f921"
             ]
            ],
            "type": "contour"
           }
          ],
          "contourcarpet": [
           {
            "colorbar": {
             "outlinewidth": 0,
             "ticks": ""
            },
            "type": "contourcarpet"
           }
          ],
          "heatmap": [
           {
            "colorbar": {
             "outlinewidth": 0,
             "ticks": ""
            },
            "colorscale": [
             [
              0,
              "#0d0887"
             ],
             [
              0.1111111111111111,
              "#46039f"
             ],
             [
              0.2222222222222222,
              "#7201a8"
             ],
             [
              0.3333333333333333,
              "#9c179e"
             ],
             [
              0.4444444444444444,
              "#bd3786"
             ],
             [
              0.5555555555555556,
              "#d8576b"
             ],
             [
              0.6666666666666666,
              "#ed7953"
             ],
             [
              0.7777777777777778,
              "#fb9f3a"
             ],
             [
              0.8888888888888888,
              "#fdca26"
             ],
             [
              1,
              "#f0f921"
             ]
            ],
            "type": "heatmap"
           }
          ],
          "histogram": [
           {
            "marker": {
             "pattern": {
              "fillmode": "overlay",
              "size": 10,
              "solidity": 0.2
             }
            },
            "type": "histogram"
           }
          ],
          "histogram2d": [
           {
            "colorbar": {
             "outlinewidth": 0,
             "ticks": ""
            },
            "colorscale": [
             [
              0,
              "#0d0887"
             ],
             [
              0.1111111111111111,
              "#46039f"
             ],
             [
              0.2222222222222222,
              "#7201a8"
             ],
             [
              0.3333333333333333,
              "#9c179e"
             ],
             [
              0.4444444444444444,
              "#bd3786"
             ],
             [
              0.5555555555555556,
              "#d8576b"
             ],
             [
              0.6666666666666666,
              "#ed7953"
             ],
             [
              0.7777777777777778,
              "#fb9f3a"
             ],
             [
              0.8888888888888888,
              "#fdca26"
             ],
             [
              1,
              "#f0f921"
             ]
            ],
            "type": "histogram2d"
           }
          ],
          "histogram2dcontour": [
           {
            "colorbar": {
             "outlinewidth": 0,
             "ticks": ""
            },
            "colorscale": [
             [
              0,
              "#0d0887"
             ],
             [
              0.1111111111111111,
              "#46039f"
             ],
             [
              0.2222222222222222,
              "#7201a8"
             ],
             [
              0.3333333333333333,
              "#9c179e"
             ],
             [
              0.4444444444444444,
              "#bd3786"
             ],
             [
              0.5555555555555556,
              "#d8576b"
             ],
             [
              0.6666666666666666,
              "#ed7953"
             ],
             [
              0.7777777777777778,
              "#fb9f3a"
             ],
             [
              0.8888888888888888,
              "#fdca26"
             ],
             [
              1,
              "#f0f921"
             ]
            ],
            "type": "histogram2dcontour"
           }
          ],
          "mesh3d": [
           {
            "colorbar": {
             "outlinewidth": 0,
             "ticks": ""
            },
            "type": "mesh3d"
           }
          ],
          "parcoords": [
           {
            "line": {
             "colorbar": {
              "outlinewidth": 0,
              "ticks": ""
             }
            },
            "type": "parcoords"
           }
          ],
          "pie": [
           {
            "automargin": true,
            "type": "pie"
           }
          ],
          "scatter": [
           {
            "fillpattern": {
             "fillmode": "overlay",
             "size": 10,
             "solidity": 0.2
            },
            "type": "scatter"
           }
          ],
          "scatter3d": [
           {
            "line": {
             "colorbar": {
              "outlinewidth": 0,
              "ticks": ""
             }
            },
            "marker": {
             "colorbar": {
              "outlinewidth": 0,
              "ticks": ""
             }
            },
            "type": "scatter3d"
           }
          ],
          "scattercarpet": [
           {
            "marker": {
             "colorbar": {
              "outlinewidth": 0,
              "ticks": ""
             }
            },
            "type": "scattercarpet"
           }
          ],
          "scattergeo": [
           {
            "marker": {
             "colorbar": {
              "outlinewidth": 0,
              "ticks": ""
             }
            },
            "type": "scattergeo"
           }
          ],
          "scattergl": [
           {
            "marker": {
             "colorbar": {
              "outlinewidth": 0,
              "ticks": ""
             }
            },
            "type": "scattergl"
           }
          ],
          "scattermap": [
           {
            "marker": {
             "colorbar": {
              "outlinewidth": 0,
              "ticks": ""
             }
            },
            "type": "scattermap"
           }
          ],
          "scattermapbox": [
           {
            "marker": {
             "colorbar": {
              "outlinewidth": 0,
              "ticks": ""
             }
            },
            "type": "scattermapbox"
           }
          ],
          "scatterpolar": [
           {
            "marker": {
             "colorbar": {
              "outlinewidth": 0,
              "ticks": ""
             }
            },
            "type": "scatterpolar"
           }
          ],
          "scatterpolargl": [
           {
            "marker": {
             "colorbar": {
              "outlinewidth": 0,
              "ticks": ""
             }
            },
            "type": "scatterpolargl"
           }
          ],
          "scatterternary": [
           {
            "marker": {
             "colorbar": {
              "outlinewidth": 0,
              "ticks": ""
             }
            },
            "type": "scatterternary"
           }
          ],
          "surface": [
           {
            "colorbar": {
             "outlinewidth": 0,
             "ticks": ""
            },
            "colorscale": [
             [
              0,
              "#0d0887"
             ],
             [
              0.1111111111111111,
              "#46039f"
             ],
             [
              0.2222222222222222,
              "#7201a8"
             ],
             [
              0.3333333333333333,
              "#9c179e"
             ],
             [
              0.4444444444444444,
              "#bd3786"
             ],
             [
              0.5555555555555556,
              "#d8576b"
             ],
             [
              0.6666666666666666,
              "#ed7953"
             ],
             [
              0.7777777777777778,
              "#fb9f3a"
             ],
             [
              0.8888888888888888,
              "#fdca26"
             ],
             [
              1,
              "#f0f921"
             ]
            ],
            "type": "surface"
           }
          ],
          "table": [
           {
            "cells": {
             "fill": {
              "color": "#EBF0F8"
             },
             "line": {
              "color": "white"
             }
            },
            "header": {
             "fill": {
              "color": "#C8D4E3"
             },
             "line": {
              "color": "white"
             }
            },
            "type": "table"
           }
          ]
         },
         "layout": {
          "annotationdefaults": {
           "arrowcolor": "#2a3f5f",
           "arrowhead": 0,
           "arrowwidth": 1
          },
          "autotypenumbers": "strict",
          "coloraxis": {
           "colorbar": {
            "outlinewidth": 0,
            "ticks": ""
           }
          },
          "colorscale": {
           "diverging": [
            [
             0,
             "#8e0152"
            ],
            [
             0.1,
             "#c51b7d"
            ],
            [
             0.2,
             "#de77ae"
            ],
            [
             0.3,
             "#f1b6da"
            ],
            [
             0.4,
             "#fde0ef"
            ],
            [
             0.5,
             "#f7f7f7"
            ],
            [
             0.6,
             "#e6f5d0"
            ],
            [
             0.7,
             "#b8e186"
            ],
            [
             0.8,
             "#7fbc41"
            ],
            [
             0.9,
             "#4d9221"
            ],
            [
             1,
             "#276419"
            ]
           ],
           "sequential": [
            [
             0,
             "#0d0887"
            ],
            [
             0.1111111111111111,
             "#46039f"
            ],
            [
             0.2222222222222222,
             "#7201a8"
            ],
            [
             0.3333333333333333,
             "#9c179e"
            ],
            [
             0.4444444444444444,
             "#bd3786"
            ],
            [
             0.5555555555555556,
             "#d8576b"
            ],
            [
             0.6666666666666666,
             "#ed7953"
            ],
            [
             0.7777777777777778,
             "#fb9f3a"
            ],
            [
             0.8888888888888888,
             "#fdca26"
            ],
            [
             1,
             "#f0f921"
            ]
           ],
           "sequentialminus": [
            [
             0,
             "#0d0887"
            ],
            [
             0.1111111111111111,
             "#46039f"
            ],
            [
             0.2222222222222222,
             "#7201a8"
            ],
            [
             0.3333333333333333,
             "#9c179e"
            ],
            [
             0.4444444444444444,
             "#bd3786"
            ],
            [
             0.5555555555555556,
             "#d8576b"
            ],
            [
             0.6666666666666666,
             "#ed7953"
            ],
            [
             0.7777777777777778,
             "#fb9f3a"
            ],
            [
             0.8888888888888888,
             "#fdca26"
            ],
            [
             1,
             "#f0f921"
            ]
           ]
          },
          "colorway": [
           "#636efa",
           "#EF553B",
           "#00cc96",
           "#ab63fa",
           "#FFA15A",
           "#19d3f3",
           "#FF6692",
           "#B6E880",
           "#FF97FF",
           "#FECB52"
          ],
          "font": {
           "color": "#2a3f5f"
          },
          "geo": {
           "bgcolor": "white",
           "lakecolor": "white",
           "landcolor": "#E5ECF6",
           "showlakes": true,
           "showland": true,
           "subunitcolor": "white"
          },
          "hoverlabel": {
           "align": "left"
          },
          "hovermode": "closest",
          "mapbox": {
           "style": "light"
          },
          "paper_bgcolor": "white",
          "plot_bgcolor": "#E5ECF6",
          "polar": {
           "angularaxis": {
            "gridcolor": "white",
            "linecolor": "white",
            "ticks": ""
           },
           "bgcolor": "#E5ECF6",
           "radialaxis": {
            "gridcolor": "white",
            "linecolor": "white",
            "ticks": ""
           }
          },
          "scene": {
           "xaxis": {
            "backgroundcolor": "#E5ECF6",
            "gridcolor": "white",
            "gridwidth": 2,
            "linecolor": "white",
            "showbackground": true,
            "ticks": "",
            "zerolinecolor": "white"
           },
           "yaxis": {
            "backgroundcolor": "#E5ECF6",
            "gridcolor": "white",
            "gridwidth": 2,
            "linecolor": "white",
            "showbackground": true,
            "ticks": "",
            "zerolinecolor": "white"
           },
           "zaxis": {
            "backgroundcolor": "#E5ECF6",
            "gridcolor": "white",
            "gridwidth": 2,
            "linecolor": "white",
            "showbackground": true,
            "ticks": "",
            "zerolinecolor": "white"
           }
          },
          "shapedefaults": {
           "line": {
            "color": "#2a3f5f"
           }
          },
          "ternary": {
           "aaxis": {
            "gridcolor": "white",
            "linecolor": "white",
            "ticks": ""
           },
           "baxis": {
            "gridcolor": "white",
            "linecolor": "white",
            "ticks": ""
           },
           "bgcolor": "#E5ECF6",
           "caxis": {
            "gridcolor": "white",
            "linecolor": "white",
            "ticks": ""
           }
          },
          "title": {
           "x": 0.05
          },
          "xaxis": {
           "automargin": true,
           "gridcolor": "white",
           "linecolor": "white",
           "ticks": "",
           "title": {
            "standoff": 15
           },
           "zerolinecolor": "white",
           "zerolinewidth": 2
          },
          "yaxis": {
           "automargin": true,
           "gridcolor": "white",
           "linecolor": "white",
           "ticks": "",
           "title": {
            "standoff": 15
           },
           "zerolinecolor": "white",
           "zerolinewidth": 2
          }
         }
        },
        "title": {
         "text": "Cities on World Map using Plotly"
        }
       }
      }
     },
     "metadata": {},
     "output_type": "display_data"
    }
   ],
   "source": [
    "# Import required libraries\n",
    "import plotly.graph_objects as go\n",
    "\n",
    "# Data for cities and their coordinates\n",
    "cities = {\n",
    "    'New York': [40.7128, -74.0060],\n",
    "    'London': [51.5074, -0.1278],\n",
    "    'Sydney': [-33.8688, 151.2093],\n",
    "    'Tokyo': [35.6895, 139.6917],\n",
    "    'Rio de Janeiro': [-22.9068, -43.1729]\n",
    "}\n",
    "\n",
    "# Extracting latitudes, longitudes, and city names for plotting\n",
    "lats = [coords[0] for coords in cities.values()]\n",
    "longs = [coords[1] for coords in cities.values()]\n",
    "names = list(cities.keys())\n",
    "\n",
    "# Creating the Scattergeo plot\n",
    "fig = go.Figure(data=go.Scattergeo(\n",
    "    lon = longs,\n",
    "    lat = lats,\n",
    "    text = names,\n",
    "    mode = 'markers',\n",
    "    marker = dict(\n",
    "        size = 10,\n",
    "        opacity = 0.8,\n",
    "        reversescale = True,\n",
    "        autocolorscale = False,\n",
    "        symbol = 'circle',\n",
    "        line = dict(\n",
    "            width=1,\n",
    "            color='rgba(102, 102, 102)'\n",
    "        ),\n",
    "    )\n",
    "))\n",
    "\n",
    "# Setting the layout for the map\n",
    "fig.update_layout(\n",
    "    title = 'Cities on World Map using Plotly',\n",
    "    geo = dict(\n",
    "        scope='world',\n",
    "        showland = True,\n",
    "    )\n",
    ")\n",
    "\n",
    "# Display the map\n",
    "fig.show()\n",
    "\n",
    "# Save the map to an HTML file\n",
    "fig.write_html(\"./viz outputs/plots/world_map_plotly.html\")"
   ]
  },
  {
   "cell_type": "markdown",
   "id": "8f99c5d7",
   "metadata": {},
   "source": [
    "---\n",
    "# 12. Time Series plots"
   ]
  },
  {
   "cell_type": "code",
   "execution_count": 43,
   "id": "11547045",
   "metadata": {},
   "outputs": [
    {
     "data": {
      "application/vnd.plotly.v1+json": {
       "config": {
        "plotlyServerURL": "https://plot.ly"
       },
       "data": [
        {
         "mode": "lines+markers",
         "type": "scatter",
         "x": [
          "2022-01-01T00:00:00",
          "2022-01-02T00:00:00",
          "2022-01-03T00:00:00",
          "2022-01-04T00:00:00",
          "2022-01-05T00:00:00"
         ],
         "y": {
          "bdata": "Cg8HDAo=",
          "dtype": "i1"
         }
        }
       ],
       "layout": {
        "template": {
         "data": {
          "bar": [
           {
            "error_x": {
             "color": "#2a3f5f"
            },
            "error_y": {
             "color": "#2a3f5f"
            },
            "marker": {
             "line": {
              "color": "#E5ECF6",
              "width": 0.5
             },
             "pattern": {
              "fillmode": "overlay",
              "size": 10,
              "solidity": 0.2
             }
            },
            "type": "bar"
           }
          ],
          "barpolar": [
           {
            "marker": {
             "line": {
              "color": "#E5ECF6",
              "width": 0.5
             },
             "pattern": {
              "fillmode": "overlay",
              "size": 10,
              "solidity": 0.2
             }
            },
            "type": "barpolar"
           }
          ],
          "carpet": [
           {
            "aaxis": {
             "endlinecolor": "#2a3f5f",
             "gridcolor": "white",
             "linecolor": "white",
             "minorgridcolor": "white",
             "startlinecolor": "#2a3f5f"
            },
            "baxis": {
             "endlinecolor": "#2a3f5f",
             "gridcolor": "white",
             "linecolor": "white",
             "minorgridcolor": "white",
             "startlinecolor": "#2a3f5f"
            },
            "type": "carpet"
           }
          ],
          "choropleth": [
           {
            "colorbar": {
             "outlinewidth": 0,
             "ticks": ""
            },
            "type": "choropleth"
           }
          ],
          "contour": [
           {
            "colorbar": {
             "outlinewidth": 0,
             "ticks": ""
            },
            "colorscale": [
             [
              0,
              "#0d0887"
             ],
             [
              0.1111111111111111,
              "#46039f"
             ],
             [
              0.2222222222222222,
              "#7201a8"
             ],
             [
              0.3333333333333333,
              "#9c179e"
             ],
             [
              0.4444444444444444,
              "#bd3786"
             ],
             [
              0.5555555555555556,
              "#d8576b"
             ],
             [
              0.6666666666666666,
              "#ed7953"
             ],
             [
              0.7777777777777778,
              "#fb9f3a"
             ],
             [
              0.8888888888888888,
              "#fdca26"
             ],
             [
              1,
              "#f0f921"
             ]
            ],
            "type": "contour"
           }
          ],
          "contourcarpet": [
           {
            "colorbar": {
             "outlinewidth": 0,
             "ticks": ""
            },
            "type": "contourcarpet"
           }
          ],
          "heatmap": [
           {
            "colorbar": {
             "outlinewidth": 0,
             "ticks": ""
            },
            "colorscale": [
             [
              0,
              "#0d0887"
             ],
             [
              0.1111111111111111,
              "#46039f"
             ],
             [
              0.2222222222222222,
              "#7201a8"
             ],
             [
              0.3333333333333333,
              "#9c179e"
             ],
             [
              0.4444444444444444,
              "#bd3786"
             ],
             [
              0.5555555555555556,
              "#d8576b"
             ],
             [
              0.6666666666666666,
              "#ed7953"
             ],
             [
              0.7777777777777778,
              "#fb9f3a"
             ],
             [
              0.8888888888888888,
              "#fdca26"
             ],
             [
              1,
              "#f0f921"
             ]
            ],
            "type": "heatmap"
           }
          ],
          "histogram": [
           {
            "marker": {
             "pattern": {
              "fillmode": "overlay",
              "size": 10,
              "solidity": 0.2
             }
            },
            "type": "histogram"
           }
          ],
          "histogram2d": [
           {
            "colorbar": {
             "outlinewidth": 0,
             "ticks": ""
            },
            "colorscale": [
             [
              0,
              "#0d0887"
             ],
             [
              0.1111111111111111,
              "#46039f"
             ],
             [
              0.2222222222222222,
              "#7201a8"
             ],
             [
              0.3333333333333333,
              "#9c179e"
             ],
             [
              0.4444444444444444,
              "#bd3786"
             ],
             [
              0.5555555555555556,
              "#d8576b"
             ],
             [
              0.6666666666666666,
              "#ed7953"
             ],
             [
              0.7777777777777778,
              "#fb9f3a"
             ],
             [
              0.8888888888888888,
              "#fdca26"
             ],
             [
              1,
              "#f0f921"
             ]
            ],
            "type": "histogram2d"
           }
          ],
          "histogram2dcontour": [
           {
            "colorbar": {
             "outlinewidth": 0,
             "ticks": ""
            },
            "colorscale": [
             [
              0,
              "#0d0887"
             ],
             [
              0.1111111111111111,
              "#46039f"
             ],
             [
              0.2222222222222222,
              "#7201a8"
             ],
             [
              0.3333333333333333,
              "#9c179e"
             ],
             [
              0.4444444444444444,
              "#bd3786"
             ],
             [
              0.5555555555555556,
              "#d8576b"
             ],
             [
              0.6666666666666666,
              "#ed7953"
             ],
             [
              0.7777777777777778,
              "#fb9f3a"
             ],
             [
              0.8888888888888888,
              "#fdca26"
             ],
             [
              1,
              "#f0f921"
             ]
            ],
            "type": "histogram2dcontour"
           }
          ],
          "mesh3d": [
           {
            "colorbar": {
             "outlinewidth": 0,
             "ticks": ""
            },
            "type": "mesh3d"
           }
          ],
          "parcoords": [
           {
            "line": {
             "colorbar": {
              "outlinewidth": 0,
              "ticks": ""
             }
            },
            "type": "parcoords"
           }
          ],
          "pie": [
           {
            "automargin": true,
            "type": "pie"
           }
          ],
          "scatter": [
           {
            "fillpattern": {
             "fillmode": "overlay",
             "size": 10,
             "solidity": 0.2
            },
            "type": "scatter"
           }
          ],
          "scatter3d": [
           {
            "line": {
             "colorbar": {
              "outlinewidth": 0,
              "ticks": ""
             }
            },
            "marker": {
             "colorbar": {
              "outlinewidth": 0,
              "ticks": ""
             }
            },
            "type": "scatter3d"
           }
          ],
          "scattercarpet": [
           {
            "marker": {
             "colorbar": {
              "outlinewidth": 0,
              "ticks": ""
             }
            },
            "type": "scattercarpet"
           }
          ],
          "scattergeo": [
           {
            "marker": {
             "colorbar": {
              "outlinewidth": 0,
              "ticks": ""
             }
            },
            "type": "scattergeo"
           }
          ],
          "scattergl": [
           {
            "marker": {
             "colorbar": {
              "outlinewidth": 0,
              "ticks": ""
             }
            },
            "type": "scattergl"
           }
          ],
          "scattermap": [
           {
            "marker": {
             "colorbar": {
              "outlinewidth": 0,
              "ticks": ""
             }
            },
            "type": "scattermap"
           }
          ],
          "scattermapbox": [
           {
            "marker": {
             "colorbar": {
              "outlinewidth": 0,
              "ticks": ""
             }
            },
            "type": "scattermapbox"
           }
          ],
          "scatterpolar": [
           {
            "marker": {
             "colorbar": {
              "outlinewidth": 0,
              "ticks": ""
             }
            },
            "type": "scatterpolar"
           }
          ],
          "scatterpolargl": [
           {
            "marker": {
             "colorbar": {
              "outlinewidth": 0,
              "ticks": ""
             }
            },
            "type": "scatterpolargl"
           }
          ],
          "scatterternary": [
           {
            "marker": {
             "colorbar": {
              "outlinewidth": 0,
              "ticks": ""
             }
            },
            "type": "scatterternary"
           }
          ],
          "surface": [
           {
            "colorbar": {
             "outlinewidth": 0,
             "ticks": ""
            },
            "colorscale": [
             [
              0,
              "#0d0887"
             ],
             [
              0.1111111111111111,
              "#46039f"
             ],
             [
              0.2222222222222222,
              "#7201a8"
             ],
             [
              0.3333333333333333,
              "#9c179e"
             ],
             [
              0.4444444444444444,
              "#bd3786"
             ],
             [
              0.5555555555555556,
              "#d8576b"
             ],
             [
              0.6666666666666666,
              "#ed7953"
             ],
             [
              0.7777777777777778,
              "#fb9f3a"
             ],
             [
              0.8888888888888888,
              "#fdca26"
             ],
             [
              1,
              "#f0f921"
             ]
            ],
            "type": "surface"
           }
          ],
          "table": [
           {
            "cells": {
             "fill": {
              "color": "#EBF0F8"
             },
             "line": {
              "color": "white"
             }
            },
            "header": {
             "fill": {
              "color": "#C8D4E3"
             },
             "line": {
              "color": "white"
             }
            },
            "type": "table"
           }
          ]
         },
         "layout": {
          "annotationdefaults": {
           "arrowcolor": "#2a3f5f",
           "arrowhead": 0,
           "arrowwidth": 1
          },
          "autotypenumbers": "strict",
          "coloraxis": {
           "colorbar": {
            "outlinewidth": 0,
            "ticks": ""
           }
          },
          "colorscale": {
           "diverging": [
            [
             0,
             "#8e0152"
            ],
            [
             0.1,
             "#c51b7d"
            ],
            [
             0.2,
             "#de77ae"
            ],
            [
             0.3,
             "#f1b6da"
            ],
            [
             0.4,
             "#fde0ef"
            ],
            [
             0.5,
             "#f7f7f7"
            ],
            [
             0.6,
             "#e6f5d0"
            ],
            [
             0.7,
             "#b8e186"
            ],
            [
             0.8,
             "#7fbc41"
            ],
            [
             0.9,
             "#4d9221"
            ],
            [
             1,
             "#276419"
            ]
           ],
           "sequential": [
            [
             0,
             "#0d0887"
            ],
            [
             0.1111111111111111,
             "#46039f"
            ],
            [
             0.2222222222222222,
             "#7201a8"
            ],
            [
             0.3333333333333333,
             "#9c179e"
            ],
            [
             0.4444444444444444,
             "#bd3786"
            ],
            [
             0.5555555555555556,
             "#d8576b"
            ],
            [
             0.6666666666666666,
             "#ed7953"
            ],
            [
             0.7777777777777778,
             "#fb9f3a"
            ],
            [
             0.8888888888888888,
             "#fdca26"
            ],
            [
             1,
             "#f0f921"
            ]
           ],
           "sequentialminus": [
            [
             0,
             "#0d0887"
            ],
            [
             0.1111111111111111,
             "#46039f"
            ],
            [
             0.2222222222222222,
             "#7201a8"
            ],
            [
             0.3333333333333333,
             "#9c179e"
            ],
            [
             0.4444444444444444,
             "#bd3786"
            ],
            [
             0.5555555555555556,
             "#d8576b"
            ],
            [
             0.6666666666666666,
             "#ed7953"
            ],
            [
             0.7777777777777778,
             "#fb9f3a"
            ],
            [
             0.8888888888888888,
             "#fdca26"
            ],
            [
             1,
             "#f0f921"
            ]
           ]
          },
          "colorway": [
           "#636efa",
           "#EF553B",
           "#00cc96",
           "#ab63fa",
           "#FFA15A",
           "#19d3f3",
           "#FF6692",
           "#B6E880",
           "#FF97FF",
           "#FECB52"
          ],
          "font": {
           "color": "#2a3f5f"
          },
          "geo": {
           "bgcolor": "white",
           "lakecolor": "white",
           "landcolor": "#E5ECF6",
           "showlakes": true,
           "showland": true,
           "subunitcolor": "white"
          },
          "hoverlabel": {
           "align": "left"
          },
          "hovermode": "closest",
          "mapbox": {
           "style": "light"
          },
          "paper_bgcolor": "white",
          "plot_bgcolor": "#E5ECF6",
          "polar": {
           "angularaxis": {
            "gridcolor": "white",
            "linecolor": "white",
            "ticks": ""
           },
           "bgcolor": "#E5ECF6",
           "radialaxis": {
            "gridcolor": "white",
            "linecolor": "white",
            "ticks": ""
           }
          },
          "scene": {
           "xaxis": {
            "backgroundcolor": "#E5ECF6",
            "gridcolor": "white",
            "gridwidth": 2,
            "linecolor": "white",
            "showbackground": true,
            "ticks": "",
            "zerolinecolor": "white"
           },
           "yaxis": {
            "backgroundcolor": "#E5ECF6",
            "gridcolor": "white",
            "gridwidth": 2,
            "linecolor": "white",
            "showbackground": true,
            "ticks": "",
            "zerolinecolor": "white"
           },
           "zaxis": {
            "backgroundcolor": "#E5ECF6",
            "gridcolor": "white",
            "gridwidth": 2,
            "linecolor": "white",
            "showbackground": true,
            "ticks": "",
            "zerolinecolor": "white"
           }
          },
          "shapedefaults": {
           "line": {
            "color": "#2a3f5f"
           }
          },
          "ternary": {
           "aaxis": {
            "gridcolor": "white",
            "linecolor": "white",
            "ticks": ""
           },
           "baxis": {
            "gridcolor": "white",
            "linecolor": "white",
            "ticks": ""
           },
           "bgcolor": "#E5ECF6",
           "caxis": {
            "gridcolor": "white",
            "linecolor": "white",
            "ticks": ""
           }
          },
          "title": {
           "x": 0.05
          },
          "xaxis": {
           "automargin": true,
           "gridcolor": "white",
           "linecolor": "white",
           "ticks": "",
           "title": {
            "standoff": 15
           },
           "zerolinecolor": "white",
           "zerolinewidth": 2
          },
          "yaxis": {
           "automargin": true,
           "gridcolor": "white",
           "linecolor": "white",
           "ticks": "",
           "title": {
            "standoff": 15
           },
           "zerolinecolor": "white",
           "zerolinewidth": 2
          }
         }
        },
        "title": {
         "text": "Time Series Plot using Plotly"
        },
        "xaxis": {
         "showgrid": false,
         "showline": true,
         "showticklabels": true,
         "title": {
          "text": "Date"
         }
        },
        "yaxis": {
         "showgrid": true,
         "showline": false,
         "showticklabels": true,
         "title": {
          "text": "Value"
         },
         "zeroline": false
        }
       }
      }
     },
     "metadata": {},
     "output_type": "display_data"
    }
   ],
   "source": [
    "# Import required libraries\n",
    "import plotly.graph_objects as go\n",
    "import pandas as pd\n",
    "\n",
    "# Sample time series data\n",
    "data = {\n",
    "    'Date': ['2022-01-01', '2022-01-02', '2022-01-03', '2022-01-04', '2022-01-05'],\n",
    "    'Value': [10, 15, 7, 12, 10]\n",
    "}\n",
    "\n",
    "# Create a pandas dataframe from the dictionary\n",
    "df = pd.DataFrame(data)\n",
    "\n",
    "# Convert the 'Date' column to a datetime object for better handling\n",
    "df['Date'] = pd.to_datetime(df['Date'])\n",
    "\n",
    "# Creating the time series plot\n",
    "fig = go.Figure(data=go.Scatter(x=df['Date'], y=df['Value'], mode='lines+markers'))\n",
    "\n",
    "# Setting the layout for the plot\n",
    "fig.update_layout(\n",
    "    title='Time Series Plot using Plotly',\n",
    "    xaxis_title='Date',\n",
    "    yaxis_title='Value',\n",
    "    xaxis=dict(showline=True, showgrid=False, showticklabels=True),\n",
    "    yaxis=dict(zeroline=False, showgrid=True, showline=False, showticklabels=True),\n",
    ")\n",
    "\n",
    "# Display the plot\n",
    "fig.show()\n",
    "\n",
    "# Save the plot to an HTML file\n",
    "fig.write_html(\"./viz outputs/plots/time_series_plotly.html\")\n",
    "\n",
    "# save as png\n",
    "fig.write_image(\"./viz outputs/plots/time_series_plotly.png\")"
   ]
  },
  {
   "cell_type": "markdown",
   "id": "13d149ac",
   "metadata": {},
   "source": [
    "---\n",
    "# 13. Bubble Plot"
   ]
  },
  {
   "cell_type": "code",
   "execution_count": 44,
   "id": "330d96c3",
   "metadata": {},
   "outputs": [
    {
     "data": {
      "application/vnd.plotly.v1+json": {
       "config": {
        "plotlyServerURL": "https://plot.ly"
       },
       "data": [
        {
         "marker": {
          "color": [
           15,
           25,
           35,
           45,
           55
          ],
          "colorbar": {
           "title": {
            "text": "Colorbar"
           }
          },
          "colorscale": [
           [
            0,
            "#440154"
           ],
           [
            0.1111111111111111,
            "#482878"
           ],
           [
            0.2222222222222222,
            "#3e4989"
           ],
           [
            0.3333333333333333,
            "#31688e"
           ],
           [
            0.4444444444444444,
            "#26828e"
           ],
           [
            0.5555555555555556,
            "#1f9e89"
           ],
           [
            0.6666666666666666,
            "#35b779"
           ],
           [
            0.7777777777777778,
            "#6ece58"
           ],
           [
            0.8888888888888888,
            "#b5de2b"
           ],
           [
            1,
            "#fde725"
           ]
          ],
          "opacity": 0.6,
          "size": [
           30,
           60,
           90,
           120,
           150
          ],
          "sizemode": "diameter"
         },
         "mode": "markers",
         "text": [
          "A",
          "B",
          "C",
          "D",
          "E"
         ],
         "type": "scatter",
         "x": [
          10,
          20,
          30,
          40,
          50
         ],
         "y": [
          15,
          25,
          35,
          45,
          55
         ]
        }
       ],
       "layout": {
        "showlegend": false,
        "template": {
         "data": {
          "bar": [
           {
            "error_x": {
             "color": "#2a3f5f"
            },
            "error_y": {
             "color": "#2a3f5f"
            },
            "marker": {
             "line": {
              "color": "#E5ECF6",
              "width": 0.5
             },
             "pattern": {
              "fillmode": "overlay",
              "size": 10,
              "solidity": 0.2
             }
            },
            "type": "bar"
           }
          ],
          "barpolar": [
           {
            "marker": {
             "line": {
              "color": "#E5ECF6",
              "width": 0.5
             },
             "pattern": {
              "fillmode": "overlay",
              "size": 10,
              "solidity": 0.2
             }
            },
            "type": "barpolar"
           }
          ],
          "carpet": [
           {
            "aaxis": {
             "endlinecolor": "#2a3f5f",
             "gridcolor": "white",
             "linecolor": "white",
             "minorgridcolor": "white",
             "startlinecolor": "#2a3f5f"
            },
            "baxis": {
             "endlinecolor": "#2a3f5f",
             "gridcolor": "white",
             "linecolor": "white",
             "minorgridcolor": "white",
             "startlinecolor": "#2a3f5f"
            },
            "type": "carpet"
           }
          ],
          "choropleth": [
           {
            "colorbar": {
             "outlinewidth": 0,
             "ticks": ""
            },
            "type": "choropleth"
           }
          ],
          "contour": [
           {
            "colorbar": {
             "outlinewidth": 0,
             "ticks": ""
            },
            "colorscale": [
             [
              0,
              "#0d0887"
             ],
             [
              0.1111111111111111,
              "#46039f"
             ],
             [
              0.2222222222222222,
              "#7201a8"
             ],
             [
              0.3333333333333333,
              "#9c179e"
             ],
             [
              0.4444444444444444,
              "#bd3786"
             ],
             [
              0.5555555555555556,
              "#d8576b"
             ],
             [
              0.6666666666666666,
              "#ed7953"
             ],
             [
              0.7777777777777778,
              "#fb9f3a"
             ],
             [
              0.8888888888888888,
              "#fdca26"
             ],
             [
              1,
              "#f0f921"
             ]
            ],
            "type": "contour"
           }
          ],
          "contourcarpet": [
           {
            "colorbar": {
             "outlinewidth": 0,
             "ticks": ""
            },
            "type": "contourcarpet"
           }
          ],
          "heatmap": [
           {
            "colorbar": {
             "outlinewidth": 0,
             "ticks": ""
            },
            "colorscale": [
             [
              0,
              "#0d0887"
             ],
             [
              0.1111111111111111,
              "#46039f"
             ],
             [
              0.2222222222222222,
              "#7201a8"
             ],
             [
              0.3333333333333333,
              "#9c179e"
             ],
             [
              0.4444444444444444,
              "#bd3786"
             ],
             [
              0.5555555555555556,
              "#d8576b"
             ],
             [
              0.6666666666666666,
              "#ed7953"
             ],
             [
              0.7777777777777778,
              "#fb9f3a"
             ],
             [
              0.8888888888888888,
              "#fdca26"
             ],
             [
              1,
              "#f0f921"
             ]
            ],
            "type": "heatmap"
           }
          ],
          "histogram": [
           {
            "marker": {
             "pattern": {
              "fillmode": "overlay",
              "size": 10,
              "solidity": 0.2
             }
            },
            "type": "histogram"
           }
          ],
          "histogram2d": [
           {
            "colorbar": {
             "outlinewidth": 0,
             "ticks": ""
            },
            "colorscale": [
             [
              0,
              "#0d0887"
             ],
             [
              0.1111111111111111,
              "#46039f"
             ],
             [
              0.2222222222222222,
              "#7201a8"
             ],
             [
              0.3333333333333333,
              "#9c179e"
             ],
             [
              0.4444444444444444,
              "#bd3786"
             ],
             [
              0.5555555555555556,
              "#d8576b"
             ],
             [
              0.6666666666666666,
              "#ed7953"
             ],
             [
              0.7777777777777778,
              "#fb9f3a"
             ],
             [
              0.8888888888888888,
              "#fdca26"
             ],
             [
              1,
              "#f0f921"
             ]
            ],
            "type": "histogram2d"
           }
          ],
          "histogram2dcontour": [
           {
            "colorbar": {
             "outlinewidth": 0,
             "ticks": ""
            },
            "colorscale": [
             [
              0,
              "#0d0887"
             ],
             [
              0.1111111111111111,
              "#46039f"
             ],
             [
              0.2222222222222222,
              "#7201a8"
             ],
             [
              0.3333333333333333,
              "#9c179e"
             ],
             [
              0.4444444444444444,
              "#bd3786"
             ],
             [
              0.5555555555555556,
              "#d8576b"
             ],
             [
              0.6666666666666666,
              "#ed7953"
             ],
             [
              0.7777777777777778,
              "#fb9f3a"
             ],
             [
              0.8888888888888888,
              "#fdca26"
             ],
             [
              1,
              "#f0f921"
             ]
            ],
            "type": "histogram2dcontour"
           }
          ],
          "mesh3d": [
           {
            "colorbar": {
             "outlinewidth": 0,
             "ticks": ""
            },
            "type": "mesh3d"
           }
          ],
          "parcoords": [
           {
            "line": {
             "colorbar": {
              "outlinewidth": 0,
              "ticks": ""
             }
            },
            "type": "parcoords"
           }
          ],
          "pie": [
           {
            "automargin": true,
            "type": "pie"
           }
          ],
          "scatter": [
           {
            "fillpattern": {
             "fillmode": "overlay",
             "size": 10,
             "solidity": 0.2
            },
            "type": "scatter"
           }
          ],
          "scatter3d": [
           {
            "line": {
             "colorbar": {
              "outlinewidth": 0,
              "ticks": ""
             }
            },
            "marker": {
             "colorbar": {
              "outlinewidth": 0,
              "ticks": ""
             }
            },
            "type": "scatter3d"
           }
          ],
          "scattercarpet": [
           {
            "marker": {
             "colorbar": {
              "outlinewidth": 0,
              "ticks": ""
             }
            },
            "type": "scattercarpet"
           }
          ],
          "scattergeo": [
           {
            "marker": {
             "colorbar": {
              "outlinewidth": 0,
              "ticks": ""
             }
            },
            "type": "scattergeo"
           }
          ],
          "scattergl": [
           {
            "marker": {
             "colorbar": {
              "outlinewidth": 0,
              "ticks": ""
             }
            },
            "type": "scattergl"
           }
          ],
          "scattermap": [
           {
            "marker": {
             "colorbar": {
              "outlinewidth": 0,
              "ticks": ""
             }
            },
            "type": "scattermap"
           }
          ],
          "scattermapbox": [
           {
            "marker": {
             "colorbar": {
              "outlinewidth": 0,
              "ticks": ""
             }
            },
            "type": "scattermapbox"
           }
          ],
          "scatterpolar": [
           {
            "marker": {
             "colorbar": {
              "outlinewidth": 0,
              "ticks": ""
             }
            },
            "type": "scatterpolar"
           }
          ],
          "scatterpolargl": [
           {
            "marker": {
             "colorbar": {
              "outlinewidth": 0,
              "ticks": ""
             }
            },
            "type": "scatterpolargl"
           }
          ],
          "scatterternary": [
           {
            "marker": {
             "colorbar": {
              "outlinewidth": 0,
              "ticks": ""
             }
            },
            "type": "scatterternary"
           }
          ],
          "surface": [
           {
            "colorbar": {
             "outlinewidth": 0,
             "ticks": ""
            },
            "colorscale": [
             [
              0,
              "#0d0887"
             ],
             [
              0.1111111111111111,
              "#46039f"
             ],
             [
              0.2222222222222222,
              "#7201a8"
             ],
             [
              0.3333333333333333,
              "#9c179e"
             ],
             [
              0.4444444444444444,
              "#bd3786"
             ],
             [
              0.5555555555555556,
              "#d8576b"
             ],
             [
              0.6666666666666666,
              "#ed7953"
             ],
             [
              0.7777777777777778,
              "#fb9f3a"
             ],
             [
              0.8888888888888888,
              "#fdca26"
             ],
             [
              1,
              "#f0f921"
             ]
            ],
            "type": "surface"
           }
          ],
          "table": [
           {
            "cells": {
             "fill": {
              "color": "#EBF0F8"
             },
             "line": {
              "color": "white"
             }
            },
            "header": {
             "fill": {
              "color": "#C8D4E3"
             },
             "line": {
              "color": "white"
             }
            },
            "type": "table"
           }
          ]
         },
         "layout": {
          "annotationdefaults": {
           "arrowcolor": "#2a3f5f",
           "arrowhead": 0,
           "arrowwidth": 1
          },
          "autotypenumbers": "strict",
          "coloraxis": {
           "colorbar": {
            "outlinewidth": 0,
            "ticks": ""
           }
          },
          "colorscale": {
           "diverging": [
            [
             0,
             "#8e0152"
            ],
            [
             0.1,
             "#c51b7d"
            ],
            [
             0.2,
             "#de77ae"
            ],
            [
             0.3,
             "#f1b6da"
            ],
            [
             0.4,
             "#fde0ef"
            ],
            [
             0.5,
             "#f7f7f7"
            ],
            [
             0.6,
             "#e6f5d0"
            ],
            [
             0.7,
             "#b8e186"
            ],
            [
             0.8,
             "#7fbc41"
            ],
            [
             0.9,
             "#4d9221"
            ],
            [
             1,
             "#276419"
            ]
           ],
           "sequential": [
            [
             0,
             "#0d0887"
            ],
            [
             0.1111111111111111,
             "#46039f"
            ],
            [
             0.2222222222222222,
             "#7201a8"
            ],
            [
             0.3333333333333333,
             "#9c179e"
            ],
            [
             0.4444444444444444,
             "#bd3786"
            ],
            [
             0.5555555555555556,
             "#d8576b"
            ],
            [
             0.6666666666666666,
             "#ed7953"
            ],
            [
             0.7777777777777778,
             "#fb9f3a"
            ],
            [
             0.8888888888888888,
             "#fdca26"
            ],
            [
             1,
             "#f0f921"
            ]
           ],
           "sequentialminus": [
            [
             0,
             "#0d0887"
            ],
            [
             0.1111111111111111,
             "#46039f"
            ],
            [
             0.2222222222222222,
             "#7201a8"
            ],
            [
             0.3333333333333333,
             "#9c179e"
            ],
            [
             0.4444444444444444,
             "#bd3786"
            ],
            [
             0.5555555555555556,
             "#d8576b"
            ],
            [
             0.6666666666666666,
             "#ed7953"
            ],
            [
             0.7777777777777778,
             "#fb9f3a"
            ],
            [
             0.8888888888888888,
             "#fdca26"
            ],
            [
             1,
             "#f0f921"
            ]
           ]
          },
          "colorway": [
           "#636efa",
           "#EF553B",
           "#00cc96",
           "#ab63fa",
           "#FFA15A",
           "#19d3f3",
           "#FF6692",
           "#B6E880",
           "#FF97FF",
           "#FECB52"
          ],
          "font": {
           "color": "#2a3f5f"
          },
          "geo": {
           "bgcolor": "white",
           "lakecolor": "white",
           "landcolor": "#E5ECF6",
           "showlakes": true,
           "showland": true,
           "subunitcolor": "white"
          },
          "hoverlabel": {
           "align": "left"
          },
          "hovermode": "closest",
          "mapbox": {
           "style": "light"
          },
          "paper_bgcolor": "white",
          "plot_bgcolor": "#E5ECF6",
          "polar": {
           "angularaxis": {
            "gridcolor": "white",
            "linecolor": "white",
            "ticks": ""
           },
           "bgcolor": "#E5ECF6",
           "radialaxis": {
            "gridcolor": "white",
            "linecolor": "white",
            "ticks": ""
           }
          },
          "scene": {
           "xaxis": {
            "backgroundcolor": "#E5ECF6",
            "gridcolor": "white",
            "gridwidth": 2,
            "linecolor": "white",
            "showbackground": true,
            "ticks": "",
            "zerolinecolor": "white"
           },
           "yaxis": {
            "backgroundcolor": "#E5ECF6",
            "gridcolor": "white",
            "gridwidth": 2,
            "linecolor": "white",
            "showbackground": true,
            "ticks": "",
            "zerolinecolor": "white"
           },
           "zaxis": {
            "backgroundcolor": "#E5ECF6",
            "gridcolor": "white",
            "gridwidth": 2,
            "linecolor": "white",
            "showbackground": true,
            "ticks": "",
            "zerolinecolor": "white"
           }
          },
          "shapedefaults": {
           "line": {
            "color": "#2a3f5f"
           }
          },
          "ternary": {
           "aaxis": {
            "gridcolor": "white",
            "linecolor": "white",
            "ticks": ""
           },
           "baxis": {
            "gridcolor": "white",
            "linecolor": "white",
            "ticks": ""
           },
           "bgcolor": "#E5ECF6",
           "caxis": {
            "gridcolor": "white",
            "linecolor": "white",
            "ticks": ""
           }
          },
          "title": {
           "x": 0.05
          },
          "xaxis": {
           "automargin": true,
           "gridcolor": "white",
           "linecolor": "white",
           "ticks": "",
           "title": {
            "standoff": 15
           },
           "zerolinecolor": "white",
           "zerolinewidth": 2
          },
          "yaxis": {
           "automargin": true,
           "gridcolor": "white",
           "linecolor": "white",
           "ticks": "",
           "title": {
            "standoff": 15
           },
           "zerolinecolor": "white",
           "zerolinewidth": 2
          }
         }
        },
        "title": {
         "text": "Bubble Chart using Plotly"
        },
        "xaxis": {
         "title": {
          "text": "X Values"
         }
        },
        "yaxis": {
         "title": {
          "text": "Y Values"
         }
        }
       }
      }
     },
     "metadata": {},
     "output_type": "display_data"
    }
   ],
   "source": [
    "# Import required libraries\n",
    "import plotly.graph_objects as go\n",
    "\n",
    "# Sample data\n",
    "data = {\n",
    "    'X': [10, 20, 30, 40, 50],\n",
    "    'Y': [15, 25, 35, 45, 55],\n",
    "    'Size': [30, 60, 90, 120, 150],  # Determines the size of bubbles\n",
    "    'Labels': ['A', 'B', 'C', 'D', 'E']\n",
    "}\n",
    "\n",
    "# Creating the bubble chart\n",
    "fig = go.Figure(data=go.Scatter(\n",
    "    x=data['X'],\n",
    "    y=data['Y'],\n",
    "    mode='markers',\n",
    "    text=data['Labels'],\n",
    "    marker=dict(\n",
    "        size=data['Size'],\n",
    "        sizemode='diameter',  # 'diameter' ensures that the size values correspond to the diameter of the bubbles\n",
    "        opacity=0.6,\n",
    "        color=data['Y'],  # Coloring the bubbles based on Y values\n",
    "        colorscale='Viridis',\n",
    "        colorbar=dict(title='Colorbar')\n",
    "    )\n",
    "))\n",
    "\n",
    "# Setting the layout for the plot\n",
    "fig.update_layout(\n",
    "    title='Bubble Chart using Plotly',\n",
    "    xaxis_title='X Values',\n",
    "    yaxis_title='Y Values',\n",
    "    showlegend=False\n",
    ")\n",
    "\n",
    "# Display the plot\n",
    "fig.show()\n",
    "\n",
    "# Save the plot to an HTML file\n",
    "fig.write_html(\"./viz outputs/plots/bubble_chart_plotly.html\")\n",
    "\n",
    "# save png file with 300 dpi\n",
    "fig.write_image(\"./viz outputs/plots/bubble_chart_plotly.png\", scale=3)"
   ]
  },
  {
   "cell_type": "markdown",
   "id": "91b8479c",
   "metadata": {},
   "source": [
    "---\n",
    "# 14. Violin plots\n",
    "A violin plot is similar to a box plot but also includes a rotated kernel density plot on each side. It provides a visualization of the distribution of the data, its probability density, and its cumulative distribution.\n",
    "\n",
    "Here’s how to create a violin plot using Plotly:"
   ]
  },
  {
   "cell_type": "code",
   "execution_count": 45,
   "id": "27826360",
   "metadata": {},
   "outputs": [
    {
     "data": {
      "application/vnd.plotly.v1+json": {
       "config": {
        "plotlyServerURL": "https://plot.ly"
       },
       "data": [
        {
         "alignmentgroup": "True",
         "box": {
          "visible": true
         },
         "hovertemplate": "Category=%{x}<br>Values=%{y}<extra></extra>",
         "legendgroup": "",
         "marker": {
          "color": "#636efa"
         },
         "name": "",
         "offsetgroup": "",
         "orientation": "v",
         "points": "all",
         "scalegroup": "True",
         "showlegend": false,
         "type": "violin",
         "x": [
          "A",
          "B",
          "C",
          "A",
          "B",
          "C",
          "A",
          "B",
          "C",
          "A",
          "B",
          "C"
         ],
         "x0": " ",
         "xaxis": "x",
         "y": {
          "bdata": "Cg8FGRQKHhkFFA8K",
          "dtype": "i1"
         },
         "y0": " ",
         "yaxis": "y"
        }
       ],
       "layout": {
        "legend": {
         "tracegroupgap": 0
        },
        "margin": {
         "t": 60
        },
        "template": {
         "data": {
          "bar": [
           {
            "error_x": {
             "color": "#2a3f5f"
            },
            "error_y": {
             "color": "#2a3f5f"
            },
            "marker": {
             "line": {
              "color": "#E5ECF6",
              "width": 0.5
             },
             "pattern": {
              "fillmode": "overlay",
              "size": 10,
              "solidity": 0.2
             }
            },
            "type": "bar"
           }
          ],
          "barpolar": [
           {
            "marker": {
             "line": {
              "color": "#E5ECF6",
              "width": 0.5
             },
             "pattern": {
              "fillmode": "overlay",
              "size": 10,
              "solidity": 0.2
             }
            },
            "type": "barpolar"
           }
          ],
          "carpet": [
           {
            "aaxis": {
             "endlinecolor": "#2a3f5f",
             "gridcolor": "white",
             "linecolor": "white",
             "minorgridcolor": "white",
             "startlinecolor": "#2a3f5f"
            },
            "baxis": {
             "endlinecolor": "#2a3f5f",
             "gridcolor": "white",
             "linecolor": "white",
             "minorgridcolor": "white",
             "startlinecolor": "#2a3f5f"
            },
            "type": "carpet"
           }
          ],
          "choropleth": [
           {
            "colorbar": {
             "outlinewidth": 0,
             "ticks": ""
            },
            "type": "choropleth"
           }
          ],
          "contour": [
           {
            "colorbar": {
             "outlinewidth": 0,
             "ticks": ""
            },
            "colorscale": [
             [
              0,
              "#0d0887"
             ],
             [
              0.1111111111111111,
              "#46039f"
             ],
             [
              0.2222222222222222,
              "#7201a8"
             ],
             [
              0.3333333333333333,
              "#9c179e"
             ],
             [
              0.4444444444444444,
              "#bd3786"
             ],
             [
              0.5555555555555556,
              "#d8576b"
             ],
             [
              0.6666666666666666,
              "#ed7953"
             ],
             [
              0.7777777777777778,
              "#fb9f3a"
             ],
             [
              0.8888888888888888,
              "#fdca26"
             ],
             [
              1,
              "#f0f921"
             ]
            ],
            "type": "contour"
           }
          ],
          "contourcarpet": [
           {
            "colorbar": {
             "outlinewidth": 0,
             "ticks": ""
            },
            "type": "contourcarpet"
           }
          ],
          "heatmap": [
           {
            "colorbar": {
             "outlinewidth": 0,
             "ticks": ""
            },
            "colorscale": [
             [
              0,
              "#0d0887"
             ],
             [
              0.1111111111111111,
              "#46039f"
             ],
             [
              0.2222222222222222,
              "#7201a8"
             ],
             [
              0.3333333333333333,
              "#9c179e"
             ],
             [
              0.4444444444444444,
              "#bd3786"
             ],
             [
              0.5555555555555556,
              "#d8576b"
             ],
             [
              0.6666666666666666,
              "#ed7953"
             ],
             [
              0.7777777777777778,
              "#fb9f3a"
             ],
             [
              0.8888888888888888,
              "#fdca26"
             ],
             [
              1,
              "#f0f921"
             ]
            ],
            "type": "heatmap"
           }
          ],
          "histogram": [
           {
            "marker": {
             "pattern": {
              "fillmode": "overlay",
              "size": 10,
              "solidity": 0.2
             }
            },
            "type": "histogram"
           }
          ],
          "histogram2d": [
           {
            "colorbar": {
             "outlinewidth": 0,
             "ticks": ""
            },
            "colorscale": [
             [
              0,
              "#0d0887"
             ],
             [
              0.1111111111111111,
              "#46039f"
             ],
             [
              0.2222222222222222,
              "#7201a8"
             ],
             [
              0.3333333333333333,
              "#9c179e"
             ],
             [
              0.4444444444444444,
              "#bd3786"
             ],
             [
              0.5555555555555556,
              "#d8576b"
             ],
             [
              0.6666666666666666,
              "#ed7953"
             ],
             [
              0.7777777777777778,
              "#fb9f3a"
             ],
             [
              0.8888888888888888,
              "#fdca26"
             ],
             [
              1,
              "#f0f921"
             ]
            ],
            "type": "histogram2d"
           }
          ],
          "histogram2dcontour": [
           {
            "colorbar": {
             "outlinewidth": 0,
             "ticks": ""
            },
            "colorscale": [
             [
              0,
              "#0d0887"
             ],
             [
              0.1111111111111111,
              "#46039f"
             ],
             [
              0.2222222222222222,
              "#7201a8"
             ],
             [
              0.3333333333333333,
              "#9c179e"
             ],
             [
              0.4444444444444444,
              "#bd3786"
             ],
             [
              0.5555555555555556,
              "#d8576b"
             ],
             [
              0.6666666666666666,
              "#ed7953"
             ],
             [
              0.7777777777777778,
              "#fb9f3a"
             ],
             [
              0.8888888888888888,
              "#fdca26"
             ],
             [
              1,
              "#f0f921"
             ]
            ],
            "type": "histogram2dcontour"
           }
          ],
          "mesh3d": [
           {
            "colorbar": {
             "outlinewidth": 0,
             "ticks": ""
            },
            "type": "mesh3d"
           }
          ],
          "parcoords": [
           {
            "line": {
             "colorbar": {
              "outlinewidth": 0,
              "ticks": ""
             }
            },
            "type": "parcoords"
           }
          ],
          "pie": [
           {
            "automargin": true,
            "type": "pie"
           }
          ],
          "scatter": [
           {
            "fillpattern": {
             "fillmode": "overlay",
             "size": 10,
             "solidity": 0.2
            },
            "type": "scatter"
           }
          ],
          "scatter3d": [
           {
            "line": {
             "colorbar": {
              "outlinewidth": 0,
              "ticks": ""
             }
            },
            "marker": {
             "colorbar": {
              "outlinewidth": 0,
              "ticks": ""
             }
            },
            "type": "scatter3d"
           }
          ],
          "scattercarpet": [
           {
            "marker": {
             "colorbar": {
              "outlinewidth": 0,
              "ticks": ""
             }
            },
            "type": "scattercarpet"
           }
          ],
          "scattergeo": [
           {
            "marker": {
             "colorbar": {
              "outlinewidth": 0,
              "ticks": ""
             }
            },
            "type": "scattergeo"
           }
          ],
          "scattergl": [
           {
            "marker": {
             "colorbar": {
              "outlinewidth": 0,
              "ticks": ""
             }
            },
            "type": "scattergl"
           }
          ],
          "scattermap": [
           {
            "marker": {
             "colorbar": {
              "outlinewidth": 0,
              "ticks": ""
             }
            },
            "type": "scattermap"
           }
          ],
          "scattermapbox": [
           {
            "marker": {
             "colorbar": {
              "outlinewidth": 0,
              "ticks": ""
             }
            },
            "type": "scattermapbox"
           }
          ],
          "scatterpolar": [
           {
            "marker": {
             "colorbar": {
              "outlinewidth": 0,
              "ticks": ""
             }
            },
            "type": "scatterpolar"
           }
          ],
          "scatterpolargl": [
           {
            "marker": {
             "colorbar": {
              "outlinewidth": 0,
              "ticks": ""
             }
            },
            "type": "scatterpolargl"
           }
          ],
          "scatterternary": [
           {
            "marker": {
             "colorbar": {
              "outlinewidth": 0,
              "ticks": ""
             }
            },
            "type": "scatterternary"
           }
          ],
          "surface": [
           {
            "colorbar": {
             "outlinewidth": 0,
             "ticks": ""
            },
            "colorscale": [
             [
              0,
              "#0d0887"
             ],
             [
              0.1111111111111111,
              "#46039f"
             ],
             [
              0.2222222222222222,
              "#7201a8"
             ],
             [
              0.3333333333333333,
              "#9c179e"
             ],
             [
              0.4444444444444444,
              "#bd3786"
             ],
             [
              0.5555555555555556,
              "#d8576b"
             ],
             [
              0.6666666666666666,
              "#ed7953"
             ],
             [
              0.7777777777777778,
              "#fb9f3a"
             ],
             [
              0.8888888888888888,
              "#fdca26"
             ],
             [
              1,
              "#f0f921"
             ]
            ],
            "type": "surface"
           }
          ],
          "table": [
           {
            "cells": {
             "fill": {
              "color": "#EBF0F8"
             },
             "line": {
              "color": "white"
             }
            },
            "header": {
             "fill": {
              "color": "#C8D4E3"
             },
             "line": {
              "color": "white"
             }
            },
            "type": "table"
           }
          ]
         },
         "layout": {
          "annotationdefaults": {
           "arrowcolor": "#2a3f5f",
           "arrowhead": 0,
           "arrowwidth": 1
          },
          "autotypenumbers": "strict",
          "coloraxis": {
           "colorbar": {
            "outlinewidth": 0,
            "ticks": ""
           }
          },
          "colorscale": {
           "diverging": [
            [
             0,
             "#8e0152"
            ],
            [
             0.1,
             "#c51b7d"
            ],
            [
             0.2,
             "#de77ae"
            ],
            [
             0.3,
             "#f1b6da"
            ],
            [
             0.4,
             "#fde0ef"
            ],
            [
             0.5,
             "#f7f7f7"
            ],
            [
             0.6,
             "#e6f5d0"
            ],
            [
             0.7,
             "#b8e186"
            ],
            [
             0.8,
             "#7fbc41"
            ],
            [
             0.9,
             "#4d9221"
            ],
            [
             1,
             "#276419"
            ]
           ],
           "sequential": [
            [
             0,
             "#0d0887"
            ],
            [
             0.1111111111111111,
             "#46039f"
            ],
            [
             0.2222222222222222,
             "#7201a8"
            ],
            [
             0.3333333333333333,
             "#9c179e"
            ],
            [
             0.4444444444444444,
             "#bd3786"
            ],
            [
             0.5555555555555556,
             "#d8576b"
            ],
            [
             0.6666666666666666,
             "#ed7953"
            ],
            [
             0.7777777777777778,
             "#fb9f3a"
            ],
            [
             0.8888888888888888,
             "#fdca26"
            ],
            [
             1,
             "#f0f921"
            ]
           ],
           "sequentialminus": [
            [
             0,
             "#0d0887"
            ],
            [
             0.1111111111111111,
             "#46039f"
            ],
            [
             0.2222222222222222,
             "#7201a8"
            ],
            [
             0.3333333333333333,
             "#9c179e"
            ],
            [
             0.4444444444444444,
             "#bd3786"
            ],
            [
             0.5555555555555556,
             "#d8576b"
            ],
            [
             0.6666666666666666,
             "#ed7953"
            ],
            [
             0.7777777777777778,
             "#fb9f3a"
            ],
            [
             0.8888888888888888,
             "#fdca26"
            ],
            [
             1,
             "#f0f921"
            ]
           ]
          },
          "colorway": [
           "#636efa",
           "#EF553B",
           "#00cc96",
           "#ab63fa",
           "#FFA15A",
           "#19d3f3",
           "#FF6692",
           "#B6E880",
           "#FF97FF",
           "#FECB52"
          ],
          "font": {
           "color": "#2a3f5f"
          },
          "geo": {
           "bgcolor": "white",
           "lakecolor": "white",
           "landcolor": "#E5ECF6",
           "showlakes": true,
           "showland": true,
           "subunitcolor": "white"
          },
          "hoverlabel": {
           "align": "left"
          },
          "hovermode": "closest",
          "mapbox": {
           "style": "light"
          },
          "paper_bgcolor": "white",
          "plot_bgcolor": "#E5ECF6",
          "polar": {
           "angularaxis": {
            "gridcolor": "white",
            "linecolor": "white",
            "ticks": ""
           },
           "bgcolor": "#E5ECF6",
           "radialaxis": {
            "gridcolor": "white",
            "linecolor": "white",
            "ticks": ""
           }
          },
          "scene": {
           "xaxis": {
            "backgroundcolor": "#E5ECF6",
            "gridcolor": "white",
            "gridwidth": 2,
            "linecolor": "white",
            "showbackground": true,
            "ticks": "",
            "zerolinecolor": "white"
           },
           "yaxis": {
            "backgroundcolor": "#E5ECF6",
            "gridcolor": "white",
            "gridwidth": 2,
            "linecolor": "white",
            "showbackground": true,
            "ticks": "",
            "zerolinecolor": "white"
           },
           "zaxis": {
            "backgroundcolor": "#E5ECF6",
            "gridcolor": "white",
            "gridwidth": 2,
            "linecolor": "white",
            "showbackground": true,
            "ticks": "",
            "zerolinecolor": "white"
           }
          },
          "shapedefaults": {
           "line": {
            "color": "#2a3f5f"
           }
          },
          "ternary": {
           "aaxis": {
            "gridcolor": "white",
            "linecolor": "white",
            "ticks": ""
           },
           "baxis": {
            "gridcolor": "white",
            "linecolor": "white",
            "ticks": ""
           },
           "bgcolor": "#E5ECF6",
           "caxis": {
            "gridcolor": "white",
            "linecolor": "white",
            "ticks": ""
           }
          },
          "title": {
           "x": 0.05
          },
          "xaxis": {
           "automargin": true,
           "gridcolor": "white",
           "linecolor": "white",
           "ticks": "",
           "title": {
            "standoff": 15
           },
           "zerolinecolor": "white",
           "zerolinewidth": 2
          },
          "yaxis": {
           "automargin": true,
           "gridcolor": "white",
           "linecolor": "white",
           "ticks": "",
           "title": {
            "standoff": 15
           },
           "zerolinecolor": "white",
           "zerolinewidth": 2
          }
         }
        },
        "title": {
         "text": "Violin Plot using Plotly"
        },
        "violinmode": "group",
        "xaxis": {
         "anchor": "y",
         "domain": [
          0,
          1
         ],
         "title": {
          "text": "Category"
         }
        },
        "yaxis": {
         "anchor": "x",
         "domain": [
          0,
          1
         ],
         "title": {
          "text": "Values"
         }
        }
       }
      }
     },
     "metadata": {},
     "output_type": "display_data"
    }
   ],
   "source": [
    "# Import required libraries\n",
    "import plotly.express as px\n",
    "\n",
    "# Sample data\n",
    "data = {\n",
    "    'Category': ['A', 'B', 'C', 'A', 'B', 'C', 'A', 'B', 'C', 'A', 'B', 'C'],\n",
    "    'Values': [10, 15, 5, 25, 20, 10, 30, 25, 5, 20, 15, 10]\n",
    "}\n",
    "\n",
    "# Creating the violin plot using plotly express\n",
    "fig = px.violin(data, y=\"Values\", x=\"Category\", box=True, points=\"all\")\n",
    "# if box=False then no Boxplots will be there inside violins\n",
    "\n",
    "# Setting the layout for the plot\n",
    "fig.update_layout(\n",
    "    title='Violin Plot using Plotly',\n",
    "    yaxis_title='Values',\n",
    "    xaxis_title='Category'\n",
    ")\n",
    "\n",
    "# Display the plot\n",
    "fig.show()\n",
    "\n",
    "# Save the plot to an HTML file\n",
    "fig.write_html(\"./viz outputs/plots/violin_plot_plotly.html\")\n",
    "\n",
    "#save png file with 300 dpi\n",
    "fig.write_image(\"./viz outputs/plots/violin_plot_plotly.png\", scale=3)"
   ]
  },
  {
   "cell_type": "code",
   "execution_count": 46,
   "id": "19e511c2",
   "metadata": {},
   "outputs": [],
   "source": [
    "# import libraries\n",
    "import pandas as pd \n",
    "import numpy as np \n",
    "import matplotlib.pyplot as plt\n",
    "import seaborn as sns"
   ]
  },
  {
   "cell_type": "code",
   "execution_count": 47,
   "id": "14a0256e",
   "metadata": {},
   "outputs": [],
   "source": [
    "# importing titanic dataset from seaborn library\n",
    "df = sns.load_dataset('titanic')\n"
   ]
  },
  {
   "cell_type": "code",
   "execution_count": 48,
   "id": "ac6bedd9",
   "metadata": {},
   "outputs": [
    {
     "data": {
      "text/plain": [
       "<Axes: xlabel='age', ylabel='fare'>"
      ]
     },
     "execution_count": 48,
     "metadata": {},
     "output_type": "execute_result"
    },
    {
     "data": {
      "image/png": "[encoded data removed]",
      "text/plain": [
       "<Figure size 640x480 with 1 Axes>"
      ]
     },
     "metadata": {},
     "output_type": "display_data"
    }
   ],
   "source": [
    "# using pandas\n",
    "df.plot(kind='scatter', x='age', y='fare')"
   ]
  },
  {
   "cell_type": "code",
   "execution_count": 49,
   "id": "549c3a2e",
   "metadata": {},
   "outputs": [
    {
     "data": {
      "text/plain": [
       "<Axes: xlabel='age', ylabel='fare'>"
      ]
     },
     "execution_count": 49,
     "metadata": {},
     "output_type": "execute_result"
    },
    {
     "data": {
      "image/png": "[encoded data removed]",
      "text/plain": [
       "<Figure size 640x480 with 1 Axes>"
      ]
     },
     "metadata": {},
     "output_type": "display_data"
    }
   ],
   "source": [
    "#changing color\n",
    "df.plot(kind='scatter', x='age', y='fare', color = 'red')\n"
   ]
  },
  {
   "cell_type": "code",
   "execution_count": 50,
   "id": "944355e4",
   "metadata": {},
   "outputs": [
    {
     "data": {
      "text/plain": [
       "<Axes: xlabel='age', ylabel='fare'>"
      ]
     },
     "execution_count": 50,
     "metadata": {},
     "output_type": "execute_result"
    },
    {
     "data": {
      "image/png": "[encoded data removed]",
      "text/plain": [
       "<Figure size 640x480 with 1 Axes>"
      ]
     },
     "metadata": {},
     "output_type": "display_data"
    }
   ],
   "source": [
    "# change color with hex codes => search om google: color picker or color picker for color blind\n",
    "df.plot(kind='scatter', x='age', y='fare', color = \"#3bfc00\")"
   ]
  },
  {
   "cell_type": "code",
   "execution_count": 51,
   "id": "028f5e1a",
   "metadata": {},
   "outputs": [
    {
     "data": {
      "text/html": [
       "<div>\n",
       "<style scoped>\n",
       "    .dataframe tbody tr th:only-of-type {\n",
       "        vertical-align: middle;\n",
       "    }\n",
       "\n",
       "    .dataframe tbody tr th {\n",
       "        vertical-align: top;\n",
       "    }\n",
       "\n",
       "    .dataframe thead th {\n",
       "        text-align: right;\n",
       "    }\n",
       "</style>\n",
       "<table border=\"1\" class=\"dataframe\">\n",
       "  <thead>\n",
       "    <tr style=\"text-align: right;\">\n",
       "      <th></th>\n",
       "      <th>survived</th>\n",
       "      <th>pclass</th>\n",
       "      <th>sex</th>\n",
       "      <th>age</th>\n",
       "      <th>sibsp</th>\n",
       "      <th>parch</th>\n",
       "      <th>fare</th>\n",
       "      <th>embarked</th>\n",
       "      <th>class</th>\n",
       "      <th>who</th>\n",
       "      <th>adult_male</th>\n",
       "      <th>deck</th>\n",
       "      <th>embark_town</th>\n",
       "      <th>alive</th>\n",
       "      <th>alone</th>\n",
       "    </tr>\n",
       "  </thead>\n",
       "  <tbody>\n",
       "    <tr>\n",
       "      <th>0</th>\n",
       "      <td>0</td>\n",
       "      <td>3</td>\n",
       "      <td>male</td>\n",
       "      <td>22.0</td>\n",
       "      <td>1</td>\n",
       "      <td>0</td>\n",
       "      <td>7.2500</td>\n",
       "      <td>S</td>\n",
       "      <td>Third</td>\n",
       "      <td>man</td>\n",
       "      <td>True</td>\n",
       "      <td>NaN</td>\n",
       "      <td>Southampton</td>\n",
       "      <td>no</td>\n",
       "      <td>False</td>\n",
       "    </tr>\n",
       "    <tr>\n",
       "      <th>1</th>\n",
       "      <td>1</td>\n",
       "      <td>1</td>\n",
       "      <td>female</td>\n",
       "      <td>38.0</td>\n",
       "      <td>1</td>\n",
       "      <td>0</td>\n",
       "      <td>71.2833</td>\n",
       "      <td>C</td>\n",
       "      <td>First</td>\n",
       "      <td>woman</td>\n",
       "      <td>False</td>\n",
       "      <td>C</td>\n",
       "      <td>Cherbourg</td>\n",
       "      <td>yes</td>\n",
       "      <td>False</td>\n",
       "    </tr>\n",
       "    <tr>\n",
       "      <th>2</th>\n",
       "      <td>1</td>\n",
       "      <td>3</td>\n",
       "      <td>female</td>\n",
       "      <td>26.0</td>\n",
       "      <td>0</td>\n",
       "      <td>0</td>\n",
       "      <td>7.9250</td>\n",
       "      <td>S</td>\n",
       "      <td>Third</td>\n",
       "      <td>woman</td>\n",
       "      <td>False</td>\n",
       "      <td>NaN</td>\n",
       "      <td>Southampton</td>\n",
       "      <td>yes</td>\n",
       "      <td>True</td>\n",
       "    </tr>\n",
       "    <tr>\n",
       "      <th>3</th>\n",
       "      <td>1</td>\n",
       "      <td>1</td>\n",
       "      <td>female</td>\n",
       "      <td>35.0</td>\n",
       "      <td>1</td>\n",
       "      <td>0</td>\n",
       "      <td>53.1000</td>\n",
       "      <td>S</td>\n",
       "      <td>First</td>\n",
       "      <td>woman</td>\n",
       "      <td>False</td>\n",
       "      <td>C</td>\n",
       "      <td>Southampton</td>\n",
       "      <td>yes</td>\n",
       "      <td>False</td>\n",
       "    </tr>\n",
       "    <tr>\n",
       "      <th>4</th>\n",
       "      <td>0</td>\n",
       "      <td>3</td>\n",
       "      <td>male</td>\n",
       "      <td>35.0</td>\n",
       "      <td>0</td>\n",
       "      <td>0</td>\n",
       "      <td>8.0500</td>\n",
       "      <td>S</td>\n",
       "      <td>Third</td>\n",
       "      <td>man</td>\n",
       "      <td>True</td>\n",
       "      <td>NaN</td>\n",
       "      <td>Southampton</td>\n",
       "      <td>no</td>\n",
       "      <td>True</td>\n",
       "    </tr>\n",
       "  </tbody>\n",
       "</table>\n",
       "</div>"
      ],
      "text/plain": [
       "   survived  pclass     sex   age  sibsp  parch     fare embarked  class  \\\n",
       "0         0       3    male  22.0      1      0   7.2500        S  Third   \n",
       "1         1       1  female  38.0      1      0  71.2833        C  First   \n",
       "2         1       3  female  26.0      0      0   7.9250        S  Third   \n",
       "3         1       1  female  35.0      1      0  53.1000        S  First   \n",
       "4         0       3    male  35.0      0      0   8.0500        S  Third   \n",
       "\n",
       "     who  adult_male deck  embark_town alive  alone  \n",
       "0    man        True  NaN  Southampton    no  False  \n",
       "1  woman       False    C    Cherbourg   yes  False  \n",
       "2  woman       False  NaN  Southampton   yes   True  \n",
       "3  woman       False    C  Southampton   yes  False  \n",
       "4    man        True  NaN  Southampton    no   True  "
      ]
     },
     "execution_count": 51,
     "metadata": {},
     "output_type": "execute_result"
    }
   ],
   "source": [
    "df.head()"
   ]
  },
  {
   "cell_type": "code",
   "execution_count": 52,
   "id": "00be10a8",
   "metadata": {},
   "outputs": [
    {
     "data": {
      "text/plain": [
       "Text(0.5, 0, 'Gender')"
      ]
     },
     "execution_count": 52,
     "metadata": {},
     "output_type": "execute_result"
    },
    {
     "data": {
      "image/png": "[encoded data removed]",
      "text/plain": [
       "<Figure size 640x480 with 1 Axes>"
      ]
     },
     "metadata": {},
     "output_type": "display_data"
    }
   ],
   "source": [
    "df.groupby('sex')['fare'].mean().plot(kind='bar')\n",
    "plt.ylabel('Average Fare')   # label for y-axis\n",
    "plt.xlabel('Gender')   # label for x-axis"
   ]
  },
  {
   "cell_type": "code",
   "execution_count": 53,
   "id": "e48916ee",
   "metadata": {},
   "outputs": [
    {
     "data": {
      "text/plain": [
       "<Axes: xlabel='survived', ylabel='fare'>"
      ]
     },
     "execution_count": 53,
     "metadata": {},
     "output_type": "execute_result"
    },
    {
     "data": {
      "image/png": "[encoded data removed]",
      "text/plain": [
       "<Figure size 640x480 with 1 Axes>"
      ]
     },
     "metadata": {},
     "output_type": "display_data"
    }
   ],
   "source": [
    "# seaborn plots\n",
    "\n",
    "# bar plot using seaborn\n",
    "sns.barplot(data=df, x='survived', y='fare')"
   ]
  },
  {
   "cell_type": "code",
   "execution_count": 54,
   "id": "31b32179",
   "metadata": {},
   "outputs": [
    {
     "data": {
      "text/plain": [
       "<Axes: xlabel='sex', ylabel='fare'>"
      ]
     },
     "execution_count": 54,
     "metadata": {},
     "output_type": "execute_result"
    },
    {
     "data": {
      "image/png": "[encoded data removed]",
      "text/plain": [
       "<Figure size 640x480 with 1 Axes>"
      ]
     },
     "metadata": {},
     "output_type": "display_data"
    }
   ],
   "source": [
    "sns.barplot(data=df, x='sex', y='fare', hue='class')\n"
   ]
  },
  {
   "cell_type": "code",
   "execution_count": 55,
   "id": "2a54bb55",
   "metadata": {},
   "outputs": [
    {
     "data": {
      "text/plain": [
       "<Axes: xlabel='sex', ylabel='fare'>"
      ]
     },
     "execution_count": 55,
     "metadata": {},
     "output_type": "execute_result"
    },
    {
     "data": {
      "image/png": "[encoded data removed]",
      "text/plain": [
       "<Figure size 640x480 with 1 Axes>"
      ]
     },
     "metadata": {},
     "output_type": "display_data"
    }
   ],
   "source": [
    "# boxplot\n",
    "sns.boxplot(data=df, x='sex', y='fare', hue='class')"
   ]
  },
  {
   "cell_type": "code",
   "execution_count": 56,
   "id": "6dd3b961",
   "metadata": {},
   "outputs": [
    {
     "data": {
      "text/plain": [
       "<Axes: xlabel='age', ylabel='fare'>"
      ]
     },
     "execution_count": 56,
     "metadata": {},
     "output_type": "execute_result"
    },
    {
     "data": {
      "image/png": "[encoded data removed]",
      "text/plain": [
       "<Figure size 640x480 with 1 Axes>"
      ]
     },
     "metadata": {},
     "output_type": "display_data"
    }
   ],
   "source": [
    "# scatter plot => need both x-axis, y-axis numeric value to see trend \n",
    "sns.scatterplot(data=df, y='fare', x='age', hue='class')\n"
   ]
  },
  {
   "cell_type": "code",
   "execution_count": 57,
   "id": "72b8b113",
   "metadata": {},
   "outputs": [],
   "source": [
    "import plotly.express as px"
   ]
  },
  {
   "cell_type": "code",
   "execution_count": 58,
   "id": "a0e869ab",
   "metadata": {},
   "outputs": [
    {
     "data": {
      "application/vnd.plotly.v1+json": {
       "config": {
        "plotlyServerURL": "https://plot.ly"
       },
       "data": [
        {
         "hovertemplate": "class=Third<br>age=%{x}<br>fare=%{y}<extra></extra>",
         "legendgroup": "Third",
         "marker": {
          "color": "#636efa",
          "symbol": "circle"
         },
         "mode": "markers",
         "name": "Third",
         "orientation": "v",
         "showlegend": true,
         "type": "scatter",
         "x": {
          "bdata": "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",
          "dtype": "f8"
         },
         "xaxis": "x",
         "y": {
          "bdata": "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",
          "dtype": "f8"
         },
         "yaxis": "y"
        },
        {
         "hovertemplate": "class=First<br>age=%{x}<br>fare=%{y}<extra></extra>",
         "legendgroup": "First",
         "marker": {
          "color": "#EF553B",
          "symbol": "circle"
         },
         "mode": "markers",
         "name": "First",
         "orientation": "v",
         "showlegend": true,
         "type": "scatter",
         "x": {
          "bdata": "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",
          "dtype": "f8"
         },
         "xaxis": "x",
         "y": {
          "bdata": "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",
          "dtype": "f8"
         },
         "yaxis": "y"
        },
        {
         "hovertemplate": "class=Second<br>age=%{x}<br>fare=%{y}<extra></extra>",
         "legendgroup": "Second",
         "marker": {
          "color": "#00cc96",
          "symbol": "circle"
         },
         "mode": "markers",
         "name": "Second",
         "orientation": "v",
         "showlegend": true,
         "type": "scatter",
         "x": {
          "bdata": "AAAAAAAALEAAAAAAAIBLQAAAAAAAAPh/AAAAAACAQUAAAAAAAABBQAAAAAAAgFBAAAAAAAAAO0AAAAAAAAAIQAAAAAAAAD1AAAAAAAAANUAAAAAAAAAUQAAAAAAAAD1AAAAAAAAAQEAAAAAAAAA1QI/C9Shcj+o/AAAAAAAAMUAAAAAAAABBQAAAAAAAAEFAAAAAAAAAPUAAAAAAAAA1QAAAAAAAQEBAAAAAAABAQEAAAAAAAAA9QAAAAAAAADlAAAAAAAAAN0AAAAAAAAAyQAAAAAAAADNAAAAAAABAQkAAAAAAAABFQAAAAAAAgElAAAAAAAAAREAAAAAAAAA+QAAAAAAAAPh/AAAAAAAA8D8AAAAAAABAQAAAAAAAADNAAAAAAAAACEAAAAAAAAA4QAAAAAAAgEFAAAAAAAAAPkAAAAAAAABFQAAAAAAAAD5AAAAAAAAAO0AAAAAAAAAzQAAAAAAAADJAAAAAAACATUAAAAAAAAA4QAAAAAAAAEZAAAAAAAAAIEAAAAAAAAAzQAAAAAAAgEBAAAAAAAAAPUAAAAAAAAA4QAAAAAAAAEtAAAAAAAAASUAAAAAAAABCQAAAAAAAgERAAAAAAAAA+H8AAAAAAABFQAAAAAAAAEJAAAAAAAAA+H8AAAAAAAA+QAAAAAAAADpAAAAAAACARUAAAAAAAAA4QAAAAAAAAEtAAAAAAAAAPkAAAAAAAAA2QAAAAAAAAEJAAAAAAAAAAEAAAAAAAAA8QAAAAAAAADlAAAAAAAAAQkAAAAAAAAA4QAAAAAAAAERAAAAAAAAAQ0AAAAAAAAA9QAAAAAAAADJAAAAAAAAAQkAAAAAAAAAxQAAAAAAAAEdAAAAAAAAAN0AAAAAAAAA8QAAAAAAAAEFAAAAAAAAACEAAAAAAAAD4fwAAAAAAAEFAAAAAAAAAMkAAAAAAAAA+QAAAAAAAADxAAAAAAAAAM0AAAAAAAABFQAAAAAAAADhAAAAAAAAAP0AAAAAAAIBGQAAAAAAAADxAAAAAAAAAKkAAAAAAAABCQAAAAAAAAElAAAAAAAAASEAAAAAAAAD4fwAAAAAAgEBAAAAAAAAAN0AAAAAAAABBQAAAAAAAAPh/AAAAAACAQEAAAAAAAABBQAAAAAAAAEJAAAAAAAAASUAAAAAAAAA3QAAAAAAAAABAAAAAAAAAHEAAAAAAAABAQAAAAAAAADNAAAAAAAAA+H8AAAAAAAAgQAAAAAAAADtAAAAAAAAAPEAAAAAAAABPQAAAAAAAAEFAAAAAAAAAOUAAAAAAAABLQAAAAAAAgEdAAAAAAACAQkAAAAAAAAD4fwAAAAAAADhAAAAAAAAANkAAAAAAAAA4QAAAAAAAABBAAAAAAAAAOkAAAAAAAIBMQAAAAAAAADxAAAAAAAAAP0AAAAAAAAAyQAAAAAAAADhAAAAAAAAAN0AAAAAAAABAQAAAAAAAADlAAAAAAAAAREAAAAAAAIBRQAAAAAAAAD9AAAAAAAAA+H8AAAAAAABOQAAAAAAAADlAAAAAAAAASkAAAAAAAIBDQAAAAAAAgEZAAAAAAAAASkAAAAAAAAA7QAAAAAAAABhAAAAAAAAAQUAAAAAAAABJQAAAAAAAAD5AAAAAAAAAOUAAAAAAAAD4fwAAAAAAADdAAAAAAAAAN0AAAAAAAAA+QAAAAAAAABBAAAAAAAAASEBxPQrXo3DlPwAAAAAAADJAAAAAAACATEAAAAAAAABLQAAAAAAAADBAAAAAAACAQ0AAAAAAAABBQAAAAAAAAD9AAAAAAACAQ0AAAAAAAIBBQAAAAAAAAD9AAAAAAAAA8D+PwvUoXI/qPwAAAAAAADBAAAAAAAAAPEAAAAAAAABGQAAAAAAAADVAAAAAAAAAOEAAAAAAAABFQAAAAAAAADtAAAAAAAAAPEAAAAAAAAA5QAAAAAAAADxAAAAAAAAAO0A=",
          "dtype": "f8"
         },
         "xaxis": "x",
         "y": {
          "bdata": "io7k8h8SPkAAAAAAAAAwQAAAAAAAACpAAAAAAAAAOkAAAAAAAAAqQAAAAAAAACVAAAAAAAAANUDu68A5I8pEQAAAAAAAADpAAAAAAAAAJUAAAAAAAMA7QAAAAAAAACVAAAAAAAAAJUAAAAAAAGBSQAAAAAAAAD1AAAAAAAAAJUAAAAAAAAA3QAAAAAAAADpAAAAAAAAANUAAAAAAAGBSQIqO5PIfEj5AAAAAAAAAKkAAAAAAAAA6QAAAAAAAACpASFD8GHMXLkAAAAAAAAAnQAAAAAAAYEJAAAAAAAAAOkAAAAAAAAAqQM3MzMzMDClAAAAAAACAL0AAAAAAAAAqQJqZmZmZGS5AAAAAAACAQ0AAAAAAAAAqQAAAAAAAACpAAAAAAAAAOkAAAAAAAAAqQAAAAAAAADVAAAAAAAAAKkAAAAAAAAA7QAAAAAAAACVAAAAAAAAAKkAAAAAAAAAlQAAAAAAAACpAAAAAAAAAK0AAAAAAAAAlQAAAAAAAADpAAAAAAABAOkAAAAAAAAAlQM3MzMzMjChAAAAAAAAAJUAAAAAAAAAtQAAAAAAAADpAAAAAAAAAOkAAAAAAAAAlQAAAAAAAgDNAAAAAAAAAAAAAAAAAAAAqQAAAAAAAwClAMzMzMzOzKEAAAAAAAAA4QAAAAAAAADpAAAAAAABAOkAAAAAAAAA6QAAAAAAAACxAMzMzMzOzKEAAAAAAAAA9QAAAAAAAACpAAAAAAAAAOkAAAAAAAAAqQAAAAAAAACpAAAAAAAAAKkAAAAAAAAAqQAAAAAAAACpAAAAAAAAAKkDx9EpZhrg7QAAAAAAAYFJAAAAAAAAAKkAAAAAAAAAoQAAAAAAAADpAAAAAAAAAJUDNzMzMzEwpQAAAAAAAADVAAAAAAADAMkAAAAAAAAAAAAAAAAAAQEBAAAAAAAAAKkAAAAAAAAAqQAAAAAAAADpAAAAAAAAAOkAAAAAAAAA6QAAAAAAAwDJAAAAAAAAAJUAAAAAAAEA6QAAAAAAAACpAAAAAAACAM0AAAAAAAMA7QAAAAAAAACVAAAAAAAAAKkAAAAAAAAAAAAAAAAAAwDtAhXzQs1mVK0AAAAAAAAA1QAAAAAAAAAAAAAAAAAAAOkAAAAAAAAAlQAAAAAAAADpAAAAAAAAAJUAAAAAAAAAnQAAAAAAAADpAAAAAAABAOkAAAAAAAAA6QAAAAAAAADpAmpmZmZm5K0AAAAAAAGBCQAAAAAAAADpAAAAAAAAAK0AAAAAAAAAlQAAAAAAAACpAAAAAAAAAPkAAAAAAAAA6QAAAAAAAAC5AAAAAAAAAOkAAAAAAAIBAQAAAAAAAADtA7uvAOSPKREAAAAAAAEBQQAAAAAAAgENAAAAAAAAAJUAzMzMzM7MoQAAAAAAAACpAAAAAAABAOkAAAAAAAAA3QAAAAAAAYFJAAAAAAAAAKkAAAAAAAGBSQAAAAAAAACpAAAAAAACAQ0AAAAAAAAAlQAAAAAAAACpAAAAAAAAAAAAAAAAAAIBDQO7rwDkjykRAAAAAAAAAK0AAAAAAAAA6QAAAAAAAACtAAAAAAAAAKkAAAAAAAAAlQAAAAAAAgEBAAAAAAAAAKkAAAAAAAAAqQAAAAAAAADVAAAAAAAAAOkAAAAAAAAAAAAAAAAAAACpAAAAAAAAAKkAAAAAAAAAqQAAAAAAAADdAAAAAAABAUEAAAAAAAAAtQAAAAAAAACdAAAAAAAAAJUAAAAAAAAA3QAAAAAAAADpAAAAAAAAAKkAAAAAAAAAqQAAAAAAAQDpAAAAAAAAAKkAAAAAAAAAlQFRSJ6CJgEJAVFInoImAQkAAAAAAAMAyQAAAAAAAACVAAAAAAACAQEAAAAAAAAA6QAAAAAAAACdAAAAAAAAAKkAAAAAAAAAqQEhQ/BhztytAAAAAAAAAOEAAAAAAAAA6QAAAAAAAACVAAAAAAAAAKkA=",
          "dtype": "f8"
         },
         "yaxis": "y"
        }
       ],
       "layout": {
        "legend": {
         "title": {
          "text": "class"
         },
         "tracegroupgap": 0
        },
        "margin": {
         "t": 60
        },
        "template": {
         "data": {
          "bar": [
           {
            "error_x": {
             "color": "#2a3f5f"
            },
            "error_y": {
             "color": "#2a3f5f"
            },
            "marker": {
             "line": {
              "color": "#E5ECF6",
              "width": 0.5
             },
             "pattern": {
              "fillmode": "overlay",
              "size": 10,
              "solidity": 0.2
             }
            },
            "type": "bar"
           }
          ],
          "barpolar": [
           {
            "marker": {
             "line": {
              "color": "#E5ECF6",
              "width": 0.5
             },
             "pattern": {
              "fillmode": "overlay",
              "size": 10,
              "solidity": 0.2
             }
            },
            "type": "barpolar"
           }
          ],
          "carpet": [
           {
            "aaxis": {
             "endlinecolor": "#2a3f5f",
             "gridcolor": "white",
             "linecolor": "white",
             "minorgridcolor": "white",
             "startlinecolor": "#2a3f5f"
            },
            "baxis": {
             "endlinecolor": "#2a3f5f",
             "gridcolor": "white",
             "linecolor": "white",
             "minorgridcolor": "white",
             "startlinecolor": "#2a3f5f"
            },
            "type": "carpet"
           }
          ],
          "choropleth": [
           {
            "colorbar": {
             "outlinewidth": 0,
             "ticks": ""
            },
            "type": "choropleth"
           }
          ],
          "contour": [
           {
            "colorbar": {
             "outlinewidth": 0,
             "ticks": ""
            },
            "colorscale": [
             [
              0,
              "#0d0887"
             ],
             [
              0.1111111111111111,
              "#46039f"
             ],
             [
              0.2222222222222222,
              "#7201a8"
             ],
             [
              0.3333333333333333,
              "#9c179e"
             ],
             [
              0.4444444444444444,
              "#bd3786"
             ],
             [
              0.5555555555555556,
              "#d8576b"
             ],
             [
              0.6666666666666666,
              "#ed7953"
             ],
             [
              0.7777777777777778,
              "#fb9f3a"
             ],
             [
              0.8888888888888888,
              "#fdca26"
             ],
             [
              1,
              "#f0f921"
             ]
            ],
            "type": "contour"
           }
          ],
          "contourcarpet": [
           {
            "colorbar": {
             "outlinewidth": 0,
             "ticks": ""
            },
            "type": "contourcarpet"
           }
          ],
          "heatmap": [
           {
            "colorbar": {
             "outlinewidth": 0,
             "ticks": ""
            },
            "colorscale": [
             [
              0,
              "#0d0887"
             ],
             [
              0.1111111111111111,
              "#46039f"
             ],
             [
              0.2222222222222222,
              "#7201a8"
             ],
             [
              0.3333333333333333,
              "#9c179e"
             ],
             [
              0.4444444444444444,
              "#bd3786"
             ],
             [
              0.5555555555555556,
              "#d8576b"
             ],
             [
              0.6666666666666666,
              "#ed7953"
             ],
             [
              0.7777777777777778,
              "#fb9f3a"
             ],
             [
              0.8888888888888888,
              "#fdca26"
             ],
             [
              1,
              "#f0f921"
             ]
            ],
            "type": "heatmap"
           }
          ],
          "histogram": [
           {
            "marker": {
             "pattern": {
              "fillmode": "overlay",
              "size": 10,
              "solidity": 0.2
             }
            },
            "type": "histogram"
           }
          ],
          "histogram2d": [
           {
            "colorbar": {
             "outlinewidth": 0,
             "ticks": ""
            },
            "colorscale": [
             [
              0,
              "#0d0887"
             ],
             [
              0.1111111111111111,
              "#46039f"
             ],
             [
              0.2222222222222222,
              "#7201a8"
             ],
             [
              0.3333333333333333,
              "#9c179e"
             ],
             [
              0.4444444444444444,
              "#bd3786"
             ],
             [
              0.5555555555555556,
              "#d8576b"
             ],
             [
              0.6666666666666666,
              "#ed7953"
             ],
             [
              0.7777777777777778,
              "#fb9f3a"
             ],
             [
              0.8888888888888888,
              "#fdca26"
             ],
             [
              1,
              "#f0f921"
             ]
            ],
            "type": "histogram2d"
           }
          ],
          "histogram2dcontour": [
           {
            "colorbar": {
             "outlinewidth": 0,
             "ticks": ""
            },
            "colorscale": [
             [
              0,
              "#0d0887"
             ],
             [
              0.1111111111111111,
              "#46039f"
             ],
             [
              0.2222222222222222,
              "#7201a8"
             ],
             [
              0.3333333333333333,
              "#9c179e"
             ],
             [
              0.4444444444444444,
              "#bd3786"
             ],
             [
              0.5555555555555556,
              "#d8576b"
             ],
             [
              0.6666666666666666,
              "#ed7953"
             ],
             [
              0.7777777777777778,
              "#fb9f3a"
             ],
             [
              0.8888888888888888,
              "#fdca26"
             ],
             [
              1,
              "#f0f921"
             ]
            ],
            "type": "histogram2dcontour"
           }
          ],
          "mesh3d": [
           {
            "colorbar": {
             "outlinewidth": 0,
             "ticks": ""
            },
            "type": "mesh3d"
           }
          ],
          "parcoords": [
           {
            "line": {
             "colorbar": {
              "outlinewidth": 0,
              "ticks": ""
             }
            },
            "type": "parcoords"
           }
          ],
          "pie": [
           {
            "automargin": true,
            "type": "pie"
           }
          ],
          "scatter": [
           {
            "fillpattern": {
             "fillmode": "overlay",
             "size": 10,
             "solidity": 0.2
            },
            "type": "scatter"
           }
          ],
          "scatter3d": [
           {
            "line": {
             "colorbar": {
              "outlinewidth": 0,
              "ticks": ""
             }
            },
            "marker": {
             "colorbar": {
              "outlinewidth": 0,
              "ticks": ""
             }
            },
            "type": "scatter3d"
           }
          ],
          "scattercarpet": [
           {
            "marker": {
             "colorbar": {
              "outlinewidth": 0,
              "ticks": ""
             }
            },
            "type": "scattercarpet"
           }
          ],
          "scattergeo": [
           {
            "marker": {
             "colorbar": {
              "outlinewidth": 0,
              "ticks": ""
             }
            },
            "type": "scattergeo"
           }
          ],
          "scattergl": [
           {
            "marker": {
             "colorbar": {
              "outlinewidth": 0,
              "ticks": ""
             }
            },
            "type": "scattergl"
           }
          ],
          "scattermap": [
           {
            "marker": {
             "colorbar": {
              "outlinewidth": 0,
              "ticks": ""
             }
            },
            "type": "scattermap"
           }
          ],
          "scattermapbox": [
           {
            "marker": {
             "colorbar": {
              "outlinewidth": 0,
              "ticks": ""
             }
            },
            "type": "scattermapbox"
           }
          ],
          "scatterpolar": [
           {
            "marker": {
             "colorbar": {
              "outlinewidth": 0,
              "ticks": ""
             }
            },
            "type": "scatterpolar"
           }
          ],
          "scatterpolargl": [
           {
            "marker": {
             "colorbar": {
              "outlinewidth": 0,
              "ticks": ""
             }
            },
            "type": "scatterpolargl"
           }
          ],
          "scatterternary": [
           {
            "marker": {
             "colorbar": {
              "outlinewidth": 0,
              "ticks": ""
             }
            },
            "type": "scatterternary"
           }
          ],
          "surface": [
           {
            "colorbar": {
             "outlinewidth": 0,
             "ticks": ""
            },
            "colorscale": [
             [
              0,
              "#0d0887"
             ],
             [
              0.1111111111111111,
              "#46039f"
             ],
             [
              0.2222222222222222,
              "#7201a8"
             ],
             [
              0.3333333333333333,
              "#9c179e"
             ],
             [
              0.4444444444444444,
              "#bd3786"
             ],
             [
              0.5555555555555556,
              "#d8576b"
             ],
             [
              0.6666666666666666,
              "#ed7953"
             ],
             [
              0.7777777777777778,
              "#fb9f3a"
             ],
             [
              0.8888888888888888,
              "#fdca26"
             ],
             [
              1,
              "#f0f921"
             ]
            ],
            "type": "surface"
           }
          ],
          "table": [
           {
            "cells": {
             "fill": {
              "color": "#EBF0F8"
             },
             "line": {
              "color": "white"
             }
            },
            "header": {
             "fill": {
              "color": "#C8D4E3"
             },
             "line": {
              "color": "white"
             }
            },
            "type": "table"
           }
          ]
         },
         "layout": {
          "annotationdefaults": {
           "arrowcolor": "#2a3f5f",
           "arrowhead": 0,
           "arrowwidth": 1
          },
          "autotypenumbers": "strict",
          "coloraxis": {
           "colorbar": {
            "outlinewidth": 0,
            "ticks": ""
           }
          },
          "colorscale": {
           "diverging": [
            [
             0,
             "#8e0152"
            ],
            [
             0.1,
             "#c51b7d"
            ],
            [
             0.2,
             "#de77ae"
            ],
            [
             0.3,
             "#f1b6da"
            ],
            [
             0.4,
             "#fde0ef"
            ],
            [
             0.5,
             "#f7f7f7"
            ],
            [
             0.6,
             "#e6f5d0"
            ],
            [
             0.7,
             "#b8e186"
            ],
            [
             0.8,
             "#7fbc41"
            ],
            [
             0.9,
             "#4d9221"
            ],
            [
             1,
             "#276419"
            ]
           ],
           "sequential": [
            [
             0,
             "#0d0887"
            ],
            [
             0.1111111111111111,
             "#46039f"
            ],
            [
             0.2222222222222222,
             "#7201a8"
            ],
            [
             0.3333333333333333,
             "#9c179e"
            ],
            [
             0.4444444444444444,
             "#bd3786"
            ],
            [
             0.5555555555555556,
             "#d8576b"
            ],
            [
             0.6666666666666666,
             "#ed7953"
            ],
            [
             0.7777777777777778,
             "#fb9f3a"
            ],
            [
             0.8888888888888888,
             "#fdca26"
            ],
            [
             1,
             "#f0f921"
            ]
           ],
           "sequentialminus": [
            [
             0,
             "#0d0887"
            ],
            [
             0.1111111111111111,
             "#46039f"
            ],
            [
             0.2222222222222222,
             "#7201a8"
            ],
            [
             0.3333333333333333,
             "#9c179e"
            ],
            [
             0.4444444444444444,
             "#bd3786"
            ],
            [
             0.5555555555555556,
             "#d8576b"
            ],
            [
             0.6666666666666666,
             "#ed7953"
            ],
            [
             0.7777777777777778,
             "#fb9f3a"
            ],
            [
             0.8888888888888888,
             "#fdca26"
            ],
            [
             1,
             "#f0f921"
            ]
           ]
          },
          "colorway": [
           "#636efa",
           "#EF553B",
           "#00cc96",
           "#ab63fa",
           "#FFA15A",
           "#19d3f3",
           "#FF6692",
           "#B6E880",
           "#FF97FF",
           "#FECB52"
          ],
          "font": {
           "color": "#2a3f5f"
          },
          "geo": {
           "bgcolor": "white",
           "lakecolor": "white",
           "landcolor": "#E5ECF6",
           "showlakes": true,
           "showland": true,
           "subunitcolor": "white"
          },
          "hoverlabel": {
           "align": "left"
          },
          "hovermode": "closest",
          "mapbox": {
           "style": "light"
          },
          "paper_bgcolor": "white",
          "plot_bgcolor": "#E5ECF6",
          "polar": {
           "angularaxis": {
            "gridcolor": "white",
            "linecolor": "white",
            "ticks": ""
           },
           "bgcolor": "#E5ECF6",
           "radialaxis": {
            "gridcolor": "white",
            "linecolor": "white",
            "ticks": ""
           }
          },
          "scene": {
           "xaxis": {
            "backgroundcolor": "#E5ECF6",
            "gridcolor": "white",
            "gridwidth": 2,
            "linecolor": "white",
            "showbackground": true,
            "ticks": "",
            "zerolinecolor": "white"
           },
           "yaxis": {
            "backgroundcolor": "#E5ECF6",
            "gridcolor": "white",
            "gridwidth": 2,
            "linecolor": "white",
            "showbackground": true,
            "ticks": "",
            "zerolinecolor": "white"
           },
           "zaxis": {
            "backgroundcolor": "#E5ECF6",
            "gridcolor": "white",
            "gridwidth": 2,
            "linecolor": "white",
            "showbackground": true,
            "ticks": "",
            "zerolinecolor": "white"
           }
          },
          "shapedefaults": {
           "line": {
            "color": "#2a3f5f"
           }
          },
          "ternary": {
           "aaxis": {
            "gridcolor": "white",
            "linecolor": "white",
            "ticks": ""
           },
           "baxis": {
            "gridcolor": "white",
            "linecolor": "white",
            "ticks": ""
           },
           "bgcolor": "#E5ECF6",
           "caxis": {
            "gridcolor": "white",
            "linecolor": "white",
            "ticks": ""
           }
          },
          "title": {
           "x": 0.05
          },
          "xaxis": {
           "automargin": true,
           "gridcolor": "white",
           "linecolor": "white",
           "ticks": "",
           "title": {
            "standoff": 15
           },
           "zerolinecolor": "white",
           "zerolinewidth": 2
          },
          "yaxis": {
           "automargin": true,
           "gridcolor": "white",
           "linecolor": "white",
           "ticks": "",
           "title": {
            "standoff": 15
           },
           "zerolinecolor": "white",
           "zerolinewidth": 2
          }
         }
        },
        "xaxis": {
         "anchor": "y",
         "domain": [
          0,
          1
         ],
         "title": {
          "text": "age"
         }
        },
        "yaxis": {
         "anchor": "x",
         "domain": [
          0,
          1
         ],
         "title": {
          "text": "fare"
         }
        }
       }
      }
     },
     "metadata": {},
     "output_type": "display_data"
    }
   ],
   "source": [
    "#  make scatter plot via plotly\n",
    "fig = px.scatter(df, x = 'age', y = 'fare', color = 'class')\n",
    "fig.show()"
   ]
  },
  {
   "cell_type": "code",
   "execution_count": 59,
   "id": "62cfa3b5",
   "metadata": {},
   "outputs": [
    {
     "ename": "URLError",
     "evalue": "<urlopen error [Errno 11001] getaddrinfo failed>",
     "output_type": "error",
     "traceback": [
      "\u001b[31m---------------------------------------------------------------------------\u001b[39m",
      "\u001b[31mgaierror\u001b[39m                                  Traceback (most recent call last)",
      "\u001b[36mFile \u001b[39m\u001b[32mc:\\Users\\Computer Valley\\.conda\\envs\\DS_Env\\Lib\\urllib\\request.py:1319\u001b[39m, in \u001b[36mAbstractHTTPHandler.do_open\u001b[39m\u001b[34m(self, http_class, req, **http_conn_args)\u001b[39m\n\u001b[32m   1318\u001b[39m \u001b[38;5;28;01mtry\u001b[39;00m:\n\u001b[32m-> \u001b[39m\u001b[32m1319\u001b[39m     \u001b[43mh\u001b[49m\u001b[43m.\u001b[49m\u001b[43mrequest\u001b[49m\u001b[43m(\u001b[49m\u001b[43mreq\u001b[49m\u001b[43m.\u001b[49m\u001b[43mget_method\u001b[49m\u001b[43m(\u001b[49m\u001b[43m)\u001b[49m\u001b[43m,\u001b[49m\u001b[43m \u001b[49m\u001b[43mreq\u001b[49m\u001b[43m.\u001b[49m\u001b[43mselector\u001b[49m\u001b[43m,\u001b[49m\u001b[43m \u001b[49m\u001b[43mreq\u001b[49m\u001b[43m.\u001b[49m\u001b[43mdata\u001b[49m\u001b[43m,\u001b[49m\u001b[43m \u001b[49m\u001b[43mheaders\u001b[49m\u001b[43m,\u001b[49m\n\u001b[32m   1320\u001b[39m \u001b[43m              \u001b[49m\u001b[43mencode_chunked\u001b[49m\u001b[43m=\u001b[49m\u001b[43mreq\u001b[49m\u001b[43m.\u001b[49m\u001b[43mhas_header\u001b[49m\u001b[43m(\u001b[49m\u001b[33;43m'\u001b[39;49m\u001b[33;43mTransfer-encoding\u001b[39;49m\u001b[33;43m'\u001b[39;49m\u001b[43m)\u001b[49m\u001b[43m)\u001b[49m\n\u001b[32m   1321\u001b[39m \u001b[38;5;28;01mexcept\u001b[39;00m \u001b[38;5;167;01mOSError\u001b[39;00m \u001b[38;5;28;01mas\u001b[39;00m err: \u001b[38;5;66;03m# timeout error\u001b[39;00m\n",
      "\u001b[36mFile \u001b[39m\u001b[32mc:\\Users\\Computer Valley\\.conda\\envs\\DS_Env\\Lib\\http\\client.py:1338\u001b[39m, in \u001b[36mHTTPConnection.request\u001b[39m\u001b[34m(self, method, url, body, headers, encode_chunked)\u001b[39m\n\u001b[32m   1337\u001b[39m \u001b[38;5;250m\u001b[39m\u001b[33;03m\"\"\"Send a complete request to the server.\"\"\"\u001b[39;00m\n\u001b[32m-> \u001b[39m\u001b[32m1338\u001b[39m \u001b[38;5;28;43mself\u001b[39;49m\u001b[43m.\u001b[49m\u001b[43m_send_request\u001b[49m\u001b[43m(\u001b[49m\u001b[43mmethod\u001b[49m\u001b[43m,\u001b[49m\u001b[43m \u001b[49m\u001b[43murl\u001b[49m\u001b[43m,\u001b[49m\u001b[43m \u001b[49m\u001b[43mbody\u001b[49m\u001b[43m,\u001b[49m\u001b[43m \u001b[49m\u001b[43mheaders\u001b[49m\u001b[43m,\u001b[49m\u001b[43m \u001b[49m\u001b[43mencode_chunked\u001b[49m\u001b[43m)\u001b[49m\n",
      "\u001b[36mFile \u001b[39m\u001b[32mc:\\Users\\Computer Valley\\.conda\\envs\\DS_Env\\Lib\\http\\client.py:1384\u001b[39m, in \u001b[36mHTTPConnection._send_request\u001b[39m\u001b[34m(self, method, url, body, headers, encode_chunked)\u001b[39m\n\u001b[32m   1383\u001b[39m     body = _encode(body, \u001b[33m'\u001b[39m\u001b[33mbody\u001b[39m\u001b[33m'\u001b[39m)\n\u001b[32m-> \u001b[39m\u001b[32m1384\u001b[39m \u001b[38;5;28;43mself\u001b[39;49m\u001b[43m.\u001b[49m\u001b[43mendheaders\u001b[49m\u001b[43m(\u001b[49m\u001b[43mbody\u001b[49m\u001b[43m,\u001b[49m\u001b[43m \u001b[49m\u001b[43mencode_chunked\u001b[49m\u001b[43m=\u001b[49m\u001b[43mencode_chunked\u001b[49m\u001b[43m)\u001b[49m\n",
      "\u001b[36mFile \u001b[39m\u001b[32mc:\\Users\\Computer Valley\\.conda\\envs\\DS_Env\\Lib\\http\\client.py:1333\u001b[39m, in \u001b[36mHTTPConnection.endheaders\u001b[39m\u001b[34m(self, message_body, encode_chunked)\u001b[39m\n\u001b[32m   1332\u001b[39m     \u001b[38;5;28;01mraise\u001b[39;00m CannotSendHeader()\n\u001b[32m-> \u001b[39m\u001b[32m1333\u001b[39m \u001b[38;5;28;43mself\u001b[39;49m\u001b[43m.\u001b[49m\u001b[43m_send_output\u001b[49m\u001b[43m(\u001b[49m\u001b[43mmessage_body\u001b[49m\u001b[43m,\u001b[49m\u001b[43m \u001b[49m\u001b[43mencode_chunked\u001b[49m\u001b[43m=\u001b[49m\u001b[43mencode_chunked\u001b[49m\u001b[43m)\u001b[49m\n",
      "\u001b[36mFile \u001b[39m\u001b[32mc:\\Users\\Computer Valley\\.conda\\envs\\DS_Env\\Lib\\http\\client.py:1093\u001b[39m, in \u001b[36mHTTPConnection._send_output\u001b[39m\u001b[34m(self, message_body, encode_chunked)\u001b[39m\n\u001b[32m   1092\u001b[39m \u001b[38;5;28;01mdel\u001b[39;00m \u001b[38;5;28mself\u001b[39m._buffer[:]\n\u001b[32m-> \u001b[39m\u001b[32m1093\u001b[39m \u001b[38;5;28;43mself\u001b[39;49m\u001b[43m.\u001b[49m\u001b[43msend\u001b[49m\u001b[43m(\u001b[49m\u001b[43mmsg\u001b[49m\u001b[43m)\u001b[49m\n\u001b[32m   1095\u001b[39m \u001b[38;5;28;01mif\u001b[39;00m message_body \u001b[38;5;129;01mis\u001b[39;00m \u001b[38;5;129;01mnot\u001b[39;00m \u001b[38;5;28;01mNone\u001b[39;00m:\n\u001b[32m   1096\u001b[39m \n\u001b[32m   1097\u001b[39m     \u001b[38;5;66;03m# create a consistent interface to message_body\u001b[39;00m\n",
      "\u001b[36mFile \u001b[39m\u001b[32mc:\\Users\\Computer Valley\\.conda\\envs\\DS_Env\\Lib\\http\\client.py:1037\u001b[39m, in \u001b[36mHTTPConnection.send\u001b[39m\u001b[34m(self, data)\u001b[39m\n\u001b[32m   1036\u001b[39m \u001b[38;5;28;01mif\u001b[39;00m \u001b[38;5;28mself\u001b[39m.auto_open:\n\u001b[32m-> \u001b[39m\u001b[32m1037\u001b[39m     \u001b[38;5;28;43mself\u001b[39;49m\u001b[43m.\u001b[49m\u001b[43mconnect\u001b[49m\u001b[43m(\u001b[49m\u001b[43m)\u001b[49m\n\u001b[32m   1038\u001b[39m \u001b[38;5;28;01melse\u001b[39;00m:\n",
      "\u001b[36mFile \u001b[39m\u001b[32mc:\\Users\\Computer Valley\\.conda\\envs\\DS_Env\\Lib\\http\\client.py:1472\u001b[39m, in \u001b[36mHTTPSConnection.connect\u001b[39m\u001b[34m(self)\u001b[39m\n\u001b[32m   1470\u001b[39m \u001b[33m\"\u001b[39m\u001b[33mConnect to a host on a given (SSL) port.\u001b[39m\u001b[33m\"\u001b[39m\n\u001b[32m-> \u001b[39m\u001b[32m1472\u001b[39m \u001b[38;5;28;43msuper\u001b[39;49m\u001b[43m(\u001b[49m\u001b[43m)\u001b[49m\u001b[43m.\u001b[49m\u001b[43mconnect\u001b[49m\u001b[43m(\u001b[49m\u001b[43m)\u001b[49m\n\u001b[32m   1474\u001b[39m \u001b[38;5;28;01mif\u001b[39;00m \u001b[38;5;28mself\u001b[39m._tunnel_host:\n",
      "\u001b[36mFile \u001b[39m\u001b[32mc:\\Users\\Computer Valley\\.conda\\envs\\DS_Env\\Lib\\http\\client.py:1003\u001b[39m, in \u001b[36mHTTPConnection.connect\u001b[39m\u001b[34m(self)\u001b[39m\n\u001b[32m   1002\u001b[39m sys.audit(\u001b[33m\"\u001b[39m\u001b[33mhttp.client.connect\u001b[39m\u001b[33m\"\u001b[39m, \u001b[38;5;28mself\u001b[39m, \u001b[38;5;28mself\u001b[39m.host, \u001b[38;5;28mself\u001b[39m.port)\n\u001b[32m-> \u001b[39m\u001b[32m1003\u001b[39m \u001b[38;5;28mself\u001b[39m.sock = \u001b[38;5;28;43mself\u001b[39;49m\u001b[43m.\u001b[49m\u001b[43m_create_connection\u001b[49m\u001b[43m(\u001b[49m\n\u001b[32m   1004\u001b[39m \u001b[43m    \u001b[49m\u001b[43m(\u001b[49m\u001b[38;5;28;43mself\u001b[39;49m\u001b[43m.\u001b[49m\u001b[43mhost\u001b[49m\u001b[43m,\u001b[49m\u001b[38;5;28;43mself\u001b[39;49m\u001b[43m.\u001b[49m\u001b[43mport\u001b[49m\u001b[43m)\u001b[49m\u001b[43m,\u001b[49m\u001b[43m \u001b[49m\u001b[38;5;28;43mself\u001b[39;49m\u001b[43m.\u001b[49m\u001b[43mtimeout\u001b[49m\u001b[43m,\u001b[49m\u001b[43m \u001b[49m\u001b[38;5;28;43mself\u001b[39;49m\u001b[43m.\u001b[49m\u001b[43msource_address\u001b[49m\u001b[43m)\u001b[49m\n\u001b[32m   1005\u001b[39m \u001b[38;5;66;03m# Might fail in OSs that don't implement TCP_NODELAY\u001b[39;00m\n",
      "\u001b[36mFile \u001b[39m\u001b[32mc:\\Users\\Computer Valley\\.conda\\envs\\DS_Env\\Lib\\socket.py:840\u001b[39m, in \u001b[36mcreate_connection\u001b[39m\u001b[34m(address, timeout, source_address, all_errors)\u001b[39m\n\u001b[32m    839\u001b[39m exceptions = []\n\u001b[32m--> \u001b[39m\u001b[32m840\u001b[39m \u001b[38;5;28;01mfor\u001b[39;00m res \u001b[38;5;129;01min\u001b[39;00m \u001b[43mgetaddrinfo\u001b[49m\u001b[43m(\u001b[49m\u001b[43mhost\u001b[49m\u001b[43m,\u001b[49m\u001b[43m \u001b[49m\u001b[43mport\u001b[49m\u001b[43m,\u001b[49m\u001b[43m \u001b[49m\u001b[32;43m0\u001b[39;49m\u001b[43m,\u001b[49m\u001b[43m \u001b[49m\u001b[43mSOCK_STREAM\u001b[49m\u001b[43m)\u001b[49m:\n\u001b[32m    841\u001b[39m     af, socktype, proto, canonname, sa = res\n",
      "\u001b[36mFile \u001b[39m\u001b[32mc:\\Users\\Computer Valley\\.conda\\envs\\DS_Env\\Lib\\socket.py:977\u001b[39m, in \u001b[36mgetaddrinfo\u001b[39m\u001b[34m(host, port, family, type, proto, flags)\u001b[39m\n\u001b[32m    976\u001b[39m addrlist = []\n\u001b[32m--> \u001b[39m\u001b[32m977\u001b[39m \u001b[38;5;28;01mfor\u001b[39;00m res \u001b[38;5;129;01min\u001b[39;00m \u001b[43m_socket\u001b[49m\u001b[43m.\u001b[49m\u001b[43mgetaddrinfo\u001b[49m\u001b[43m(\u001b[49m\u001b[43mhost\u001b[49m\u001b[43m,\u001b[49m\u001b[43m \u001b[49m\u001b[43mport\u001b[49m\u001b[43m,\u001b[49m\u001b[43m \u001b[49m\u001b[43mfamily\u001b[49m\u001b[43m,\u001b[49m\u001b[43m \u001b[49m\u001b[38;5;28;43mtype\u001b[39;49m\u001b[43m,\u001b[49m\u001b[43m \u001b[49m\u001b[43mproto\u001b[49m\u001b[43m,\u001b[49m\u001b[43m \u001b[49m\u001b[43mflags\u001b[49m\u001b[43m)\u001b[49m:\n\u001b[32m    978\u001b[39m     af, socktype, proto, canonname, sa = res\n",
      "\u001b[31mgaierror\u001b[39m: [Errno 11001] getaddrinfo failed",
      "\nDuring handling of the above exception, another exception occurred:\n",
      "\u001b[31mURLError\u001b[39m                                  Traceback (most recent call last)",
      "\u001b[36mCell\u001b[39m\u001b[36m \u001b[39m\u001b[32mIn[59]\u001b[39m\u001b[32m, line 5\u001b[39m\n\u001b[32m      2\u001b[39m \u001b[38;5;28;01mimport\u001b[39;00m\u001b[38;5;250m \u001b[39m\u001b[34;01mpandas\u001b[39;00m\u001b[38;5;250m \u001b[39m\u001b[38;5;28;01mas\u001b[39;00m\u001b[38;5;250m \u001b[39m\u001b[34;01mpd\u001b[39;00m\n\u001b[32m      4\u001b[39m \u001b[38;5;66;03m# read data from a csv\u001b[39;00m\n\u001b[32m----> \u001b[39m\u001b[32m5\u001b[39m z_data = \u001b[43mpd\u001b[49m\u001b[43m.\u001b[49m\u001b[43mread_csv\u001b[49m\u001b[43m(\u001b[49m\u001b[33;43m'\u001b[39;49m\u001b[33;43mhttps://raw.githubusercontent.com/plotly/datasets/master/api_docs/mt_bruno_elevation.csv\u001b[39;49m\u001b[33;43m'\u001b[39;49m\u001b[43m)\u001b[49m\n\u001b[32m      7\u001b[39m fig = go.Figure(data=[go.Surface(z=z_data.values)])\n\u001b[32m      9\u001b[39m fig.update_layout(title=\u001b[33m'\u001b[39m\u001b[33mMT Bruno Elevetion\u001b[39m\u001b[33m'\u001b[39m, autosize=\u001b[38;5;28;01mFalse\u001b[39;00m, width=\u001b[32m500\u001b[39m, height=\u001b[32m500\u001b[39m, margin=\u001b[38;5;28mdict\u001b[39m(l=\u001b[32m50\u001b[39m, b=\u001b[32m65\u001b[39m, t=\u001b[32m90\u001b[39m))\n",
      "\u001b[36mFile \u001b[39m\u001b[32mc:\\Users\\Computer Valley\\.conda\\envs\\DS_Env\\Lib\\site-packages\\pandas\\io\\parsers\\readers.py:1026\u001b[39m, in \u001b[36mread_csv\u001b[39m\u001b[34m(filepath_or_buffer, sep, delimiter, header, names, index_col, usecols, dtype, engine, converters, true_values, false_values, skipinitialspace, skiprows, skipfooter, nrows, na_values, keep_default_na, na_filter, verbose, skip_blank_lines, parse_dates, infer_datetime_format, keep_date_col, date_parser, date_format, dayfirst, cache_dates, iterator, chunksize, compression, thousands, decimal, lineterminator, quotechar, quoting, doublequote, escapechar, comment, encoding, encoding_errors, dialect, on_bad_lines, delim_whitespace, low_memory, memory_map, float_precision, storage_options, dtype_backend)\u001b[39m\n\u001b[32m   1013\u001b[39m kwds_defaults = _refine_defaults_read(\n\u001b[32m   1014\u001b[39m     dialect,\n\u001b[32m   1015\u001b[39m     delimiter,\n\u001b[32m   (...)\u001b[39m\u001b[32m   1022\u001b[39m     dtype_backend=dtype_backend,\n\u001b[32m   1023\u001b[39m )\n\u001b[32m   1024\u001b[39m kwds.update(kwds_defaults)\n\u001b[32m-> \u001b[39m\u001b[32m1026\u001b[39m \u001b[38;5;28;01mreturn\u001b[39;00m \u001b[43m_read\u001b[49m\u001b[43m(\u001b[49m\u001b[43mfilepath_or_buffer\u001b[49m\u001b[43m,\u001b[49m\u001b[43m \u001b[49m\u001b[43mkwds\u001b[49m\u001b[43m)\u001b[49m\n",
      "\u001b[36mFile \u001b[39m\u001b[32mc:\\Users\\Computer Valley\\.conda\\envs\\DS_Env\\Lib\\site-packages\\pandas\\io\\parsers\\readers.py:620\u001b[39m, in \u001b[36m_read\u001b[39m\u001b[34m(filepath_or_buffer, kwds)\u001b[39m\n\u001b[32m    617\u001b[39m _validate_names(kwds.get(\u001b[33m\"\u001b[39m\u001b[33mnames\u001b[39m\u001b[33m\"\u001b[39m, \u001b[38;5;28;01mNone\u001b[39;00m))\n\u001b[32m    619\u001b[39m \u001b[38;5;66;03m# Create the parser.\u001b[39;00m\n\u001b[32m--> \u001b[39m\u001b[32m620\u001b[39m parser = \u001b[43mTextFileReader\u001b[49m\u001b[43m(\u001b[49m\u001b[43mfilepath_or_buffer\u001b[49m\u001b[43m,\u001b[49m\u001b[43m \u001b[49m\u001b[43m*\u001b[49m\u001b[43m*\u001b[49m\u001b[43mkwds\u001b[49m\u001b[43m)\u001b[49m\n\u001b[32m    622\u001b[39m \u001b[38;5;28;01mif\u001b[39;00m chunksize \u001b[38;5;129;01mor\u001b[39;00m iterator:\n\u001b[32m    623\u001b[39m     \u001b[38;5;28;01mreturn\u001b[39;00m parser\n",
      "\u001b[36mFile \u001b[39m\u001b[32mc:\\Users\\Computer Valley\\.conda\\envs\\DS_Env\\Lib\\site-packages\\pandas\\io\\parsers\\readers.py:1620\u001b[39m, in \u001b[36mTextFileReader.__init__\u001b[39m\u001b[34m(self, f, engine, **kwds)\u001b[39m\n\u001b[32m   1617\u001b[39m     \u001b[38;5;28mself\u001b[39m.options[\u001b[33m\"\u001b[39m\u001b[33mhas_index_names\u001b[39m\u001b[33m\"\u001b[39m] = kwds[\u001b[33m\"\u001b[39m\u001b[33mhas_index_names\u001b[39m\u001b[33m\"\u001b[39m]\n\u001b[32m   1619\u001b[39m \u001b[38;5;28mself\u001b[39m.handles: IOHandles | \u001b[38;5;28;01mNone\u001b[39;00m = \u001b[38;5;28;01mNone\u001b[39;00m\n\u001b[32m-> \u001b[39m\u001b[32m1620\u001b[39m \u001b[38;5;28mself\u001b[39m._engine = \u001b[38;5;28;43mself\u001b[39;49m\u001b[43m.\u001b[49m\u001b[43m_make_engine\u001b[49m\u001b[43m(\u001b[49m\u001b[43mf\u001b[49m\u001b[43m,\u001b[49m\u001b[43m \u001b[49m\u001b[38;5;28;43mself\u001b[39;49m\u001b[43m.\u001b[49m\u001b[43mengine\u001b[49m\u001b[43m)\u001b[49m\n",
      "\u001b[36mFile \u001b[39m\u001b[32mc:\\Users\\Computer Valley\\.conda\\envs\\DS_Env\\Lib\\site-packages\\pandas\\io\\parsers\\readers.py:1880\u001b[39m, in \u001b[36mTextFileReader._make_engine\u001b[39m\u001b[34m(self, f, engine)\u001b[39m\n\u001b[32m   1878\u001b[39m     \u001b[38;5;28;01mif\u001b[39;00m \u001b[33m\"\u001b[39m\u001b[33mb\u001b[39m\u001b[33m\"\u001b[39m \u001b[38;5;129;01mnot\u001b[39;00m \u001b[38;5;129;01min\u001b[39;00m mode:\n\u001b[32m   1879\u001b[39m         mode += \u001b[33m\"\u001b[39m\u001b[33mb\u001b[39m\u001b[33m\"\u001b[39m\n\u001b[32m-> \u001b[39m\u001b[32m1880\u001b[39m \u001b[38;5;28mself\u001b[39m.handles = \u001b[43mget_handle\u001b[49m\u001b[43m(\u001b[49m\n\u001b[32m   1881\u001b[39m \u001b[43m    \u001b[49m\u001b[43mf\u001b[49m\u001b[43m,\u001b[49m\n\u001b[32m   1882\u001b[39m \u001b[43m    \u001b[49m\u001b[43mmode\u001b[49m\u001b[43m,\u001b[49m\n\u001b[32m   1883\u001b[39m \u001b[43m    \u001b[49m\u001b[43mencoding\u001b[49m\u001b[43m=\u001b[49m\u001b[38;5;28;43mself\u001b[39;49m\u001b[43m.\u001b[49m\u001b[43moptions\u001b[49m\u001b[43m.\u001b[49m\u001b[43mget\u001b[49m\u001b[43m(\u001b[49m\u001b[33;43m\"\u001b[39;49m\u001b[33;43mencoding\u001b[39;49m\u001b[33;43m\"\u001b[39;49m\u001b[43m,\u001b[49m\u001b[43m \u001b[49m\u001b[38;5;28;43;01mNone\u001b[39;49;00m\u001b[43m)\u001b[49m\u001b[43m,\u001b[49m\n\u001b[32m   1884\u001b[39m \u001b[43m    \u001b[49m\u001b[43mcompression\u001b[49m\u001b[43m=\u001b[49m\u001b[38;5;28;43mself\u001b[39;49m\u001b[43m.\u001b[49m\u001b[43moptions\u001b[49m\u001b[43m.\u001b[49m\u001b[43mget\u001b[49m\u001b[43m(\u001b[49m\u001b[33;43m\"\u001b[39;49m\u001b[33;43mcompression\u001b[39;49m\u001b[33;43m\"\u001b[39;49m\u001b[43m,\u001b[49m\u001b[43m \u001b[49m\u001b[38;5;28;43;01mNone\u001b[39;49;00m\u001b[43m)\u001b[49m\u001b[43m,\u001b[49m\n\u001b[32m   1885\u001b[39m \u001b[43m    \u001b[49m\u001b[43mmemory_map\u001b[49m\u001b[43m=\u001b[49m\u001b[38;5;28;43mself\u001b[39;49m\u001b[43m.\u001b[49m\u001b[43moptions\u001b[49m\u001b[43m.\u001b[49m\u001b[43mget\u001b[49m\u001b[43m(\u001b[49m\u001b[33;43m\"\u001b[39;49m\u001b[33;43mmemory_map\u001b[39;49m\u001b[33;43m\"\u001b[39;49m\u001b[43m,\u001b[49m\u001b[43m \u001b[49m\u001b[38;5;28;43;01mFalse\u001b[39;49;00m\u001b[43m)\u001b[49m\u001b[43m,\u001b[49m\n\u001b[32m   1886\u001b[39m \u001b[43m    \u001b[49m\u001b[43mis_text\u001b[49m\u001b[43m=\u001b[49m\u001b[43mis_text\u001b[49m\u001b[43m,\u001b[49m\n\u001b[32m   1887\u001b[39m \u001b[43m    \u001b[49m\u001b[43merrors\u001b[49m\u001b[43m=\u001b[49m\u001b[38;5;28;43mself\u001b[39;49m\u001b[43m.\u001b[49m\u001b[43moptions\u001b[49m\u001b[43m.\u001b[49m\u001b[43mget\u001b[49m\u001b[43m(\u001b[49m\u001b[33;43m\"\u001b[39;49m\u001b[33;43mencoding_errors\u001b[39;49m\u001b[33;43m\"\u001b[39;49m\u001b[43m,\u001b[49m\u001b[43m \u001b[49m\u001b[33;43m\"\u001b[39;49m\u001b[33;43mstrict\u001b[39;49m\u001b[33;43m\"\u001b[39;49m\u001b[43m)\u001b[49m\u001b[43m,\u001b[49m\n\u001b[32m   1888\u001b[39m \u001b[43m    \u001b[49m\u001b[43mstorage_options\u001b[49m\u001b[43m=\u001b[49m\u001b[38;5;28;43mself\u001b[39;49m\u001b[43m.\u001b[49m\u001b[43moptions\u001b[49m\u001b[43m.\u001b[49m\u001b[43mget\u001b[49m\u001b[43m(\u001b[49m\u001b[33;43m\"\u001b[39;49m\u001b[33;43mstorage_options\u001b[39;49m\u001b[33;43m\"\u001b[39;49m\u001b[43m,\u001b[49m\u001b[43m \u001b[49m\u001b[38;5;28;43;01mNone\u001b[39;49;00m\u001b[43m)\u001b[49m\u001b[43m,\u001b[49m\n\u001b[32m   1889\u001b[39m \u001b[43m\u001b[49m\u001b[43m)\u001b[49m\n\u001b[32m   1890\u001b[39m \u001b[38;5;28;01massert\u001b[39;00m \u001b[38;5;28mself\u001b[39m.handles \u001b[38;5;129;01mis\u001b[39;00m \u001b[38;5;129;01mnot\u001b[39;00m \u001b[38;5;28;01mNone\u001b[39;00m\n\u001b[32m   1891\u001b[39m f = \u001b[38;5;28mself\u001b[39m.handles.handle\n",
      "\u001b[36mFile \u001b[39m\u001b[32mc:\\Users\\Computer Valley\\.conda\\envs\\DS_Env\\Lib\\site-packages\\pandas\\io\\common.py:728\u001b[39m, in \u001b[36mget_handle\u001b[39m\u001b[34m(path_or_buf, mode, encoding, compression, memory_map, is_text, errors, storage_options)\u001b[39m\n\u001b[32m    725\u001b[39m     codecs.lookup_error(errors)\n\u001b[32m    727\u001b[39m \u001b[38;5;66;03m# open URLs\u001b[39;00m\n\u001b[32m--> \u001b[39m\u001b[32m728\u001b[39m ioargs = \u001b[43m_get_filepath_or_buffer\u001b[49m\u001b[43m(\u001b[49m\n\u001b[32m    729\u001b[39m \u001b[43m    \u001b[49m\u001b[43mpath_or_buf\u001b[49m\u001b[43m,\u001b[49m\n\u001b[32m    730\u001b[39m \u001b[43m    \u001b[49m\u001b[43mencoding\u001b[49m\u001b[43m=\u001b[49m\u001b[43mencoding\u001b[49m\u001b[43m,\u001b[49m\n\u001b[32m    731\u001b[39m \u001b[43m    \u001b[49m\u001b[43mcompression\u001b[49m\u001b[43m=\u001b[49m\u001b[43mcompression\u001b[49m\u001b[43m,\u001b[49m\n\u001b[32m    732\u001b[39m \u001b[43m    \u001b[49m\u001b[43mmode\u001b[49m\u001b[43m=\u001b[49m\u001b[43mmode\u001b[49m\u001b[43m,\u001b[49m\n\u001b[32m    733\u001b[39m \u001b[43m    \u001b[49m\u001b[43mstorage_options\u001b[49m\u001b[43m=\u001b[49m\u001b[43mstorage_options\u001b[49m\u001b[43m,\u001b[49m\n\u001b[32m    734\u001b[39m \u001b[43m\u001b[49m\u001b[43m)\u001b[49m\n\u001b[32m    736\u001b[39m handle = ioargs.filepath_or_buffer\n\u001b[32m    737\u001b[39m handles: \u001b[38;5;28mlist\u001b[39m[BaseBuffer]\n",
      "\u001b[36mFile \u001b[39m\u001b[32mc:\\Users\\Computer Valley\\.conda\\envs\\DS_Env\\Lib\\site-packages\\pandas\\io\\common.py:384\u001b[39m, in \u001b[36m_get_filepath_or_buffer\u001b[39m\u001b[34m(filepath_or_buffer, encoding, compression, mode, storage_options)\u001b[39m\n\u001b[32m    382\u001b[39m \u001b[38;5;66;03m# assuming storage_options is to be interpreted as headers\u001b[39;00m\n\u001b[32m    383\u001b[39m req_info = urllib.request.Request(filepath_or_buffer, headers=storage_options)\n\u001b[32m--> \u001b[39m\u001b[32m384\u001b[39m \u001b[38;5;28;01mwith\u001b[39;00m \u001b[43murlopen\u001b[49m\u001b[43m(\u001b[49m\u001b[43mreq_info\u001b[49m\u001b[43m)\u001b[49m \u001b[38;5;28;01mas\u001b[39;00m req:\n\u001b[32m    385\u001b[39m     content_encoding = req.headers.get(\u001b[33m\"\u001b[39m\u001b[33mContent-Encoding\u001b[39m\u001b[33m\"\u001b[39m, \u001b[38;5;28;01mNone\u001b[39;00m)\n\u001b[32m    386\u001b[39m     \u001b[38;5;28;01mif\u001b[39;00m content_encoding == \u001b[33m\"\u001b[39m\u001b[33mgzip\u001b[39m\u001b[33m\"\u001b[39m:\n\u001b[32m    387\u001b[39m         \u001b[38;5;66;03m# Override compression based on Content-Encoding header\u001b[39;00m\n",
      "\u001b[36mFile \u001b[39m\u001b[32mc:\\Users\\Computer Valley\\.conda\\envs\\DS_Env\\Lib\\site-packages\\pandas\\io\\common.py:289\u001b[39m, in \u001b[36murlopen\u001b[39m\u001b[34m(*args, **kwargs)\u001b[39m\n\u001b[32m    283\u001b[39m \u001b[38;5;250m\u001b[39m\u001b[33;03m\"\"\"\u001b[39;00m\n\u001b[32m    284\u001b[39m \u001b[33;03mLazy-import wrapper for stdlib urlopen, as that imports a big chunk of\u001b[39;00m\n\u001b[32m    285\u001b[39m \u001b[33;03mthe stdlib.\u001b[39;00m\n\u001b[32m    286\u001b[39m \u001b[33;03m\"\"\"\u001b[39;00m\n\u001b[32m    287\u001b[39m \u001b[38;5;28;01mimport\u001b[39;00m\u001b[38;5;250m \u001b[39m\u001b[34;01murllib\u001b[39;00m\u001b[34;01m.\u001b[39;00m\u001b[34;01mrequest\u001b[39;00m\n\u001b[32m--> \u001b[39m\u001b[32m289\u001b[39m \u001b[38;5;28;01mreturn\u001b[39;00m \u001b[43murllib\u001b[49m\u001b[43m.\u001b[49m\u001b[43mrequest\u001b[49m\u001b[43m.\u001b[49m\u001b[43murlopen\u001b[49m\u001b[43m(\u001b[49m\u001b[43m*\u001b[49m\u001b[43margs\u001b[49m\u001b[43m,\u001b[49m\u001b[43m \u001b[49m\u001b[43m*\u001b[49m\u001b[43m*\u001b[49m\u001b[43mkwargs\u001b[49m\u001b[43m)\u001b[49m\n",
      "\u001b[36mFile \u001b[39m\u001b[32mc:\\Users\\Computer Valley\\.conda\\envs\\DS_Env\\Lib\\urllib\\request.py:189\u001b[39m, in \u001b[36murlopen\u001b[39m\u001b[34m(url, data, timeout, context)\u001b[39m\n\u001b[32m    187\u001b[39m \u001b[38;5;28;01melse\u001b[39;00m:\n\u001b[32m    188\u001b[39m     opener = _opener\n\u001b[32m--> \u001b[39m\u001b[32m189\u001b[39m \u001b[38;5;28;01mreturn\u001b[39;00m \u001b[43mopener\u001b[49m\u001b[43m.\u001b[49m\u001b[43mopen\u001b[49m\u001b[43m(\u001b[49m\u001b[43murl\u001b[49m\u001b[43m,\u001b[49m\u001b[43m \u001b[49m\u001b[43mdata\u001b[49m\u001b[43m,\u001b[49m\u001b[43m \u001b[49m\u001b[43mtimeout\u001b[49m\u001b[43m)\u001b[49m\n",
      "\u001b[36mFile \u001b[39m\u001b[32mc:\\Users\\Computer Valley\\.conda\\envs\\DS_Env\\Lib\\urllib\\request.py:489\u001b[39m, in \u001b[36mOpenerDirector.open\u001b[39m\u001b[34m(self, fullurl, data, timeout)\u001b[39m\n\u001b[32m    486\u001b[39m     req = meth(req)\n\u001b[32m    488\u001b[39m sys.audit(\u001b[33m'\u001b[39m\u001b[33murllib.Request\u001b[39m\u001b[33m'\u001b[39m, req.full_url, req.data, req.headers, req.get_method())\n\u001b[32m--> \u001b[39m\u001b[32m489\u001b[39m response = \u001b[38;5;28;43mself\u001b[39;49m\u001b[43m.\u001b[49m\u001b[43m_open\u001b[49m\u001b[43m(\u001b[49m\u001b[43mreq\u001b[49m\u001b[43m,\u001b[49m\u001b[43m \u001b[49m\u001b[43mdata\u001b[49m\u001b[43m)\u001b[49m\n\u001b[32m    491\u001b[39m \u001b[38;5;66;03m# post-process response\u001b[39;00m\n\u001b[32m    492\u001b[39m meth_name = protocol+\u001b[33m\"\u001b[39m\u001b[33m_response\u001b[39m\u001b[33m\"\u001b[39m\n",
      "\u001b[36mFile \u001b[39m\u001b[32mc:\\Users\\Computer Valley\\.conda\\envs\\DS_Env\\Lib\\urllib\\request.py:506\u001b[39m, in \u001b[36mOpenerDirector._open\u001b[39m\u001b[34m(self, req, data)\u001b[39m\n\u001b[32m    503\u001b[39m     \u001b[38;5;28;01mreturn\u001b[39;00m result\n\u001b[32m    505\u001b[39m protocol = req.type\n\u001b[32m--> \u001b[39m\u001b[32m506\u001b[39m result = \u001b[38;5;28;43mself\u001b[39;49m\u001b[43m.\u001b[49m\u001b[43m_call_chain\u001b[49m\u001b[43m(\u001b[49m\u001b[38;5;28;43mself\u001b[39;49m\u001b[43m.\u001b[49m\u001b[43mhandle_open\u001b[49m\u001b[43m,\u001b[49m\u001b[43m \u001b[49m\u001b[43mprotocol\u001b[49m\u001b[43m,\u001b[49m\u001b[43m \u001b[49m\u001b[43mprotocol\u001b[49m\u001b[43m \u001b[49m\u001b[43m+\u001b[49m\n\u001b[32m    507\u001b[39m \u001b[43m                          \u001b[49m\u001b[33;43m'\u001b[39;49m\u001b[33;43m_open\u001b[39;49m\u001b[33;43m'\u001b[39;49m\u001b[43m,\u001b[49m\u001b[43m \u001b[49m\u001b[43mreq\u001b[49m\u001b[43m)\u001b[49m\n\u001b[32m    508\u001b[39m \u001b[38;5;28;01mif\u001b[39;00m result:\n\u001b[32m    509\u001b[39m     \u001b[38;5;28;01mreturn\u001b[39;00m result\n",
      "\u001b[36mFile \u001b[39m\u001b[32mc:\\Users\\Computer Valley\\.conda\\envs\\DS_Env\\Lib\\urllib\\request.py:466\u001b[39m, in \u001b[36mOpenerDirector._call_chain\u001b[39m\u001b[34m(self, chain, kind, meth_name, *args)\u001b[39m\n\u001b[32m    464\u001b[39m \u001b[38;5;28;01mfor\u001b[39;00m handler \u001b[38;5;129;01min\u001b[39;00m handlers:\n\u001b[32m    465\u001b[39m     func = \u001b[38;5;28mgetattr\u001b[39m(handler, meth_name)\n\u001b[32m--> \u001b[39m\u001b[32m466\u001b[39m     result = \u001b[43mfunc\u001b[49m\u001b[43m(\u001b[49m\u001b[43m*\u001b[49m\u001b[43margs\u001b[49m\u001b[43m)\u001b[49m\n\u001b[32m    467\u001b[39m     \u001b[38;5;28;01mif\u001b[39;00m result \u001b[38;5;129;01mis\u001b[39;00m \u001b[38;5;129;01mnot\u001b[39;00m \u001b[38;5;28;01mNone\u001b[39;00m:\n\u001b[32m    468\u001b[39m         \u001b[38;5;28;01mreturn\u001b[39;00m result\n",
      "\u001b[36mFile \u001b[39m\u001b[32mc:\\Users\\Computer Valley\\.conda\\envs\\DS_Env\\Lib\\urllib\\request.py:1367\u001b[39m, in \u001b[36mHTTPSHandler.https_open\u001b[39m\u001b[34m(self, req)\u001b[39m\n\u001b[32m   1366\u001b[39m \u001b[38;5;28;01mdef\u001b[39;00m\u001b[38;5;250m \u001b[39m\u001b[34mhttps_open\u001b[39m(\u001b[38;5;28mself\u001b[39m, req):\n\u001b[32m-> \u001b[39m\u001b[32m1367\u001b[39m     \u001b[38;5;28;01mreturn\u001b[39;00m \u001b[38;5;28;43mself\u001b[39;49m\u001b[43m.\u001b[49m\u001b[43mdo_open\u001b[49m\u001b[43m(\u001b[49m\u001b[43mhttp\u001b[49m\u001b[43m.\u001b[49m\u001b[43mclient\u001b[49m\u001b[43m.\u001b[49m\u001b[43mHTTPSConnection\u001b[49m\u001b[43m,\u001b[49m\u001b[43m \u001b[49m\u001b[43mreq\u001b[49m\u001b[43m,\u001b[49m\n\u001b[32m   1368\u001b[39m \u001b[43m                        \u001b[49m\u001b[43mcontext\u001b[49m\u001b[43m=\u001b[49m\u001b[38;5;28;43mself\u001b[39;49m\u001b[43m.\u001b[49m\u001b[43m_context\u001b[49m\u001b[43m)\u001b[49m\n",
      "\u001b[36mFile \u001b[39m\u001b[32mc:\\Users\\Computer Valley\\.conda\\envs\\DS_Env\\Lib\\urllib\\request.py:1322\u001b[39m, in \u001b[36mAbstractHTTPHandler.do_open\u001b[39m\u001b[34m(self, http_class, req, **http_conn_args)\u001b[39m\n\u001b[32m   1319\u001b[39m         h.request(req.get_method(), req.selector, req.data, headers,\n\u001b[32m   1320\u001b[39m                   encode_chunked=req.has_header(\u001b[33m'\u001b[39m\u001b[33mTransfer-encoding\u001b[39m\u001b[33m'\u001b[39m))\n\u001b[32m   1321\u001b[39m     \u001b[38;5;28;01mexcept\u001b[39;00m \u001b[38;5;167;01mOSError\u001b[39;00m \u001b[38;5;28;01mas\u001b[39;00m err: \u001b[38;5;66;03m# timeout error\u001b[39;00m\n\u001b[32m-> \u001b[39m\u001b[32m1322\u001b[39m         \u001b[38;5;28;01mraise\u001b[39;00m URLError(err)\n\u001b[32m   1323\u001b[39m     r = h.getresponse()\n\u001b[32m   1324\u001b[39m \u001b[38;5;28;01mexcept\u001b[39;00m:\n",
      "\u001b[31mURLError\u001b[39m: <urlopen error [Errno 11001] getaddrinfo failed>"
     ]
    }
   ],
   "source": [
    "import plotly.graph_objects as go \n",
    "import pandas as pd\n",
    "\n",
    "# read data from a csv\n",
    "z_data = pd.read_csv('https://raw.githubusercontent.com/plotly/datasets/master/api_docs/mt_bruno_elevation.csv')\n",
    "\n",
    "fig = go.Figure(data=[go.Surface(z=z_data.values)])\n",
    "\n",
    "fig.update_layout(title='MT Bruno Elevetion', autosize=False, width=500, height=500, margin=dict(l=50, b=65, t=90))\n",
    "\n",
    "fig.show()"
   ]
  },
  {
   "cell_type": "code",
   "execution_count": null,
   "id": "f0a89ded",
   "metadata": {},
   "outputs": [
    {
     "data": {
      "application/vnd.plotly.v1+json": {
       "config": {
        "plotlyServerURL": "https://plot.ly"
       },
       "data": [
        {
         "hovertemplate": "<b>%{hovertext}</b><br><br>continent=Asia<br>year=1952<br>gdpPercap=%{x}<br>lifeExp=%{y}<br>pop=%{marker.size}<extra></extra>",
         "hovertext": [
          "Afghanistan",
          "Bahrain",
          "Bangladesh",
          "Cambodia",
          "China",
          "Hong Kong, China",
          "India",
          "Indonesia",
          "Iran",
          "Iraq",
          "Israel",
          "Japan",
          "Jordan",
          "Korea, Dem. Rep.",
          "Korea, Rep.",
          "Kuwait",
          "Lebanon",
          "Malaysia",
          "Mongolia",
          "Myanmar",
          "Nepal",
          "Oman",
          "Pakistan",
          "Philippines",
          "Saudi Arabia",
          "Singapore",
          "Sri Lanka",
          "Syria",
          "Taiwan",
          "Thailand",
          "Vietnam",
          "West Bank and Gaza",
          "Yemen, Rep."
         ],
         "ids": [
          "Afghanistan",
          "Bahrain",
          "Bangladesh",
          "Cambodia",
          "China",
          "Hong Kong, China",
          "India",
          "Indonesia",
          "Iran",
          "Iraq",
          "Israel",
          "Japan",
          "Jordan",
          "Korea, Dem. Rep.",
          "Korea, Rep.",
          "Kuwait",
          "Lebanon",
          "Malaysia",
          "Mongolia",
          "Myanmar",
          "Nepal",
          "Oman",
          "Pakistan",
          "Philippines",
          "Saudi Arabia",
          "Singapore",
          "Sri Lanka",
          "Syria",
          "Taiwan",
          "Thailand",
          "Vietnam",
          "West Bank and Gaza",
          "Yemen, Rep."
         ],
         "legendgroup": "Asia",
         "marker": {
          "color": "#636efa",
          "size": {
           "bdata": "dY+AAH/WAQDLb8sCTJ9HAGfoJyFMcCAAAEUsFqAD5ATAjAcB5ghTALK7GACRQicFqkYJANBGhwBzoj8BAHECACn3FQDa+GYAlzcMAESYMgFIHYwAub8HAADmdgIjY1YBLR89AFgyEQAGzXkA7d43ANp3ggC62UQBt36QAbm5DwD1vUsA",
           "dtype": "i4"
          },
          "sizemode": "area",
          "sizeref": 435928.2961983471,
          "symbol": "circle"
         },
         "mode": "markers",
         "name": "Asia",
         "orientation": "v",
         "showlegend": true,
         "type": "scatter",
         "x": {
          "bdata": "em8MAZBbiEBsW5TZikXDQOVkPRD0YYVAvQeeMYIHd0AEWrqCLQd5QJC/tKjX3KdA4amRp4YUgUBYsVMHdG2HQNzwu+mmtqdA6Po+HMQhsECneFxUC+2vQEFhUKbpIalAUoAomKErmEDP2JdsHAGRQF0XfnBeGpBAbHh6peV1+kDLvFXXzeKyQFdfXRWInJxA8L+V7IiUiEAAAAAAALB0QC63IADtDoFAKSSZ1euQnEARIFTzxmSFQMKjjSOG45NAElDhCI47uUDZeLDFRhaiQPfpeMwg7pBA7pOjAPGtmUDQmbSpytuSQAP2hxxhrodApefMLIjogkDiTX6LXq6XQCHPiZi9bYhA",
          "dtype": "f8"
         },
         "xaxis": "x",
         "y": {
          "bdata": "kxgEVg7NPEDUeOkmMXhJQMuhRbbzvUJATDeJQWC1Q0AAAAAAAABGQHsUrkfhek5AO7TIdr6vQkCWQ4ts57tCQKwcWmQ7b0ZAKVyPwvWoRkApXI/C9VhQQKRwPQrXg09ATmIQWDmURUC6SQwCKwdJQESLbOf7uUdAuB6F61HIS0AQWDm0yPZLQCUGgZVDO0hArBxaZDsfRUBGtvP91ChCQGq8dJMYFEJARIts5/vJQkAshxbZzrdFQMdLN4lB4EdAAAAAAADwQ0Cmm8QgsDJOQJZDi2zny0xAGy/dJAbxRkAAAAAAAEBNQAaBlUOLbElA2/l+arw0REAUrkfhepRFQKAaL90kRkBA",
          "dtype": "f8"
         },
         "yaxis": "y"
        },
        {
         "hovertemplate": "<b>%{hovertext}</b><br><br>continent=Europe<br>year=1952<br>gdpPercap=%{x}<br>lifeExp=%{y}<br>pop=%{marker.size}<extra></extra>",
         "hovertext": [
          "Albania",
          "Austria",
          "Belgium",
          "Bosnia and Herzegovina",
          "Bulgaria",
          "Croatia",
          "Czech Republic",
          "Denmark",
          "Finland",
          "France",
          "Germany",
          "Greece",
          "Hungary",
          "Iceland",
          "Ireland",
          "Italy",
          "Montenegro",
          "Netherlands",
          "Norway",
          "Poland",
          "Portugal",
          "Romania",
          "Serbia",
          "Slovak Republic",
          "Slovenia",
          "Spain",
          "Sweden",
          "Switzerland",
          "Turkey",
          "United Kingdom"
         ],
         "ids": [
          "Albania",
          "Austria",
          "Belgium",
          "Bosnia and Herzegovina",
          "Bulgaria",
          "Croatia",
          "Czech Republic",
          "Denmark",
          "Finland",
          "France",
          "Germany",
          "Greece",
          "Hungary",
          "Iceland",
          "Ireland",
          "Italy",
          "Montenegro",
          "Netherlands",
          "Norway",
          "Poland",
          "Portugal",
          "Romania",
          "Serbia",
          "Slovak Republic",
          "Slovenia",
          "Spain",
          "Sweden",
          "Switzerland",
          "Turkey",
          "United Kingdom"
         ],
         "legendgroup": "Europe",
         "marker": {
          "color": "#EF553B",
          "size": {
           "bdata": "iZITAJy1aQAlN4UAWJYqAJQBbwD1PDsAPz2LALAhQgCEaj4AE+KHAmAVHwQCAHYAAAWRAPpBAgDcCy0AUFPXAopQBgCkap4A8MYyAPediAHiGIIA8MD9AHOtaAD5SjYAbroWAO6iswHBtmwAmHhJAB1KUwEwgAED",
           "dtype": "i4"
          },
          "sizemode": "area",
          "sizeref": 435928.2961983471,
          "symbol": "circle"
         },
         "mode": "markers",
         "name": "Europe",
         "orientation": "v",
         "showlegend": true,
         "type": "scatter",
         "x": {
          "bdata": "gzC3ezkEmUBozvqUE/m3QHYxzXSNS8BALqOi+0NsjkDt0obDkhijQLNBJhl5XqhARIts5yPcukD5SbVPMe7CQE1J1uGEGLlAxeQNMM91u0DmEdxIHei7QBk6dlBhlatAhpM0f6yPtECnQdE8sGO8QCdok8NHWrRAgruzdmdDs0AD7+TTK6+kQPqXpDLJdsFACcTr+rW3w0AMrU7OqHqvQCSAm8Wj+KdAu/CD8zmRqEBtrMQ86/qrQKosCruo0rNA58WJrwp3sECYE7TJEfStQBdp4h3sp8BAEoPAyh3HzEAzFk1nZ8SeQLgdGhbBfcNA",
          "dtype": "f8"
         },
         "xaxis": "x",
         "y": {
          "bdata": "PQrXo3CdS0AzMzMzM7NQQAAAAAAAAFFAKVyPwvXoSkDNzMzMzMxNQHsUrkfhmk5ASOF6FK63UEBSuB6F67FRQDMzMzMzo1BACtejcD3aUEAAAAAAAOBQQNejcD0Kd1BAUrgehesBUECPwvUoXB9SQArXo3A9ulBAXI/C9Sh8UECiRbbz/ZRNQLgehetRCFJAexSuR+EqUkBI4XoUrqdOQClcj8L16E1AZmZmZmaGTkBzaJHtfP9MQNejcD0KF1BAFK5H4XpkUEBcj8L1KDxQQNejcD0K91FASOF6FK5nUUB7FK5H4cpFQOxRuB6FS1FA",
          "dtype": "f8"
         },
         "yaxis": "y"
        },
        {
         "hovertemplate": "<b>%{hovertext}</b><br><br>continent=Africa<br>year=1952<br>gdpPercap=%{x}<br>lifeExp=%{y}<br>pop=%{marker.size}<extra></extra>",
         "hovertext": [
          "Algeria",
          "Angola",
          "Benin",
          "Botswana",
          "Burkina Faso",
          "Burundi",
          "Cameroon",
          "Central African Republic",
          "Chad",
          "Comoros",
          "Congo, Dem. Rep.",
          "Congo, Rep.",
          "Cote d'Ivoire",
          "Djibouti",
          "Egypt",
          "Equatorial Guinea",
          "Eritrea",
          "Ethiopia",
          "Gabon",
          "Gambia",
          "Ghana",
          "Guinea",
          "Guinea-Bissau",
          "Kenya",
          "Lesotho",
          "Liberia",
          "Libya",
          "Madagascar",
          "Malawi",
          "Mali",
          "Mauritania",
          "Mauritius",
          "Morocco",
          "Mozambique",
          "Namibia",
          "Niger",
          "Nigeria",
          "Reunion",
          "Rwanda",
          "Sao Tome and Principe",
          "Senegal",
          "Sierra Leone",
          "Somalia",
          "South Africa",
          "Sudan",
          "Swaziland",
          "Tanzania",
          "Togo",
          "Tunisia",
          "Uganda",
          "Zambia",
          "Zimbabwe"
         ],
         "ids": [
          "Algeria",
          "Angola",
          "Benin",
          "Botswana",
          "Burkina Faso",
          "Burundi",
          "Cameroon",
          "Central African Republic",
          "Chad",
          "Comoros",
          "Congo, Dem. Rep.",
          "Congo, Rep.",
          "Cote d'Ivoire",
          "Djibouti",
          "Egypt",
          "Equatorial Guinea",
          "Eritrea",
          "Ethiopia",
          "Gabon",
          "Gambia",
          "Ghana",
          "Guinea",
          "Guinea-Bissau",
          "Kenya",
          "Lesotho",
          "Liberia",
          "Libya",
          "Madagascar",
          "Malawi",
          "Mali",
          "Mauritania",
          "Mauritius",
          "Morocco",
          "Mozambique",
          "Namibia",
          "Niger",
          "Nigeria",
          "Reunion",
          "Rwanda",
          "Sao Tome and Principe",
          "Senegal",
          "Sierra Leone",
          "Somalia",
          "South Africa",
          "Sudan",
          "Swaziland",
          "Tanzania",
          "Togo",
          "Tunisia",
          "Uganda",
          "Zambia",
          "Zimbabwe"
         ],
         "legendgroup": "Africa",
         "marker": {
          "color": "#00cc96",
          "size": {
           "bdata": "JZiNAJ+TQABLhhoAxL8GANs0RAAyUSUAq25MAK+1EwBe7igAUFkCACUm1wBlCw0A+2wtAK32AADNGVMBhE8DACj0FQANUD4BXmsGAKBWBADJKFUAOacoAC3cCAAuomIAy2wLAEwsDQBRjw8AIK1IAKqFLADYkDoAXJoPAMzhBwARqZcA7FxiAMdpBwAMkTMAeFv5AaTuAwAPriYAa+oAAAUMKgARtCAAEo8mAGeq2QBbxYEAw20EAG3/fgApmhIA96g3AB3hWACAxSgAywIvAA==",
           "dtype": "i4"
          },
          "sizemode": "area",
          "sizeref": 435928.2961983471,
          "symbol": "circle"
         },
         "mode": "markers",
         "name": "Africa",
         "orientation": "v",
         "showlegend": true,
         "type": "scatter",
         "x": {
          "bdata": "owbTMAQio0BD4bN1OIGrQDSAt0ACm5BA4OEs2+2ZikC1YPO7CvqAQNZReku+NHVAC5jAratSkkDFdYwrPr2QQBh6xOipapJAt0Htt/Y7kUA+StuuVmSIQEsGgCo+m6BAiudsAWGylUAZ4lgXD9ukQAmnBS9KK5ZA1pxyO0p6d0BWCJqFDI90QCchRylXonZAXf5D+nnFsEBmsJjHsFN+QH1gIjlkeoxAqSYc1STjf0Cughjomr1yQEY2V81TrIpArO+yFYqtckDksfp+lfyBQH4AUpsYp6JAflcE/wuMlkB5wyIrpBJ3QCLe30VkRXxAUJYQYu04h0A8Ftuk0r+eQMlxp3TQYJpAMz/tpmpIfUDJkjmWj++iQBnHSPYIz4dAuvjbniDVkECg4GJFxT2lQMT/wpcu1X5AXOffLqt8i0DpmPOMbamWQBtXbUhNfotAq8yU1v++kUD2a+unS3WyQHhEher2P5lASwM/qoHxkUBWTABZM2WGQIgBASF43opA2xfQC+fxlkB5kJ4iB/aGQK+ytimO7ZFAjn6PVSVueUA=",
          "dtype": "f8"
         },
         "xaxis": "x",
         "y": {
          "bdata": "YOXQItuJRUCkcD0K1wM+QAaBlUOLHENAVg4tsp3PR0CamZmZmfk/QIcW2c73g0NAbef7qfFCQ0AlBoGVQ7tBQLKd76fGC0NA7FG4HoVbRED8qfHSTZJDQJHtfD81DkVAkxgEVg49REAOLbKd72dBQPyp8dJN8kRABFYOLbI9QUASWDm0yPZBQESLbOf7CUFAqvHSTWKAQkAAAAAAAAA+QFCNl24Sk0VAy6FFtvPNQEAAAAAAAEBAQMP1KFyPIkVAjWzn+6kRRUA9CtejcD1DQAaBlUOLXEVAukkMAitXQkBU46WbxCBCQEjhehSu10BAL90kBoFFRECR7Xw/NX5JQDu0yHa+b0VA8KfGSzdJP0DNzMzMzNxEQEa28/3UuEJAtvP91HgpQkDpJjEIrFxKQAAAAAAAAERAPzVeukk8R0DdJAaBlaNCQNv5fmq8VD5Ad76fGi99QED91HjpJoFGQOF6FK5HUUNAarx0kxi0REDsUbgehZtEQD81XrpJTENAzczMzMxMRkB3vp8aL/1DQL6fGi/dBEVAfT81Xro5SEA=",
          "dtype": "f8"
         },
         "yaxis": "y"
        },
        {
         "hovertemplate": "<b>%{hovertext}</b><br><br>continent=Americas<br>year=1952<br>gdpPercap=%{x}<br>lifeExp=%{y}<br>pop=%{marker.size}<extra></extra>",
         "hovertext": [
          "Argentina",
          "Bolivia",
          "Brazil",
          "Canada",
          "Chile",
          "Colombia",
          "Costa Rica",
          "Cuba",
          "Dominican Republic",
          "Ecuador",
          "El Salvador",
          "Guatemala",
          "Haiti",
          "Honduras",
          "Jamaica",
          "Mexico",
          "Nicaragua",
          "Panama",
          "Paraguay",
          "Peru",
          "Puerto Rico",
          "Trinidad and Tobago",
          "United States",
          "Uruguay",
          "Venezuela"
         ],
         "ids": [
          "Argentina",
          "Bolivia",
          "Brazil",
          "Canada",
          "Chile",
          "Colombia",
          "Costa Rica",
          "Cuba",
          "Dominican Republic",
          "Ecuador",
          "El Salvador",
          "Guatemala",
          "Haiti",
          "Honduras",
          "Jamaica",
          "Mexico",
          "Nicaragua",
          "Panama",
          "Paraguay",
          "Peru",
          "Puerto Rico",
          "Trinidad and Tobago",
          "United States",
          "Uruguay",
          "Venezuela"
         ],
         "legendgroup": "Americas",
         "marker": {
          "color": "#ab63fa",
          "size": {
           "bdata": "3McQAfP+KwDAr18DMJzhAJNQYQAzdbwAbSIOAPWrWwDSAyYAUSY2APErHwCNAjAA0NkwAI0nFwCvwhUAPffLAd7JEQAwWA4ApL0XAGR2egA4+yEAQh0KAGgRZAmlYCIAUABTAA==",
           "dtype": "i4"
          },
          "sizemode": "area",
          "sizeref": 435928.2961983471,
          "symbol": "circle"
         },
         "mode": "markers",
         "name": "Americas",
         "orientation": "v",
         "showlegend": true,
         "type": "scatter",
         "x": {
          "bdata": "gjtQp1AXt0BMOPQWp+qkQKGhf4LjeaBAXoWUn5QzxkBe8dQj9ceuQM3n3O06wKBAhwZi2QSGpEC9b3ztidK1QAJnKVne1pVAOQzmrziEq0Drc7UVm9CnQAO+27x5+KJAgnLbvnfBnEDZImk32iWhQCNqos8PpaZAZktWRUAsq0DkamRXulCoQB1XI7vCYKNA+GwdHDyBnkAIOe//C12tQGKE8GjrE6hAvJUlOouep0AIJcy0PVPLQGe0VUnEVLZAngsjvcwJvkA=",
          "dtype": "f8"
         },
         "xaxis": "x",
         "y": {
          "bdata": "rkfhehQ+T0CiRbbz/TREQEw3iUFgdUlAAAAAAAAwUUCPwvUoXF9LQPyp8dJNUklA7nw/NV6aTEDazvdT47VNQBBYObTI9kZABFYOLbItSECoxks3iaFGQG3n+6nxAkVAJzEIrBzKQkDb+X5qvPREQKRwPQrXQ01AokW28/1kSUDUeOkmMShFQJzEILBymEtAUI2XbhJTT0D6fmq8dPNFQFK4HoXrEVBAzczMzMyMTUBcj8L1KBxRQAaBlUOLhFBAJQaBlUOLS0A=",
          "dtype": "f8"
         },
         "yaxis": "y"
        },
        {
         "hovertemplate": "<b>%{hovertext}</b><br><br>continent=Oceania<br>year=1952<br>gdpPercap=%{x}<br>lifeExp=%{y}<br>pop=%{marker.size}<extra></extra>",
         "hovertext": [
          "Australia",
          "New Zealand"
         ],
         "ids": [
          "Australia",
          "New Zealand"
         ],
         "legendgroup": "Oceania",
         "marker": {
          "color": "#FFA15A",
          "size": {
           "bdata": "DJ6EACpwHgA=",
           "dtype": "i4"
          },
          "sizemode": "area",
          "sizeref": 435928.2961983471,
          "symbol": "circle"
         },
         "mode": "markers",
         "name": "Oceania",
         "orientation": "v",
         "showlegend": true,
         "type": "scatter",
         "x": {
          "bdata": "GHjuPcybw0DPFDqvSZ7EQA==",
          "dtype": "f8"
         },
         "xaxis": "x",
         "y": {
          "bdata": "SOF6FK5HUUApXI/C9VhRQA==",
          "dtype": "f8"
         },
         "yaxis": "y"
        }
       ],
       "frames": [
        {
         "data": [
          {
           "hovertemplate": "<b>%{hovertext}</b><br><br>continent=Asia<br>year=1952<br>gdpPercap=%{x}<br>lifeExp=%{y}<br>pop=%{marker.size}<extra></extra>",
           "hovertext": [
            "Afghanistan",
            "Bahrain",
            "Bangladesh",
            "Cambodia",
            "China",
            "Hong Kong, China",
            "India",
            "Indonesia",
            "Iran",
            "Iraq",
            "Israel",
            "Japan",
            "Jordan",
            "Korea, Dem. Rep.",
            "Korea, Rep.",
            "Kuwait",
            "Lebanon",
            "Malaysia",
            "Mongolia",
            "Myanmar",
            "Nepal",
            "Oman",
            "Pakistan",
            "Philippines",
            "Saudi Arabia",
            "Singapore",
            "Sri Lanka",
            "Syria",
            "Taiwan",
            "Thailand",
            "Vietnam",
            "West Bank and Gaza",
            "Yemen, Rep."
           ],
           "ids": [
            "Afghanistan",
            "Bahrain",
            "Bangladesh",
            "Cambodia",
            "China",
            "Hong Kong, China",
            "India",
            "Indonesia",
            "Iran",
            "Iraq",
            "Israel",
            "Japan",
            "Jordan",
            "Korea, Dem. Rep.",
            "Korea, Rep.",
            "Kuwait",
            "Lebanon",
            "Malaysia",
            "Mongolia",
            "Myanmar",
            "Nepal",
            "Oman",
            "Pakistan",
            "Philippines",
            "Saudi Arabia",
            "Singapore",
            "Sri Lanka",
            "Syria",
            "Taiwan",
            "Thailand",
            "Vietnam",
            "West Bank and Gaza",
            "Yemen, Rep."
           ],
           "legendgroup": "Asia",
           "marker": {
            "color": "#636efa",
            "size": {
             "bdata": "dY+AAH/WAQDLb8sCTJ9HAGfoJyFMcCAAAEUsFqAD5ATAjAcB5ghTALK7GACRQicFqkYJANBGhwBzoj8BAHECACn3FQDa+GYAlzcMAESYMgFIHYwAub8HAADmdgIjY1YBLR89AFgyEQAGzXkA7d43ANp3ggC62UQBt36QAbm5DwD1vUsA",
             "dtype": "i4"
            },
            "sizemode": "area",
            "sizeref": 435928.2961983471,
            "symbol": "circle"
           },
           "mode": "markers",
           "name": "Asia",
           "orientation": "v",
           "showlegend": true,
           "type": "scatter",
           "x": {
            "bdata": "em8MAZBbiEBsW5TZikXDQOVkPRD0YYVAvQeeMYIHd0AEWrqCLQd5QJC/tKjX3KdA4amRp4YUgUBYsVMHdG2HQNzwu+mmtqdA6Po+HMQhsECneFxUC+2vQEFhUKbpIalAUoAomKErmEDP2JdsHAGRQF0XfnBeGpBAbHh6peV1+kDLvFXXzeKyQFdfXRWInJxA8L+V7IiUiEAAAAAAALB0QC63IADtDoFAKSSZ1euQnEARIFTzxmSFQMKjjSOG45NAElDhCI47uUDZeLDFRhaiQPfpeMwg7pBA7pOjAPGtmUDQmbSpytuSQAP2hxxhrodApefMLIjogkDiTX6LXq6XQCHPiZi9bYhA",
            "dtype": "f8"
           },
           "xaxis": "x",
           "y": {
            "bdata": "kxgEVg7NPEDUeOkmMXhJQMuhRbbzvUJATDeJQWC1Q0AAAAAAAABGQHsUrkfhek5AO7TIdr6vQkCWQ4ts57tCQKwcWmQ7b0ZAKVyPwvWoRkApXI/C9VhQQKRwPQrXg09ATmIQWDmURUC6SQwCKwdJQESLbOf7uUdAuB6F61HIS0AQWDm0yPZLQCUGgZVDO0hArBxaZDsfRUBGtvP91ChCQGq8dJMYFEJARIts5/vJQkAshxbZzrdFQMdLN4lB4EdAAAAAAADwQ0Cmm8QgsDJOQJZDi2zny0xAGy/dJAbxRkAAAAAAAEBNQAaBlUOLbElA2/l+arw0REAUrkfhepRFQKAaL90kRkBA",
            "dtype": "f8"
           },
           "yaxis": "y"
          },
          {
           "hovertemplate": "<b>%{hovertext}</b><br><br>continent=Europe<br>year=1952<br>gdpPercap=%{x}<br>lifeExp=%{y}<br>pop=%{marker.size}<extra></extra>",
           "hovertext": [
            "Albania",
            "Austria",
            "Belgium",
            "Bosnia and Herzegovina",
            "Bulgaria",
            "Croatia",
            "Czech Republic",
            "Denmark",
            "Finland",
            "France",
            "Germany",
            "Greece",
            "Hungary",
            "Iceland",
            "Ireland",
            "Italy",
            "Montenegro",
            "Netherlands",
            "Norway",
            "Poland",
            "Portugal",
            "Romania",
            "Serbia",
            "Slovak Republic",
            "Slovenia",
            "Spain",
            "Sweden",
            "Switzerland",
            "Turkey",
            "United Kingdom"
           ],
           "ids": [
            "Albania",
            "Austria",
            "Belgium",
            "Bosnia and Herzegovina",
            "Bulgaria",
            "Croatia",
            "Czech Republic",
            "Denmark",
            "Finland",
            "France",
            "Germany",
            "Greece",
            "Hungary",
            "Iceland",
            "Ireland",
            "Italy",
            "Montenegro",
            "Netherlands",
            "Norway",
            "Poland",
            "Portugal",
            "Romania",
            "Serbia",
            "Slovak Republic",
            "Slovenia",
            "Spain",
            "Sweden",
            "Switzerland",
            "Turkey",
            "United Kingdom"
           ],
           "legendgroup": "Europe",
           "marker": {
            "color": "#EF553B",
            "size": {
             "bdata": "iZITAJy1aQAlN4UAWJYqAJQBbwD1PDsAPz2LALAhQgCEaj4AE+KHAmAVHwQCAHYAAAWRAPpBAgDcCy0AUFPXAopQBgCkap4A8MYyAPediAHiGIIA8MD9AHOtaAD5SjYAbroWAO6iswHBtmwAmHhJAB1KUwEwgAED",
             "dtype": "i4"
            },
            "sizemode": "area",
            "sizeref": 435928.2961983471,
            "symbol": "circle"
           },
           "mode": "markers",
           "name": "Europe",
           "orientation": "v",
           "showlegend": true,
           "type": "scatter",
           "x": {
            "bdata": "gzC3ezkEmUBozvqUE/m3QHYxzXSNS8BALqOi+0NsjkDt0obDkhijQLNBJhl5XqhARIts5yPcukD5SbVPMe7CQE1J1uGEGLlAxeQNMM91u0DmEdxIHei7QBk6dlBhlatAhpM0f6yPtECnQdE8sGO8QCdok8NHWrRAgruzdmdDs0AD7+TTK6+kQPqXpDLJdsFACcTr+rW3w0AMrU7OqHqvQCSAm8Wj+KdAu/CD8zmRqEBtrMQ86/qrQKosCruo0rNA58WJrwp3sECYE7TJEfStQBdp4h3sp8BAEoPAyh3HzEAzFk1nZ8SeQLgdGhbBfcNA",
            "dtype": "f8"
           },
           "xaxis": "x",
           "y": {
            "bdata": "PQrXo3CdS0AzMzMzM7NQQAAAAAAAAFFAKVyPwvXoSkDNzMzMzMxNQHsUrkfhmk5ASOF6FK63UEBSuB6F67FRQDMzMzMzo1BACtejcD3aUEAAAAAAAOBQQNejcD0Kd1BAUrgehesBUECPwvUoXB9SQArXo3A9ulBAXI/C9Sh8UECiRbbz/ZRNQLgehetRCFJAexSuR+EqUkBI4XoUrqdOQClcj8L16E1AZmZmZmaGTkBzaJHtfP9MQNejcD0KF1BAFK5H4XpkUEBcj8L1KDxQQNejcD0K91FASOF6FK5nUUB7FK5H4cpFQOxRuB6FS1FA",
            "dtype": "f8"
           },
           "yaxis": "y"
          },
          {
           "hovertemplate": "<b>%{hovertext}</b><br><br>continent=Africa<br>year=1952<br>gdpPercap=%{x}<br>lifeExp=%{y}<br>pop=%{marker.size}<extra></extra>",
           "hovertext": [
            "Algeria",
            "Angola",
            "Benin",
            "Botswana",
            "Burkina Faso",
            "Burundi",
            "Cameroon",
            "Central African Republic",
            "Chad",
            "Comoros",
            "Congo, Dem. Rep.",
            "Congo, Rep.",
            "Cote d'Ivoire",
            "Djibouti",
            "Egypt",
            "Equatorial Guinea",
            "Eritrea",
            "Ethiopia",
            "Gabon",
            "Gambia",
            "Ghana",
            "Guinea",
            "Guinea-Bissau",
            "Kenya",
            "Lesotho",
            "Liberia",
            "Libya",
            "Madagascar",
            "Malawi",
            "Mali",
            "Mauritania",
            "Mauritius",
            "Morocco",
            "Mozambique",
            "Namibia",
            "Niger",
            "Nigeria",
            "Reunion",
            "Rwanda",
            "Sao Tome and Principe",
            "Senegal",
            "Sierra Leone",
            "Somalia",
            "South Africa",
            "Sudan",
            "Swaziland",
            "Tanzania",
            "Togo",
            "Tunisia",
            "Uganda",
            "Zambia",
            "Zimbabwe"
           ],
           "ids": [
            "Algeria",
            "Angola",
            "Benin",
            "Botswana",
            "Burkina Faso",
            "Burundi",
            "Cameroon",
            "Central African Republic",
            "Chad",
            "Comoros",
            "Congo, Dem. Rep.",
            "Congo, Rep.",
            "Cote d'Ivoire",
            "Djibouti",
            "Egypt",
            "Equatorial Guinea",
            "Eritrea",
            "Ethiopia",
            "Gabon",
            "Gambia",
            "Ghana",
            "Guinea",
            "Guinea-Bissau",
            "Kenya",
            "Lesotho",
            "Liberia",
            "Libya",
            "Madagascar",
            "Malawi",
            "Mali",
            "Mauritania",
            "Mauritius",
            "Morocco",
            "Mozambique",
            "Namibia",
            "Niger",
            "Nigeria",
            "Reunion",
            "Rwanda",
            "Sao Tome and Principe",
            "Senegal",
            "Sierra Leone",
            "Somalia",
            "South Africa",
            "Sudan",
            "Swaziland",
            "Tanzania",
            "Togo",
            "Tunisia",
            "Uganda",
            "Zambia",
            "Zimbabwe"
           ],
           "legendgroup": "Africa",
           "marker": {
            "color": "#00cc96",
            "size": {
             "bdata": "JZiNAJ+TQABLhhoAxL8GANs0RAAyUSUAq25MAK+1EwBe7igAUFkCACUm1wBlCw0A+2wtAK32AADNGVMBhE8DACj0FQANUD4BXmsGAKBWBADJKFUAOacoAC3cCAAuomIAy2wLAEwsDQBRjw8AIK1IAKqFLADYkDoAXJoPAMzhBwARqZcA7FxiAMdpBwAMkTMAeFv5AaTuAwAPriYAa+oAAAUMKgARtCAAEo8mAGeq2QBbxYEAw20EAG3/fgApmhIA96g3AB3hWACAxSgAywIvAA==",
             "dtype": "i4"
            },
            "sizemode": "area",
            "sizeref": 435928.2961983471,
            "symbol": "circle"
           },
           "mode": "markers",
           "name": "Africa",
           "orientation": "v",
           "showlegend": true,
           "type": "scatter",
           "x": {
            "bdata": "owbTMAQio0BD4bN1OIGrQDSAt0ACm5BA4OEs2+2ZikC1YPO7CvqAQNZReku+NHVAC5jAratSkkDFdYwrPr2QQBh6xOipapJAt0Htt/Y7kUA+StuuVmSIQEsGgCo+m6BAiudsAWGylUAZ4lgXD9ukQAmnBS9KK5ZA1pxyO0p6d0BWCJqFDI90QCchRylXonZAXf5D+nnFsEBmsJjHsFN+QH1gIjlkeoxAqSYc1STjf0Cughjomr1yQEY2V81TrIpArO+yFYqtckDksfp+lfyBQH4AUpsYp6JAflcE/wuMlkB5wyIrpBJ3QCLe30VkRXxAUJYQYu04h0A8Ftuk0r+eQMlxp3TQYJpAMz/tpmpIfUDJkjmWj++iQBnHSPYIz4dAuvjbniDVkECg4GJFxT2lQMT/wpcu1X5AXOffLqt8i0DpmPOMbamWQBtXbUhNfotAq8yU1v++kUD2a+unS3WyQHhEher2P5lASwM/qoHxkUBWTABZM2WGQIgBASF43opA2xfQC+fxlkB5kJ4iB/aGQK+ytimO7ZFAjn6PVSVueUA=",
            "dtype": "f8"
           },
           "xaxis": "x",
           "y": {
            "bdata": "YOXQItuJRUCkcD0K1wM+QAaBlUOLHENAVg4tsp3PR0CamZmZmfk/QIcW2c73g0NAbef7qfFCQ0AlBoGVQ7tBQLKd76fGC0NA7FG4HoVbRED8qfHSTZJDQJHtfD81DkVAkxgEVg49REAOLbKd72dBQPyp8dJN8kRABFYOLbI9QUASWDm0yPZBQESLbOf7CUFAqvHSTWKAQkAAAAAAAAA+QFCNl24Sk0VAy6FFtvPNQEAAAAAAAEBAQMP1KFyPIkVAjWzn+6kRRUA9CtejcD1DQAaBlUOLXEVAukkMAitXQkBU46WbxCBCQEjhehSu10BAL90kBoFFRECR7Xw/NX5JQDu0yHa+b0VA8KfGSzdJP0DNzMzMzNxEQEa28/3UuEJAtvP91HgpQkDpJjEIrFxKQAAAAAAAAERAPzVeukk8R0DdJAaBlaNCQNv5fmq8VD5Ad76fGi99QED91HjpJoFGQOF6FK5HUUNAarx0kxi0REDsUbgehZtEQD81XrpJTENAzczMzMxMRkB3vp8aL/1DQL6fGi/dBEVAfT81Xro5SEA=",
            "dtype": "f8"
           },
           "yaxis": "y"
          },
          {
           "hovertemplate": "<b>%{hovertext}</b><br><br>continent=Americas<br>year=1952<br>gdpPercap=%{x}<br>lifeExp=%{y}<br>pop=%{marker.size}<extra></extra>",
           "hovertext": [
            "Argentina",
            "Bolivia",
            "Brazil",
            "Canada",
            "Chile",
            "Colombia",
            "Costa Rica",
            "Cuba",
            "Dominican Republic",
            "Ecuador",
            "El Salvador",
            "Guatemala",
            "Haiti",
            "Honduras",
            "Jamaica",
            "Mexico",
            "Nicaragua",
            "Panama",
            "Paraguay",
            "Peru",
            "Puerto Rico",
            "Trinidad and Tobago",
            "United States",
            "Uruguay",
            "Venezuela"
           ],
           "ids": [
            "Argentina",
            "Bolivia",
            "Brazil",
            "Canada",
            "Chile",
            "Colombia",
            "Costa Rica",
            "Cuba",
            "Dominican Republic",
            "Ecuador",
            "El Salvador",
            "Guatemala",
            "Haiti",
            "Honduras",
            "Jamaica",
            "Mexico",
            "Nicaragua",
            "Panama",
            "Paraguay",
            "Peru",
            "Puerto Rico",
            "Trinidad and Tobago",
            "United States",
            "Uruguay",
            "Venezuela"
           ],
           "legendgroup": "Americas",
           "marker": {
            "color": "#ab63fa",
            "size": {
             "bdata": "3McQAfP+KwDAr18DMJzhAJNQYQAzdbwAbSIOAPWrWwDSAyYAUSY2APErHwCNAjAA0NkwAI0nFwCvwhUAPffLAd7JEQAwWA4ApL0XAGR2egA4+yEAQh0KAGgRZAmlYCIAUABTAA==",
             "dtype": "i4"
            },
            "sizemode": "area",
            "sizeref": 435928.2961983471,
            "symbol": "circle"
           },
           "mode": "markers",
           "name": "Americas",
           "orientation": "v",
           "showlegend": true,
           "type": "scatter",
           "x": {
            "bdata": "gjtQp1AXt0BMOPQWp+qkQKGhf4LjeaBAXoWUn5QzxkBe8dQj9ceuQM3n3O06wKBAhwZi2QSGpEC9b3ztidK1QAJnKVne1pVAOQzmrziEq0Drc7UVm9CnQAO+27x5+KJAgnLbvnfBnEDZImk32iWhQCNqos8PpaZAZktWRUAsq0DkamRXulCoQB1XI7vCYKNA+GwdHDyBnkAIOe//C12tQGKE8GjrE6hAvJUlOouep0AIJcy0PVPLQGe0VUnEVLZAngsjvcwJvkA=",
            "dtype": "f8"
           },
           "xaxis": "x",
           "y": {
            "bdata": "rkfhehQ+T0CiRbbz/TREQEw3iUFgdUlAAAAAAAAwUUCPwvUoXF9LQPyp8dJNUklA7nw/NV6aTEDazvdT47VNQBBYObTI9kZABFYOLbItSECoxks3iaFGQG3n+6nxAkVAJzEIrBzKQkDb+X5qvPREQKRwPQrXQ01AokW28/1kSUDUeOkmMShFQJzEILBymEtAUI2XbhJTT0D6fmq8dPNFQFK4HoXrEVBAzczMzMyMTUBcj8L1KBxRQAaBlUOLhFBAJQaBlUOLS0A=",
            "dtype": "f8"
           },
           "yaxis": "y"
          },
          {
           "hovertemplate": "<b>%{hovertext}</b><br><br>continent=Oceania<br>year=1952<br>gdpPercap=%{x}<br>lifeExp=%{y}<br>pop=%{marker.size}<extra></extra>",
           "hovertext": [
            "Australia",
            "New Zealand"
           ],
           "ids": [
            "Australia",
            "New Zealand"
           ],
           "legendgroup": "Oceania",
           "marker": {
            "color": "#FFA15A",
            "size": {
             "bdata": "DJ6EACpwHgA=",
             "dtype": "i4"
            },
            "sizemode": "area",
            "sizeref": 435928.2961983471,
            "symbol": "circle"
           },
           "mode": "markers",
           "name": "Oceania",
           "orientation": "v",
           "showlegend": true,
           "type": "scatter",
           "x": {
            "bdata": "GHjuPcybw0DPFDqvSZ7EQA==",
            "dtype": "f8"
           },
           "xaxis": "x",
           "y": {
            "bdata": "SOF6FK5HUUApXI/C9VhRQA==",
            "dtype": "f8"
           },
           "yaxis": "y"
          }
         ],
         "name": "1952"
        },
        {
         "data": [
          {
           "hovertemplate": "<b>%{hovertext}</b><br><br>continent=Asia<br>year=1957<br>gdpPercap=%{x}<br>lifeExp=%{y}<br>pop=%{marker.size}<extra></extra>",
           "hovertext": [
            "Afghanistan",
            "Bahrain",
            "Bangladesh",
            "Cambodia",
            "China",
            "Hong Kong, China",
            "India",
            "Indonesia",
            "Iran",
            "Iraq",
            "Israel",
            "Japan",
            "Jordan",
            "Korea, Dem. Rep.",
            "Korea, Rep.",
            "Kuwait",
            "Lebanon",
            "Malaysia",
            "Mongolia",
            "Myanmar",
            "Nepal",
            "Oman",
            "Pakistan",
            "Philippines",
            "Saudi Arabia",
            "Singapore",
            "Sri Lanka",
            "Syria",
            "Taiwan",
            "Thailand",
            "Vietnam",
            "West Bank and Gaza",
            "Yemen, Rep."
           ],
           "ids": [
            "Afghanistan",
            "Bahrain",
            "Bangladesh",
            "Cambodia",
            "China",
            "Hong Kong, China",
            "India",
            "Indonesia",
            "Iran",
            "Iraq",
            "Israel",
            "Japan",
            "Jordan",
            "Korea, Dem. Rep.",
            "Korea, Rep.",
            "Kuwait",
            "Lebanon",
            "Malaysia",
            "Mongolia",
            "Myanmar",
            "Nepal",
            "Oman",
            "Pakistan",
            "Philippines",
            "Saudi Arabia",
            "Singapore",
            "Sri Lanka",
            "Syria",
            "Taiwan",
            "Thailand",
            "Vietnam",
            "West Bank and Gaza",
            "Yemen, Rep."
           ],
           "legendgroup": "Asia",
           "marker": {
            "color": "#636efa",
            "size": {
             "bdata": "ZgGNAJ8dAgBcxg8DKDdRAAAT/iWswCkAQNhgGOAuXwWAAC4Bw1hfAFGrHQABJHUFP2QLADWbjwBgBlkBbj8DADQjGQBjF3YA1nUNAASaSwGivZMAOZMIAIhHyAKC1I0BQnBDACkQFgBiSosAlFI/APcXmwD9G34Bj3u6AWdVEADq5FMA",
             "dtype": "i4"
            },
            "sizemode": "area",
            "sizeref": 435928.2961983471,
            "symbol": "circle"
           },
           "mode": "markers",
           "name": "Asia",
           "orientation": "v",
           "showlegend": true,
           "type": "scatter",
           "x": {
            "bdata": "KdQuAdOmiUBlqmBU5rnGQKswbIMZrYRA8QOhBp0ge0D7VLpg5f+BQBo1XyUnWqxA3UPC935wgkBi8B/BM9eKQBaGyOmDtKlAMLlRZFVVuECKkpBIRwm1QH2W58Gx3bBAaHVyhlJ4nUD5FADjiYyYQN3PKchfPpdAGsBbIDK3+0AesoF0ycm3QGMEjZlESJxAamyvBU2FjEAAAAAAAOB1QFsTHKh9r4JAmMPuO36FoUAXclsRq1iHQEp/L4XHL5hA1WcHXJfdv0DRsBh1NTamQLZHb7gvwpBAHjLlQ3iKoEB9eQH2cY+XQM6RpouezIhAty3bmEgihUBDqiheRYycQHoKb8WkJolA",
            "dtype": "f8"
           },
           "xaxis": "x",
           "y": {
            "bdata": "okW28/1UPkDRItv5fupKQAaBlUOLrENAAyuHFtmuRED1Zz9SREZJQAAAAAAAMFBAHVpkO98fREAv3SQGgfVDQLpJDAIrl0dADi2yne83SED2KFyPwvVQQAAAAAAAYFBAEoPAyqHVRkDufD81XgpLQLpJDAIrV0pATmIQWDkETUA730+Nl75NQJMYBFYODUpAO7TIdr6fRkCkcD0K1/NEQCuHFtnO10JACtejcD0KRECe76fGS8dGQJhuEoPAqklAyXa+nxpvRUD0/dR46ZZPQO58PzVeuk5AMQisHFokSEAzMzMzMzNPQHE9Ctej0EpAqMZLN4lxRUDazvdT49VGQFyPwvUo/EBA",
            "dtype": "f8"
           },
           "yaxis": "y"
          },
          {
           "hovertemplate": "<b>%{hovertext}</b><br><br>continent=Europe<br>year=1957<br>gdpPercap=%{x}<br>lifeExp=%{y}<br>pop=%{marker.size}<extra></extra>",
           "hovertext": [
            "Albania",
            "Austria",
            "Belgium",
            "Bosnia and Herzegovina",
            "Bulgaria",
            "Croatia",
            "Czech Republic",
            "Denmark",
            "Finland",
            "France",
            "Germany",
            "Greece",
            "Hungary",
            "Iceland",
            "Ireland",
            "Italy",
            "Montenegro",
            "Netherlands",
            "Norway",
            "Poland",
            "Portugal",
            "Romania",
            "Serbia",
            "Slovak Republic",
            "Slovenia",
            "Spain",
            "Sweden",
            "Switzerland",
            "Turkey",
            "United Kingdom"
           ],
           "ids": [
            "Albania",
            "Austria",
            "Belgium",
            "Bosnia and Herzegovina",
            "Bulgaria",
            "Croatia",
            "Czech Republic",
            "Denmark",
            "Finland",
            "France",
            "Germany",
            "Greece",
            "Hungary",
            "Iceland",
            "Ireland",
            "Italy",
            "Montenegro",
            "Netherlands",
            "Norway",
            "Poland",
            "Portugal",
            "Romania",
            "Serbia",
            "Slovak Republic",
            "Slovenia",
            "Spain",
            "Sweden",
            "Switzerland",
            "Turkey",
            "United Kingdom"
           ],
           "legendgroup": "Europe",
           "marker": {
            "color": "#EF553B",
            "size": {
             "bdata": "mYcWAGRKagC3KYkAoO8uALa/dADK5jwAHiuRAJd6RACg+kEATyGkAj2qOwTaiXsAmCGWAPaEAgAM6ysAMHXuAs3BBgDPP6gAYkg1AFLWrgHyi4YAzw0QAd/ybgC1qDoAjmQXAM5YxwHaXHAAcDdOABu1hwFwwhAD",
             "dtype": "i4"
            },
            "sizemode": "area",
            "sizeref": 435928.2961983471,
            "symbol": "circle"
           },
           "mode": "markers",
           "name": "Europe",
           "orientation": "v",
           "showlegend": true,
           "type": "scatter",
           "x": {
            "bdata": "VvDbECNZnkADPj+MTEXBQGXIsfV6+cJA9KeN6vQnlUAXg4dpV4GnQDNwQEs78rBAQUmBBSwgwEBPr5Rl1K3FQDelvFZqeb1AwArw3WrrwECfzarP6eXDQG6HhsVMNLNA7G0zFS6Yt0DptkQuAA7CQEZda+8T37VAlwLS/qdouEBEigEShcSsQN5UpMIYBsZA2iCTjPzCxkBEatrFQH6yQG+df7skfa1AU5Yhjr3OrkCA8KFEF3WzQIFDqFJDzbdAIHwo0UbmtkD8471qzdSxQECmtWnwW8NAeH+8V1990UCPN/ktglWhQCnLEMeWCcZA",
            "dtype": "f8"
           },
           "xaxis": "x",
           "y": {
            "bdata": "pHA9CtejTUAfhetRuN5QQI/C9ShcT1FAmpmZmZk5TUDXo3A9CqdQQOF6FK5HMVBAUrgehetBUUCkcD0K1/NRQI/C9Shc31BA7FG4HoU7UUBmZmZmZkZRQNejcD0K91BACtejcD2aUECuR+F6FF5SQJqZmZmZOVFApHA9CtfzUEDTTWIQWLlOQI/C9ShcP1JAXI/C9ShcUkDhehSuR3FQQOF6FK5HwU5AZmZmZmYGUEBI4XoUrtdOQM3MzMzM3FBAZmZmZmb2UEAK16NwPapQQI/C9ShcH1JApHA9CtejUUAmMQisHApIQHsUrkfhmlFA",
            "dtype": "f8"
           },
           "yaxis": "y"
          },
          {
           "hovertemplate": "<b>%{hovertext}</b><br><br>continent=Africa<br>year=1957<br>gdpPercap=%{x}<br>lifeExp=%{y}<br>pop=%{marker.size}<extra></extra>",
           "hovertext": [
            "Algeria",
            "Angola",
            "Benin",
            "Botswana",
            "Burkina Faso",
            "Burundi",
            "Cameroon",
            "Central African Republic",
            "Chad",
            "Comoros",
            "Congo, Dem. Rep.",
            "Congo, Rep.",
            "Cote d'Ivoire",
            "Djibouti",
            "Egypt",
            "Equatorial Guinea",
            "Eritrea",
            "Ethiopia",
            "Gabon",
            "Gambia",
            "Ghana",
            "Guinea",
            "Guinea-Bissau",
            "Kenya",
            "Lesotho",
            "Liberia",
            "Libya",
            "Madagascar",
            "Malawi",
            "Mali",
            "Mauritania",
            "Mauritius",
            "Morocco",
            "Mozambique",
            "Namibia",
            "Niger",
            "Nigeria",
            "Reunion",
            "Rwanda",
            "Sao Tome and Principe",
            "Senegal",
            "Sierra Leone",
            "Somalia",
            "South Africa",
            "Sudan",
            "Swaziland",
            "Tanzania",
            "Togo",
            "Tunisia",
            "Uganda",
            "Zambia",
            "Zimbabwe"
           ],
           "ids": [
            "Algeria",
            "Angola",
            "Benin",
            "Botswana",
            "Burkina Faso",
            "Burundi",
            "Cameroon",
            "Central African Republic",
            "Chad",
            "Comoros",
            "Congo, Dem. Rep.",
            "Congo, Rep.",
            "Cote d'Ivoire",
            "Djibouti",
            "Egypt",
            "Equatorial Guinea",
            "Eritrea",
            "Ethiopia",
            "Gabon",
            "Gambia",
            "Ghana",
            "Guinea",
            "Guinea-Bissau",
            "Kenya",
            "Lesotho",
            "Liberia",
            "Libya",
            "Madagascar",
            "Malawi",
            "Mali",
            "Mauritania",
            "Mauritius",
            "Morocco",
            "Mozambique",
            "Namibia",
            "Niger",
            "Nigeria",
            "Reunion",
            "Rwanda",
            "Sao Tome and Principe",
            "Senegal",
            "Sierra Leone",
            "Somalia",
            "South Africa",
            "Sudan",
            "Swaziland",
            "Tanzania",
            "Togo",
            "Tunisia",
            "Uganda",
            "Zambia",
            "Zimbabwe"
           ],
           "legendgroup": "Africa",
           "marker": {
            "color": "#00cc96",
            "size": {
             "bdata": "iLicANGZRQA1YB0ADz4HAMjrRwD+sygAM8lRAJw+FQAHLCwAsJsCAEyz7QCqWQ4AoFoyAKsYAQBNnn0B2o0DANOJFwB+I1wB2KIGAE7uBAD4hWEANuUrAAcsCQA7wHEAGmkMAE7kDgCqVRIA7xBPAPYmMQDcuUAAdG4QABhOCQAODK4AU2RrAPBcCACYVjgAXDg3Aty1BADCDysAje8AANObLgB+ByMA/2wqAP1z9gAw05QAVfwEABo9kACFthQAAUk8AC3cZQBABS4AhKM3AA==",
             "dtype": "i4"
            },
            "sizemode": "area",
            "sizeref": 435928.2961983471,
            "symbol": "circle"
           },
           "mode": "markers",
           "name": "Africa",
           "orientation": "v",
           "showlegend": true,
           "type": "scatter",
           "x": {
            "bdata": "SmJJufOLp0AR5KCE4eetQBsOSwPP/I1AbvVBO9yxjEC7n2S8d0mDQHN+ebcIuXdA4j/dQDGElEBj7ISXYJuSQJl+iXj7cZRAi4f3HJjskkA6bGzA4U6MQL1TAfccFqJArfpcbZVzl0Cvvroq8GGmQMcrED2py5ZAHUk444qhekDwYqsVl4J1QPPj1HN3rndAX7adtjJws0C5WoLnaUeAQPgpjgM/TpBA2bW93SICgkCH3tG1pfx6QLhKZquBg41Ako32LvT/dECNZyuKwmeDQEuwOJyR8KpADi2ync/UmECgnR266gV6QHUXzW8dpn5AzHOOS/ZwikB6w33kJsifQEvpmV4CqJlARXtQq2P5fkBssdtn5XqkQCphpu0vHIpAScfVyF4ykUDKxRhY56KlQCRQDrBQ4oBAs7owLeXlikBe2JqtnH6YQMd/gSDgY49ABfhu85aok0CfrBiuGm+1QFM57SlZqZtAqFZfXdVyk0D+53rsSNSFQF+KYT1E74xAd2UXDO7MlUBu9CDz9zKIQLNfd7rTf5RAAveXOB02gEA=",
            "dtype": "f8"
           },
           "xaxis": "x",
           "y": {
            "bdata": "SOF6FK7XRkA5tMh2vv8/QOf7qfHSLURAyXa+nxrPSECHFtnO93NBQE5iEFg5RERAEFg5tMg2REAIrBxaZLtCQFTjpZvE8ENAexSuR+E6RUD6fmq8dFNEQBBYObTIhkZAeekmMQg8RUBEi2zn+6lCQEa28/3UOEZA6fup8dL9QUC8dJMYBAZDQEw3iUFgVUJAHVpkO99/Q0C4HoXrUQhAQMHKoUW2Y0ZAgZVDi2xHQUA830+Nl75AQCyHFtnOV0ZAvHSTGASGRkCR7Xw/Nb5DQKJFtvP9pEZAH4XrUbhuQ0DRItv5fppCQJzvp8ZLp0FAJQaBlUMrRUAIrBxaZAtNQKAaL90ktkZAwcqhRbbjQECxcmiR7ZxGQAaBlUOLTENALbKd76fmQkDsUbgehYtLQAAAAAAAwERAKVyPwvV4SEAnMQisHKpDQFK4HoXrkT9AkxgEVg59QUCuR+F6FP5HQB1aZDvfz0NAg8DKoUW2RUDpJjEIrHxFQLTIdr6fmkRAzczMzMyMR0AOAiuHFklFQGDl0CLbCUZAeekmMQg8SUA=",
            "dtype": "f8"
           },
           "yaxis": "y"
          },
          {
           "hovertemplate": "<b>%{hovertext}</b><br><br>continent=Americas<br>year=1957<br>gdpPercap=%{x}<br>lifeExp=%{y}<br>pop=%{marker.size}<extra></extra>",
           "hovertext": [
            "Argentina",
            "Bolivia",
            "Brazil",
            "Canada",
            "Chile",
            "Colombia",
            "Costa Rica",
            "Cuba",
            "Dominican Republic",
            "Ecuador",
            "El Salvador",
            "Guatemala",
            "Haiti",
            "Honduras",
            "Jamaica",
            "Mexico",
            "Nicaragua",
            "Panama",
            "Paraguay",
            "Peru",
            "Puerto Rico",
            "Trinidad and Tobago",
            "United States",
            "Uruguay",
            "Venezuela"
           ],
           "ids": [
            "Argentina",
            "Bolivia",
            "Brazil",
            "Canada",
            "Chile",
            "Colombia",
            "Costa Rica",
            "Cuba",
            "Dominican Republic",
            "Ecuador",
            "El Salvador",
            "Guatemala",
            "Haiti",
            "Honduras",
            "Jamaica",
            "Mexico",
            "Nicaragua",
            "Panama",
            "Paraguay",
            "Peru",
            "Puerto Rico",
            "Trinidad and Tobago",
            "United States",
            "Uruguay",
            "Venezuela"
           ],
           "legendgroup": "Americas",
           "marker": {
            "color": "#ab63fa",
            "size": {
             "bdata": "qjsrAdoBMQBDO+gD6o0DAeqMawDpCd0A7PgQAHBUZQCymiwAEe09AF3yIwAsjjcA9YU1AJYDGwBybBcAfEsWAuy7FABSOhAAlgUbAPSOiwAgfCIA5KsLAIBEQAp/ACUATEZmAA==",
             "dtype": "i4"
            },
            "sizemode": "area",
            "sizeref": 435928.2961983471,
            "symbol": "circle"
           },
           "mode": "markers",
           "name": "Americas",
           "orientation": "v",
           "showlegend": true,
           "type": "scatter",
           "x": {
            "bdata": "c6q1MNvIukDKGB9mX5+gQGQD6WK7bqNAnuqQm/lkyEB4R8Zqn9uwQI/iHHWcJ6JAdvnWhwVcp0DFmsqiLMy3QM6luKqcIZhAp86j4heJrUBbzTrjC7uqQIMY6NpPcqRA1GLwMI37mkCygXSx+VihQNxnlZmGlLJApyGq8IsjsEC9UwH31AKrQGhcOBCaI6dA++k/a574n0DyyvW2QZWwQP0tAfhPhq5AP8bctWQEsEBV2XdFkP/MQNLfS+HFBrhAXrwftzslw0A=",
            "dtype": "f8"
           },
           "xaxis": "x",
           "y": {
            "bdata": "qMZLN4kZUEBSuB6F6/FEQBSuR+F6pEpAPQrXo3B9UUC28/3UeAlMQMl2vp8aj0tAF9nO91MDTkCamZmZmSlPQESLbOf76UhAIbByaJGtSUApXI/C9UhIQBkEVg4tEkZADAIrhxZZRECF61G4HlVGQK5H4XoUTk9AuB6F61GYS0Ce76fGS7dGQH0/NV66mU1ADgIrhxaZT0CNbOf7qSFHQMP1KFyPIlFAZmZmZmbmTkCPwvUoXF9RQIlBYOXQwlBAarx0kxj0TEA=",
            "dtype": "f8"
           },
           "yaxis": "y"
          },
          {
           "hovertemplate": "<b>%{hovertext}</b><br><br>continent=Oceania<br>year=1957<br>gdpPercap=%{x}<br>lifeExp=%{y}<br>pop=%{marker.size}<extra></extra>",
           "hovertext": [
            "Australia",
            "New Zealand"
           ],
           "ids": [
            "Australia",
            "New Zealand"
           ],
           "legendgroup": "Oceania",
           "marker": {
            "color": "#FFA15A",
            "size": {
             "bdata": "uTOUAJ8EIgA=",
             "dtype": "i4"
            },
            "sizemode": "area",
            "sizeref": 435928.2961983471,
            "symbol": "circle"
           },
           "mode": "markers",
           "name": "Oceania",
           "orientation": "v",
           "showlegend": true,
           "type": "scatter",
           "x": {
            "bdata": "6N7DJdNixUC6g9iZsuvHQA==",
            "dtype": "f8"
           },
           "xaxis": "x",
           "y": {
            "bdata": "hetRuB6VUUBxPQrXo5BRQA==",
            "dtype": "f8"
           },
           "yaxis": "y"
          }
         ],
         "name": "1957"
        },
        {
         "data": [
          {
           "hovertemplate": "<b>%{hovertext}</b><br><br>continent=Asia<br>year=1962<br>gdpPercap=%{x}<br>lifeExp=%{y}<br>pop=%{marker.size}<extra></extra>",
           "hovertext": [
            "Afghanistan",
            "Bahrain",
            "Bangladesh",
            "Cambodia",
            "China",
            "Hong Kong, China",
            "India",
            "Indonesia",
            "Iran",
            "Iraq",
            "Israel",
            "Japan",
            "Jordan",
            "Korea, Dem. Rep.",
            "Korea, Rep.",
            "Kuwait",
            "Lebanon",
            "Malaysia",
            "Mongolia",
            "Myanmar",
            "Nepal",
            "Oman",
            "Pakistan",
            "Philippines",
            "Saudi Arabia",
            "Singapore",
            "Sri Lanka",
            "Syria",
            "Taiwan",
            "Thailand",
            "Vietnam",
            "West Bank and Gaza",
            "Yemen, Rep."
           ],
           "ids": [
            "Afghanistan",
            "Bahrain",
            "Bangladesh",
            "Cambodia",
            "China",
            "Hong Kong, China",
            "India",
            "Indonesia",
            "Iran",
            "Iraq",
            "Israel",
            "Japan",
            "Jordan",
            "Korea, Dem. Rep.",
            "Korea, Rep.",
            "Kuwait",
            "Lebanon",
            "Malaysia",
            "Mongolia",
            "Myanmar",
            "Nepal",
            "Oman",
            "Pakistan",
            "Philippines",
            "Saudi Arabia",
            "Singapore",
            "Sri Lanka",
            "Syria",
            "Taiwan",
            "Thailand",
            "Vietnam",
            "West Bank and Gaza",
            "Yemen, Rep."
           ],
           "legendgroup": "Asia",
           "marker": {
            "color": "#636efa",
            "size": {
             "bdata": "y6mcAFefAgB5TGMDI9RcABDYrifwbjIAgH0PGyAM5wWQB10BRHpuAPhCIwDNRrYFtz4OAHaWpgBTJJMBencFAIDKHACR5ocAaGoPAASiaAGZp50AxJUJAH9AKgMQus4BtWxLALi0GgCwBp8APcVJAFretQAlhr4BLLADAk5KEQCRYl0A",
             "dtype": "i4"
            },
            "sizemode": "area",
            "sizeref": 435928.2961983471,
            "symbol": "circle"
           },
           "mode": "markers",
           "name": "Asia",
           "orientation": "v",
           "showlegend": true,
           "type": "scatter",
           "x": {
            "bdata": "CWMLQc6oikDpmsk3o+jIQJcGj4C7coVAGiHyTJ4Of0B9tmnHyHp+QOleJ/WlVLJANxIN98aShEDddvxyUYqKQChk521UW7BAwM+4cN5KwEBky/J1ocG7QAd7E0OmsLlA/nxbsARYokBJ2o0+xlaZQKxY/KZgAZhAkNrEySFO90DH1jOEj1K2QCqLwi6K059AoUj3c2qBkEAAAAAAAEB4QOiUkcQsY4RATkS/tkbZpkDHr2nvvRqJQI6VmGc1xplAPzVeujW1xkC1p+SceLWsQBV0e0njyZBANLkYAxMioUATgeofhHucQDtSfeeXUY9AIFoarmQgiECN+bmh6S2hQMiemFD8zIlA",
            "dtype": "f8"
           },
           "xaxis": "x",
           "y": {
            "bdata": "rBxaZDv/P0CgGi/dJHZMQM/3U+Olm0RAhetRuB61RUDjwoGQLEBGQJqZmZmZ6VBAPQrXo3DNRUD8qfHSTUJFQJqZmZmZqUhA0SLb+X66SUApXI/C9VhRQB+F61G4LlFA5aWbxCAQSECJFtnO91NMQEw3iUFgpUtAXI/C9Sg8TkB56SYxCAxPQHWTGARW3ktA5aWbxCAgSEDn+6nx0o1GQPyp8dJNskNAhetRuB6VRUD2KFyPwtVHQDeJQWDlYEtAokW28/30RkBQjZduEnNQQH9qvHSTGE9A16NwPQonSUDNzMzMzExQQCyHFtnOB0xAWDm0yHauRkDHSzeJQRBIQNejcD0Kl0FA",
            "dtype": "f8"
           },
           "yaxis": "y"
          },
          {
           "hovertemplate": "<b>%{hovertext}</b><br><br>continent=Europe<br>year=1962<br>gdpPercap=%{x}<br>lifeExp=%{y}<br>pop=%{marker.size}<extra></extra>",
           "hovertext": [
            "Albania",
            "Austria",
            "Belgium",
            "Bosnia and Herzegovina",
            "Bulgaria",
            "Croatia",
            "Czech Republic",
            "Denmark",
            "Finland",
            "France",
            "Germany",
            "Greece",
            "Hungary",
            "Iceland",
            "Ireland",
            "Italy",
            "Montenegro",
            "Netherlands",
            "Norway",
            "Poland",
            "Portugal",
            "Romania",
            "Serbia",
            "Slovak Republic",
            "Slovenia",
            "Spain",
            "Sweden",
            "Switzerland",
            "Turkey",
            "United Kingdom"
           ],
           "ids": [
            "Albania",
            "Austria",
            "Belgium",
            "Bosnia and Herzegovina",
            "Bulgaria",
            "Croatia",
            "Czech Republic",
            "Denmark",
            "Finland",
            "France",
            "Germany",
            "Greece",
            "Hungary",
            "Iceland",
            "Ireland",
            "Italy",
            "Montenegro",
            "Netherlands",
            "Norway",
            "Poland",
            "Portugal",
            "Romania",
            "Serbia",
            "Slovak Republic",
            "Slovenia",
            "Spain",
            "Sweden",
            "Switzerland",
            "Turkey",
            "United Kingdom"
           ],
           "legendgroup": "Europe",
           "marker": {
            "color": "#EF553B",
            "size": {
             "bdata": "iV4aAAjLbABgqYwACBozAJJEegANND4AOsuSAPPnRgCziEQAIA7PAm0rZQTp6IAAmIyZACXHAgCwLisAQM4HA6A9BwD5I7QAh4Y3ABHLzgGYoYkAkQsdATw2dABIqEAAcicYAC1v2wF0YXMA0HRWABeKxgHgKy0D",
             "dtype": "i4"
            },
            "sizemode": "area",
            "sizeref": 435928.2961983471,
            "symbol": "circle"
           },
           "mode": "markers",
           "name": "Europe",
           "orientation": "v",
           "showlegend": true,
           "type": "scatter",
           "x": {
            "bdata": "CcOAJccRokBpHVVNXP/EQA+XHHead8VA2QdZFry2mkBQ4J18Vp6wQNo6ONjjZbVAsacd/m7Mw0B8fhghqIfKQPHxCdnrTcJAndfYJT6gxEB/h6JAOzPJQES94NMwgbdAlSnmIFx+vUAN/RNcFDfEQHH/kemY57lAlPsdisoZwEDbM0sCmCmyQP/PYb5s+8hAgv+tZDNFykDqknGMwNq0QE8Cm3P0d7JA88zLYf9+skAN424QoZG4QB3jiosbOb1AxXJLq03qvEDIQnQI2D22QLml1ZC4FMhAFvvL7sXz00AP1ZRkvSWiQI3ROqqWXshA",
            "dtype": "f8"
           },
           "xaxis": "x",
           "y": {
            "bdata": "FK5H4Xo0UEDD9Shcj2JRQAAAAAAAkFFA16NwPQr3TkBxPQrXo2BRQLgehetRyFBAmpmZmZl5UUBmZmZmZhZSQAAAAAAAMFFAcT0K16OgUUAzMzMzM5NRQHE9CtejYFFAPQrXo3D9UEDsUbgehWtSQMP1KFyPklFAj8L1KFxPUUB3vp8aL91PQB+F61G4TlJArkfhehReUkApXI/C9ehQQClcj8L1GFBAMzMzMzOzUEBEi2zn+yFQQIXrUbgelVFAmpmZmZlJUUBcj8L1KGxRQEjhehSuV1JAFK5H4XrUUUAGgZVDiwxKQHE9CtejsFFA",
            "dtype": "f8"
           },
           "yaxis": "y"
          },
          {
           "hovertemplate": "<b>%{hovertext}</b><br><br>continent=Africa<br>year=1962<br>gdpPercap=%{x}<br>lifeExp=%{y}<br>pop=%{marker.size}<extra></extra>",
           "hovertext": [
            "Algeria",
            "Angola",
            "Benin",
            "Botswana",
            "Burkina Faso",
            "Burundi",
            "Cameroon",
            "Central African Republic",
            "Chad",
            "Comoros",
            "Congo, Dem. Rep.",
            "Congo, Rep.",
            "Cote d'Ivoire",
            "Djibouti",
            "Egypt",
            "Equatorial Guinea",
            "Eritrea",
            "Ethiopia",
            "Gabon",
            "Gambia",
            "Ghana",
            "Guinea",
            "Guinea-Bissau",
            "Kenya",
            "Lesotho",
            "Liberia",
            "Libya",
            "Madagascar",
            "Malawi",
            "Mali",
            "Mauritania",
            "Mauritius",
            "Morocco",
            "Mozambique",
            "Namibia",
            "Niger",
            "Nigeria",
            "Reunion",
            "Rwanda",
            "Sao Tome and Principe",
            "Senegal",
            "Sierra Leone",
            "Somalia",
            "South Africa",
            "Sudan",
            "Swaziland",
            "Tanzania",
            "Togo",
            "Tunisia",
            "Uganda",
            "Zambia",
            "Zimbabwe"
           ],
           "ids": [
            "Algeria",
            "Angola",
            "Benin",
            "Botswana",
            "Burkina Faso",
            "Burundi",
            "Cameroon",
            "Central African Republic",
            "Chad",
            "Comoros",
            "Congo, Dem. Rep.",
            "Congo, Rep.",
            "Cote d'Ivoire",
            "Djibouti",
            "Egypt",
            "Equatorial Guinea",
            "Eritrea",
            "Ethiopia",
            "Gabon",
            "Gambia",
            "Ghana",
            "Guinea",
            "Guinea-Bissau",
            "Kenya",
            "Lesotho",
            "Liberia",
            "Libya",
            "Madagascar",
            "Malawi",
            "Mali",
            "Mauritania",
            "Mauritius",
            "Morocco",
            "Mozambique",
            "Namibia",
            "Niger",
            "Nigeria",
            "Reunion",
            "Rwanda",
            "Sao Tome and Principe",
            "Senegal",
            "Sierra Leone",
            "Somalia",
            "South Africa",
            "Sudan",
            "Swaziland",
            "Tanzania",
            "Togo",
            "Tunisia",
            "Uganda",
            "Zambia",
            "Zimbabwe"
           ],
           "legendgroup": "Africa",
           "marker": {
            "color": "#00cc96",
            "size": {
             "bdata": "dNynAJ+jSQDX1SAA/NIHAFARSwD7MS0AYWdYABY/FwBREjAAyewCAGLSCgF0/Q8AWHo6ACpfAQD9460BhM0DADpuGQAcsH8B7fMGAAS1BQBwO3AAo+kvAGyUCQCdbIQA16ANANz6EABHABYAnAZXAEBeNwDEkUcAhX8RAFiyCgBcOscAkNl2AFB7CQDoMT4A9+d+AvR5BQDqji4AQf8AAGNXNAA3qCUA2f8uALEZGAF7pKoAVqUFAFbFpQAiURcAWGhBAF1SdQBIMzQA6EVBAA==",
             "dtype": "i4"
            },
            "sizemode": "area",
            "sizeref": 435928.2961983471,
            "symbol": "circle"
           },
           "mode": "markers",
           "name": "Africa",
           "orientation": "v",
           "showlegend": true,
           "type": "scatter",
           "x": {
            "bdata": "g2kYPqLto0BuT5DYRq2wQN2gURX+q41A2ZL6Vzu9jkAHn0GeGJSGQHjyRGtAM3ZAAHUDBW7elUACui9nRqSSQHwqpz1Ft5VA3SIw1pf6lUDQhZFehAKMQERN9PmQQaNA6WhVS3oDm0BJEK6A+pmnQA5N2elXdZpAVVmAW7w2gkAPV2L57s93QOPt93pNN3pAm6+Sj3XnuUD9SufDM72CQBxF1hoqmJJA8969SP1yhUAO2xZlRlCAQNlN3yG7B4xA7HTWXc+8eUA/V1uxj9GDQDKwjuMHZbpA0VeQZoytmUBY7rvYar56QLAErRvKAn9AKBB2ipV/kEDR86eNIsKjQHapEfppeZhA2w8dp31lgUBdxHdibsqoQGf8sf8gLo9ACPfKvLX7kUDH155ZcsuoQAz5VtrIq4JA0QSKWDS+kEA2V81z9NuZQNiR6juPcpFA1jVaDvRllUBWurvOuoi2QMfZdARgnp5AI9v5froAnUDjJx/MB5CGQEyOO6UjrpBASKeufDbxmUArkOqFLPqHQDLKMy/nspZAiMymbS16gEA=",
            "dtype": "f8"
           },
           "xaxis": "x",
           "y": {
            "bdata": "EFg5tMgmSEAAAAAAAABBQMl2vp8aT0VAw/UoXI/CSUDVeOkmMehCQPYoXI/CBUVA/Knx0k1SRUDNzMzMzLxDQM/3U+Ol20RAsp3vp8Y7RkBWDi2ynQ9FQEjhehSuN0hA16NwPQp3RkBkEFg5tNhDQOXQItv5fkdArkfhehS+QkBOYhBYORREQGQ730+NB0RAO99PjZc+RECmm8QgsPJAQGDl0CLbOUdAqvHSTWLgQUBYObTIdj5BQLbz/dR4+UdAVg4tsp3fR0DHSzeJQUBEQIGVQ4ts50dABoGVQ4tsREAUrkfhejRDQCuHFtnOd0JAO7TIdr4fRkBzaJHtfB9OQIPAyqFF9kdA+FPjpZsUQkDFILByaDFIQHWTGARWvkNArkfhehSuQ0Boke18P9VMQAAAAAAAgEVA/Knx0k3ySUAmMQisHLpEQBkEVg4tYkBAIbByaJF9QkB9PzVeuvlIQI/C9Shcb0RA5dAi2/l+RkBzaJHtfB9GQLx0kxgE9kVAJjEIrBzKSEB56SYxCKxGQG3n+6nxAkdA5/up8dItSkA=",
            "dtype": "f8"
           },
           "yaxis": "y"
          },
          {
           "hovertemplate": "<b>%{hovertext}</b><br><br>continent=Americas<br>year=1962<br>gdpPercap=%{x}<br>lifeExp=%{y}<br>pop=%{marker.size}<extra></extra>",
           "hovertext": [
            "Argentina",
            "Bolivia",
            "Brazil",
            "Canada",
            "Chile",
            "Colombia",
            "Costa Rica",
            "Cuba",
            "Dominican Republic",
            "Ecuador",
            "El Salvador",
            "Guatemala",
            "Haiti",
            "Honduras",
            "Jamaica",
            "Mexico",
            "Nicaragua",
            "Panama",
            "Paraguay",
            "Peru",
            "Puerto Rico",
            "Trinidad and Tobago",
            "United States",
            "Uruguay",
            "Venezuela"
           ],
           "ids": [
            "Argentina",
            "Bolivia",
            "Brazil",
            "Canada",
            "Chile",
            "Colombia",
            "Costa Rica",
            "Cuba",
            "Dominican Republic",
            "Ecuador",
            "El Salvador",
            "Guatemala",
            "Haiti",
            "Honduras",
            "Jamaica",
            "Mexico",
            "Nicaragua",
            "Panama",
            "Paraguay",
            "Peru",
            "Puerto Rico",
            "Trinidad and Tobago",
            "United States",
            "Uruguay",
            "Venezuela"
           ],
           "legendgroup": "Americas",
           "marker": {
            "color": "#ab63fa",
            "size": {
             "bdata": "x8NEAb7WNgDeRIgEebMhAap6eQDdjAMBo4YUAGWxbgD6sTQA629HACftKQDaOEAAwjQ7ALLkHwBoaBkAzXZzAkVFGADtjBIA1aoeABR4oACuWiUAyooNABBYHgtCpicAD0J8AA==",
             "dtype": "i4"
            },
            "sizemode": "area",
            "sizeref": 435928.2961983471,
            "symbol": "circle"
           },
           "mode": "markers",
           "name": "Americas",
           "orientation": "v",
           "showlegend": true,
           "type": "scatter",
           "x": {
            "bdata": "ZLt7gCrdu0C2n4zx8QmhQN1fPe4rEapASZ2AJj5LykAAkBMmGKexQKoQj8SzeKNAEqW9wd8Jq0C4WFGDwTy0QD9z1qeM+JlAY35uaDrsr0Bdhv90m4GtQFGGqpi6fKVAMWE0K1sSnEC8V61MUOahQIlfsYYbfrRArMWnAJzlsUDvWGyTumSsQP4pVaIUoatAb5wU5g3IoEDWNzC5CV2zQDjzqzlY9LNAD6X2IoaFs0DmXIqrkpbPQDlgV5Nb47VA9U9wsXxzwEA=",
            "dtype": "f8"
           },
           "xaxis": "x",
           "y": {
            "bdata": "DAIrhxZJUEAQWDm0yLZFQIXrUbge1UtAMzMzMzPTUUCDwMqhRfZMQFg5tMh27kxAsp3vp8ZrT0A6tMh2vk9QQJhuEoPAukpAUrgehetRS0Ce76fGSydKQCYxCKwcekdA7FG4HoXLRUBoke18PwVIQNejcD0KZ1BAg8DKoUUmTUA3iUFg5VBIQH9qvHST6E5AyXa+nxoXUEA/NV66SYxIQEjhehSuZ1FAmpmZmZk5UEA9CtejcI1RQNV46SYxEFFAw/UoXI9iTkA=",
            "dtype": "f8"
           },
           "yaxis": "y"
          },
          {
           "hovertemplate": "<b>%{hovertext}</b><br><br>continent=Oceania<br>year=1962<br>gdpPercap=%{x}<br>lifeExp=%{y}<br>pop=%{marker.size}<extra></extra>",
           "hovertext": [
            "Australia",
            "New Zealand"
           ],
           "ids": [
            "Australia",
            "New Zealand"
           ],
           "legendgroup": "Oceania",
           "marker": {
            "color": "#FFA15A",
            "size": {
             "bdata": "2LekAOb4JQA=",
             "dtype": "i4"
            },
            "sizemode": "area",
            "sizeref": 435928.2961983471,
            "symbol": "circle"
           },
           "mode": "markers",
           "name": "Oceania",
           "orientation": "v",
           "showlegend": true,
           "type": "scatter",
           "x": {
            "bdata": "Y5y/CZ3cx0BYObTI1rvJQA==",
            "dtype": "f8"
           },
           "xaxis": "x",
           "y": {
            "bdata": "7FG4HoW7UUCPwvUoXM9RQA==",
            "dtype": "f8"
           },
           "yaxis": "y"
          }
         ],
         "name": "1962"
        },
        {
         "data": [
          {
           "hovertemplate": "<b>%{hovertext}</b><br><br>continent=Asia<br>year=1967<br>gdpPercap=%{x}<br>lifeExp=%{y}<br>pop=%{marker.size}<extra></extra>",
           "hovertext": [
            "Afghanistan",
            "Bahrain",
            "Bangladesh",
            "Cambodia",
            "China",
            "Hong Kong, China",
            "India",
            "Indonesia",
            "Iran",
            "Iraq",
            "Israel",
            "Japan",
            "Jordan",
            "Korea, Dem. Rep.",
            "Korea, Rep.",
            "Kuwait",
            "Lebanon",
            "Malaysia",
            "Mongolia",
            "Myanmar",
            "Nepal",
            "Oman",
            "Pakistan",
            "Philippines",
            "Saudi Arabia",
            "Singapore",
            "Sri Lanka",
            "Syria",
            "Taiwan",
            "Thailand",
            "Vietnam",
            "West Bank and Gaza",
            "Yemen, Rep."
           ],
           "ids": [
            "Afghanistan",
            "Bahrain",
            "Bangladesh",
            "Cambodia",
            "China",
            "Hong Kong, China",
            "India",
            "Indonesia",
            "Iran",
            "Iraq",
            "Israel",
            "Japan",
            "Jordan",
            "Korea, Dem. Rep.",
            "Korea, Rep.",
            "Kuwait",
            "Lebanon",
            "Malaysia",
            "Mongolia",
            "Myanmar",
            "Nepal",
            "Oman",
            "Pakistan",
            "Philippines",
            "Saudi Arabia",
            "Singapore",
            "Sri Lanka",
            "Syria",
            "Taiwan",
            "Thailand",
            "Vietnam",
            "West Bank and Gaza",
            "Yemen, Rep."
           ],
           "legendgroup": "Asia",
           "marker": {
            "color": "#636efa",
            "size": {
             "bdata": "Lg6wAMYVAwD8lb4DwzNqAPCE+SwwzjgAgPIoHhhxhAYQ8JQBcv6BANEZKQC/eAIGkiYTADGFwAA4w8sBG8YIAI5eIQB+85oAPIoRAL+/igH61qsAF+gKAGtSnQO4fxsCFrpVAAAtHgA0GbMArK5WADRD0AA5KwcC5itaAmxvEQAx22YA",
             "dtype": "i4"
            },
            "sizemode": "area",
            "sizeref": 435928.2961983471,
            "symbol": "circle"
           },
           "mode": "markers",
           "name": "Asia",
           "orientation": "v",
           "showlegend": true,
           "type": "scatter",
           "x": {
            "bdata": "V04xvZMhikACmggbVurMQOf5whp9iYZAxbQlYXVbgEAG0JRCpSWDQCJy+nr2NbhAllPxNSrmhUCaRu5EdNOHQAyOkle7ErdArDsW27pxwUCQhlPm3mTAQDP9EvHkO8NAwJZXrpdrpUDZ7bPKFL+gQGBzDp7ptJ9A3jzVIe6/80CY+KOo+3a3QF0ZVBt8y6FAipP7HSook0AAAAAAANB1QK9zeK2JI4VAXWvvU/FwskBvkjAdRHONQB6KAn2CWJxAhbGFIMOB0EAR/G8la3GzQO6VeasOvpFAKEaWzLFnnUBlOQmlt6ekQE1KQbfXPZRAuzPJfvzog0DSwmUVbrOkQGHU/4OJ84pA",
            "dtype": "f8"
           },
           "xaxis": "x",
           "y": {
            "bdata": "w/UoXI8CQUCgGi/dJPZNQESLbOf7uUVAhetRuB61RkD/7EeKyDBNQAAAAAAAgFFAZBBYObSYR0AIrBxaZPtGQHnpJjEIPEpAmG4Sg8A6S0AAAAAAALBRQOxRuB6F21FAjZduEoPQSUB/arx0k/hNQM/3U+Ol20xADi2yne8nUECPwvUoXO9PQHNoke18r01AqvHSTWKgSUCNl24Sg7BIQCPb+X5qvERAWDm0yHZ+R0BmZmZmZuZIQPyp8dJNMkxAF9nO91PzSEAGgZVDi/xQQBsv3SQGEVBApHA9CtfTSkAAAAAAAOBQQBSuR+F6JE1AJQaBlUPrR0BU46WbxNBJQMuhRbbzfUJA",
            "dtype": "f8"
           },
           "yaxis": "y"
          },
          {
           "hovertemplate": "<b>%{hovertext}</b><br><br>continent=Europe<br>year=1967<br>gdpPercap=%{x}<br>lifeExp=%{y}<br>pop=%{marker.size}<extra></extra>",
           "hovertext": [
            "Albania",
            "Austria",
            "Belgium",
            "Bosnia and Herzegovina",
            "Bulgaria",
            "Croatia",
            "Czech Republic",
            "Denmark",
            "Finland",
            "France",
            "Germany",
            "Greece",
            "Hungary",
            "Iceland",
            "Ireland",
            "Italy",
            "Montenegro",
            "Netherlands",
            "Norway",
            "Poland",
            "Portugal",
            "Romania",
            "Serbia",
            "Slovak Republic",
            "Slovenia",
            "Spain",
            "Sweden",
            "Switzerland",
            "Turkey",
            "United Kingdom"
           ],
           "ids": [
            "Albania",
            "Austria",
            "Belgium",
            "Bosnia and Herzegovina",
            "Bulgaria",
            "Croatia",
            "Czech Republic",
            "Denmark",
            "Finland",
            "France",
            "Germany",
            "Greece",
            "Hungary",
            "Iceland",
            "Ireland",
            "Italy",
            "Montenegro",
            "Netherlands",
            "Norway",
            "Poland",
            "Portugal",
            "Romania",
            "Serbia",
            "Slovak Republic",
            "Slovenia",
            "Spain",
            "Sweden",
            "Switzerland",
            "Turkey",
            "United Kingdom"
           ],
           "legendgroup": "Europe",
           "marker": {
            "color": "#EF553B",
            "size": {
             "bdata": "PEYeAGaQcAAU0pEA6LM2ANLNfgAesj8AZRKWAJDVSQAwR0YA6Fz0AkVKjQSZAIUAPv+bABQIAwCEQCwA3KIjAyulBwBWNsAAI8U5AKIB5QGY5ooATkMmAZaheQB+yEMAQCEZAGNB9QEbDngAmINcAPXQ/QGYm0YD",
             "dtype": "i4"
            },
            "sizemode": "area",
            "sizeref": 435928.2961983471,
            "symbol": "circle"
           },
           "mode": "markers",
           "name": "Europe",
           "orientation": "v",
           "showlegend": true,
           "type": "scatter",
           "x": {
            "bdata": "I9kj1GSQpUCOdXEbTRHJQHbDtkWFrslAuZbJcLT4oEBuNIC3AMm1QMFVnkBMMLtAKdAn8rhDxkD4qpUJmyDPQOC593DRVMVAbATidfVjyUAGDf0T0MzMQJgxBWuMoMBAW+uLhFI3wkDXaaSl8gPKQKIlj6eR571Ax0YgXjOTw0D12QHX2RO3QMOBkCygAc5A9kArMPD0z0Cd81McJ525QI9yMJuE2bhAg6Pk1d1GuUAdAkcCtTe/QIGxvoFzbsBA4ZaPpL5ewkDwF7Mlgzm/QPLqHAMmzc1ACvSJPIlt1kByW1t4thSmQD+p9ulsn8tA",
            "dtype": "f8"
           },
           "xaxis": "x",
           "y": {
            "bdata": "rkfhehSOUEApXI/C9YhRQFyPwvUovFFAw/UoXI8yUEB7FK5H4ZpRQAAAAAAAIFFAuB6F61GYUUA9CtejcD1SQIXrUbgedVFAMzMzMzPjUUAzMzMzM7NRQAAAAAAAwFFAAAAAAABgUUAfhetRuG5SQIXrUbgexVFApHA9CtfDUUAIrBxaZMtQQBSuR+F6dFJAhetRuB6FUkDXo3A9CmdRQGZmZmZmplBAMzMzMzOzUEDRItv5frpQQB+F61G4vlFA7FG4HoVLUUBcj8L1KNxRQArXo3A9ilJA4XoUrkcxUkBgukkMAitLQNejcD0K11FA",
            "dtype": "f8"
           },
           "yaxis": "y"
          },
          {
           "hovertemplate": "<b>%{hovertext}</b><br><br>continent=Africa<br>year=1967<br>gdpPercap=%{x}<br>lifeExp=%{y}<br>pop=%{marker.size}<extra></extra>",
           "hovertext": [
            "Algeria",
            "Angola",
            "Benin",
            "Botswana",
            "Burkina Faso",
            "Burundi",
            "Cameroon",
            "Central African Republic",
            "Chad",
            "Comoros",
            "Congo, Dem. Rep.",
            "Congo, Rep.",
            "Cote d'Ivoire",
            "Djibouti",
            "Egypt",
            "Equatorial Guinea",
            "Eritrea",
            "Ethiopia",
            "Gabon",
            "Gambia",
            "Ghana",
            "Guinea",
            "Guinea-Bissau",
            "Kenya",
            "Lesotho",
            "Liberia",
            "Libya",
            "Madagascar",
            "Malawi",
            "Mali",
            "Mauritania",
            "Mauritius",
            "Morocco",
            "Mozambique",
            "Namibia",
            "Niger",
            "Nigeria",
            "Reunion",
            "Rwanda",
            "Sao Tome and Principe",
            "Senegal",
            "Sierra Leone",
            "Somalia",
            "South Africa",
            "Sudan",
            "Swaziland",
            "Tanzania",
            "Togo",
            "Tunisia",
            "Uganda",
            "Zambia",
            "Zimbabwe"
           ],
           "ids": [
            "Algeria",
            "Angola",
            "Benin",
            "Botswana",
            "Burkina Faso",
            "Burundi",
            "Cameroon",
            "Central African Republic",
            "Chad",
            "Comoros",
            "Congo, Dem. Rep.",
            "Congo, Rep.",
            "Cote d'Ivoire",
            "Djibouti",
            "Egypt",
            "Equatorial Guinea",
            "Eritrea",
            "Ethiopia",
            "Gabon",
            "Gambia",
            "Ghana",
            "Guinea",
            "Guinea-Bissau",
            "Kenya",
            "Lesotho",
            "Liberia",
            "Libya",
            "Madagascar",
            "Malawi",
            "Mali",
            "Mauritania",
            "Mauritius",
            "Morocco",
            "Mozambique",
            "Namibia",
            "Niger",
            "Nigeria",
            "Reunion",
            "Rwanda",
            "Sao Tome and Principe",
            "Senegal",
            "Sierra Leone",
            "Somalia",
            "South Africa",
            "Sudan",
            "Swaziland",
            "Tanzania",
            "Togo",
            "Tunisia",
            "Uganda",
            "Zambia",
            "Zimbabwe"
           ],
           "legendgroup": "Africa",
           "marker": {
            "color": "#00cc96",
            "size": {
             "bdata": "s7XCAO0RUADGCSUARXIIAP8+TgCt0zIAEqxgAAZ0GgAfWDUAIlEDANFGMAFwABIApmZIAIHyAQCkauMBGPcDAJ/GGwBJHakBLHYHACm1BgDljIEAGqo0AMcsCQCYgpsAHDQPAK6FEwD41xoAXKhgADRIPwAAiU8AzsYSAD0LDAB4YOEAzXWEAFDICgAuL0UAyI3RAkhRBgDHqDQAgxQBAJGDPAAunygA51E0AMlkQAFhCMIAUmsGAFBfwAB+exoAKgtJAMbOhwBggjsAaDlMAA==",
             "dtype": "i4"
            },
            "sizemode": "area",
            "sizeref": 435928.2961983471,
            "symbol": "circle"
           },
           "mode": "markers",
           "name": "Africa",
           "orientation": "v",
           "showlegend": true,
           "type": "scatter",
           "x": {
            "bdata": "PpRoyftdqUBvEoPAxpK1QCO6Z11TL5BA/5QqUdb6kkCI/VTLnNaIQFT2TOWjz3lA/oAHBtCRl0DaVUj5OcCRQCFZwAQ+s5JAOQ68Wh5QnUDOFN/1vuyKQOeXwRjh66RAqdiY1xkIoEAMBtfcGZinQLCSj92FW5xArW71nMScjEDfnFsyuEx9QPxGhfvyIIBAfT7KiGFTwEAQjZNnQ/aGQFGgT+TJlpFAzOstihMmhkDzbbAmpVyGQKSnyCHygpBAcOzZczkqf0BIVo9F1EyGQK9fsBswVdJAwk6xajCImUDYGZWKPPh+QCrxyj8UCIFAb0p5rZQ0lkBYxoZuxlajQF7XL9gtvJpA7SNcbVq1gUCZS6q2Y6OtQBnG3SCKeZBA8dWO4hy0j0BDU3b6WWqvQA67lF9r739A/FBpxFyjlUCp29lXnjGZQBXGFoIs2JJAVei8xu4SlEButU5cesq7QJgwmpX9X5pATFRvDTRqpEAz3IDPv4GKQD6uDRVjFpdAZziez3AxnkBVsechWWeMQJIlcyxPxJtA7w9KTlzOgUA=",
            "dtype": "f8"
           },
           "xaxis": "x",
           "y": {
            "bdata": "arx0kxi0SUCuR+F6FP5BQOF6FK5HcUZAoBov3SSmSkDwp8ZLN1lEQKAaL90kxkVAg8DKoUVmRkB3vp8aL71EQLFyaJHtzEVAI9v5fmo8R0C6SQwCKwdGQIXrUbgeBUpAzczMzMysR0C28/3UeAlFQC/dJAaBpUhAdZMYBFZ+Q0DUeOkmMRhFQB+F61G4DkVABoGVQ4tMRkAEVg4tsu1BQPCnxks3CUhA8KfGSzeZQkDl0CLb+b5BQMHKoUW2U0lA5dAi2/k+SED4U+Olm8REQJMYBFYOHUlAVOOlm8RwRUB1kxgEVr5DQHWTGARWPkNAokW28/0kR0Ce76fGS8dOQHsUrkfhKklAWDm0yHYOQ0AxCKwcWpRJQMl2vp8aD0RAhetRuB6FREBMN4lBYEVOQM3MzMzMDEZAZmZmZmY2S0Dy0k1iEMhFQFg5tMh2DkFAkxgEVg59Q0Atsp3vp/ZJQOf7qfHSbUVAGy/dJAZRR0A3iUFg5eBGQN9PjZduYkdAEFg5tMgGSkBKDAIrhwZIQPyp8dJN4kdAj8L1KFz/SkA=",
            "dtype": "f8"
           },
           "yaxis": "y"
          },
          {
           "hovertemplate": "<b>%{hovertext}</b><br><br>continent=Americas<br>year=1967<br>gdpPercap=%{x}<br>lifeExp=%{y}<br>pop=%{marker.size}<extra></extra>",
           "hovertext": [
            "Argentina",
            "Bolivia",
            "Brazil",
            "Canada",
            "Chile",
            "Colombia",
            "Costa Rica",
            "Cuba",
            "Dominican Republic",
            "Ecuador",
            "El Salvador",
            "Guatemala",
            "Haiti",
            "Honduras",
            "Jamaica",
            "Mexico",
            "Nicaragua",
            "Panama",
            "Paraguay",
            "Peru",
            "Puerto Rico",
            "Trinidad and Tobago",
            "United States",
            "Uruguay",
            "Venezuela"
           ],
           "ids": [
            "Argentina",
            "Bolivia",
            "Brazil",
            "Canada",
            "Chile",
            "Colombia",
            "Costa Rica",
            "Cuba",
            "Dominican Republic",
            "Ecuador",
            "El Salvador",
            "Guatemala",
            "Haiti",
            "Honduras",
            "Jamaica",
            "Mexico",
            "Nicaragua",
            "Panama",
            "Paraguay",
            "Peru",
            "Puerto Rico",
            "Trinidad and Tobago",
            "United States",
            "Uruguay",
            "Venezuela"
           ],
           "legendgroup": "Americas",
           "marker": {
            "color": "#ab63fa",
            "size": {
             "bdata": "0fJdAdmnPQCfiD8FN689ARwthwA7ky0B7T0YAEQyfAD6yD0AaORSAJ9UMQBVk0cAueNBAFEoJgDoZRwAp1rcAhJ3HAAuchUAcekiAGgfuQCBaygAm6YOAMAa2Auj8CkA8CeUAA==",
             "dtype": "i4"
            },
            "sizemode": "area",
            "sizeref": 435928.2961983471,
            "symbol": "circle"
           },
           "mode": "markers",
           "name": "Americas",
           "orientation": "v",
           "showlegend": true,
           "type": "scatter",
           "x": {
            "bdata": "ZSsv+fN0v0AMI72oxTWkQCMuAI26y6pAiSmRREtmz0BZiA6Bp/KzQLEYda117aRA6zpUU7pBsEDWi6GcRDq2QKL/5Vrk1plA3xXB/xLjsUBE96xrmAaxQL3kf/IPValAXcDLDDuwlkDVsUrpidSjQFZfXRW07LdAF5zB37t6tkDf66S+ZCOyQOs6VFMCRbFAQNzVq8D2oUC8kXnkF5y2QKTDQxhHEbtAflUuVF71tUCatn9llxLTQPOTap+eRLVAFEAxsryiwkA=",
            "dtype": "f8"
           },
           "xaxis": "x",
           "y": {
            "bdata": "f2q8dJNoUEBqvHSTGIRGQDeJQWDl0ExAuB6F61EIUkBt5/up8UJOQCUGgZVD+01AQWDl0CJbUEDD9ShcjxJRQOWlm8QgYExAEFg5tMhWTEA9CtejcO1LQDdeukkMAklAyXa+nxofR0CDwMqhRXZJQHE9Ctej4FBArkfhehQOTkD91HjpJvFJQAaBlUOLBFBAv58aL908UEApXI/C9bhJQGZmZmZmxlFAmpmZmZlZUEBxPQrXo7BRQMuhRbbzHVFAWmQ730+9T0A=",
            "dtype": "f8"
           },
           "yaxis": "y"
          },
          {
           "hovertemplate": "<b>%{hovertext}</b><br><br>continent=Oceania<br>year=1967<br>gdpPercap=%{x}<br>lifeExp=%{y}<br>pop=%{marker.size}<extra></extra>",
           "hovertext": [
            "Australia",
            "New Zealand"
           ],
           "ids": [
            "Australia",
            "New Zealand"
           ],
           "legendgroup": "Oceania",
           "marker": {
            "color": "#FFA15A",
            "size": {
             "bdata": "CCi1ANagKQA=",
             "dtype": "i4"
            },
            "sizemode": "area",
            "sizeref": 435928.2961983471,
            "symbol": "circle"
           },
           "mode": "markers",
           "name": "Oceania",
           "orientation": "v",
           "showlegend": true,
           "type": "scatter",
           "x": {
            "bdata": "ufyH9A9fzECpjH+f9T/MQA==",
            "dtype": "f8"
           },
           "xaxis": "x",
           "y": {
            "bdata": "ZmZmZmbGUUDhehSuR+FRQA==",
            "dtype": "f8"
           },
           "yaxis": "y"
          }
         ],
         "name": "1967"
        },
        {
         "data": [
          {
           "hovertemplate": "<b>%{hovertext}</b><br><br>continent=Asia<br>year=1972<br>gdpPercap=%{x}<br>lifeExp=%{y}<br>pop=%{marker.size}<extra></extra>",
           "hovertext": [
            "Afghanistan",
            "Bahrain",
            "Bangladesh",
            "Cambodia",
            "China",
            "Hong Kong, China",
            "India",
            "Indonesia",
            "Iran",
            "Iraq",
            "Israel",
            "Japan",
            "Jordan",
            "Korea, Dem. Rep.",
            "Korea, Rep.",
            "Kuwait",
            "Lebanon",
            "Malaysia",
            "Mongolia",
            "Myanmar",
            "Nepal",
            "Oman",
            "Pakistan",
            "Philippines",
            "Saudi Arabia",
            "Singapore",
            "Sri Lanka",
            "Syria",
            "Taiwan",
            "Thailand",
            "Vietnam",
            "West Bank and Gaza",
            "Yemen, Rep."
           ],
           "ids": [
            "Afghanistan",
            "Bahrain",
            "Bangladesh",
            "Cambodia",
            "China",
            "Hong Kong, China",
            "India",
            "Indonesia",
            "Iran",
            "Iraq",
            "Israel",
            "Japan",
            "Jordan",
            "Korea, Dem. Rep.",
            "Korea, Rep.",
            "Kuwait",
            "Lebanon",
            "Malaysia",
            "Mongolia",
            "Myanmar",
            "Nepal",
            "Oman",
            "Pakistan",
            "Philippines",
            "Saudi Arabia",
            "Singapore",
            "Sri Lanka",
            "Syria",
            "Taiwan",
            "Thailand",
            "Vietnam",
            "West Bank and Gaza",
            "Yemen, Rep."
           ],
           "legendgroup": "Asia",
           "marker": {
            "color": "#636efa",
            "size": {
             "bdata": "pJPHAJCFAwB/szcE7q9xALCIYTP0zD4AwLvLIdCdOgfwIdMBwoaZAFU9LwAxkGMG754YADmL4QDoPv8BztgMANLkKAA2la4ANCYUANZcsgGxZr0AeqYMAGHUIQTdUm8CNMRiANDXIACdnsYAdEBmALdU6AB5TlcCpmGpAiSgEADjBXEA",
             "dtype": "i4"
            },
            "sizemode": "area",
            "sizeref": 435928.2961983471,
            "symbol": "circle"
           },
           "mode": "markers",
           "name": "Asia",
           "orientation": "v",
           "showlegend": true,
           "type": "scatter",
           "x": {
            "bdata": "Umf/Tdkfh0CBzw8jKtfRQNUHknfesYNA0VVfAvxZekAbp3xjMyeFQHmSdM32PcBA5QmEnUKghkAKMCx/blyRQKM6HcjoxsJAOxvyzwS0wkAtCVBTd/nIQHHJcadk3cxAihwibrZ9oEC7JqQ1PuusQBTQRNjAradAWmQ73z2y+kCD+StkYj69QKEQAYcwQqZAzF1LyPc2lkAAAAAAAFB2QBRI5BZOFoVAodY07wS9xEBDOjyEwWeQQKnBNAx/FZ9A3GgAb1tB2ECWJTrL4MrAQFn60AWV9ZJAgH9KldgWpEDyQjo8DL2vQG4164xv0ZdA2l37XQPchUADRMGM0XqoQJj75CgwxJNA",
            "dtype": "f8"
           },
           "xaxis": "x",
           "y": {
            "bdata": "JQaBlUMLQkBmZmZmZqZPQMdLN4lBoEZAf2q8dJMoREABE7h1N49PQAAAAAAAAFJAF9nO91NTSUBEi2zn+5lIQMuhRbbznUtAmpmZmZl5TEC4HoXrUehRQHsUrkfhWlJA3SQGgZVDTEDn+6nx0v1PQHWTGARWTk9AIbByaJHtUEBt5/up8VpQQOF6FK5HgU9AjZduEoPgSkApXI/C9YhKQD81XrpJ/EVA/Knx0k0SSkD0/dR46fZJQLgehetRCE1AxSCwcmjxSkDTTWIQWGFRQKabxCCwQlBA2s73U+OlTEApXI/C9VhRQKRwPQrXM05AjZduEoMgSUBqvHSTGERMQAaBlUOL7ENA",
            "dtype": "f8"
           },
           "yaxis": "y"
          },
          {
           "hovertemplate": "<b>%{hovertext}</b><br><br>continent=Europe<br>year=1972<br>gdpPercap=%{x}<br>lifeExp=%{y}<br>pop=%{marker.size}<extra></extra>",
           "hovertext": [
            "Albania",
            "Austria",
            "Belgium",
            "Bosnia and Herzegovina",
            "Bulgaria",
            "Croatia",
            "Czech Republic",
            "Denmark",
            "Finland",
            "France",
            "Germany",
            "Greece",
            "Hungary",
            "Iceland",
            "Ireland",
            "Italy",
            "Montenegro",
            "Netherlands",
            "Norway",
            "Poland",
            "Portugal",
            "Romania",
            "Serbia",
            "Slovak Republic",
            "Slovenia",
            "Spain",
            "Sweden",
            "Switzerland",
            "Turkey",
            "United Kingdom"
           ],
           "ids": [
            "Albania",
            "Austria",
            "Belgium",
            "Bosnia and Herzegovina",
            "Bulgaria",
            "Croatia",
            "Czech Republic",
            "Denmark",
            "Finland",
            "France",
            "Germany",
            "Greece",
            "Hungary",
            "Iceland",
            "Ireland",
            "Italy",
            "Montenegro",
            "Netherlands",
            "Norway",
            "Poland",
            "Portugal",
            "Romania",
            "Serbia",
            "Slovak Republic",
            "Slovenia",
            "Spain",
            "Sweden",
            "Switzerland",
            "Turkey",
            "United Kingdom"
           ],
           "legendgroup": "Europe",
           "marker": {
            "color": "#EF553B",
            "size": {
             "bdata": "AooiAIkdcwAsJpQA+EU6AMjcggAeeUAADnyWAGwqTACpy0YAIF4VA6AgsQQ0oYcA65meAHsxAwAQJi4AfI09Az4NCADSZcsATAM8ALkk+AHS4IgAeEk7AcjZfgAZF0YALtsZAAmhDgK173sAeK1hANkYPAKYslcD",
             "dtype": "i4"
            },
            "sizemode": "area",
            "sizeref": 435928.2961983471,
            "symbol": "circle"
           },
           "mode": "markers",
           "name": "Europe",
           "orientation": "v",
           "showlegend": true,
           "type": "scatter",
           "x": {
            "bdata": "h4kGKdjiqUAYldQJaEXQQEFIFjAJSNBA/tR46VZYpkA1Cd6QfsW5QL4SSIkL5sFAvJaQDzqayUBau+1CjWzSQEi/fR1wC8xAKAr0iZh1z0CdLouJC5jRQN+JWS9q2shASphp+1Pcw0CwPbMkCNvOQJuRQe5incJAJhk5C6P2x0D9ogT9aWK+QOepDrmvWtJAptB5jUOF0kBOEkvKgUa/QL05XKsfn8FAZN0/FmpLv0BnJ4OjCI3EQPvNxHQV5cJAqDXNO74vyECUE+0qYMfEQIums5MBatFAyR8MPMeO2kAtW+uLZPWqQHfbheaOC89A",
            "dtype": "f8"
           },
           "xaxis": "x",
           "y": {
            "bdata": "XI/C9SjsUEC4HoXrUahRQFyPwvUo3FFAzczMzMzcUECamZmZmblRQNejcD0KZ1FAw/UoXI+SUUCuR+F6FF5SQEjhehSut1FAuB6F61EYUkAAAAAAAMBRQPYoXI/CFVJAcT0K16NwUUA9CtejcJ1SQFK4HoXr0VFAXI/C9SgMUkBkEFg5tKhRQAAAAAAAcFJA9ihcj8KVUkBmZmZmZrZRQHE9CtejUFFAPQrXo3BNUUDNzMzMzCxRQGZmZmZmllFAFK5H4Xp0UUCkcD0K10NSQK5H4XoUrlJAUrgehetxUkBxPQrXo4BMQHE9CtejAFJA",
            "dtype": "f8"
           },
           "yaxis": "y"
          },
          {
           "hovertemplate": "<b>%{hovertext}</b><br><br>continent=Africa<br>year=1972<br>gdpPercap=%{x}<br>lifeExp=%{y}<br>pop=%{marker.size}<extra></extra>",
           "hovertext": [
            "Algeria",
            "Angola",
            "Benin",
            "Botswana",
            "Burkina Faso",
            "Burundi",
            "Cameroon",
            "Central African Republic",
            "Chad",
            "Comoros",
            "Congo, Dem. Rep.",
            "Congo, Rep.",
            "Cote d'Ivoire",
            "Djibouti",
            "Egypt",
            "Equatorial Guinea",
            "Eritrea",
            "Ethiopia",
            "Gabon",
            "Gambia",
            "Ghana",
            "Guinea",
            "Guinea-Bissau",
            "Kenya",
            "Lesotho",
            "Liberia",
            "Libya",
            "Madagascar",
            "Malawi",
            "Mali",
            "Mauritania",
            "Mauritius",
            "Morocco",
            "Mozambique",
            "Namibia",
            "Niger",
            "Nigeria",
            "Reunion",
            "Rwanda",
            "Sao Tome and Principe",
            "Senegal",
            "Sierra Leone",
            "Somalia",
            "South Africa",
            "Sudan",
            "Swaziland",
            "Tanzania",
            "Togo",
            "Tunisia",
            "Uganda",
            "Zambia",
            "Zimbabwe"
           ],
           "ids": [
            "Algeria",
            "Angola",
            "Benin",
            "Botswana",
            "Burkina Faso",
            "Burundi",
            "Cameroon",
            "Central African Republic",
            "Chad",
            "Comoros",
            "Congo, Dem. Rep.",
            "Congo, Rep.",
            "Cote d'Ivoire",
            "Djibouti",
            "Egypt",
            "Equatorial Guinea",
            "Eritrea",
            "Ethiopia",
            "Gabon",
            "Gambia",
            "Ghana",
            "Guinea",
            "Guinea-Bissau",
            "Kenya",
            "Lesotho",
            "Liberia",
            "Libya",
            "Madagascar",
            "Malawi",
            "Mali",
            "Mauritania",
            "Mauritius",
            "Morocco",
            "Mozambique",
            "Namibia",
            "Niger",
            "Nigeria",
            "Reunion",
            "Rwanda",
            "Sao Tome and Principe",
            "Senegal",
            "Sierra Leone",
            "Somalia",
            "South Africa",
            "Sudan",
            "Swaziland",
            "Tanzania",
            "Togo",
            "Tunisia",
            "Uganda",
            "Zambia",
            "Zimbabwe"
           ],
           "legendgroup": "Africa",
           "marker": {
            "color": "#00cc96",
            "size": {
             "bdata": "UzvhAMryWQC/IioAV3MJAB7qUgD/3DUA5CFrAFxoHQC8fjsAq9ADALURXwEqdBQAkKVcAKC6AgB5HhMCYzwEANt8IgDEhNUBeTUIAO3jBwCIu44AOyg6ANGKCQDxybcAawoRAISfFgDFUiEAvhFsAHUwSAA+7lgAMlYUAIb9DAC+OP4AvK6VABaKDACmNk0ANQI0A0ELBwA56jwAMysBAJgERgAl7isAoZg6AEI7bQGbu94AaVMHAKFn4ACfYB8A0+xQAM19mwCBw0QAD29ZAA==",
             "dtype": "i4"
            },
            "sizemode": "area",
            "sizeref": 435928.2961983471,
            "symbol": "circle"
           },
           "mode": "markers",
           "name": "Africa",
           "orientation": "v",
           "showlegend": true,
           "type": "scatter",
           "x": {
            "bdata": "Mo6R7KlWsEAVGLK6SWG1QHpvDAEw95BAQyjv4zivoUAO2YpH47WKQDHFZpGXAX1AzJ9vC5ZQmkBrK/aXDbiQQNZwkXtqQJFA3gIJik9GnkDOM/YlK0eMQE9XdyxOGqlAu18F+GaUokB+vma5bNysQD7qr1cIoJ9AWlBzTUwDhUDBAHj6lxKAQGVIBJnzsYFAmrZ/ZflExkDY5DrXsaCHQGq/tRPlaJJAu+DCcFQth0C0aJX0y6GJQG2Oc5twGZNAv2mfM04Jf0AxYTQrCxiJQFDkSdLfhNRA8nhafkBSm0CCFOHL+USCQDUOUHXzKoJAa0lHOWjLmEAysI7j9x6kQCfChqfHKJ5AL113qVenhkBaKQRyKUStQBfNFISs0Y1AxXWMK46JmkBbs5WXqLezQMP3DzOldIJAA7Fs5vDzl0CvQzUl2faYQPm6DP8JJ5VAX3089E2ak0D0GVBv9lW+QJayDHGc7plACKwcWqxJqkD+xLdm4Z+MQNm0UgikxplAtjnObZKCpUAfSUkP47WNQPceLjn+tZtANwNtvOX6iEA=",
            "dtype": "f8"
           },
           "xaxis": "x",
           "y": {
            "bdata": "/Knx0k1CS0AQWDm0yPZCQG8Sg8DKgUdAUI2XbhIDTEDP91PjpctFQJ7vp8ZLB0ZAg8DKoUWGR0DRItv5frpFQEa28/3UyEZARrbz/dR4SEA730+Nl/5GQGq8dJMYdEtASgwCK4fmSEADK4cW2S5GQKjGSzeJkUlANV66SQxCREAZBFYOLRJGQFK4HoXrwUVAuB6F61FYSECBlUOLbCdDQAAAAAAA8EhAsp3vp8ZrQ0CR7Xw/NT5CQGQ730+Nx0pAGQRWDi3iSEA730+Nl05FQG3n+6nxYkpAsXJoke1sRkA3XrpJDOJEQJMYBFYO/UNADi2yne83SEBGtvP91HhPQHWTGARWbkpARIts5/spREDl0CLb+e5KQNnO91PjRURADgIrhxZpRUCoxks3iRFQQM3MzMzMTEZAPQrXo3A9TEC4HoXrUehGQDMzMzMzs0FABoGVQ4t8REAOAiuHFtlKQLTIdr6fikZALbKd76fGSECPwvUoXM9HQP3UeOkm4UhAkxgEVg7NS0A3XrpJDIJJQARWDi2yDUlA4XoUrkfRS0A=",
            "dtype": "f8"
           },
           "yaxis": "y"
          },
          {
           "hovertemplate": "<b>%{hovertext}</b><br><br>continent=Americas<br>year=1972<br>gdpPercap=%{x}<br>lifeExp=%{y}<br>pop=%{marker.size}<extra></extra>",
           "hovertext": [
            "Argentina",
            "Bolivia",
            "Brazil",
            "Canada",
            "Chile",
            "Colombia",
            "Costa Rica",
            "Cuba",
            "Dominican Republic",
            "Ecuador",
            "El Salvador",
            "Guatemala",
            "Haiti",
            "Honduras",
            "Jamaica",
            "Mexico",
            "Nicaragua",
            "Panama",
            "Paraguay",
            "Peru",
            "Puerto Rico",
            "Trinidad and Tobago",
            "United States",
            "Uruguay",
            "Venezuela"
           ],
           "ids": [
            "Argentina",
            "Bolivia",
            "Brazil",
            "Canada",
            "Chile",
            "Colombia",
            "Costa Rica",
            "Cuba",
            "Dominican Republic",
            "Ecuador",
            "El Salvador",
            "Guatemala",
            "Haiti",
            "Honduras",
            "Jamaica",
            "Mexico",
            "Nicaragua",
            "Panama",
            "Paraguay",
            "Peru",
            "Puerto Rico",
            "Trinidad and Tobago",
            "United States",
            "Uruguay",
            "Venezuela"
           ],
           "legendgroup": "Americas",
           "marker": {
            "color": "#ab63fa",
            "size": {
             "bdata": "Fxx6AXCrRQB6sgIG1AhUARRHlAAq+lcBLP8bAHTBhgBhR0cAGxxgADfYOQCNk04AvbBHAJo+LQAwex4ApkBWA/xOIQAAqhgAWOMnAIzu1ACccSsAX+EOAEDCggzWLCsAAbevAA==",
             "dtype": "i4"
            },
            "sizemode": "area",
            "sizeref": 435928.2961983471,
            "symbol": "circle"
           },
           "mode": "markers",
           "name": "Americas",
           "orientation": "v",
           "showlegend": true,
           "type": "scatter",
           "x": {
            "bdata": "BoNr7oRxwkDH8UOlqUinQC+JsyK2ebNApmH4iKSG0kDQ04BBBna1QAra5PBRgalAglfLnSX+s0BZFkz8cbm0QMU6Vb6/G6FAAYdQpf6gtECOWmH6PqixQM+B5QjRfq9AJ/im6dPZmUDmBdhHr8OjQJG/tKjjCb1AnvnVHGiZukDMmljgl1CyQAcU6uk/9LRAmkNSC622o0CJldHI0zG3QG9GzVeF0cFAZKvLKY3buUAoSddMgkvVQGYRiq1oR7ZACvSJPKGExEA=",
            "dtype": "f8"
           },
           "xaxis": "x",
           "y": {
            "bdata": "XI/C9SjEUEAIrBxaZFtHQI2XbhKDwE1AuB6F61E4UkCcxCCwcrhPQDu0yHa+z05AdJMYBFb2UECDwMqhRa5RQFTjpZvE0E1A2s73U+NlTUDRItv5fhpNQFg5tMh23kpATDeJQWAFSED91HjpJvFKQAAAAAAAQFFAke18PzUuT0AX2c73U5NLQOj7qfHSjVBAXI/C9Sh0UEDTTWIQWLlLQArXo3A9ClJAmpmZmZl5UED2KFyPwtVRQFCNl24SK1FAIbByaJFtUEA=",
            "dtype": "f8"
           },
           "yaxis": "y"
          },
          {
           "hovertemplate": "<b>%{hovertext}</b><br><br>continent=Oceania<br>year=1972<br>gdpPercap=%{x}<br>lifeExp=%{y}<br>pop=%{marker.size}<extra></extra>",
           "hovertext": [
            "Australia",
            "New Zealand"
           ],
           "ids": [
            "Australia",
            "New Zealand"
           ],
           "legendgroup": "Oceania",
           "marker": {
            "color": "#FFA15A",
            "size": {
             "bdata": "qBDJAMyxLAA=",
             "dtype": "i4"
            },
            "sizemode": "area",
            "sizeref": 435928.2961983471,
            "symbol": "circle"
           },
           "mode": "markers",
           "name": "Oceania",
           "orientation": "v",
           "showlegend": true,
           "type": "scatter",
           "x": {
            "bdata": "X3tmSShl0EBmTpfFBFfPQA==",
            "dtype": "f8"
           },
           "xaxis": "x",
           "y": {
            "bdata": "7FG4HoX7UUApXI/C9fhRQA==",
            "dtype": "f8"
           },
           "yaxis": "y"
          }
         ],
         "name": "1972"
        },
        {
         "data": [
          {
           "hovertemplate": "<b>%{hovertext}</b><br><br>continent=Asia<br>year=1977<br>gdpPercap=%{x}<br>lifeExp=%{y}<br>pop=%{marker.size}<extra></extra>",
           "hovertext": [
            "Afghanistan",
            "Bahrain",
            "Bangladesh",
            "Cambodia",
            "China",
            "Hong Kong, China",
            "India",
            "Indonesia",
            "Iran",
            "Iraq",
            "Israel",
            "Japan",
            "Jordan",
            "Korea, Dem. Rep.",
            "Korea, Rep.",
            "Kuwait",
            "Lebanon",
            "Malaysia",
            "Mongolia",
            "Myanmar",
            "Nepal",
            "Oman",
            "Pakistan",
            "Philippines",
            "Saudi Arabia",
            "Singapore",
            "Sri Lanka",
            "Syria",
            "Taiwan",
            "Thailand",
            "Vietnam",
            "West Bank and Gaza",
            "Yemen, Rep."
           ],
           "ids": [
            "Afghanistan",
            "Bahrain",
            "Bangladesh",
            "Cambodia",
            "China",
            "Hong Kong, China",
            "India",
            "Indonesia",
            "Iran",
            "Iraq",
            "Israel",
            "Japan",
            "Jordan",
            "Korea, Dem. Rep.",
            "Korea, Rep.",
            "Kuwait",
            "Lebanon",
            "Malaysia",
            "Mongolia",
            "Myanmar",
            "Nepal",
            "Oman",
            "Pakistan",
            "Philippines",
            "Saudi Arabia",
            "Singapore",
            "Sri Lanka",
            "Syria",
            "Taiwan",
            "Thailand",
            "Vietnam",
            "West Bank and Gaza",
            "Yemen, Rep."
           ],
           "legendgroup": "Asia",
           "marker": {
            "color": "#636efa",
            "size": {
             "bdata": "dA7jAMKJBAASPcsEL3xqABj7OzgU8UUAgBLKJQhCJghnZB0CpFG1AO5XNQBZjskG9JAdAMga+QAg+CsChWYRAAuLLwBFAcQAwFAXAJcU4QGOmtQA9VMPAO6DqASS48oC+Qd8ADR7IwDkZ9cAVwp5ACwfAAE9pqECghQDAyM+EwAWPIAA",
             "dtype": "i4"
            },
            "sizemode": "area",
            "sizeref": 435928.2961983471,
            "symbol": "circle"
           },
           "mode": "markers",
           "name": "Asia",
           "orientation": "v",
           "showlegend": true,
           "type": "scatter",
           "x": {
            "bdata": "ZaVJKeiQiEBgPIOGBuPSQP7PUJIEn4RAw038B8dngEBGcp5W5imHQEjhehQS2cVAhKlm1rJqiUDYn8TnzpqVQEDZlCtMOMdAIxXGFh6wzECu9UVCT/3JQBGN7iCYONBApIy4ALRIpkD0iqceTQqwQMNHxJQ4MbJA9Bq7RC/w7EBWC+wx2enAQOJzJ9jX561ACObo8Qu+mUAAAAAAADB3QCZ+1kbmsIVAOBCSBSwkx0A3wTdNr1+SQP8/TphoiqJAfh04Z/iu4EDTpBR0C+XFQHB4QUQaE5VAdsQhG/j2qECcFVEThdy1QCmqtwbmpJ5AVGBcBUxMhkCk4ZS5qcWsQJs6j4oPl5xA",
            "dtype": "f8"
           },
           "xaxis": "x",
           "y": {
            "bdata": "8tJNYhA4Q0DLoUW282VQQKAaL90kdkdAuB6F61E4P0CyutVz0vtPQGZmZmZmZlJAtMh2vp8aS0Bg5dAi21lKQGDl0CLb2UxAvp8aL900TkCkcD0K10NSQLgehetR2FJA/dR46SaRTkAYBFYOLcpQQBsv3SQGMVBAy6FFtvNVUUB0kxgEVoZQQKrx0k1iUFBAAyuHFtm+S0BkO99PjQdMQDu0yHa+X0dA5dAi2/muTEAv3SQGgQVLQEjhehSuB05AuB6F61FYTUB7FK5H4bJRQNv5fmq8fFBAKVyPwvWYTkD2KFyPwqVRQKwcWmQ7P09AbxKDwMrhS0BSuB6F62FOQGZmZmZmFkZA",
            "dtype": "f8"
           },
           "yaxis": "y"
          },
          {
           "hovertemplate": "<b>%{hovertext}</b><br><br>continent=Europe<br>year=1977<br>gdpPercap=%{x}<br>lifeExp=%{y}<br>pop=%{marker.size}<extra></extra>",
           "hovertext": [
            "Albania",
            "Austria",
            "Belgium",
            "Bosnia and Herzegovina",
            "Bulgaria",
            "Croatia",
            "Czech Republic",
            "Denmark",
            "Finland",
            "France",
            "Germany",
            "Greece",
            "Hungary",
            "Iceland",
            "Ireland",
            "Italy",
            "Montenegro",
            "Netherlands",
            "Norway",
            "Poland",
            "Portugal",
            "Romania",
            "Serbia",
            "Slovak Republic",
            "Slovenia",
            "Spain",
            "Sweden",
            "Switzerland",
            "Turkey",
            "United Kingdom"
           ],
           "ids": [
            "Albania",
            "Austria",
            "Belgium",
            "Bosnia and Herzegovina",
            "Bulgaria",
            "Croatia",
            "Czech Republic",
            "Denmark",
            "Finland",
            "France",
            "Germany",
            "Greece",
            "Hungary",
            "Iceland",
            "Ireland",
            "Italy",
            "Montenegro",
            "Netherlands",
            "Norway",
            "Poland",
            "Portugal",
            "Romania",
            "Serbia",
            "Slovak Republic",
            "Slovenia",
            "Spain",
            "Sweden",
            "Switzerland",
            "Turkey",
            "United Kingdom"
           ],
           "legendgroup": "Europe",
           "marker": {
            "color": "#EF553B",
            "size": {
             "bdata": "+EgmAC58cwBo3pUA8Fg+AF47hgDR5UEA+w6bAKOkTQBWT0gA2zsrA4WjqAQ/CY4Ac0+iAH9iAwDc7DEAbWVXA8mLCAA9YdMAxbE9AEZHEAKIcJMA5XtKAR+LhACbqkkA56caANgDLAIA6X0AiGFgAMEIhwI4OVkD",
             "dtype": "i4"
            },
            "sizemode": "area",
            "sizeref": 435928.2961983471,
            "symbol": "circle"
           },
           "mode": "markers",
           "name": "Europe",
           "orientation": "v",
           "showlegend": true,
           "type": "scatter",
           "x": {
            "bdata": "Q9R9AAKaq0BGlPYGW0nTQKdc4V1+q9JAzeSbbfaQq0C3QliNPby9QLMkQE2xFMZAizcyjxTozEBWDi2yufHTQOIeSx+2es5AGD4ipijd0UCGrG71OgjUQPlmmxvDuctAU67wLmvNxkBYxRuZvTHTQJD3qpV9x8VAXrpJDP7Xy0CyhSAH973CQPvL7slDttRA499nXNbD1kDyJyobEpLCQIKtEiw+3sNAVaTC2DJGwkBbXyS0VVrJQJ5BQ/9UVcVAqE2c3IPWzUAHCOboddrJQC8012nuadJAtTLhl5JZ2kBzucFQH62wQJfFxOYvBdFA",
            "dtype": "f8"
           },
           "xaxis": "x",
           "y": {
            "bdata": "7FG4HoU7UUB7FK5H4QpSQDMzMzMzM1JA16NwPQp3UUCkcD0K17NRQClcj8L1qFFAPQrXo3CtUUBcj8L1KKxSQOF6FK5HIVJAhetRuB51UkAAAAAAACBSQOxRuB6Fa1JAzczMzMx8UUDXo3A9CgdTQFK4HoXrAVJAH4XrUbheUkBOYhBYOURSQI/C9Shcz1JASOF6FK7XUkB7FK5H4apRQArXo3A9mlFAPQrXo3BdUUAzMzMzM5NRQM3MzMzMnFFArkfhehS+UUApXI/C9ZhSQFyPwvUo3FJAKVyPwvXYUkA3iUFg5cBNQHE9CtejMFJA",
            "dtype": "f8"
           },
           "yaxis": "y"
          },
          {
           "hovertemplate": "<b>%{hovertext}</b><br><br>continent=Africa<br>year=1977<br>gdpPercap=%{x}<br>lifeExp=%{y}<br>pop=%{marker.size}<extra></extra>",
           "hovertext": [
            "Algeria",
            "Angola",
            "Benin",
            "Botswana",
            "Burkina Faso",
            "Burundi",
            "Cameroon",
            "Central African Republic",
            "Chad",
            "Comoros",
            "Congo, Dem. Rep.",
            "Congo, Rep.",
            "Cote d'Ivoire",
            "Djibouti",
            "Egypt",
            "Equatorial Guinea",
            "Eritrea",
            "Ethiopia",
            "Gabon",
            "Gambia",
            "Ghana",
            "Guinea",
            "Guinea-Bissau",
            "Kenya",
            "Lesotho",
            "Liberia",
            "Libya",
            "Madagascar",
            "Malawi",
            "Mali",
            "Mauritania",
            "Mauritius",
            "Morocco",
            "Mozambique",
            "Namibia",
            "Niger",
            "Nigeria",
            "Reunion",
            "Rwanda",
            "Sao Tome and Principe",
            "Senegal",
            "Sierra Leone",
            "Somalia",
            "South Africa",
            "Sudan",
            "Swaziland",
            "Tanzania",
            "Togo",
            "Tunisia",
            "Uganda",
            "Zambia",
            "Zimbabwe"
           ],
           "ids": [
            "Algeria",
            "Angola",
            "Benin",
            "Botswana",
            "Burkina Faso",
            "Burundi",
            "Cameroon",
            "Central African Republic",
            "Chad",
            "Comoros",
            "Congo, Dem. Rep.",
            "Congo, Rep.",
            "Cote d'Ivoire",
            "Djibouti",
            "Egypt",
            "Equatorial Guinea",
            "Eritrea",
            "Ethiopia",
            "Gabon",
            "Gambia",
            "Ghana",
            "Guinea",
            "Guinea-Bissau",
            "Kenya",
            "Lesotho",
            "Liberia",
            "Libya",
            "Madagascar",
            "Malawi",
            "Mali",
            "Mauritania",
            "Mauritius",
            "Morocco",
            "Mozambique",
            "Namibia",
            "Niger",
            "Nigeria",
            "Reunion",
            "Rwanda",
            "Sao Tome and Principe",
            "Senegal",
            "Sierra Leone",
            "Somalia",
            "South Africa",
            "Sudan",
            "Swaziland",
            "Tanzania",
            "Togo",
            "Tunisia",
            "Uganda",
            "Zambia",
            "Zimbabwe"
           ],
           "legendgroup": "Africa",
           "marker": {
            "color": "#00cc96",
            "size": {
             "bdata": "JLsFAfMIXgALWDAAoOwLACbeWQAvgjoAOXV5AO0SIQCk9UIAY6YEAOYQlAEBcxcA9tJxAFZ9AwB3y08Co/ACAAJXJgDHORACP8cKABJICQBtzKAA0n9AAAxfCwA0Qt0AxBgTAMH+GQD3hykA/i16AH4EVgABDmMAMDoWAIHuDQANtxgBPMypAILoDgCms1YAlTy1Az+CBwCwD0cADFMBADdGUAAh7S8Agm5CAEz4nQFaAAUBAWoIAF1gBQHmOSMARaFbAN7UrgAmmU8Au1llAA==",
             "dtype": "i4"
            },
            "sizemode": "area",
            "sizeref": 435928.2961983471,
            "symbol": "circle"
           },
           "mode": "markers",
           "name": "Africa",
           "orientation": "v",
           "showlegend": true,
           "type": "scatter",
           "x": {
            "bdata": "a26FsGous0DOUx1yS4GnQMpt+x6lFJBA17/rM7cdqUDK8r+mGDuHQIwap3zTYIFASUkPQ7vdm0Ca7nVSf1WRQMiYu5bwt5FAzhsnhWlSkkDMft3pDt6IQGghAaNbdqlA7zmwHHmro0AT86ykhROoQMqnx7b8wqVAvYfw1Ij0jUCRr6mYD5x/QAlNt5F3ZoFA3ZiesGQ81UBBBuHACqaLQKghBarKCY9A8g9spnxVi0DloJXFzuWHQBvXv+tzzpNATZTO0fRKh0DRC4halAKEQKbQeY3Nb9VAS8lyEuogmEALD/UWyrmEQOdk84Ipc4VAW11OCfhll0BbJO1G9/2sQJyIfm09haJABgfFoB1lf0B2qnzP+EiuQAsRgTQtR4lAjGg7ps73nkDLvFXXzd+wQCyEMBKl8IRARzoDIz8mm0BSCyWTE2eYQKSMuAAkEZVAa+9TVfirlkBX0LTEply/QDpXlBL6NaFATMKFPNKKrUBY0Go38BOOQDscXaUb85dAjBNf7cBhqEDaSwl33V2KQHr7c9HA0phAjz+skrNshUA=",
            "dtype": "f8"
           },
           "xaxis": "x",
           "y": {
            "bdata": "bxKDwMoBTUDn+6nx0r1DQLgehetRmEhARrbz/dSoTUCoxks3iRFHQBSuR+F69EZAPQrXo3CtSEAzMzMzM2NHQBsv3SQGsUdA1HjpJjF4SUD0/dR46eZHQAAAAAAA0EtAHVpkO98vSkDfT42XbkJHQEa28/3UqEpAUI2XbhIDRUAUrkfhekRGQOF6FK5HQUZAhetRuB5lSkCyne+nxutEQFTjpZvE4ElAqMZLN4lhREDsUbgehbtCQKRwPQrXE0xAtMh2vp8aSkBvEoPAyuFFQH9qvHSTuExAVOOlm8RwR0AZBFYOLeJFQAisHFpk20RAkxgEVg5tSUDsUbgehTtQQD0K16Nw3UtAj8L1KFw/RUAOLbKd7zdMQGiR7Xw/pURAbxKDwMpBRkBqvHSTGMRQQAAAAAAAgEZAZmZmZmZGTUCNl24Sg3BIQL6fGi/dZEJA6SYxCKz8RED6fmq8dMNLQGZmZmZm5kdA2/l+arxESkASg8DKofVIQKjGSzeJcUpAQmDl0CLrTUDNzMzMzCxJQMUgsHJosUlAg8DKoUXWTEA=",
            "dtype": "f8"
           },
           "yaxis": "y"
          },
          {
           "hovertemplate": "<b>%{hovertext}</b><br><br>continent=Americas<br>year=1977<br>gdpPercap=%{x}<br>lifeExp=%{y}<br>pop=%{marker.size}<extra></extra>",
           "hovertext": [
            "Argentina",
            "Bolivia",
            "Brazil",
            "Canada",
            "Chile",
            "Colombia",
            "Costa Rica",
            "Cuba",
            "Dominican Republic",
            "Ecuador",
            "El Salvador",
            "Guatemala",
            "Haiti",
            "Honduras",
            "Jamaica",
            "Mexico",
            "Nicaragua",
            "Panama",
            "Paraguay",
            "Peru",
            "Puerto Rico",
            "Trinidad and Tobago",
            "United States",
            "Uruguay",
            "Venezuela"
           ],
           "ids": [
            "Argentina",
            "Bolivia",
            "Brazil",
            "Canada",
            "Chile",
            "Colombia",
            "Costa Rica",
            "Cuba",
            "Dominican Republic",
            "Ecuador",
            "El Salvador",
            "Guatemala",
            "Haiti",
            "Honduras",
            "Jamaica",
            "Mexico",
            "Nicaragua",
            "Panama",
            "Paraguay",
            "Peru",
            "Puerto Rico",
            "Trinidad and Tobago",
            "United States",
            "Uruguay",
            "Venezuela"
           ],
           "legendgroup": "Americas",
           "marker": {
            "color": "#ab63fa",
            "size": {
             "bdata": "lL2bAaSCTQDfStAGsBprAXG9oQAM6X4BKSwgAMSJkQAQ6lAAEhFvANpYQQAGB1cACuZKAIOeLgAO6SAAaObMA+b6JgCmEhwALootAFP98wB8Ai8AodoPAJiUIA2w2CsASwzOAA==",
             "dtype": "i4"
            },
            "sizemode": "area",
            "sizeref": 435928.2961983471,
            "symbol": "circle"
           },
           "mode": "markers",
           "name": "Americas",
           "orientation": "v",
           "showlegend": true,
           "type": "scatter",
           "x": {
            "bdata": "v2A3bIOvw0ABMQkXMrirQIrJG2AeBLpAGhcOhLiS1UCCj8GKw5SyQNf6IqGdz61ArMjogOAmt0Cgfhe2fuy4QAfOGVH686RA6KT3jZ8XukCu1LMg7BK0QCuhuyT+D7NAC9P3GjJJnUDScqCHagapQPt2EhEy+rlAdJoF2u36vUDoTrD/Xm61QD7pRILp57RAeZCeIr9gqUDfKHl1Som4QP5/nDBDFcNAJxqk4I3bvkA1Y9F0KILXQKuEJ/RWaLlAEce6uPmryUA=",
            "dtype": "f8"
           },
           "xaxis": "x",
           "y": {
            "bdata": "EVg5tMgeUUBt5/up8QJJQDvfT42Xvk5APQrXo3CNUkAW2c73U8NQQEJg5dAi609AAAAAAACwUUCoxks3iSlSQL6fGi/d5E5ASOF6FK6nTkAOAiuHFllMQMHKoUW2A0xAoBov3ST2SED6fmq8dLNMQNejcD0Kh1FANV66SQxCUEBcj8L1KLxMQN0kBoGVK1FAPN9PjZeWUEDwp8ZLNzlNQFyPwvUoXFJAMzMzMzMTUUC4HoXrUVhSQBFYObTIXlFAd76fGi/dUEA=",
            "dtype": "f8"
           },
           "yaxis": "y"
          },
          {
           "hovertemplate": "<b>%{hovertext}</b><br><br>continent=Oceania<br>year=1977<br>gdpPercap=%{x}<br>lifeExp=%{y}<br>pop=%{marker.size}<extra></extra>",
           "hovertext": [
            "Australia",
            "New Zealand"
           ],
           "ids": [
            "Australia",
            "New Zealand"
           ],
           "legendgroup": "Oceania",
           "marker": {
            "color": "#FFA15A",
            "size": {
             "bdata": "9MDWAORKMAA=",
             "dtype": "i4"
            },
            "sizemode": "area",
            "sizeref": 435928.2961983471,
            "symbol": "circle"
           },
           "mode": "markers",
           "name": "Oceania",
           "orientation": "v",
           "showlegend": true,
           "type": "scatter",
           "x": {
            "bdata": "qfsApIzn0UAr9pfd27TPQA==",
            "dtype": "f8"
           },
           "xaxis": "x",
           "y": {
            "bdata": "j8L1KFxfUkCuR+F6FA5SQA==",
            "dtype": "f8"
           },
           "yaxis": "y"
          }
         ],
         "name": "1977"
        },
        {
         "data": [
          {
           "hovertemplate": "<b>%{hovertext}</b><br><br>continent=Asia<br>year=1982<br>gdpPercap=%{x}<br>lifeExp=%{y}<br>pop=%{marker.size}<extra></extra>",
           "hovertext": [
            "Afghanistan",
            "Bahrain",
            "Bangladesh",
            "Cambodia",
            "China",
            "Hong Kong, China",
            "India",
            "Indonesia",
            "Iran",
            "Iraq",
            "Israel",
            "Japan",
            "Jordan",
            "Korea, Dem. Rep.",
            "Korea, Rep.",
            "Kuwait",
            "Lebanon",
            "Malaysia",
            "Mongolia",
            "Myanmar",
            "Nepal",
            "Oman",
            "Pakistan",
            "Philippines",
            "Saudi Arabia",
            "Singapore",
            "Sri Lanka",
            "Syria",
            "Taiwan",
            "Thailand",
            "Vietnam",
            "West Bank and Gaza",
            "Yemen, Rep."
           ],
           "ids": [
            "Afghanistan",
            "Bahrain",
            "Bangladesh",
            "Cambodia",
            "China",
            "Hong Kong, China",
            "India",
            "Indonesia",
            "Iran",
            "Iraq",
            "Israel",
            "Japan",
            "Jordan",
            "Korea, Dem. Rep.",
            "Korea, Rep.",
            "Kuwait",
            "Lebanon",
            "Malaysia",
            "Mongolia",
            "Myanmar",
            "Nepal",
            "Oman",
            "Pakistan",
            "Philippines",
            "Saudi Arabia",
            "Singapore",
            "Sri Lanka",
            "Syria",
            "Taiwan",
            "Thailand",
            "Vietnam",
            "West Bank and Gaza",
            "Yemen, Rep."
           ],
           "legendgroup": "Asia",
           "marker": {
            "color": "#636efa",
            "size": {
             "bdata": "mI/EAG/EBQDmM4wFJfhuAKgTnzt0VFAAADkzKhjUIwnvPJEChkTYAPXfOgC+eg8HF9AjAJ5HDQEwEVgCltkWABwaLwC8XdwAgMsaAHouEQJaCPEAONoTAMiZcwWGry8DkLurAN12KADnI+sAvpePAA5PGgEYC+kCZalYA9TBFQASXZMA",
             "dtype": "i4"
            },
            "sizemode": "area",
            "sizeref": 435928.2961983471,
            "symbol": "circle"
           },
           "mode": "markers",
           "name": "Asia",
           "orientation": "v",
           "showlegend": true,
           "type": "scatter",
           "x": {
            "bdata": "Pr85bReQjkAY7IZtycLSQIoIWtzaJ4VAo4+ex82Dg0BhVb38XhOOQBpuwOdDcMxAZDcizsm9ikA095DwfbOXQC0HeqhVuL1A8DMuHPRazECGWtO8gwPOQDfg88MG7tJAev1JfGpBsEDRH5p5hgqwQKgZUkXx9rVAX3tmSYKe3kCUCFT/hNi9QPrPmh9bOLNAxR9FnWlCn0AAAAAAAIB6QH32Ehn8coZAaNDQP2VNyUAZO+EluI2WQJQT7SqMVqRAVOOlm6Vz4EBehZSflKDNQFImNbRRwJlAvQD76KxjrUB3B3jSWgK9QJCeIodwsqJAwnrt4+IZhkDKpIY2CPCwQC5W1GA65p5A",
            "dtype": "f8"
           },
           "xaxis": "x",
           "y": {
            "bdata": "WmQ730/tQ0AW2c73U0NRQP3UeOkmAUlA0SLb+X56SUCamZmZmWFQQM3MzMzM3FJAPzVeuklMTEAxCKwcWhRMQI/C9Shcz01Avp8aL90ET0DNzMzMzJxSQNejcD0KR1NAO99PjZfeT0BmZmZmZkZRQB1aZDvfx1BAsp3vp8bTUUD0/dR46b5QQAAAAAAAAFFAO99PjZe+TEC6SQwCKwdNQHnpJjEIzEhAd76fGi9dT0BOYhBYORRMQNEi2/l+Ck9AqMZLN4mBT0BxPQrXo/BRQJzEILByMFFA9ihcj8IlUEAK16NwPQpSQJHtfD81JlBAnMQgsHJoTUBEi2zn+xlQQFg5tMh2jkhA",
            "dtype": "f8"
           },
           "yaxis": "y"
          },
          {
           "hovertemplate": "<b>%{hovertext}</b><br><br>continent=Europe<br>year=1982<br>gdpPercap=%{x}<br>lifeExp=%{y}<br>pop=%{marker.size}<extra></extra>",
           "hovertext": [
            "Albania",
            "Austria",
            "Belgium",
            "Bosnia and Herzegovina",
            "Bulgaria",
            "Croatia",
            "Czech Republic",
            "Denmark",
            "Finland",
            "France",
            "Germany",
            "Greece",
            "Hungary",
            "Iceland",
            "Ireland",
            "Italy",
            "Montenegro",
            "Netherlands",
            "Norway",
            "Poland",
            "Portugal",
            "Romania",
            "Serbia",
            "Slovak Republic",
            "Slovenia",
            "Spain",
            "Sweden",
            "Switzerland",
            "Turkey",
            "United Kingdom"
           ],
           "ids": [
            "Albania",
            "Austria",
            "Belgium",
            "Bosnia and Herzegovina",
            "Bulgaria",
            "Croatia",
            "Czech Republic",
            "Denmark",
            "Finland",
            "France",
            "Germany",
            "Greece",
            "Hungary",
            "Iceland",
            "Ireland",
            "Italy",
            "Montenegro",
            "Netherlands",
            "Norway",
            "Poland",
            "Portugal",
            "Romania",
            "Serbia",
            "Slovak Republic",
            "Slovenia",
            "Spain",
            "Sweden",
            "Switzerland",
            "Turkey",
            "United Kingdom"
           ],
           "legendgroup": "Europe",
           "marker": {
            "color": "#EF553B",
            "size": {
             "bdata": "wWsqAFWUcwAvZZYAlas/AMKuhwC4V0MA2DidAHIXTgA1p0kAHZc+AyJNqwRwVJUAf1qjAA2SAwDAGTUAVKpeA3SVCAABXNoAY8k+ADXJKAJCcpYA9iJVAXjUiQDrBk0AhGYcAE6UQwKMCH8AHrJiABcu0gL4rFsD",
             "dtype": "i4"
            },
            "sizemode": "area",
            "sizeref": 435928.2961983471,
            "symbol": "circle"
           },
           "mode": "markers",
           "name": "Europe",
           "orientation": "v",
           "showlegend": true,
           "type": "scatter",
           "x": {
            "bdata": "vHX+7cJdrEBTswdaRRfVQIHPDyP2fNRAUG7b95wesECwjuOHGBDAQEaZDTLp0slAwFsgQZ0IzkAJbTmXAi7VQOFASBZKGdJAXhH8b3nR00BRg2kY4oPVQJs4ud810s1Aumbyzf6AyEAUrkfhZrnWQE5/9iMppchA5/up8V4m0EA91SE3S+vFQEc4LXjd5dRANUbrqKiu2UAGZ/D3w4HAQLyReeTr9MZAG4LjMqjCwkAr9pfdi6bNQEOtad5FKsZAeekmMa5y0UCns5PBFTPLQGZmZmbYLtRALq2GxG2720AgQlw5W5GwQCDvVSsbztFA",
            "dtype": "f8"
           },
           "xaxis": "x",
           "y": {
            "bdata": "exSuR+GaUUDsUbgehUtSQOxRuB6Fe1JAXI/C9SisUUCF61G4HsVRQD0K16NwnVFAPQrXo3C9UUC4HoXrUahSQDMzMzMzo1JAKVyPwvW4UkAzMzMzM3NSQI/C9Shcz1JAKVyPwvVYUUCPwvUoXD9TQGZmZmZmRlJAH4XrUbi+UkBYObTIdoZSQDMzMzMzA1NArkfhehT+UkAUrkfhetRRQOF6FK5HMVJACtejcD1qUUDtfD81XopRQDMzMzMzs1FAeekmMQjEUUAzMzMzMxNTQHsUrkfhGlNAPQrXo3ANU0D4U+Olm4ROQMP1KFyPglJA",
            "dtype": "f8"
           },
           "yaxis": "y"
          },
          {
           "hovertemplate": "<b>%{hovertext}</b><br><br>continent=Africa<br>year=1982<br>gdpPercap=%{x}<br>lifeExp=%{y}<br>pop=%{marker.size}<extra></extra>",
           "hovertext": [
            "Algeria",
            "Angola",
            "Benin",
            "Botswana",
            "Burkina Faso",
            "Burundi",
            "Cameroon",
            "Central African Republic",
            "Chad",
            "Comoros",
            "Congo, Dem. Rep.",
            "Congo, Rep.",
            "Cote d'Ivoire",
            "Djibouti",
            "Egypt",
            "Equatorial Guinea",
            "Eritrea",
            "Ethiopia",
            "Gabon",
            "Gambia",
            "Ghana",
            "Guinea",
            "Guinea-Bissau",
            "Kenya",
            "Lesotho",
            "Liberia",
            "Libya",
            "Madagascar",
            "Malawi",
            "Mali",
            "Mauritania",
            "Mauritius",
            "Morocco",
            "Mozambique",
            "Namibia",
            "Niger",
            "Nigeria",
            "Reunion",
            "Rwanda",
            "Sao Tome and Principe",
            "Senegal",
            "Sierra Leone",
            "Somalia",
            "South Africa",
            "Sudan",
            "Swaziland",
            "Tanzania",
            "Togo",
            "Tunisia",
            "Uganda",
            "Zambia",
            "Zimbabwe"
           ],
           "ids": [
            "Algeria",
            "Angola",
            "Benin",
            "Botswana",
            "Burkina Faso",
            "Burundi",
            "Cameroon",
            "Central African Republic",
            "Chad",
            "Comoros",
            "Congo, Dem. Rep.",
            "Congo, Rep.",
            "Cote d'Ivoire",
            "Djibouti",
            "Egypt",
            "Equatorial Guinea",
            "Eritrea",
            "Ethiopia",
            "Gabon",
            "Gambia",
            "Ghana",
            "Guinea",
            "Guinea-Bissau",
            "Kenya",
            "Lesotho",
            "Liberia",
            "Libya",
            "Madagascar",
            "Malawi",
            "Mali",
            "Mauritania",
            "Mauritius",
            "Morocco",
            "Mozambique",
            "Namibia",
            "Niger",
            "Nigeria",
            "Reunion",
            "Rwanda",
            "Sao Tome and Principe",
            "Senegal",
            "Sierra Leone",
            "Somalia",
            "South Africa",
            "Sudan",
            "Swaziland",
            "Tanzania",
            "Togo",
            "Tunisia",
            "Uganda",
            "Zambia",
            "Zimbabwe"
           ],
           "legendgroup": "Africa",
           "marker": {
            "color": "#00cc96",
            "size": {
             "bdata": "2bAxAcAPawADkTcAa84OAGQ8ZQA65EUADyiNAKvLJQBuY0oA41EFAN+g0wGPFBsAn7mJAEerBACTDLkCK1sEAPE9KAAMikUC0oALAAPrCgCS9K0AYeBHAIOaDAAMfg0B34oVAAvcHQDKBjMAFfKLAKk5YwDwyGoAeMAYACgjDwBKNTQB1xDAAALFEABEOWIAEH5aBLLmBwDtCVQAIYEBAMfOXQBK3TQAHPFYAL0o2wHNxjYBreoJAB7NLgEdWygAEsFmAIhwxQC3FV0ALIZ0AA==",
             "dtype": "i4"
            },
            "sizemode": "area",
            "sizeref": 435928.2961983471,
            "symbol": "circle"
           },
           "mode": "markers",
           "name": "Africa",
           "orientation": "v",
           "showlegend": true,
           "type": "scatter",
           "x": {
            "bdata": "ZRu4AylxtkA5RrJH6ImlQHcRpiiX95NAIEHxYyTHsUCun/6zljmJQHZHxmrTfIFAfgG9cPd/okCK9fwfBuaNQNNTP8pD74hAi28ofGbMk0DbVg6I+w2FQAA49uyBD7NARGtFm2tVpECsUnqm736mQPiL2ZJ1X6tA8ANGTZr+jEDMHUe9AWeAQAQlYM/iDoJAj8cMVK6EzUDnIzoVeh6KQOguibNCYItAaq6JuwDKikA9gnbi/TCKQO2CwTXnEJVAr3IN2BrqiEBCcte3mOGBQIBv058R9dBAejnsvoNblECRsBRubsaDQGCMo80cUINA4Cwly5kkl0CRtYZSE9CsQME3TZ89HaVAMhaX9GHjfEDjwRa7GV+wQEWy7O7GbYxA7FG4HuWjmEBIqYQnOJO0QJCQN6+QjItAzhYQWt+InUBq+uyA67mXQEj99QoL5JZAb59VZjpjkkCkVMITIrzAQIz2eCEtnp1AJ94BnsRurkBG6uLb8FGLQIBG6dJPApVAjyCVYnfQq0CLOoQ7IVKFQNdMvtm2ApZA48nJH9emiEA=",
            "dtype": "f8"
           },
           "xaxis": "x",
           "y": {
            "bdata": "yXa+nxqvTkB/arx0k/hDQMHKoUW2c0lAy6FFtvO9TkBWDi2ynQ9IQD81XrpJvEdAYLpJDAJ7SkD2KFyPwiVIQBkEVg4twkhAgZVDi2x3SkAxCKwcWuRHQClcj8L1WExA5/up8dL9SkAOLbKd72dIQFTjpZvEAExA2/l+arzURUBSuB6F6/FFQGiR7Xw/dUZA1HjpJjFITEAK16NwPcpGQKwcWmQ730pAN166SQxyRUBg5dAi26lDQDdeukkMYk1ARIts5/uJS0CTGARWDm1GQKRwPQrXE09AeekmMQh8SEAZBFYOLdJGQGiR7Xw/9UVA6SYxCKzMSkAv3SQGga1QQDMzMzMz001A9ihcj8JlRUCWQ4ts53tNQAaBlUOLTEVAfT81XrrpRkBxPQrXo3hRQJZDi2znG0dAsXJoke0sTkCNl24SgzBKQClcj8L1OENACtejcD16RUD4U+OlmxRNQCUGgZVDK0lALIcW2c7HS0Dn+6nx0k1JQD81XrpJvEtAUI2XbhIDUEDpJjEIrOxIQA4CK4cW6UlAWDm0yHYuTkA=",
            "dtype": "f8"
           },
           "yaxis": "y"
          },
          {
           "hovertemplate": "<b>%{hovertext}</b><br><br>continent=Americas<br>year=1982<br>gdpPercap=%{x}<br>lifeExp=%{y}<br>pop=%{marker.size}<extra></extra>",
           "hovertext": [
            "Argentina",
            "Bolivia",
            "Brazil",
            "Canada",
            "Chile",
            "Colombia",
            "Costa Rica",
            "Cuba",
            "Dominican Republic",
            "Ecuador",
            "El Salvador",
            "Guatemala",
            "Haiti",
            "Honduras",
            "Jamaica",
            "Mexico",
            "Nicaragua",
            "Panama",
            "Paraguay",
            "Peru",
            "Puerto Rico",
            "Trinidad and Tobago",
            "United States",
            "Uruguay",
            "Venezuela"
           ],
           "ids": [
            "Argentina",
            "Bolivia",
            "Brazil",
            "Canada",
            "Chile",
            "Colombia",
            "Costa Rica",
            "Cuba",
            "Dominican Republic",
            "Ecuador",
            "El Salvador",
            "Guatemala",
            "Haiti",
            "Honduras",
            "Jamaica",
            "Mexico",
            "Nicaragua",
            "Panama",
            "Paraguay",
            "Peru",
            "Puerto Rico",
            "Trinidad and Tobago",
            "United States",
            "Uruguay",
            "Venezuela"
           ],
           "legendgroup": "Americas",
           "marker": {
            "color": "#ab63fa",
            "size": {
             "bdata": "vra/AfAXVgB70a8H7IyAAYhHrwCkp6cBL/4kAChflQDdEVsAGqd/APlHRADulmEAP1JPAMj9NwDFESMASCdFBF92LQBREh8AJ14zAEmRFAGZCDIAPwkRALvn1g0NEy0AnlruAA==",
             "dtype": "i4"
            },
            "sizemode": "area",
            "sizeref": 435928.2961983471,
            "symbol": "circle"
           },
           "mode": "markers",
           "name": "Americas",
           "orientation": "v",
           "showlegend": true,
           "type": "scatter",
           "x": {
            "bdata": "hXtl3vKSwUBb7PZZBamoQHLBGfzVdrtAd/hrsrJc1kC2Oc5tquezQKZiY16TLbFAtDukGLyOtEA4cw8J65S8QDfBN00vWqZAZ195kMotvEAaUdobWAKwQGO0jqp+1LJAcCTQYKNsn0D+icqGhWOoQKYKRiUNtLdA6Zyf4pLFwkDmgcgirRyrQFeXUwKaYbtAIxYx7ICisEA7qMR1gCK5QGuad5x+LcRAuOhkqcPPwUB5I/PIY2zYQFjO3hk5CLtA4gZ8fjTIxUA=",
            "dtype": "f8"
           },
           "xaxis": "x",
           "y": {
            "bdata": "PzVeukl8UUDLoUW28+1KQGC6SQwCq09AcT0K16PwUkBcj8L1KKRRQG8Sg8DKqVBAzczMzMxcUkDZzvdT421SQJMYBFYO3U9A2c73U+MVUEBaZDvfT01MQKjGSzeJEU1AYLpJDAK7SUAxCKwcWnROQD0K16NwzVFAUrgehevZUECgGi/dJKZNQJHtfD81nlFADi2yne+3UECJFtnO97NOQAAAAAAAcFJAaJHtfD81UUCamZmZmalSQOxRuB6Fs1FAz/dT46UjUUA=",
            "dtype": "f8"
           },
           "yaxis": "y"
          },
          {
           "hovertemplate": "<b>%{hovertext}</b><br><br>continent=Oceania<br>year=1982<br>gdpPercap=%{x}<br>lifeExp=%{y}<br>pop=%{marker.size}<extra></extra>",
           "hovertext": [
            "Australia",
            "New Zealand"
           ],
           "ids": [
            "Australia",
            "New Zealand"
           ],
           "legendgroup": "Oceania",
           "marker": {
            "color": "#FFA15A",
            "size": {
             "bdata": "SLHnAJr9MAA=",
             "dtype": "i4"
            },
            "sizemode": "area",
            "sizeref": 435928.2961983471,
            "symbol": "circle"
           },
           "mode": "markers",
           "name": "Oceania",
           "orientation": "v",
           "showlegend": true,
           "type": "scatter",
           "x": {
            "bdata": "ICQLmEAF00CSXP5DGjjRQA==",
            "dtype": "f8"
           },
           "xaxis": "x",
           "y": {
            "bdata": "j8L1KFyvUkD2KFyPwnVSQA==",
            "dtype": "f8"
           },
           "yaxis": "y"
          }
         ],
         "name": "1982"
        },
        {
         "data": [
          {
           "hovertemplate": "<b>%{hovertext}</b><br><br>continent=Asia<br>year=1987<br>gdpPercap=%{x}<br>lifeExp=%{y}<br>pop=%{marker.size}<extra></extra>",
           "hovertext": [
            "Afghanistan",
            "Bahrain",
            "Bangladesh",
            "Cambodia",
            "China",
            "Hong Kong, China",
            "India",
            "Indonesia",
            "Iran",
            "Iraq",
            "Israel",
            "Japan",
            "Jordan",
            "Korea, Dem. Rep.",
            "Korea, Rep.",
            "Kuwait",
            "Lebanon",
            "Malaysia",
            "Mongolia",
            "Myanmar",
            "Nepal",
            "Oman",
            "Pakistan",
            "Philippines",
            "Saudi Arabia",
            "Singapore",
            "Sri Lanka",
            "Syria",
            "Taiwan",
            "Thailand",
            "Vietnam",
            "West Bank and Gaza",
            "Yemen, Rep."
           ],
           "ids": [
            "Afghanistan",
            "Bahrain",
            "Bangladesh",
            "Cambodia",
            "China",
            "Hong Kong, China",
            "India",
            "Indonesia",
            "Iran",
            "Iraq",
            "Israel",
            "Japan",
            "Jordan",
            "Korea, Dem. Rep.",
            "Korea, Rep.",
            "Kuwait",
            "Lebanon",
            "Malaysia",
            "Mongolia",
            "Myanmar",
            "Nepal",
            "Oman",
            "Pakistan",
            "Philippines",
            "Saudi Arabia",
            "Singapore",
            "Sri Lanka",
            "Syria",
            "Taiwan",
            "Thailand",
            "Vietnam",
            "West Bank and Gaza",
            "Yemen, Rep."
           ],
           "legendgroup": "Asia",
           "marker": {
            "color": "#636efa",
            "size": {
             "bdata": "tZvTANTvBgARUS8GT75/ALgPnUB+NlUAAO33LmDyFgogxhcD1W38AIwiQAA990YHygcrAKLyIgHwGXsCn9wcAMkjLwAJNPkAnb8eACJFRAL8ZBEBGlIYAEEGRQZ8zJMDYRTfADikKgDIsvsAX42rAOd6LQEGWScD+6e+A0rOGQCMMasA",
             "dtype": "i4"
            },
            "sizemode": "area",
            "sizeref": 435928.2961983471,
            "symbol": "circle"
           },
           "mode": "markers",
           "name": "Asia",
           "orientation": "v",
           "showlegend": true,
           "type": "scatter",
           "x": {
            "bdata": "Kngb5SqjikBJ9DKKARfSQLSQgNHVf4dAZilIIipfhUD7A+W2nYuVQMmOjUCekdNAqDuq9RmEjkDKMy+HbVGbQKWkh6Hh8rlAiQeUTcm9xkCqtwa2nrjQQJv+7Ef82dVAKHy2Dq5gsUBVGFsIfgqwQFxV9l2LqsBAfNXKhJt120AtXFZhFwG1QAnBqnrNgbRA2gBsQAREokAAAAAAABB4QNF+/0EPPYhAMA3DR86w0UD1K50Pv6KaQD+MEB5FG6FAH0sfupCz1ECZgcr4YWvSQMLaGDsRU51AkWEVb4xZqEBEi2znR5fFQASsVbtOTadAoiNeQ2WmiUDBAMKHMvOzQPfKvFX3zp5A",
            "dtype": "f8"
           },
           "xaxis": "x",
           "y": {
            "bdata": "8KfGSzdpREAAAAAAALBRQEa28/3UaEpAokW28/30SkCoxks3idFQQM3MzMzMDFNAEFg5tMhGTUCoxks3iRFOQIXrUbgehU9AiUFg5dBCUEBmZmZmZuZSQHsUrkfhqlNAVg4tsp13UEDDILByaKlRQKRwPQrXc1FAQGDl0CKLUkAlBoGVQ/tQQAAAAAAAYFFAI9v5fmocTkAIrBxaZCtNQNv5fmq8REpA5dAi2/nuUECPwvUoXB9NQIxs5/upCVBAexSuR+GSUECkcD0K12NSQGMQWDm0QFFAdJMYBFa+UECamZmZmVlSQEw3iUFghVBAKVyPwvVoT0Bt5/up8cJQQLx0kxgEdkpA",
            "dtype": "f8"
           },
           "yaxis": "y"
          },
          {
           "hovertemplate": "<b>%{hovertext}</b><br><br>continent=Europe<br>year=1987<br>gdpPercap=%{x}<br>lifeExp=%{y}<br>pop=%{marker.size}<extra></extra>",
           "hovertext": [
            "Albania",
            "Austria",
            "Belgium",
            "Bosnia and Herzegovina",
            "Bulgaria",
            "Croatia",
            "Czech Republic",
            "Denmark",
            "Finland",
            "France",
            "Germany",
            "Greece",
            "Hungary",
            "Iceland",
            "Ireland",
            "Italy",
            "Montenegro",
            "Netherlands",
            "Norway",
            "Poland",
            "Portugal",
            "Romania",
            "Serbia",
            "Slovak Republic",
            "Slovenia",
            "Spain",
            "Sweden",
            "Switzerland",
            "Turkey",
            "United Kingdom"
           ],
           "ids": [
            "Albania",
            "Austria",
            "Belgium",
            "Bosnia and Herzegovina",
            "Bulgaria",
            "Croatia",
            "Czech Republic",
            "Denmark",
            "Finland",
            "France",
            "Germany",
            "Greece",
            "Hungary",
            "Iceland",
            "Ireland",
            "Italy",
            "Montenegro",
            "Netherlands",
            "Norway",
            "Poland",
            "Portugal",
            "Romania",
            "Serbia",
            "Slovak Republic",
            "Slovenia",
            "Spain",
            "Sweden",
            "Switzerland",
            "Turkey",
            "United Kingdom"
           ],
           "legendgroup": "Europe",
           "marker": {
            "color": "#EF553B",
            "size": {
             "bdata": "+ewuABelcwB4m5YAITVCALbmiADWbEQArVedAHA7TgCRQEsAFNlQAxrjoQTaMpgABPChAMS7AwC8AzYAZ6BhA4GwCAA+xt8AI+A/AKbgPwKZS5cAoypaAb/ZjADWVU8ADrEdAL5FUQIbgIAAVnhlALDnJgN0eGUD",
             "dtype": "i4"
            },
            "sizemode": "area",
            "sizeref": 435928.2961983471,
            "symbol": "circle"
           },
           "mode": "markers",
           "name": "Europe",
           "orientation": "v",
           "showlegend": true,
           "type": "scatter",
           "x": {
            "bdata": "qyFxj901rUCNtFTe9CHXQEKygAlk/9VA/fm2YB3asEDrcd9q7RfAQGrBi75K/8pAhslUwTjbz0AUlnhAC4fYQIJWYMhApdRAEJIFTJyM1UALe9rhyw/YQMSUSKJDfM9AXhH8bz1dyUB0B7EzzUraQKqaIOpuGMtAHXdKB8/B0kCzJEBNQerGQKq3BrbUGNdACYofYz7N3kCjPzTzLL3BQCibcoWnd8lAlZ9U+yLwwkCbAwRzcP/OQIi6D0CigsdAfhghPKI90kDcLjTXfcrOQMrgKHm7CNdAxqcAGG2S3UBLdQEvC+GzQINuL2kyKNVA",
            "dtype": "f8"
           },
           "xaxis": "x",
           "y": {
            "bdata": "AAAAAAAAUkBcj8L1KLxSQGZmZmZm1lJAKVyPwvXIUUD2KFyPwtVRQOF6FK5H4VFAhetRuB7lUUAzMzMzM7NSQIXrUbgetVJA9ihcj8IVU0CR7Xw/NbZSQHsUrkfhKlNAhetRuB5lUUAfhetRuE5TQNejcD0Kl1JAexSuR+EaU0CPwvUoXLdSQIXrUbgeNVNAKVyPwvX4UkAfhetRuL5RQKRwPQrXg1JAUrgehethUUDLoUW2881RQIXrUbgexVFAAAAAAAAQUkCamZmZmTlTQFyPwvUoTFNACtejcD1aU0Dn+6nx0o1PQJzEILBywFJA",
            "dtype": "f8"
           },
           "yaxis": "y"
          },
          {
           "hovertemplate": "<b>%{hovertext}</b><br><br>continent=Africa<br>year=1987<br>gdpPercap=%{x}<br>lifeExp=%{y}<br>pop=%{marker.size}<extra></extra>",
           "hovertext": [
            "Algeria",
            "Angola",
            "Benin",
            "Botswana",
            "Burkina Faso",
            "Burundi",
            "Cameroon",
            "Central African Republic",
            "Chad",
            "Comoros",
            "Congo, Dem. Rep.",
            "Congo, Rep.",
            "Cote d'Ivoire",
            "Djibouti",
            "Egypt",
            "Equatorial Guinea",
            "Eritrea",
            "Ethiopia",
            "Gabon",
            "Gambia",
            "Ghana",
            "Guinea",
            "Guinea-Bissau",
            "Kenya",
            "Lesotho",
            "Liberia",
            "Libya",
            "Madagascar",
            "Malawi",
            "Mali",
            "Mauritania",
            "Mauritius",
            "Morocco",
            "Mozambique",
            "Namibia",
            "Niger",
            "Nigeria",
            "Reunion",
            "Rwanda",
            "Sao Tome and Principe",
            "Senegal",
            "Sierra Leone",
            "Somalia",
            "South Africa",
            "Sudan",
            "Swaziland",
            "Tanzania",
            "Togo",
            "Tunisia",
            "Uganda",
            "Zambia",
            "Zimbabwe"
           ],
           "ids": [
            "Algeria",
            "Angola",
            "Benin",
            "Botswana",
            "Burkina Faso",
            "Burundi",
            "Cameroon",
            "Central African Republic",
            "Chad",
            "Comoros",
            "Congo, Dem. Rep.",
            "Congo, Rep.",
            "Cote d'Ivoire",
            "Djibouti",
            "Egypt",
            "Equatorial Guinea",
            "Eritrea",
            "Ethiopia",
            "Gabon",
            "Gambia",
            "Ghana",
            "Guinea",
            "Guinea-Bissau",
            "Kenya",
            "Lesotho",
            "Liberia",
            "Libya",
            "Madagascar",
            "Malawi",
            "Mali",
            "Mauritania",
            "Mauritius",
            "Morocco",
            "Mozambique",
            "Namibia",
            "Niger",
            "Nigeria",
            "Reunion",
            "Rwanda",
            "Sao Tome and Principe",
            "Senegal",
            "Sierra Leone",
            "Somalia",
            "South Africa",
            "Sudan",
            "Swaziland",
            "Tanzania",
            "Togo",
            "Tunisia",
            "Uganda",
            "Zambia",
            "Zimbabwe"
           ],
           "legendgroup": "Africa",
           "marker": {
            "color": "#00cc96",
            "size": {
             "bdata": "rNdiAbYmeABMwUAA0JARAPfCcwCHN04A+3+kAMlVKwBL6FMAagcGAC1oHQLffh8AijOkAPG+BABWpiUD/DQFAHd+LADqHpACDW8NABbyDAAlMNgAVjdWACQnDgACdUMB4GYYAOagIgAl+zkAwkOhAGtldwBYfHQAWBgcAOfoDwCFwl4BMLfEAOiAEwAe428AoGDcBHOTCAA14mAA3LABABNtbQDpCDsAgp5pAMNMJALISXkBVOQLAHaSXwFYITAAsN91AGoz6QDW924AoqGMAA==",
             "dtype": "i4"
            },
            "sizemode": "area",
            "sizeref": 435928.2961983471,
            "symbol": "circle"
           },
           "mode": "markers",
           "name": "Africa",
           "orientation": "v",
           "showlegend": true,
           "type": "scatter",
           "x": {
            "bdata": "Vz82yVsxtkDLSL2navyiQDKs4o1sJ5NAklz+Q+I9uEAchG9QgYCMQMVm7PCMboNAnQ/PElRVpECznv/DAmeKQEwYzcoWw41AGR77WeyPlEBjRKLQMgaFQMYnZOcxabBAcj/ggenZoEA7+8qDNICmQOFdLuLrWq5AhlBKrSw3jkBwxnq0EkmAQH2oIzbu7YFAMA3DRzQsx0Dc6PdYRR2DQIMUPIUMeIpADlcYbJQsiUAi5Be5UgOHQD/kLVe/R5VAZ+s7GvIviECTPghc0qF/QJf/kH5L/cZAIToEjsQNkkAsGWyPI9yDQAtLl1lfYYVAmrLTD2o2lkDtZkY/lq+yQGpQNA8YhqVAJKQk2gReeEC2os1xdtusQG+QWnJm4oRAsFjDRR6klUCitg2jYLe0QOqxLQPuf4pA0VlmERqyl0BLdmwE4oaWQCz+74jKOZRA7KaU1/oUkUCYGTbK0pG+QOXsndFGj5dAlKXW+60hr0C5TV2ek/6JQML2kzHOyJJAsB73rdbErUAUlKKVy02DQMnJxK1C9ZJAvn+YKUIRhkA=",
            "dtype": "f8"
           },
           "xaxis": "x",
           "y": {
            "bdata": "QWDl0CJzUECHFtnO9/NDQEJg5dAiK0pAVg4tsp3PT0Ce76fGS8dIQGC6SQwCG0hArkfhehR+S0CuR+F6FD5JQEoMAiuHhklASgwCK4d2S0Db+X5qvLRHQFyPwvUovExApHA9CtdTS0CF61G4HgVJQLx0kxgE5k1AokW28/3URkBEi2zn+zlHQGQ730+NV0dAuB6F61EYTkBSuB6F66FIQFpkO99P3UtALbKd76fGRkCPwvUoXJ9EQAisHFpkq01A16NwPQqXTED6fmq8dANHQOXQItv5jlBAzczMzMysSEDRItv5frpHQDvfT42XLkdAw/UoXI8STECPwvUoXC9RQC2yne+nVk9Ake18PzVuRUB7FK5H4WpOQNejcD0KR0ZAxSCwcmhxR0DfT42XbvpRQMP1KFyPAkZAd76fGi/dTkDfT42XbuJLQFTjpZvEAERA5aWbxCBARkCYbhKDwGpOQKwcWmQ730lAEFg5tMjWTEAUrkfhesRJQJzEILByeExA76fGSze5UED91HjpJsFJQA4CK4cWaUlAsXJoke0sT0A=",
            "dtype": "f8"
           },
           "yaxis": "y"
          },
          {
           "hovertemplate": "<b>%{hovertext}</b><br><br>continent=Americas<br>year=1987<br>gdpPercap=%{x}<br>lifeExp=%{y}<br>pop=%{marker.size}<extra></extra>",
           "hovertext": [
            "Argentina",
            "Bolivia",
            "Brazil",
            "Canada",
            "Chile",
            "Colombia",
            "Costa Rica",
            "Cuba",
            "Dominican Republic",
            "Ecuador",
            "El Salvador",
            "Guatemala",
            "Haiti",
            "Honduras",
            "Jamaica",
            "Mexico",
            "Nicaragua",
            "Panama",
            "Paraguay",
            "Peru",
            "Puerto Rico",
            "Trinidad and Tobago",
            "United States",
            "Uruguay",
            "Venezuela"
           ],
           "ids": [
            "Argentina",
            "Bolivia",
            "Brazil",
            "Canada",
            "Chile",
            "Colombia",
            "Costa Rica",
            "Cuba",
            "Dominican Republic",
            "Ecuador",
            "El Salvador",
            "Guatemala",
            "Haiti",
            "Honduras",
            "Jamaica",
            "Mexico",
            "Nicaragua",
            "Panama",
            "Paraguay",
            "Peru",
            "Puerto Rico",
            "Trinidad and Tobago",
            "United States",
            "Uruguay",
            "Venezuela"
           ],
           "legendgroup": "Americas",
           "marker": {
            "color": "#ab63fa",
            "size": {
             "bdata": "Nn/iAVHwXQDcD4UIxB2VAfosvgAVetgBw7gqAF8/nABBjWUAxqWRANLiSQDGym8AK9VXAOu2QgBOgCMAfJLGBOEHMwBHYyIAsE07AFQqNAH0jjQAqC0SAE3jeA4hdy4ApkkRAQ==",
             "dtype": "i4"
            },
            "sizemode": "area",
            "sizeref": 435928.2961983471,
            "symbol": "circle"
           },
           "mode": "markers",
           "name": "Americas",
           "orientation": "v",
           "showlegend": true,
           "type": "scatter",
           "x": {
            "bdata": "8iIT8NXZwUAGL/oKYoOlQGBIh4cYf75AnWNA9qAA2kD9oC5SEKu1QI4G8BY4J7NAcctHUur9tUCMmUS97Gy9QAXFjzGvp6ZAOWQD6cZRuUCp3EQtcSywQLXEymh8lrBAmUf+YBB8nEAdBYiCMZ6nQPfpeMw8z7hAigPo9xP4wEAAAAAA+BenQFJlGHfHertAi1QYW8A9r0CcxYuF8di4QBb2tMOr/MdAzJntCpncvECOEB5tFi/dQB4X1SJmHL1A1uO+1cpNw0A=",
            "dtype": "f8"
           },
           "xaxis": "x",
           "y": {
            "bdata": "qMZLN4mxUUDlpZvEIKBMQIXrUbgeTVBA16NwPQo3U0BzaJHtfB9SQP7UeOkm8VBA46WbxCCwUkBAYOXQIotSQG3n+6nxglBAEVg5tMjOUEDByqFFtpNPQGq8dJMYZE5AxSCwcmjRSkBzaJHtfB9QQOF6FK5H8VFAHVpkO99fUUAbL90kBgFPQLbz/dR44VFA1XjpJjHYUEB/arx0kwhQQLgehetRqFJAaJHtfD9lUUDhehSuR8FSQJhuEoPA+lFAXI/C9SiMUUA=",
            "dtype": "f8"
           },
           "yaxis": "y"
          },
          {
           "hovertemplate": "<b>%{hovertext}</b><br><br>continent=Oceania<br>year=1987<br>gdpPercap=%{x}<br>lifeExp=%{y}<br>pop=%{marker.size}<extra></extra>",
           "hovertext": [
            "Australia",
            "New Zealand"
           ],
           "ids": [
            "Australia",
            "New Zealand"
           ],
           "legendgroup": "Oceania",
           "marker": {
            "color": "#FFA15A",
            "size": {
             "bdata": "4RD4AK6dMgA=",
             "dtype": "i4"
            },
            "sizemode": "area",
            "sizeref": 435928.2961983471,
            "symbol": "circle"
           },
           "mode": "markers",
           "name": "Oceania",
           "orientation": "v",
           "showlegend": true,
           "type": "scatter",
           "x": {
            "bdata": "yhXe5Thg1UCDaRg+zI/SQA==",
            "dtype": "f8"
           },
           "xaxis": "x",
           "y": {
            "bdata": "FK5H4XoUU0AUrkfhepRSQA==",
            "dtype": "f8"
           },
           "yaxis": "y"
          }
         ],
         "name": "1987"
        },
        {
         "data": [
          {
           "hovertemplate": "<b>%{hovertext}</b><br><br>continent=Asia<br>year=1992<br>gdpPercap=%{x}<br>lifeExp=%{y}<br>pop=%{marker.size}<extra></extra>",
           "hovertext": [
            "Afghanistan",
            "Bahrain",
            "Bangladesh",
            "Cambodia",
            "China",
            "Hong Kong, China",
            "India",
            "Indonesia",
            "Iran",
            "Iraq",
            "Israel",
            "Japan",
            "Jordan",
            "Korea, Dem. Rep.",
            "Korea, Rep.",
            "Kuwait",
            "Lebanon",
            "Malaysia",
            "Mongolia",
            "Myanmar",
            "Nepal",
            "Oman",
            "Pakistan",
            "Philippines",
            "Saudi Arabia",
            "Singapore",
            "Sri Lanka",
            "Syria",
            "Taiwan",
            "Thailand",
            "Vietnam",
            "West Bank and Gaza",
            "Yemen, Rep."
           ],
           "ids": [
            "Afghanistan",
            "Bahrain",
            "Bangladesh",
            "Cambodia",
            "China",
            "Hong Kong, China",
            "India",
            "Indonesia",
            "Iran",
            "Iraq",
            "Israel",
            "Japan",
            "Jordan",
            "Korea, Dem. Rep.",
            "Korea, Rep.",
            "Kuwait",
            "Lebanon",
            "Malaysia",
            "Mongolia",
            "Myanmar",
            "Nepal",
            "Oman",
            "Pakistan",
            "Philippines",
            "Saudi Arabia",
            "Singapore",
            "Sri Lanka",
            "Syria",
            "Taiwan",
            "Thailand",
            "Vietnam",
            "West Bank and Gaza",
            "Yemen, Rep."
           ],
           "legendgroup": "Asia",
           "marker": {
            "color": "#636efa",
            "size": {
             "bdata": "4f34AFMUCACD/sYGzuCaABAIcEVA9FgAAKr5M4ARBAuVmZkDEY0QAWZTSwA1HWkHEQM7AM8HPAEKa5wCb6MVABoiMQCOiBcBYkojAOqwagJBJzYBSDkdAOwLKAdmLAEEwZICARlgMQB0WwwB9rTJAEaoOwHXq2AD+DUrBMsdIAC9+ssA",
             "dtype": "i4"
            },
            "sizemode": "area",
            "sizeref": 435928.2961983471,
            "symbol": "circle"
           },
           "mode": "markers",
           "name": "Asia",
           "orientation": "v",
           "showlegend": true,
           "type": "scatter",
           "x": {
            "bdata": "GRhoLbtKhEA1DB8R5ZbSQBenazd7LopAlstG52xShUCWk1D6It+ZQEpBt5dmLdhA4NqJkqAxkkAlXMgjSJ6iQCIqVDenQ7xA8l8gCEhDrUC3nEtx4aDRQBV0e0k5MtpAveR/8i/PqkAiUP2DIBytQF/SGK0jpMdA9wFIbZ0O4UCm1vuNzuq6QLlRZK3pbbxA4BEVqpvlm0AAAAAAALB1QAfKEkLsDYxAznADPi0u0kDWxAJfUc+eQLRkjuWlzqFAnS6LiWdC2ECMuWsJeTDYQPhUTnt606BAofKv5RUZqkAFNBE21LfNQGYe+YPlCLJAj+uVaC/ojkDc1haep4G3QDrP2Jf8XZ1A",
            "dtype": "f8"
           },
           "xaxis": "x",
           "y": {
            "bdata": "g8DKoUXWREBYObTIdiZSQPyp8dJNAkxAEFg5tMjmS0Bcj8L1KCxRQFg5tMh2ZlNABoGVQ4scTkC6SQwCK1dPQHNoke18b1BAYLpJDAK7TUDsUbgehTtTQNejcD0K11NAKVyPwvUAUUA830+Nl35RQFYOLbKdD1JAXI/C9SjMUkCmm8QgsFJRQDEIrBxarFFAppvEILCiTkApXI/C9ahNQJMYBFYO3UtA+FPjpZvMUUAlBoGVQ2tOQFpkO99PnVBA/tR46SYxUUDfT42XbvJSQMVLN4lBmFFADi2yne9PUUBxPQrXo5BSQFCNl24S01BA7Xw/NV7qUEDLoUW2821RQOkmMQiszEtA",
            "dtype": "f8"
           },
           "yaxis": "y"
          },
          {
           "hovertemplate": "<b>%{hovertext}</b><br><br>continent=Europe<br>year=1992<br>gdpPercap=%{x}<br>lifeExp=%{y}<br>pop=%{marker.size}<extra></extra>",
           "hovertext": [
            "Albania",
            "Austria",
            "Belgium",
            "Bosnia and Herzegovina",
            "Bulgaria",
            "Croatia",
            "Czech Republic",
            "Denmark",
            "Finland",
            "France",
            "Germany",
            "Greece",
            "Hungary",
            "Iceland",
            "Ireland",
            "Italy",
            "Montenegro",
            "Netherlands",
            "Norway",
            "Poland",
            "Portugal",
            "Romania",
            "Serbia",
            "Slovak Republic",
            "Slovenia",
            "Spain",
            "Sweden",
            "Switzerland",
            "Turkey",
            "United Kingdom"
           ],
           "ids": [
            "Albania",
            "Austria",
            "Belgium",
            "Bosnia and Herzegovina",
            "Bulgaria",
            "Croatia",
            "Czech Republic",
            "Denmark",
            "Finland",
            "France",
            "Germany",
            "Greece",
            "Hungary",
            "Iceland",
            "Ireland",
            "Italy",
            "Montenegro",
            "Netherlands",
            "Norway",
            "Poland",
            "Portugal",
            "Romania",
            "Serbia",
            "Slovak Republic",
            "Slovenia",
            "Spain",
            "Sweden",
            "Switzerland",
            "Turkey",
            "United Kingdom"
           ],
           "legendgroup": "Europe",
           "marker": {
            "color": "#EF553B",
            "size": {
             "bdata": "IsIyANnFeAC2SJkADfFAAEoehAC9kkQAtmedAMHoTgCP60wA43VrAwTTzQS1jZ0AjOidAMTzAwCBSTYAj1JjAzV8CQBkiucAlWdBAIl9SQIAfJcA49pbAV3wlQBo6lAAaoEeAP55WwITCoUA971qAEi+dwNt+HID",
             "dtype": "i4"
            },
            "sizemode": "area",
            "sizeref": 435928.2961983471,
            "symbol": "circle"
           },
           "mode": "markers",
           "name": "Europe",
           "orientation": "v",
           "showlegend": true,
           "type": "scatter",
           "x": {
            "bdata": "xVOPNOCCo0BGmQ0ygWjaQIpZL4bk+dhAPx2PGZDlo0AX/aGZn564QL0BZr7lf8BAA0NWt4Lsy0B90LNZr8nZQIs3Mo/KKdRALSEf9PIf2EDIJCNnU+LZQO3YCMRfIdFA845TdNCTxEBtHLEWGY7YQJCg+DG0JdFAoOBiRWl/1UAk+yDLVlu7QH0Faca8KdpAeAskKLWV4ECzRGeZ4Tq+QBKN7iCip89AiCtn72jGuUAs1QW8iDbCQEvmWN47jcJAuRluwFvDy0B8fhghxCrSQOYivhMBUtdARGlv8OEf30Aly0koWS62QGXkLOxFLNZA",
            "dtype": "f8"
           },
           "xaxis": "x",
           "y": {
            "bdata": "d76fGi/lUUDD9ShcjwJTQD0K16NwHVNACKwcWmQLUkBcj8L1KMxRQH0/NV66IVJAmpmZmZkZUkCF61G4HtVSQM3MzMzM7FJAPQrXo3BdU0AUrkfhegRTQFK4HoXrQVNAexSuR+FKUUDhehSuR7FTQNnO91Pj3VJAXI/C9ShcU0CkcD0K19tSQHsUrkfhWlNAFK5H4XpUU0CPwvUoXL9RQNejcD0Kt1JA16NwPQpXUUAXBFYOLepRQLgehetR2FFAKVyPwvVoUkAUrkfhemRTQArXo3A9ilNAUrgeheuBU0DTTWIQWIlQQHsUrkfhGlNA",
            "dtype": "f8"
           },
           "yaxis": "y"
          },
          {
           "hovertemplate": "<b>%{hovertext}</b><br><br>continent=Africa<br>year=1992<br>gdpPercap=%{x}<br>lifeExp=%{y}<br>pop=%{marker.size}<extra></extra>",
           "hovertext": [
            "Algeria",
            "Angola",
            "Benin",
            "Botswana",
            "Burkina Faso",
            "Burundi",
            "Cameroon",
            "Central African Republic",
            "Chad",
            "Comoros",
            "Congo, Dem. Rep.",
            "Congo, Rep.",
            "Cote d'Ivoire",
            "Djibouti",
            "Egypt",
            "Equatorial Guinea",
            "Eritrea",
            "Ethiopia",
            "Gabon",
            "Gambia",
            "Ghana",
            "Guinea",
            "Guinea-Bissau",
            "Kenya",
            "Lesotho",
            "Liberia",
            "Libya",
            "Madagascar",
            "Malawi",
            "Mali",
            "Mauritania",
            "Mauritius",
            "Morocco",
            "Mozambique",
            "Namibia",
            "Niger",
            "Nigeria",
            "Reunion",
            "Rwanda",
            "Sao Tome and Principe",
            "Senegal",
            "Sierra Leone",
            "Somalia",
            "South Africa",
            "Sudan",
            "Swaziland",
            "Tanzania",
            "Togo",
            "Tunisia",
            "Uganda",
            "Zambia",
            "Zimbabwe"
           ],
           "ids": [
            "Algeria",
            "Angola",
            "Benin",
            "Botswana",
            "Burkina Faso",
            "Burundi",
            "Cameroon",
            "Central African Republic",
            "Chad",
            "Comoros",
            "Congo, Dem. Rep.",
            "Congo, Rep.",
            "Cote d'Ivoire",
            "Djibouti",
            "Egypt",
            "Equatorial Guinea",
            "Eritrea",
            "Ethiopia",
            "Gabon",
            "Gambia",
            "Ghana",
            "Guinea",
            "Guinea-Bissau",
            "Kenya",
            "Lesotho",
            "Liberia",
            "Libya",
            "Madagascar",
            "Malawi",
            "Mali",
            "Mauritania",
            "Mauritius",
            "Morocco",
            "Mozambique",
            "Namibia",
            "Niger",
            "Nigeria",
            "Reunion",
            "Rwanda",
            "Sao Tome and Principe",
            "Senegal",
            "Sierra Leone",
            "Somalia",
            "South Africa",
            "Sudan",
            "Swaziland",
            "Tanzania",
            "Togo",
            "Tunisia",
            "Uganda",
            "Zambia",
            "Zimbabwe"
           ],
           "legendgroup": "Africa",
           "marker": {
            "color": "#00cc96",
            "size": {
             "bdata": "BUiRAfRMhQCnA0wAlnwUAN94hwBUpFgA4zu+AGTSMQDpGmIAHe8GAM/dewJxwiQA9OTCAJzcBQDWZ4oD/uoFANj5NwDvzhoDiwoPAGilDwDSZPgA7qpqADoJEAB7yH0Bu4MbAI4wHQDVmEIA21C6ACnOmADXa4AAKVcgAAq6EABfpokBG9HIAE23FwByEIAAFKCQBW9+CQBbPW8A1+sBANDEfgAUBEEAVxNdAP/NYQIEuK4BKK8OAKH3lQHhLjkARQ2CAJ6BFgHr4n8A1FWjAA==",
             "dtype": "i4"
            },
            "sizemode": "area",
            "sizeref": 435928.2961983471,
            "symbol": "circle"
           },
           "mode": "markers",
           "name": "Africa",
           "orientation": "v",
           "showlegend": true,
           "type": "scatter",
           "x": {
            "bdata": "x4Mtdjefs0Bv05/9sIekQAH8U6rUnJJAw0fElBwSv0B4LuetBR6NQJIxiFmZvYNAoRhZMqcEnECi/f6DPl+HQIj029dBiJBAfO2ZJaF7k0ChJp/DgZt8QOOKi6N6YK9A9S7ej0vAmUDN12X4T5KiQDVG66iCpa1ArDjVWjiwkUBEgpg63jaCQFX8OsunVXpAPIidKRRpykCvgQjM/syEQMo1BTJ76IxAXWUSmsnSiECTWK2nUUyHQCc8odev95RAjiPW4uOLjkBvVAK9++SDQLuYZroR1MJAh78ma7RCkEDOwTOhmZmBQArXo3AdGIdAViqoqHpFlUA6LA38QKq3QFcFajEYCKdAV4wEZFmueUCQ3Jp0E7mtQEtZhjh2KYJApUv/kmRPmUCRup19QdW3QGGhe3uMCIdAfPFFexxTlkAl6C/0mF+VQLKbGf3IspBAuwPhr673jED6bOS6ETm8QJ/jo8XJUJdA3EYDeAvCq0AyWHGqdc2JQJPi4xMyKZBAwvuqXLjssEAP3sPKXSGEQNmvO92J65JABjXXxF2rhUA=",
            "dtype": "f8"
           },
           "xaxis": "x",
           "y": {
            "bdata": "Vg4tsp3vUECJQWDl0FJEQBKDwMqh9UpAj8L1KFxfT0DhehSuRyFJQJHtfD81XkZA1HjpJjEoS0Cmm8QgsLJIQOkmMQis3ElA1HjpJjH4TECgGi/dJMZGQIGVQ4tsN0xAEoPAyqEFSkBaZDvfT81JQIPAyqFF1k9A9ihcj8LFR0ADK4cW2f5IQM/3U+OlC0hAAyuHFtmuTkDfT42XblJKQOWlm8QgwExAfT81XrpJSEA3XrpJDKJFQBSuR+F6pE1ASOF6FK7XTUAtsp3vp2ZEQLgehetRMFFACKwcWmQbSkD2KFyPwrVIQI1s5/upMUhAtMh2vp8qTUBI4XoUrm9RQP7UeOkmWVBAMQisHFokRkAdWmQ73/9OQDdeukkMskdAI9v5fmq8R0CPwvUoXGdSQNNNYhBYmTdA5dAi2/leT0AOAiuHFhlNQLTIdr6fKkNATmIQWDnUQ0CNbOf7qfFOQLpJDAIrx0pA6SYxCKw8TUC4HoXrUThJQCyHFtnOB01A8tJNYhCAUUCamZmZmWlIQM3MzMzMDEdAx0s3iUEwTkA=",
            "dtype": "f8"
           },
           "yaxis": "y"
          },
          {
           "hovertemplate": "<b>%{hovertext}</b><br><br>continent=Americas<br>year=1992<br>gdpPercap=%{x}<br>lifeExp=%{y}<br>pop=%{marker.size}<extra></extra>",
           "hovertext": [
            "Argentina",
            "Bolivia",
            "Brazil",
            "Canada",
            "Chile",
            "Colombia",
            "Costa Rica",
            "Cuba",
            "Dominican Republic",
            "Ecuador",
            "El Salvador",
            "Guatemala",
            "Haiti",
            "Honduras",
            "Jamaica",
            "Mexico",
            "Nicaragua",
            "Panama",
            "Paraguay",
            "Peru",
            "Puerto Rico",
            "Trinidad and Tobago",
            "United States",
            "Uruguay",
            "Venezuela"
           ],
           "ids": [
            "Argentina",
            "Bolivia",
            "Brazil",
            "Canada",
            "Chile",
            "Colombia",
            "Costa Rica",
            "Cuba",
            "Dominican Republic",
            "Ecuador",
            "El Salvador",
            "Guatemala",
            "Haiti",
            "Honduras",
            "Jamaica",
            "Mexico",
            "Nicaragua",
            "Panama",
            "Paraguay",
            "Peru",
            "Puerto Rico",
            "Trinidad and Tobago",
            "United States",
            "Uruguay",
            "Venezuela"
           ],
           "legendgroup": "Americas",
           "marker": {
            "color": "#ab63fa",
            "size": {
             "bdata": "IywGAosvaQAmAUwJ7juzAYIbzwBh5AkCYGswALyfowCNK3AA6gGkABl8UAAlgIEAmolgAGN5TQB6SyQAtndABRNPPQAF6yUAaWtEAPFCVgGYtDYAtQ8SAO3kTw/ODTAAWzo1AQ==",
             "dtype": "i4"
            },
            "sizemode": "area",
            "sizeref": 435928.2961983471,
            "symbol": "circle"
           },
           "mode": "markers",
           "name": "Americas",
           "orientation": "v",
           "showlegend": true,
           "type": "scatter",
           "x": {
            "bdata": "QQ5KmDUuwkBqvko+ZiOnQBNzEHRIJrtASkG3l7i52UB5PC0/IKy9QKGCwwumRLVAxTvAk2oQuEAJjPUN2Ni1QLEYda1tyKdAVxNE3bO/u0B88rBQO1yxQLsPQGpzV7FAOUIG8jzBlkBoIQGjYxOoQM7Cnnbs7LxAghyUMDGAwkAJpMSuTfSgQEtZhji+2rlAG2ZoPGlksEBDOjyEYV6xQJSkaybLmMxAjzS4rf3KvEAB9tGp+0DfQNc07zgByb9A+3lTkfb2xEA=",
            "dtype": "f8"
           },
           "xaxis": "x",
           "y": {
            "bdata": "ZDvfT433UUDRItv5fvpNQM/3U+Olw1BAzczMzMx8U0Dy0k1iEIhSQG3n+6nxGlFAFIPAyqHtUkDRItv5fppSQGiR7Xw/HVFArBxaZDtnUUBQjZduErNQQDu0yHa+r09ACKwcWmSLS0Coxks3iZlQQBsv3SQG8VFAhetRuB7dUUDLoUW283VQQCGwcmiRHVJAZmZmZmYOUUBaZDvfT51QQPyp8dJNelJAukkMAit3UUD2KFyPwgVTQOOlm8QgMFJAmpmZmZnJUUA=",
            "dtype": "f8"
           },
           "yaxis": "y"
          },
          {
           "hovertemplate": "<b>%{hovertext}</b><br><br>continent=Oceania<br>year=1992<br>gdpPercap=%{x}<br>lifeExp=%{y}<br>pop=%{marker.size}<extra></extra>",
           "hovertext": [
            "Australia",
            "New Zealand"
           ],
           "ids": [
            "Australia",
            "New Zealand"
           ],
           "legendgroup": "Oceania",
           "marker": {
            "color": "#FFA15A",
            "size": {
             "bdata": "+cAKAWp0NAA=",
             "dtype": "i4"
            },
            "sizemode": "area",
            "sizeref": 435928.2961983471,
            "symbol": "circle"
           },
           "mode": "markers",
           "name": "Oceania",
           "orientation": "v",
           "showlegend": true,
           "type": "scatter",
           "x": {
            "bdata": "5iK+EzHg1kBKJNHL1O7RQA==",
            "dtype": "f8"
           },
           "xaxis": "x",
           "y": {
            "bdata": "pHA9CtdjU0CF61G4HhVTQA==",
            "dtype": "f8"
           },
           "yaxis": "y"
          }
         ],
         "name": "1992"
        },
        {
         "data": [
          {
           "hovertemplate": "<b>%{hovertext}</b><br><br>continent=Asia<br>year=1997<br>gdpPercap=%{x}<br>lifeExp=%{y}<br>pop=%{marker.size}<extra></extra>",
           "hovertext": [
            "Afghanistan",
            "Bahrain",
            "Bangladesh",
            "Cambodia",
            "China",
            "Hong Kong, China",
            "India",
            "Indonesia",
            "Iran",
            "Iraq",
            "Israel",
            "Japan",
            "Jordan",
            "Korea, Dem. Rep.",
            "Korea, Rep.",
            "Kuwait",
            "Lebanon",
            "Malaysia",
            "Mongolia",
            "Myanmar",
            "Nepal",
            "Oman",
            "Pakistan",
            "Philippines",
            "Saudi Arabia",
            "Singapore",
            "Sri Lanka",
            "Syria",
            "Taiwan",
            "Thailand",
            "Vietnam",
            "West Bank and Gaza",
            "Yemen, Rep."
           ],
           "ids": [
            "Afghanistan",
            "Bahrain",
            "Bangladesh",
            "Cambodia",
            "China",
            "Hong Kong, China",
            "India",
            "Indonesia",
            "Iran",
            "Iraq",
            "Israel",
            "Japan",
            "Jordan",
            "Korea, Dem. Rep.",
            "Korea, Rep.",
            "Kuwait",
            "Lebanon",
            "Malaysia",
            "Mongolia",
            "Myanmar",
            "Nepal",
            "Oman",
            "Pakistan",
            "Philippines",
            "Saudi Arabia",
            "Singapore",
            "Sri Lanka",
            "Syria",
            "Taiwan",
            "Thailand",
            "Vietnam",
            "West Bank and Gaza",
            "Yemen, Rep."
           ],
           "legendgroup": "Asia",
           "marker": {
            "color": "#636efa",
            "size": {
             "bdata": "1ylTASEiCQBYpFkHMsuzAHh0UUmuHmMAwC0pObC94AvzTsYDFwM9AftmVACT8YEHmxBFANFcSQF4jsAC4e8aAPRXNAC7cDgBUxEmAPvokwIZ+F4Bc9giACKOFAh8m3gEv/BDAcUEOgCfUR0BOB7mAL0GSgFl1ZYDZGqIBD4fKwBBfvEA",
             "dtype": "i4"
            },
            "sizemode": "area",
            "sizeref": 435928.2961983471,
            "symbol": "circle"
           },
           "mode": "markers",
           "name": "Asia",
           "orientation": "v",
           "showlegend": true,
           "type": "scatter",
           "x": {
            "bdata": "qKs7Frvag0A6XRYTAdHTQCcGNwgpZo5AZ341B0jyhkCifazgd+KhQLcLzXVotttAggGED0XLlkDhCijUq16oQOaw+47LI8BAfQVpxnoIqEDbxMn9JmjUQJ/leXAlJNxA9NxCV8J6rECfzD/6BmuaQMx6MZTDPM9Am1q21pOt40Ag0m9fexnBQJFhFW90ysNASZ2AJgK5nUAAAAAAAPB5QCdsPxkjl49AMxtkkoM900AhD313swKgQKCJsOER0aNAgq0SLKwa1ECppE5A713gQJONB1v00KRAUrmJWnpcr0Crsu+KtLvTQL9GkiCg3LZARNycSpanlUAwKxTpqsa7QCC4yhP4iqBA",
            "dtype": "f8"
           },
           "xaxis": "x",
           "y": {
            "bdata": "jWzn+6nhREAzMzMzM3tSQNv5fmq8tE1AMQisHFpETEAlBoGVQ5tRQAAAAAAAAFRAUrgehevhTkC0yHa+n4JQQKabxCCwAlFALIcW2c5nTUDup8ZLN5FTQFyPwvUoLFRAxCCwcmhxUUBKDAIrh+5QQMMgsHJoqVJARIts5/sJU0ApXI/C9ZBRQHnpJjEI/FFAAAAAAADQT0BEi2zn+ylOQEoMAiuHtk1ADi2yne8fUkBkEFg5tOhOQGq8dJMYJFFAJzEIrByiUUAnMQisHEpTQGiR7Xw/nVFAfT81XrrhUUAAAAAAANBSQNNNYhBY4VBAXrpJDAKrUUCgGi/dJMZRQMP1KFyPAk1A",
            "dtype": "f8"
           },
           "yaxis": "y"
          },
          {
           "hovertemplate": "<b>%{hovertext}</b><br><br>continent=Europe<br>year=1997<br>gdpPercap=%{x}<br>lifeExp=%{y}<br>pop=%{marker.size}<extra></extra>",
           "hovertext": [
            "Albania",
            "Austria",
            "Belgium",
            "Bosnia and Herzegovina",
            "Bulgaria",
            "Croatia",
            "Czech Republic",
            "Denmark",
            "Finland",
            "France",
            "Germany",
            "Greece",
            "Hungary",
            "Iceland",
            "Ireland",
            "Italy",
            "Montenegro",
            "Netherlands",
            "Norway",
            "Poland",
            "Portugal",
            "Romania",
            "Serbia",
            "Slovak Republic",
            "Slovenia",
            "Spain",
            "Sweden",
            "Switzerland",
            "Turkey",
            "United Kingdom"
           ],
           "ids": [
            "Albania",
            "Austria",
            "Belgium",
            "Bosnia and Herzegovina",
            "Bulgaria",
            "Croatia",
            "Czech Republic",
            "Denmark",
            "Finland",
            "France",
            "Germany",
            "Greece",
            "Hungary",
            "Iceland",
            "Ireland",
            "Italy",
            "Montenegro",
            "Netherlands",
            "Norway",
            "Poland",
            "Portugal",
            "Romania",
            "Serbia",
            "Slovak Republic",
            "Slovenia",
            "Spain",
            "Sweden",
            "Switzerland",
            "Turkey",
            "United Kingdom"
           ],
           "legendgroup": "Europe",
           "marker": {
            "color": "#EF553B",
            "size": {
             "bdata": "xk40APQiewDropsA2Ak3AAkUewCz0UMAIy2dAE+fUABGWE4AxIV+A8Fj4wTkQKAATFKcAFgjBAAh9TcALRFtA6uRCgDwGu4AqDlDAO3TTQJ/+ZoAmkZYAVK5nQBiI1IA3LEeAFIlYAJTxIcAocRtAN8HwgPKV4ED",
             "dtype": "i4"
            },
            "sizemode": "area",
            "sizeref": 435928.2961983471,
            "symbol": "circle"
           },
           "mode": "markers",
           "name": "Europe",
           "orientation": "v",
           "showlegend": true,
           "type": "scatter",
           "x": {
            "bdata": "djQO9RvyqECw6xfs+mncQNr+lZVM6tpAhEiGHFueskD+fcaFY1K3QHldv2DNScNAJsed0kFYz0BNEHUfFhvdQCqpE9D8KtdAZ2FPO3JI2UAc0xOWOCPbQAJlU67sTtJAxLEubmPgxkAvVtRgRmfbQMQlx5188tdABK3AkMEY2EAJqHAEnUG5QHjuPVyIid1A+PwwQmUo5ECqtwa2ytfDQPc7FAVCOtFAsQ+yLIyyvEDJZHH/Ueq+QGlv8IUdr8dAzojS3kbC0EC0HykiU/fTQN3vUBSmrNhAkyIyrNRh30AP0egObsm5QJpfzQGidtlA",
            "dtype": "f8"
           },
           "xaxis": "x",
           "y": {
            "bdata": "zczMzMw8UkBxPQrXo2BTQFK4HoXrYVNAVg4tsp1PUkAUrkfhepRRQOxRuB6Fa1JAcT0K16OAUkDXo3A9CgdTQLgehetRSFNAKVyPwvWoU0D2KFyPwlVTQFYOLbKdd1NAw/UoXI/CUUDNzMzMzLxTQCuHFtnOB1NAFK5H4Xq0U0AUrkfhetxSQFK4HoXrgVNAFK5H4XqUU0AAAAAAADBSQK5H4XoU/lJArkfhehRuUUACK4cW2Q5SQD0K16NwLVJAuB6F61HIUkDhehSuR7FTQClcj8L12FNASOF6FK7XU0A9CtejcDVRQMuhRbbzTVNA",
            "dtype": "f8"
           },
           "yaxis": "y"
          },
          {
           "hovertemplate": "<b>%{hovertext}</b><br><br>continent=Africa<br>year=1997<br>gdpPercap=%{x}<br>lifeExp=%{y}<br>pop=%{marker.size}<extra></extra>",
           "hovertext": [
            "Algeria",
            "Angola",
            "Benin",
            "Botswana",
            "Burkina Faso",
            "Burundi",
            "Cameroon",
            "Central African Republic",
            "Chad",
            "Comoros",
            "Congo, Dem. Rep.",
            "Congo, Rep.",
            "Cote d'Ivoire",
            "Djibouti",
            "Egypt",
            "Equatorial Guinea",
            "Eritrea",
            "Ethiopia",
            "Gabon",
            "Gambia",
            "Ghana",
            "Guinea",
            "Guinea-Bissau",
            "Kenya",
            "Lesotho",
            "Liberia",
            "Libya",
            "Madagascar",
            "Malawi",
            "Mali",
            "Mauritania",
            "Mauritius",
            "Morocco",
            "Mozambique",
            "Namibia",
            "Niger",
            "Nigeria",
            "Reunion",
            "Rwanda",
            "Sao Tome and Principe",
            "Senegal",
            "Sierra Leone",
            "Somalia",
            "South Africa",
            "Sudan",
            "Swaziland",
            "Tanzania",
            "Togo",
            "Tunisia",
            "Uganda",
            "Zambia",
            "Zimbabwe"
           ],
           "ids": [
            "Algeria",
            "Angola",
            "Benin",
            "Botswana",
            "Burkina Faso",
            "Burundi",
            "Cameroon",
            "Central African Republic",
            "Chad",
            "Comoros",
            "Congo, Dem. Rep.",
            "Congo, Rep.",
            "Cote d'Ivoire",
            "Djibouti",
            "Egypt",
            "Equatorial Guinea",
            "Eritrea",
            "Ethiopia",
            "Gabon",
            "Gambia",
            "Ghana",
            "Guinea",
            "Guinea-Bissau",
            "Kenya",
            "Lesotho",
            "Liberia",
            "Libya",
            "Madagascar",
            "Malawi",
            "Mali",
            "Mauritania",
            "Mauritius",
            "Morocco",
            "Mozambique",
            "Namibia",
            "Niger",
            "Nigeria",
            "Reunion",
            "Rwanda",
            "Sao Tome and Principe",
            "Senegal",
            "Sierra Leone",
            "Somalia",
            "South Africa",
            "Sudan",
            "Swaziland",
            "Tanzania",
            "Togo",
            "Tunisia",
            "Uganda",
            "Zambia",
            "Zimbabwe"
           ],
           "legendgroup": "Africa",
           "marker": {
            "color": "#00cc96",
            "size": {
             "bdata": "j5q7AVCulgCgj1wAGHIXAMv4nQCKaF0AYZzYAIFnOAAbY3MAbg4IAMpa2QIzvSoAryzfAHRgBgATIfEDo7YGAM/sPQA1aZEDLS8RADfbEgBwChkBwtB6AOw2EgCTRa8BZ0EeAJWUIQB2oEgAeiTYABf/ngAYNI8AxU0lAHqLEQBdU7MBxlj9AK4UGwDMfpMAX5pUBgpzCgAnDm4AyDgCAFJ/kQCk20UAKjhlAD2cjQLZu+oBFhcQAKk+1AF67kEANd2MAI6kQwE9tI8AlAauAA==",
             "dtype": "i4"
            },
            "sizemode": "area",
            "sizeref": 435928.2961983471,
            "symbol": "circle"
           },
           "mode": "markers",
           "name": "Africa",
           "orientation": "v",
           "showlegend": true,
           "type": "scatter",
           "x": {
            "bdata": "p1t2iEu9skAPmfIhSMqhQDQw8rLmQ5NAZvhPN5LjwECOpO4UXJKNQE0zOKXX8XxAqDl5kVl5mkBtY6L3DCSHQEt319mwZ49A+IiYEnlWkkAH7dXHA4NzQH9QFylUOKtAhUTaxg/pm0A58kBkEZydQIOJP4ouTbBAx/SEJfb8pUBFKowtxIuMQCnEbX4dH4BAlU25wmvBzEAPJJRj122EQLcnSGz3aY9AmwZWH5kri0DitabUUOWIQIBTWKnwQZVABDi9i5eIkkDnKFFAZAmDQBjuXBi5fcJAPiiD/l3SjkAy0wfcNKKFQPneOloQsohAPE88Z4ssl0AKjzaOtAG9QKxVuyY0TKdAUSYkiImFfUA0hc5rDHeuQIJjhRFxIoJAK/aX3cNjmUAYsU8A8be3QD6bsFiOb4JARpVh3E3slEBSuvQvecGVQDt1QG0v9YFAP8NAfMUUjUCrP8IwMDe9QLSchNLXgJlAkdCWc4lJrkAUYolifamIQGyn955Lso5AIZT3ccwMs0CFlnX/eISJQPIKRE9qvZBA+yfJhJnDiEA=",
            "dtype": "f8"
           },
           "xaxis": "x",
           "y": {
            "bdata": "fT81XrpJUUAlBoGVQ3tEQPp+arx0Y0tAukkMAitHSkC28/3UeClJQH0/NV66qUZAtvP91HgZSkCcxCCwcghHQNNNYhBYyUlAFK5H4XpUTkBCYOXQIktFQEJg5dAie0pAAyuHFtn+R0BqvHSTGJRKQNnO91PjzVBAj8L1KFwfSECq8dJNYrBKQPp+arx0s0hAYLpJDAI7TkCR7Xw/Ne5LQLpJDAIrR01ACtejcD26SUA7tMh2vm9GQGq8dJMYNEtAgZVDi2zHS0A/NV66SRxFQOxRuB6F41FAd76fGi99S0CPwvUoXL9HQN0kBoGV80hA16NwPQo3TkDJdr6fGq9RQArXo3A96lBAeekmMQgsR0AxCKwcWnRNQPLSTWIQqElACKwcWmS7R0DDILByaLFSQEJg5dAiC0JAukkMAiunT0AOLbKd7xdOQIlBYOXQ8kNA9ihcj8LlRUCR7Xw/NR5OQDu0yHa+r0tAokW28/0kS0DP91PjpTtIQFK4HoXrMU1Ag8DKoUX+UUBEi2zn+0lGQFg5tMh2HkRAZDvfT41nR0A=",
            "dtype": "f8"
           },
           "yaxis": "y"
          },
          {
           "hovertemplate": "<b>%{hovertext}</b><br><br>continent=Americas<br>year=1997<br>gdpPercap=%{x}<br>lifeExp=%{y}<br>pop=%{marker.size}<extra></extra>",
           "hovertext": [
            "Argentina",
            "Bolivia",
            "Brazil",
            "Canada",
            "Chile",
            "Colombia",
            "Costa Rica",
            "Cuba",
            "Dominican Republic",
            "Ecuador",
            "El Salvador",
            "Guatemala",
            "Haiti",
            "Honduras",
            "Jamaica",
            "Mexico",
            "Nicaragua",
            "Panama",
            "Paraguay",
            "Peru",
            "Puerto Rico",
            "Trinidad and Tobago",
            "United States",
            "Uruguay",
            "Venezuela"
           ],
           "ids": [
            "Argentina",
            "Bolivia",
            "Brazil",
            "Canada",
            "Chile",
            "Colombia",
            "Costa Rica",
            "Cuba",
            "Dominican Republic",
            "Ecuador",
            "El Salvador",
            "Guatemala",
            "Haiti",
            "Honduras",
            "Jamaica",
            "Mexico",
            "Nicaragua",
            "Panama",
            "Paraguay",
            "Peru",
            "Puerto Rico",
            "Trinidad and Tobago",
            "United States",
            "Uruguay",
            "Venezuela"
           ],
           "legendgroup": "Americas",
           "marker": {
            "color": "#ab63fa",
            "size": {
             "bdata": "x2soAoRjdQCf0QsKM27OAfnG3gDmnD4Cm641AF+WpwAl9HkAi8K1AI8/WABjmJUACX5pALWJWQDvnyYAaj63BSRWRgDDuSkAS6VOAFqgeQFGXTkAtV0RAJBNRBB2yTEA/mdVAQ==",
             "dtype": "i4"
            },
            "sizemode": "area",
            "sizeref": 435928.2961983471,
            "symbol": "circle"
           },
           "mode": "markers",
           "name": "Americas",
           "orientation": "v",
           "showlegend": true,
           "type": "scatter",
           "x": {
            "bdata": "jgbwFqRrxUAqrFRQSfypQCAbSBf7Fb9AbCHIQbtG3EBnLJrOBsPDQHfHYptc5bdADcSymQsVukB4YtaL/Te1QCeloNszPKxA/uVatHQFvUD7srRT0yK0QELSp1VQTLJAy52ZYOj2lECCcXDp6LCoQHy+Zrns0btAyol2FaYTw0BbJy7HC5qhQJdUbTexybtA3UCBd2aXsEA6lQwAWc62QFfsL7vbmdBAP1kxXEkswUAGu2Hb7XbhQPENhc8eB8JA0egOYr/aw0A=",
            "dtype": "f8"
           },
           "xaxis": "x",
           "y": {
            "bdata": "mpmZmZlRUkBmZmZmZgZPQEa28/3UWFFA16NwPQqnU0BOYhBYOfRSQHnpJjEIlFFAcT0K16NQU0CNbOf7qQlTQGiR7Xw/fVFAhxbZzvcTUkAK16NwPWJRQPhT46WblFBA2s73U+NVTEAYBFYOLepQQFTjpZvEEFJAexSuR+FqUkAlBoGVQxtRQKwcWmQ7b1JAmpmZmZlZUUBjEFg5tBhRQKabxCCwulJA9ihcj8JdUUCkcD0K1zNTQIPAyqFFjlJA001iEFgJUkA=",
            "dtype": "f8"
           },
           "yaxis": "y"
          },
          {
           "hovertemplate": "<b>%{hovertext}</b><br><br>continent=Oceania<br>year=1997<br>gdpPercap=%{x}<br>lifeExp=%{y}<br>pop=%{marker.size}<extra></extra>",
           "hovertext": [
            "Australia",
            "New Zealand"
           ],
           "ids": [
            "Australia",
            "New Zealand"
           ],
           "legendgroup": "Oceania",
           "marker": {
            "color": "#FFA15A",
            "size": {
             "bdata": "e0gbARsYOAA=",
             "dtype": "i4"
            },
            "sizemode": "area",
            "sizeref": 435928.2961983471,
            "symbol": "circle"
           },
           "mode": "markers",
           "name": "Oceania",
           "orientation": "v",
           "showlegend": true,
           "type": "scatter",
           "x": {
            "bdata": "G0zD8Htd2kCEKjV7mo7UQA==",
            "dtype": "f8"
           },
           "xaxis": "x",
           "y": {
            "bdata": "hetRuB61U0AzMzMzM2NTQA==",
            "dtype": "f8"
           },
           "yaxis": "y"
          }
         ],
         "name": "1997"
        },
        {
         "data": [
          {
           "hovertemplate": "<b>%{hovertext}</b><br><br>continent=Asia<br>year=2002<br>gdpPercap=%{x}<br>lifeExp=%{y}<br>pop=%{marker.size}<extra></extra>",
           "hovertext": [
            "Afghanistan",
            "Bahrain",
            "Bangladesh",
            "Cambodia",
            "China",
            "Hong Kong, China",
            "India",
            "Indonesia",
            "Iran",
            "Iraq",
            "Israel",
            "Japan",
            "Jordan",
            "Korea, Dem. Rep.",
            "Korea, Rep.",
            "Kuwait",
            "Lebanon",
            "Malaysia",
            "Mongolia",
            "Myanmar",
            "Nepal",
            "Oman",
            "Pakistan",
            "Philippines",
            "Saudi Arabia",
            "Singapore",
            "Sri Lanka",
            "Syria",
            "Taiwan",
            "Thailand",
            "Vietnam",
            "West Bank and Gaza",
            "Yemen, Rep."
           ],
           "ids": [
            "Afghanistan",
            "Bahrain",
            "Bangladesh",
            "Cambodia",
            "China",
            "Hong Kong, China",
            "India",
            "Indonesia",
            "Iran",
            "Iraq",
            "Israel",
            "Japan",
            "Jordan",
            "Korea, Dem. Rep.",
            "Korea, Rep.",
            "Kuwait",
            "Lebanon",
            "Malaysia",
            "Mongolia",
            "Myanmar",
            "Nepal",
            "Oman",
            "Pakistan",
            "Philippines",
            "Saudi Arabia",
            "Singapore",
            "Sri Lanka",
            "Syria",
            "Taiwan",
            "Thailand",
            "Vietnam",
            "West Bank and Gaza",
            "Yemen, Rep."
           ],
           "legendgroup": "Asia",
           "marker": {
            "color": "#636efa",
            "size": {
             "bdata": "tZCBAQ0ECgBW9RUI8z7FAIBaUUzsL2cAgzikPSCFlAyy7vwDGD1uAdkAXADx3pIHTvxQAMX6UgF+89sCSTggAFQeOADdzFkBOs4oAIHFtwL9zYoBdmcpAITAJAmQZ/IEGt11AZANQADPtyoB5sYFAd+fVgHcWr4Dc4/SBIq4MwDJWx0B",
             "dtype": "i4"
            },
            "sizemode": "area",
            "sizeref": 435928.2961983471,
            "symbol": "circle"
           },
           "mode": "markers",
           "name": "Asia",
           "orientation": "v",
           "showlegend": true,
           "type": "scatter",
           "x": {
            "bdata": "xnsfWN+1hkDpZRTL49rWQITF4cyPwZFAKQ8c4c4BjEAou5nRj16oQA+mYfhAgN1AG9e/6xNLm0AAV7Jj03OmQK+UZYhhDMJAB13CobcmsUAjFcYWZmTVQKCJsOEl79tALbRzmtUJrkC4WbxYCLuZQKRTVz5/yNJAkBSRYcMk4UBA2ZQr+DDCQLpOIy1978NAXFSLiHq5oEAAAAAAABiDQDjXMEPThJBAQDBHj7VP00CpFhHFbFmgQMmSOZbXtaRAUHCxoqKR0kAg0m9f45bhQEsjZvbBjqdA8x38xNn1r0Cu8C4X27DWQA2K5gEwGbdAV68io9ORm0BZF7fRfKOxQFnBb0OkdaFA",
            "dtype": "f8"
           },
           "xaxis": "x",
           "y": {
            "bdata": "jZduEoMQRUB7FK5H4bJSQI1s5/upAU9Ax0s3iUFgTEBvEoPAygFSQEjhehSuX1RAjZduEoNwT0ATg8DKoSVRQL+fGi/dXFFA2s73U+OFTEAGgZVDi+xTQAAAAAAAgFRARrbz/dTQUUDtfD81XqpQQHsUrkfhQlNAYOXQIts5U0BvEoPAysFRQIlBYOXQQlJAJzEIrBxCUEBOYhBYOfRNQOxRuB6Fq05AMQisHFqMUkCuR+F6FM5PQAisHFpkk1FA8tJNYhDoUUDhehSuR7FTQFyPwvUotFFACKwcWmRDUkCPwvUoXD9TQGq8dJMYJFFADAIrhxZBUkBI4XoUrhdSQIGVQ4tsJ05A",
            "dtype": "f8"
           },
           "yaxis": "y"
          },
          {
           "hovertemplate": "<b>%{hovertext}</b><br><br>continent=Europe<br>year=2002<br>gdpPercap=%{x}<br>lifeExp=%{y}<br>pop=%{marker.size}<extra></extra>",
           "hovertext": [
            "Albania",
            "Austria",
            "Belgium",
            "Bosnia and Herzegovina",
            "Bulgaria",
            "Croatia",
            "Czech Republic",
            "Denmark",
            "Finland",
            "France",
            "Germany",
            "Greece",
            "Hungary",
            "Iceland",
            "Ireland",
            "Italy",
            "Montenegro",
            "Netherlands",
            "Norway",
            "Poland",
            "Portugal",
            "Romania",
            "Serbia",
            "Slovak Republic",
            "Slovenia",
            "Spain",
            "Sweden",
            "Switzerland",
            "Turkey",
            "United Kingdom"
           ],
           "ids": [
            "Albania",
            "Austria",
            "Belgium",
            "Bosnia and Herzegovina",
            "Bulgaria",
            "Croatia",
            "Czech Republic",
            "Denmark",
            "Finland",
            "France",
            "Germany",
            "Greece",
            "Hungary",
            "Iceland",
            "Ireland",
            "Italy",
            "Montenegro",
            "Netherlands",
            "Norway",
            "Poland",
            "Portugal",
            "Romania",
            "Serbia",
            "Slovak Republic",
            "Slovenia",
            "Spain",
            "Sweden",
            "Switzerland",
            "Turkey",
            "United Kingdom"
           ],
           "legendgroup": "Europe",
           "marker": {
            "color": "#EF553B",
            "size": {
             "bdata": "IIk1AFhVfAAiWZ0AKI8/AOfodAD8X0QAp3+cAOUCUgBPPU8AK2KSA0+S6ARXzaEA8duZAB5lBADzMDsAV+VzA2b9CgDOA/YAJzVFALhiTQJLNZ8A8dxVAUdKmgAEjVIAabEeAMWtZAI/oYgA3VRwAIANAwTvMJID",
             "dtype": "i4"
            },
            "sizemode": "area",
            "sizeref": 435928.2961983471,
            "symbol": "circle"
           },
           "mode": "markers",
           "name": "Europe",
           "orientation": "v",
           "showlegend": true,
           "type": "scatter",
           "x": {
            "bdata": "WmJlNDb8sUAHmWTkZqjfQPYoXI94xd1AyVpDqfmCt0BIUPwYxxC+QOQUHckxtsZAPJY+dA0v0UCCqPsAoGnfQAAd5ssli9tAl8rbEYI/3EAD7KNT81TdQMGopE6Q/NVAuRluwPf9zEDGounszG7eQFhWmpSho+BA3dJqSAZQ20A0FHe8MZ25QLLXuz+Yd+BA7nw/NX/R5UCQZiyaHnHHQMHFihq6gNNA6bZELlzNvkD+R6ZDE0S8QBfPoKFjo8pAtrkxPQEt1EC1bK0v3kDYQAY5KGFop9xAInGPpR7W4ECuZp3xFWy5QB+duvK/ydxA",
            "dtype": "f8"
           },
           "xaxis": "x",
           "y": {
            "bdata": "jWzn+6npUkAfhetRuL5TQBSuR+F6lFNA9ihcj8KFUkApXI/C9QhSQPLSTWIQuFJAcT0K16PgUkDsUbgehUtTQEjhehSul1NA9ihcj8LlU0B7FK5H4apTQKrx0k1ikFNA9ihcj8IlUkAAAAAAACBUQCcxCKwcclNAj8L1KFwPVEASWDm0yH5SQFK4HoXroVNAMzMzMzPDU0B7FK5H4apSQMP1KFyPUlNA+FPjpZvUUUAUg8DKoU1SQDMzMzMzc1JACtejcD0qU0BSuB6F6/FTQMP1KFyPAlRASOF6FK4nVECuR+F6FLZRQKAaL90knlNA",
            "dtype": "f8"
           },
           "yaxis": "y"
          },
          {
           "hovertemplate": "<b>%{hovertext}</b><br><br>continent=Africa<br>year=2002<br>gdpPercap=%{x}<br>lifeExp=%{y}<br>pop=%{marker.size}<extra></extra>",
           "hovertext": [
            "Algeria",
            "Angola",
            "Benin",
            "Botswana",
            "Burkina Faso",
            "Burundi",
            "Cameroon",
            "Central African Republic",
            "Chad",
            "Comoros",
            "Congo, Dem. Rep.",
            "Congo, Rep.",
            "Cote d'Ivoire",
            "Djibouti",
            "Egypt",
            "Equatorial Guinea",
            "Eritrea",
            "Ethiopia",
            "Gabon",
            "Gambia",
            "Ghana",
            "Guinea",
            "Guinea-Bissau",
            "Kenya",
            "Lesotho",
            "Liberia",
            "Libya",
            "Madagascar",
            "Malawi",
            "Mali",
            "Mauritania",
            "Mauritius",
            "Morocco",
            "Mozambique",
            "Namibia",
            "Niger",
            "Nigeria",
            "Reunion",
            "Rwanda",
            "Sao Tome and Principe",
            "Senegal",
            "Sierra Leone",
            "Somalia",
            "South Africa",
            "Sudan",
            "Swaziland",
            "Tanzania",
            "Togo",
            "Tunisia",
            "Uganda",
            "Zambia",
            "Zimbabwe"
           ],
           "ids": [
            "Algeria",
            "Angola",
            "Benin",
            "Botswana",
            "Burkina Faso",
            "Burundi",
            "Cameroon",
            "Central African Republic",
            "Chad",
            "Comoros",
            "Congo, Dem. Rep.",
            "Congo, Rep.",
            "Cote d'Ivoire",
            "Djibouti",
            "Egypt",
            "Equatorial Guinea",
            "Eritrea",
            "Ethiopia",
            "Gabon",
            "Gambia",
            "Ghana",
            "Guinea",
            "Guinea-Bissau",
            "Kenya",
            "Lesotho",
            "Liberia",
            "Libya",
            "Madagascar",
            "Malawi",
            "Mali",
            "Mauritania",
            "Mauritius",
            "Morocco",
            "Mozambique",
            "Namibia",
            "Niger",
            "Nigeria",
            "Reunion",
            "Rwanda",
            "Sao Tome and Principe",
            "Senegal",
            "Sierra Leone",
            "Somalia",
            "South Africa",
            "Sudan",
            "Swaziland",
            "Tanzania",
            "Togo",
            "Tunisia",
            "Uganda",
            "Zambia",
            "Zimbabwe"
           ],
           "legendgroup": "Africa",
           "marker": {
            "color": "#00cc96",
            "size": {
             "bdata": "ZmfdAbrNpQDBNWsAi+AYAEnwugAWImsAhBLzAI3EPQCb0oYA7l8JAIwHTQMbyzIANv/3ALjTBgAvqV4EC5AHAJFdQwAtyQwEaNMTAGY+FgBflDkBimWGAOtUFADa7N4BNDsfALvyKgAJ61EAhV37AG9ttADQcKEAOiorAE5QEgAnldsBNOMZAbkXHgAv/qkAWowlBy1aCwBx0XcAhJkCABXdpQD0xVEAXk52ANYApgL68zUCHT8RAPPbDwLi8ksATxaVAB2AeQHjraEAI/y1AA==",
             "dtype": "i4"
            },
            "sizemode": "area",
            "sizeref": 435928.2961983471,
            "symbol": "circle"
           },
           "mode": "markers",
           "name": "Africa",
           "orientation": "v",
           "showlegend": true,
           "type": "scatter",
           "x": {
            "bdata": "WYl5VgqotEB/944ak6qlQJQUWACDc5VAu+1Cc819xUDFVtC0lDaQQGLIoMl05ntASmJJuQs4nkApo9tchhWHQM0Bgjm6EJJAO3MPCT/PkECZ1TvcTiVuQKsmiLofOKtAisvxCjTDmUBsBrggC9GdQD874LqakrJAFmpN834XvkBoIJbNzOqHQFj+IaJtkIBA+wW7Ydt0yEBhQOVOr6SEQHAZNzXwX5FA1E/uLauMjUBTJ/tCo/2BQNLI5xUPHpRAo5I6Ab3sk0AfmbPj25uAQI8YPbdWn8JA6W6Nvhj1i0CkKgGMYsuEQNGj8ytHu41Ad4cUAxSsmECA7zZv6J7BQNegL739dKlAZa38jfHMg0CwWMNFptCvQBrMFZSYyIJA9Bq7RCU9mUBNFYxKKqy4QDQaCuk6jYhA6fF7m14klUCRKR+Cir6XQGc7pu7q24VAzhgwkqeQi0B/aydK8h6+QCgOoN+XJZ9Af/j57x0gsEAAPP37lxiMQCKunL3DsYtAfmWlSeVatkDbepecxP2MQBi/Kax0vpBAEgtrGU8AhUA=",
            "dtype": "f8"
           },
           "xaxis": "x",
           "y": {
            "bdata": "Vg4tsp2/UUCq8dJNYoBEQIkW2c73M0tA/dR46SZRR0AzMzMzM1NJQK5H4XoUrkdAIbByaJHtSECBlUOLbKdFQDMzMzMzQ0lA6SYxCKx8T0DP91PjpXtGQFyPwvUofEpA0SLb+X5qR0A7tMh2vq9KQN0kBoGVc1FABoGVQ4usSEAfhetRuJ5LQM3MzMzMXElAxSCwcmhhTEBoke18PwVNQESLbOf7OU1ASgwCK4fWSkCNl24Sg8BGQOXQItv5fklAlkOLbOdLRkCq8dJNYuBFQLpJDAIrL1JA+FPjpZukTED91HjpJoFGQGQQWDm06ElAVg4tsp0fT0CTGARWDv1RQI/C9ShcZ1FAF9nO91MDRkBaZDvfT71JQHNoke18P0tA5/up8dJNR0BWDi2yne9SQL6fGi/dtEVAIbByaJEVUEDNzMzMzMxOQKjGSzeJgURALIcW2c73RkAfhetRuK5KQKwcWmQ7L0xArBxaZDvvRUAX2c73U9NIQCyHFtnOx0xAppvEILBCUkDy0k1iEOhHQGQQWDm0mENAO99PjZf+Q0A=",
            "dtype": "f8"
           },
           "yaxis": "y"
          },
          {
           "hovertemplate": "<b>%{hovertext}</b><br><br>continent=Americas<br>year=2002<br>gdpPercap=%{x}<br>lifeExp=%{y}<br>pop=%{marker.size}<extra></extra>",
           "hovertext": [
            "Argentina",
            "Bolivia",
            "Brazil",
            "Canada",
            "Chile",
            "Colombia",
            "Costa Rica",
            "Cuba",
            "Dominican Republic",
            "Ecuador",
            "El Salvador",
            "Guatemala",
            "Haiti",
            "Honduras",
            "Jamaica",
            "Mexico",
            "Nicaragua",
            "Panama",
            "Paraguay",
            "Peru",
            "Puerto Rico",
            "Trinidad and Tobago",
            "United States",
            "Uruguay",
            "Venezuela"
           ],
           "ids": [
            "Argentina",
            "Bolivia",
            "Brazil",
            "Canada",
            "Chile",
            "Colombia",
            "Costa Rica",
            "Cuba",
            "Dominican Republic",
            "Ecuador",
            "El Salvador",
            "Guatemala",
            "Haiti",
            "Honduras",
            "Jamaica",
            "Mexico",
            "Nicaragua",
            "Panama",
            "Paraguay",
            "Peru",
            "Puerto Rico",
            "Trinidad and Tobago",
            "United States",
            "Uruguay",
            "Venezuela"
           ],
           "legendgroup": "Americas",
           "marker": {
            "color": "#ab63fa",
            "size": {
             "bdata": "8eJIAs7cgADkRbkKPMrmAVZ37ABjvHECNoQ6AHdPqwBS/oMAkinFABHzYACakqoAYxV0AFDjZQDTqCgAN7gbBuCITgAboy0AS8pZABx4mAGW5DoACNAQAIaUJRENUTMAtplyAQ==",
             "dtype": "i4"
            },
            "sizemode": "area",
            "sizeref": 435928.2961983471,
            "symbol": "circle"
           },
           "mode": "markers",
           "name": "Americas",
           "orientation": "v",
           "showlegend": true,
           "type": "scatter",
           "x": {
            "bdata": "A137AtIuwUD5vU1/hqqqQDD84Hw2w79AC3va4R5G4EB8YTJVZA3FQDSg3oxCe7ZA8Rtfe3IrvkDhXwSNpcS4QCI4LuPO07FASHAjZQuNtkBYUBiUkee0QIasbvVY+rJADvW7sHXZk0DPa+wSdTeoQPJdSl3GUrtAdHtJYzj7xEDZ0M3+GFWjQKOd0ywIvLxAHeVgNlmPrUCIDoEjBRW3QN8yp8vmadJACi5W1ExixkBKe4MvIxfjQHeKVYMAL75AXoJTH4bOwEA=",
            "dtype": "f8"
           },
           "xaxis": "x",
           "y": {
            "bdata": "9ihcj8KVUkAbL90kBvFPQKrx0k1iwFFA4XoUrkfxU0DXo3A9CndTQM/3U+Ol61FAHVpkO9+HU0AnMQisHEpTQJHtfD81tlFAUI2XbhKLUkDl0CLb+a5RQDzfT42XPlFAqMZLN4kRTUBcj8L1KCRRQF66SQwCA1JAfT81Xrq5UkAv3SQGgbVRQCGwcmiRrVJAuB6F61GwUUBEi2zn+3lRQG8Sg8DKcVNAWDm0yHY+UUCkcD0K11NTQM/3U+Ol01JAGy/dJAYxUkA=",
            "dtype": "f8"
           },
           "yaxis": "y"
          },
          {
           "hovertemplate": "<b>%{hovertext}</b><br><br>continent=Oceania<br>year=2002<br>gdpPercap=%{x}<br>lifeExp=%{y}<br>pop=%{marker.size}<extra></extra>",
           "hovertext": [
            "Australia",
            "New Zealand"
           ],
           "ids": [
            "Australia",
            "New Zealand"
           ],
           "legendgroup": "Oceania",
           "marker": {
            "color": "#FFA15A",
            "size": {
             "bdata": "qEIqAcWhOwA=",
             "dtype": "i4"
            },
            "sizemode": "area",
            "sizeref": 435928.2961983471,
            "symbol": "circle"
           },
           "mode": "markers",
           "name": "Oceania",
           "orientation": "v",
           "showlegend": true,
           "type": "scatter",
           "x": {
            "bdata": "1A5/TfD33UCqglFJc6XWQA==",
            "dtype": "f8"
           },
           "xaxis": "x",
           "y": {
            "bdata": "SOF6FK4XVEDXo3A9CsdTQA==",
            "dtype": "f8"
           },
           "yaxis": "y"
          }
         ],
         "name": "2002"
        },
        {
         "data": [
          {
           "hovertemplate": "<b>%{hovertext}</b><br><br>continent=Asia<br>year=2007<br>gdpPercap=%{x}<br>lifeExp=%{y}<br>pop=%{marker.size}<extra></extra>",
           "hovertext": [
            "Afghanistan",
            "Bahrain",
            "Bangladesh",
            "Cambodia",
            "China",
            "Hong Kong, China",
            "India",
            "Indonesia",
            "Iran",
            "Iraq",
            "Israel",
            "Japan",
            "Jordan",
            "Korea, Dem. Rep.",
            "Korea, Rep.",
            "Kuwait",
            "Lebanon",
            "Malaysia",
            "Mongolia",
            "Myanmar",
            "Nepal",
            "Oman",
            "Pakistan",
            "Philippines",
            "Saudi Arabia",
            "Singapore",
            "Sri Lanka",
            "Syria",
            "Taiwan",
            "Thailand",
            "Vietnam",
            "West Bank and Gaza",
            "Yemen, Rep."
           ],
           "ids": [
            "Afghanistan",
            "Bahrain",
            "Bangladesh",
            "Cambodia",
            "China",
            "Hong Kong, China",
            "India",
            "Indonesia",
            "Iran",
            "Iraq",
            "Israel",
            "Japan",
            "Jordan",
            "Korea, Dem. Rep.",
            "Korea, Rep.",
            "Kuwait",
            "Lebanon",
            "Malaysia",
            "Mongolia",
            "Myanmar",
            "Nepal",
            "Oman",
            "Pakistan",
            "Philippines",
            "Saudi Arabia",
            "Singapore",
            "Sri Lanka",
            "Syria",
            "Taiwan",
            "Thailand",
            "Vietnam",
            "West Bank and Gaza",
            "Yemen, Rep."
           ],
           "legendgroup": "Asia",
           "marker": {
            "color": "#636efa",
            "size": {
             "bdata": "A5rmAd3PCgDTqPcIkqLXANiBmU48g2oAq00vQngOUw0CxyMEdpyjATcQYgDEAZkHSV1cAF2OYwE2XewCVzsmAH7VOwAmvnoBD9srADzK2AKeAbkBIecwAFndFgqnum0FjiilATF5RQB/8jYBO7gmAZacYQF13OADFAAVBZxQPQCf7FIB",
             "dtype": "i4"
            },
            "sizemode": "area",
            "sizeref": 435928.2961983471,
            "symbol": "circle"
           },
           "mode": "markers",
           "name": "Asia",
           "orientation": "v",
           "showlegend": true,
           "type": "scatter",
           "x": {
            "bdata": "54R1iKR0jkDGpwAYAxndQPLPDOIDvZVAat/cXx3HmkDRXRJnHV+zQHK/Q1GfZeNAs193umsoo0CA7suZTamrQKmHaHTbqsZAbVUS2Q93sUBuowG80ezYQItUGFsE6t5A3XpND3ansUArajANQ+SYQBMZVvEIzdZASBtHrF8Z50B3hNOCh27EQFwgQfHTUchATsEaZ4svqEAAAAAAAICNQEjfpGlwDZFAmGn7VwzL1UCwrDQp5VukQLWpukf27KhAD0WBPrUl1UCiYpy/5QTnQJ6xL9kwBK9ATIqPT4xYsECOHr+3kQvcQIOvr3VlIr1AkdJsHicTo0BqNLkYs6KnQP2FHjGK0aFA",
            "dtype": "f8"
           },
           "xaxis": "x",
           "y": {
            "bdata": "RIts5/vpRUBxPQrXo+hSQIcW2c73A1BABoGVQ4vcTUAv3SQGgT1SQFpkO99PjVRA6iYxCKwsUECamZmZmalRQARWDi2yvVFA9ihcj8LFTUBI4XoUri9UQDvfT42XplRACtejcD0iUkBeukkMAtNQQB1aZDvfp1NAFIPAyqFlU0BkO99Pjf9RQIGVQ4tsj1JACKwcWmSzUEBGtvP91AhPQBSuR+F65E9AKVyPwvXoUkD0/dR46V5QQHnpJjEI7FFAfT81XroxUkCR7Xw/Nf5TQNNNYhBYGVJA/tR46SaJUkCamZmZmZlTQIGVQ4tsp1FADi2yne+PUkBeukkMAltSQNNNYhBYWU9A",
            "dtype": "f8"
           },
           "yaxis": "y"
          },
          {
           "hovertemplate": "<b>%{hovertext}</b><br><br>continent=Europe<br>year=2007<br>gdpPercap=%{x}<br>lifeExp=%{y}<br>pop=%{marker.size}<extra></extra>",
           "hovertext": [
            "Albania",
            "Austria",
            "Belgium",
            "Bosnia and Herzegovina",
            "Bulgaria",
            "Croatia",
            "Czech Republic",
            "Denmark",
            "Finland",
            "France",
            "Germany",
            "Greece",
            "Hungary",
            "Iceland",
            "Ireland",
            "Italy",
            "Montenegro",
            "Netherlands",
            "Norway",
            "Poland",
            "Portugal",
            "Romania",
            "Serbia",
            "Slovak Republic",
            "Slovenia",
            "Spain",
            "Sweden",
            "Switzerland",
            "Turkey",
            "United Kingdom"
           ],
           "ids": [
            "Albania",
            "Austria",
            "Belgium",
            "Bosnia and Herzegovina",
            "Bulgaria",
            "Croatia",
            "Czech Republic",
            "Denmark",
            "Finland",
            "France",
            "Germany",
            "Greece",
            "Hungary",
            "Iceland",
            "Ireland",
            "Italy",
            "Montenegro",
            "Netherlands",
            "Norway",
            "Poland",
            "Portugal",
            "Romania",
            "Serbia",
            "Slovak Republic",
            "Slovenia",
            "Spain",
            "Sweden",
            "Switzerland",
            "Turkey",
            "United Kingdom"
           ],
           "legendgroup": "Europe",
           "marker": {
            "color": "#EF553B",
            "size": {
             "bdata": "i/A2AGcefQCikp4ABnZFAOq8bwAAkEQACBScANhvUwC87k8ADBGkA+RW6QRyXaMADOuXAGubBAAesz4AlUN3A8ByCgD12PwA1p1GAOG9SwKUZaIA2OdTAXnhmgBOH1MAnageAL8waQKwzYkAZUZzAHfLPQQuX58D",
             "dtype": "i4"
            },
            "sizemode": "area",
            "sizeref": 435928.2961983471,
            "symbol": "circle"
           },
           "mode": "markers",
           "name": "Europe",
           "orientation": "v",
           "showlegend": true,
           "type": "scatter",
           "x": {
            "bdata": "YBQEjwcxt0BYyjLEz6PhQG+70FyTc+BA8nhafkwWvUDPMSB7ZdzEQBTGFoKcjcxAH7qgvlNM1kCxbVFmzTnhQPmgZ7PiNuBAduCcEYHB3UC+TX/2l2rfQHjuPVya5NpAQni0cTyW0UALYwtBmarhQCxlGeJ/3ONAvJaQD27m20BL58Oz8hLCQJbnwd299+FAVmXfFaYZ6ECjC+pb9g7OQFVNEHVpB9RA09nJ4DwcxUBbI4JxRB3DQGB2Tx6UPdJAcsRafBAq2UAwKqkTRCXcQP+ye/J3iOBAGH0FaU1Q4kCSCI1gI4XAQOPfZ1xoNuBA",
            "dtype": "f8"
           },
           "xaxis": "x",
           "y": {
            "bdata": "UI2XbhIbU0CTGARWDvVTQE5iEFg53FNASgwCK4e2UkC4HoXrUUBSQB1aZDvf71JAyXa+nxofU0Boke18P5VTQHnpJjEI1FNANV66SQwqVEBEi2zn+9lTQPT91Hjp3lNAFIPAyqFVUkCcxCCwcnBUQHE9CtejuFNAbef7qfEiVECYbhKDwKJSQFTjpZvE8FNABoGVQ4sMVEB56SYxCORSQIPAyqFFhlNAWDm0yHYeUkDjpZvEIIBSQN9PjZduqlJAJQaBlUN7U0BOYhBYOTxUQH9qvHSTOFRAwJ8aL91sVEB9PzVeuvFRQDMzMzMz21NA",
            "dtype": "f8"
           },
           "yaxis": "y"
          },
          {
           "hovertemplate": "<b>%{hovertext}</b><br><br>continent=Africa<br>year=2007<br>gdpPercap=%{x}<br>lifeExp=%{y}<br>pop=%{marker.size}<extra></extra>",
           "hovertext": [
            "Algeria",
            "Angola",
            "Benin",
            "Botswana",
            "Burkina Faso",
            "Burundi",
            "Cameroon",
            "Central African Republic",
            "Chad",
            "Comoros",
            "Congo, Dem. Rep.",
            "Congo, Rep.",
            "Cote d'Ivoire",
            "Djibouti",
            "Egypt",
            "Equatorial Guinea",
            "Eritrea",
            "Ethiopia",
            "Gabon",
            "Gambia",
            "Ghana",
            "Guinea",
            "Guinea-Bissau",
            "Kenya",
            "Lesotho",
            "Liberia",
            "Libya",
            "Madagascar",
            "Malawi",
            "Mali",
            "Mauritania",
            "Mauritius",
            "Morocco",
            "Mozambique",
            "Namibia",
            "Niger",
            "Nigeria",
            "Reunion",
            "Rwanda",
            "Sao Tome and Principe",
            "Senegal",
            "Sierra Leone",
            "Somalia",
            "South Africa",
            "Sudan",
            "Swaziland",
            "Tanzania",
            "Togo",
            "Tunisia",
            "Uganda",
            "Zambia",
            "Zimbabwe"
           ],
           "ids": [
            "Algeria",
            "Angola",
            "Benin",
            "Botswana",
            "Burkina Faso",
            "Burundi",
            "Cameroon",
            "Central African Republic",
            "Chad",
            "Comoros",
            "Congo, Dem. Rep.",
            "Congo, Rep.",
            "Cote d'Ivoire",
            "Djibouti",
            "Egypt",
            "Equatorial Guinea",
            "Eritrea",
            "Ethiopia",
            "Gabon",
            "Gambia",
            "Ghana",
            "Guinea",
            "Guinea-Bissau",
            "Kenya",
            "Lesotho",
            "Liberia",
            "Libya",
            "Madagascar",
            "Malawi",
            "Mali",
            "Mauritania",
            "Mauritius",
            "Morocco",
            "Mozambique",
            "Namibia",
            "Niger",
            "Nigeria",
            "Reunion",
            "Rwanda",
            "Sao Tome and Principe",
            "Senegal",
            "Sierra Leone",
            "Somalia",
            "South Africa",
            "Sudan",
            "Swaziland",
            "Tanzania",
            "Togo",
            "Tunisia",
            "Uganda",
            "Zambia",
            "Zimbabwe"
           ],
           "legendgroup": "Africa",
           "marker": {
            "color": "#00cc96",
            "size": {
             "bdata": "4J/8AXyFvQDqQ3sA2wIZALuZ2gBpB4AAJQYOAY6qQgBXO5wAMNkKACfS2QMi/jkA4dwSAfaSBwBfvcgEIWkIAFneSgCPeo8EEzMWACfDGQD6BF0BpsqXACl2FgBBXh8C6bUeAFa8MACyHVwApnkkAedaywAzl7cAseUxAEIWEwD3FwMCKHAwAahbHwCRwsQAfGkMCI4tDACsM4cAmwsDAOUvuwAywl0ANSSLAIRanwLBVoUCCkoRAPj2RQLL/1YAPs2cAN4avQHzOrMAZ9q7AA==",
             "dtype": "i4"
            },
            "sizemode": "area",
            "sizeref": 435928.2961983471,
            "symbol": "circle"
           },
           "mode": "markers",
           "name": "Africa",
           "orientation": "v",
           "showlegend": true,
           "type": "scatter",
           "x": {
            "bdata": "ba0vEl5PuEClaVA0O72yQA5qv7UjhZZA26LMBu2MyEDb2y3JIQSTQKHhg40h4XpAFjWYhmHon0BkkSbeIRCGQOI/3UBBoJpAEj5K2y7RjkA2yMlp1FhxQIwPs5cdYaxAWTFcHQAjmECsJ/OP9kSgQKSK4lUuzbVAaJHtfAu9x0DPCMrI9AqEQJEHx9FxloVAIVnABD7LyUCOc5tw/4WHQNRgGoZvvpRAcXkH0zt1jUCc8BKc2hmCQO3Vx0P/3JZAFRqIZVOFmEB15h4SHuh5QMYzaOi/jMdAMv/omxRTkEBSoKqdzLqHQAqfrYNTSpBA5nXEIZssnEA1KQXdfmbFQI4ev7dZ2K1AvceZJny9iUC7YkZ4D8uyQEgHkEZqXYNA3lSkwuh3n0DdCfZfH/a9QAWrjyy1+IpAZof4h735mEAPnZ5348GaQOgk73dT9IpABbhq6CDxjECGcw0z1BrCQCveyDzKVKRADW5rC3uhsUDhQh7B7U2RQKkf5XHCl4tAZMxdS+y0u0AXfnA+hYGQQEDc1avY3JNA2On2SFlbfUA=",
            "dtype": "f8"
           },
           "xaxis": "x",
           "y": {
            "bdata": "JQaBlUMTUkAhsHJokV1FQHe+nxovXUxAd76fGi9dSUD2KFyPwiVKQArXo3A9ykhA16NwPQo3SUADK4cW2V5GQBfZzvdTU0lAfT81XrpJUEBCYOXQIjtHQPCnxks3qUtARIts5/spSEBoke18P2VLQBSDwMqh1VFAJjEIrBzKSUCF61G4HgVNQPCnxks3eUpArkfhehReTEDTTWIQWLlNQIlBYOXQAk5AN4lBYOUATECNbOf7qTFHQK5H4XoUDktAsp3vp8ZLRUAQWDm0yNZGQLByaJHtfFJAZBBYObS4TUAQWDm0yCZIQLKd76fGO0tA0SLb+X4KUEAlBoGVQzNSQNEi2/l+ylFA0SLb+X4KRUCJFtnO93NKQOXQItv5bkxAy6FFtvNtR0A/NV66SRxTQOXQItv5HkdAbxKDwMphUEAOLbKd74dPQGQQWDm0SEVAMQisHFoUSEAIrBxaZKtIQLpJDAIrR01AWDm0yHbOQ0AZBFYOLUJKQPYoXI/CNU1AUI2XbhJ7UkBMN4lBYMVJQP3UeOkmMUVAdZMYBFa+RUA=",
            "dtype": "f8"
           },
           "yaxis": "y"
          },
          {
           "hovertemplate": "<b>%{hovertext}</b><br><br>continent=Americas<br>year=2007<br>gdpPercap=%{x}<br>lifeExp=%{y}<br>pop=%{marker.size}<extra></extra>",
           "hovertext": [
            "Argentina",
            "Bolivia",
            "Brazil",
            "Canada",
            "Chile",
            "Colombia",
            "Costa Rica",
            "Cuba",
            "Dominican Republic",
            "Ecuador",
            "El Salvador",
            "Guatemala",
            "Haiti",
            "Honduras",
            "Jamaica",
            "Mexico",
            "Nicaragua",
            "Panama",
            "Paraguay",
            "Peru",
            "Puerto Rico",
            "Trinidad and Tobago",
            "United States",
            "Uruguay",
            "Venezuela"
           ],
           "ids": [
            "Argentina",
            "Bolivia",
            "Brazil",
            "Canada",
            "Chile",
            "Colombia",
            "Costa Rica",
            "Cuba",
            "Dominican Republic",
            "Ecuador",
            "El Salvador",
            "Guatemala",
            "Haiti",
            "Honduras",
            "Jamaica",
            "Mexico",
            "Nicaragua",
            "Panama",
            "Paraguay",
            "Peru",
            "Puerto Rico",
            "Trinidad and Tobago",
            "United States",
            "Uruguay",
            "Venezuela"
           ],
           "legendgroup": "Americas",
           "marker": {
            "color": "#ab63fa",
            "size": {
             "bdata": "Z/VmArAliwAXVVMLPX79AUV8+ADe26IC/BM/AJs1rgDGNI4AIOXRACjkaQAA2b8AHr6BAHMxcgDkayoA26R6BlyZVgC9eDEAi7tlAMWKtQFbKDwAYB8QAOsH8xHImjQANgWOAQ==",
             "dtype": "i4"
            },
            "sizemode": "area",
            "sizeref": 435928.2961983471,
            "symbol": "circle"
           },
           "mode": "markers",
           "name": "Americas",
           "orientation": "v",
           "showlegend": true,
           "type": "scatter",
           "x": {
            "bdata": "ICQLmLD1yECcwd8vRtytQGkAb4HmtMFAB7Ezhee74UCGONbF0bnJQPruVpaUXrtAqU2c3IfWwkCBs5QsDXrBQB5Av+9fibdA5fbLJ0PZukCuvOR/WmC2QLQh/8wMQrRAECIZcozGkkAInKVkqbirQOu12VjhmLxAQQ5KmMlkx0BSRIZVpHqlQHui68KXKMNA4KKTpdZMsECIf9jS5/C8QKJ6a2At4NJAdF5jlyCW0UDr/xzm9PjkQDCeQUO7ucRAW5TZIOdLxkA=",
            "dtype": "f8"
           },
           "xaxis": "x",
           "y": {
            "bdata": "FK5H4XrUUkD6fmq8dGNQQClcj8L1GFJAbxKDwMopVEAIrBxaZKNTQDeJQWDlOFJANV66SQyyU0C28/3UeJFTQNejcD0KD1JAVg4tsp2/UkDVeOkmMfhRQH9qvHSTkFFAaJHtfD91TkDqJjEIrIxRQD81XrpJJFJAFK5H4XoMU0Coxks3iTlSQOx8PzVe4lJA46WbxCDwUUBt5/up8dpRQDu0yHa+r1NAI9v5fmp0UUBzaJHtfI9TQH9qvHSTGFNAK4cW2c5vUkA=",
            "dtype": "f8"
           },
           "yaxis": "y"
          },
          {
           "hovertemplate": "<b>%{hovertext}</b><br><br>continent=Oceania<br>year=2007<br>gdpPercap=%{x}<br>lifeExp=%{y}<br>pop=%{marker.size}<extra></extra>",
           "hovertext": [
            "Australia",
            "New Zealand"
           ],
           "ids": [
            "Australia",
            "New Zealand"
           ],
           "legendgroup": "Oceania",
           "marker": {
            "color": "#FFA15A",
            "size": {
             "bdata": "AM03ATvNPgA=",
             "dtype": "i4"
            },
            "sizemode": "area",
            "sizeref": 435928.2961983471,
            "symbol": "circle"
           },
           "mode": "markers",
           "name": "Oceania",
           "orientation": "v",
           "showlegend": true,
           "type": "scatter",
           "x": {
            "bdata": "54cRwmvQ4EAEHEKVQJjYQA==",
            "dtype": "f8"
           },
           "xaxis": "x",
           "y": {
            "bdata": "16NwPQpPVECTGARWDg1UQA==",
            "dtype": "f8"
           },
           "yaxis": "y"
          }
         ],
         "name": "2007"
        }
       ],
       "layout": {
        "legend": {
         "itemsizing": "constant",
         "title": {
          "text": "continent"
         },
         "tracegroupgap": 0
        },
        "margin": {
         "t": 60
        },
        "sliders": [
         {
          "active": 0,
          "currentvalue": {
           "prefix": "year="
          },
          "len": 0.9,
          "pad": {
           "b": 10,
           "t": 60
          },
          "steps": [
           {
            "args": [
             [
              "1952"
             ],
             {
              "frame": {
               "duration": 0,
               "redraw": false
              },
              "fromcurrent": true,
              "mode": "immediate",
              "transition": {
               "duration": 0,
               "easing": "linear"
              }
             }
            ],
            "label": "1952",
            "method": "animate"
           },
           {
            "args": [
             [
              "1957"
             ],
             {
              "frame": {
               "duration": 0,
               "redraw": false
              },
              "fromcurrent": true,
              "mode": "immediate",
              "transition": {
               "duration": 0,
               "easing": "linear"
              }
             }
            ],
            "label": "1957",
            "method": "animate"
           },
           {
            "args": [
             [
              "1962"
             ],
             {
              "frame": {
               "duration": 0,
               "redraw": false
              },
              "fromcurrent": true,
              "mode": "immediate",
              "transition": {
               "duration": 0,
               "easing": "linear"
              }
             }
            ],
            "label": "1962",
            "method": "animate"
           },
           {
            "args": [
             [
              "1967"
             ],
             {
              "frame": {
               "duration": 0,
               "redraw": false
              },
              "fromcurrent": true,
              "mode": "immediate",
              "transition": {
               "duration": 0,
               "easing": "linear"
              }
             }
            ],
            "label": "1967",
            "method": "animate"
           },
           {
            "args": [
             [
              "1972"
             ],
             {
              "frame": {
               "duration": 0,
               "redraw": false
              },
              "fromcurrent": true,
              "mode": "immediate",
              "transition": {
               "duration": 0,
               "easing": "linear"
              }
             }
            ],
            "label": "1972",
            "method": "animate"
           },
           {
            "args": [
             [
              "1977"
             ],
             {
              "frame": {
               "duration": 0,
               "redraw": false
              },
              "fromcurrent": true,
              "mode": "immediate",
              "transition": {
               "duration": 0,
               "easing": "linear"
              }
             }
            ],
            "label": "1977",
            "method": "animate"
           },
           {
            "args": [
             [
              "1982"
             ],
             {
              "frame": {
               "duration": 0,
               "redraw": false
              },
              "fromcurrent": true,
              "mode": "immediate",
              "transition": {
               "duration": 0,
               "easing": "linear"
              }
             }
            ],
            "label": "1982",
            "method": "animate"
           },
           {
            "args": [
             [
              "1987"
             ],
             {
              "frame": {
               "duration": 0,
               "redraw": false
              },
              "fromcurrent": true,
              "mode": "immediate",
              "transition": {
               "duration": 0,
               "easing": "linear"
              }
             }
            ],
            "label": "1987",
            "method": "animate"
           },
           {
            "args": [
             [
              "1992"
             ],
             {
              "frame": {
               "duration": 0,
               "redraw": false
              },
              "fromcurrent": true,
              "mode": "immediate",
              "transition": {
               "duration": 0,
               "easing": "linear"
              }
             }
            ],
            "label": "1992",
            "method": "animate"
           },
           {
            "args": [
             [
              "1997"
             ],
             {
              "frame": {
               "duration": 0,
               "redraw": false
              },
              "fromcurrent": true,
              "mode": "immediate",
              "transition": {
               "duration": 0,
               "easing": "linear"
              }
             }
            ],
            "label": "1997",
            "method": "animate"
           },
           {
            "args": [
             [
              "2002"
             ],
             {
              "frame": {
               "duration": 0,
               "redraw": false
              },
              "fromcurrent": true,
              "mode": "immediate",
              "transition": {
               "duration": 0,
               "easing": "linear"
              }
             }
            ],
            "label": "2002",
            "method": "animate"
           },
           {
            "args": [
             [
              "2007"
             ],
             {
              "frame": {
               "duration": 0,
               "redraw": false
              },
              "fromcurrent": true,
              "mode": "immediate",
              "transition": {
               "duration": 0,
               "easing": "linear"
              }
             }
            ],
            "label": "2007",
            "method": "animate"
           }
          ],
          "x": 0.1,
          "xanchor": "left",
          "y": 0,
          "yanchor": "top"
         }
        ],
        "template": {
         "data": {
          "bar": [
           {
            "error_x": {
             "color": "#2a3f5f"
            },
            "error_y": {
             "color": "#2a3f5f"
            },
            "marker": {
             "line": {
              "color": "#E5ECF6",
              "width": 0.5
             },
             "pattern": {
              "fillmode": "overlay",
              "size": 10,
              "solidity": 0.2
             }
            },
            "type": "bar"
           }
          ],
          "barpolar": [
           {
            "marker": {
             "line": {
              "color": "#E5ECF6",
              "width": 0.5
             },
             "pattern": {
              "fillmode": "overlay",
              "size": 10,
              "solidity": 0.2
             }
            },
            "type": "barpolar"
           }
          ],
          "carpet": [
           {
            "aaxis": {
             "endlinecolor": "#2a3f5f",
             "gridcolor": "white",
             "linecolor": "white",
             "minorgridcolor": "white",
             "startlinecolor": "#2a3f5f"
            },
            "baxis": {
             "endlinecolor": "#2a3f5f",
             "gridcolor": "white",
             "linecolor": "white",
             "minorgridcolor": "white",
             "startlinecolor": "#2a3f5f"
            },
            "type": "carpet"
           }
          ],
          "choropleth": [
           {
            "colorbar": {
             "outlinewidth": 0,
             "ticks": ""
            },
            "type": "choropleth"
           }
          ],
          "contour": [
           {
            "colorbar": {
             "outlinewidth": 0,
             "ticks": ""
            },
            "colorscale": [
             [
              0,
              "#0d0887"
             ],
             [
              0.1111111111111111,
              "#46039f"
             ],
             [
              0.2222222222222222,
              "#7201a8"
             ],
             [
              0.3333333333333333,
              "#9c179e"
             ],
             [
              0.4444444444444444,
              "#bd3786"
             ],
             [
              0.5555555555555556,
              "#d8576b"
             ],
             [
              0.6666666666666666,
              "#ed7953"
             ],
             [
              0.7777777777777778,
              "#fb9f3a"
             ],
             [
              0.8888888888888888,
              "#fdca26"
             ],
             [
              1,
              "#f0f921"
             ]
            ],
            "type": "contour"
           }
          ],
          "contourcarpet": [
           {
            "colorbar": {
             "outlinewidth": 0,
             "ticks": ""
            },
            "type": "contourcarpet"
           }
          ],
          "heatmap": [
           {
            "colorbar": {
             "outlinewidth": 0,
             "ticks": ""
            },
            "colorscale": [
             [
              0,
              "#0d0887"
             ],
             [
              0.1111111111111111,
              "#46039f"
             ],
             [
              0.2222222222222222,
              "#7201a8"
             ],
             [
              0.3333333333333333,
              "#9c179e"
             ],
             [
              0.4444444444444444,
              "#bd3786"
             ],
             [
              0.5555555555555556,
              "#d8576b"
             ],
             [
              0.6666666666666666,
              "#ed7953"
             ],
             [
              0.7777777777777778,
              "#fb9f3a"
             ],
             [
              0.8888888888888888,
              "#fdca26"
             ],
             [
              1,
              "#f0f921"
             ]
            ],
            "type": "heatmap"
           }
          ],
          "histogram": [
           {
            "marker": {
             "pattern": {
              "fillmode": "overlay",
              "size": 10,
              "solidity": 0.2
             }
            },
            "type": "histogram"
           }
          ],
          "histogram2d": [
           {
            "colorbar": {
             "outlinewidth": 0,
             "ticks": ""
            },
            "colorscale": [
             [
              0,
              "#0d0887"
             ],
             [
              0.1111111111111111,
              "#46039f"
             ],
             [
              0.2222222222222222,
              "#7201a8"
             ],
             [
              0.3333333333333333,
              "#9c179e"
             ],
             [
              0.4444444444444444,
              "#bd3786"
             ],
             [
              0.5555555555555556,
              "#d8576b"
             ],
             [
              0.6666666666666666,
              "#ed7953"
             ],
             [
              0.7777777777777778,
              "#fb9f3a"
             ],
             [
              0.8888888888888888,
              "#fdca26"
             ],
             [
              1,
              "#f0f921"
             ]
            ],
            "type": "histogram2d"
           }
          ],
          "histogram2dcontour": [
           {
            "colorbar": {
             "outlinewidth": 0,
             "ticks": ""
            },
            "colorscale": [
             [
              0,
              "#0d0887"
             ],
             [
              0.1111111111111111,
              "#46039f"
             ],
             [
              0.2222222222222222,
              "#7201a8"
             ],
             [
              0.3333333333333333,
              "#9c179e"
             ],
             [
              0.4444444444444444,
              "#bd3786"
             ],
             [
              0.5555555555555556,
              "#d8576b"
             ],
             [
              0.6666666666666666,
              "#ed7953"
             ],
             [
              0.7777777777777778,
              "#fb9f3a"
             ],
             [
              0.8888888888888888,
              "#fdca26"
             ],
             [
              1,
              "#f0f921"
             ]
            ],
            "type": "histogram2dcontour"
           }
          ],
          "mesh3d": [
           {
            "colorbar": {
             "outlinewidth": 0,
             "ticks": ""
            },
            "type": "mesh3d"
           }
          ],
          "parcoords": [
           {
            "line": {
             "colorbar": {
              "outlinewidth": 0,
              "ticks": ""
             }
            },
            "type": "parcoords"
           }
          ],
          "pie": [
           {
            "automargin": true,
            "type": "pie"
           }
          ],
          "scatter": [
           {
            "fillpattern": {
             "fillmode": "overlay",
             "size": 10,
             "solidity": 0.2
            },
            "type": "scatter"
           }
          ],
          "scatter3d": [
           {
            "line": {
             "colorbar": {
              "outlinewidth": 0,
              "ticks": ""
             }
            },
            "marker": {
             "colorbar": {
              "outlinewidth": 0,
              "ticks": ""
             }
            },
            "type": "scatter3d"
           }
          ],
          "scattercarpet": [
           {
            "marker": {
             "colorbar": {
              "outlinewidth": 0,
              "ticks": ""
             }
            },
            "type": "scattercarpet"
           }
          ],
          "scattergeo": [
           {
            "marker": {
             "colorbar": {
              "outlinewidth": 0,
              "ticks": ""
             }
            },
            "type": "scattergeo"
           }
          ],
          "scattergl": [
           {
            "marker": {
             "colorbar": {
              "outlinewidth": 0,
              "ticks": ""
             }
            },
            "type": "scattergl"
           }
          ],
          "scattermap": [
           {
            "marker": {
             "colorbar": {
              "outlinewidth": 0,
              "ticks": ""
             }
            },
            "type": "scattermap"
           }
          ],
          "scattermapbox": [
           {
            "marker": {
             "colorbar": {
              "outlinewidth": 0,
              "ticks": ""
             }
            },
            "type": "scattermapbox"
           }
          ],
          "scatterpolar": [
           {
            "marker": {
             "colorbar": {
              "outlinewidth": 0,
              "ticks": ""
             }
            },
            "type": "scatterpolar"
           }
          ],
          "scatterpolargl": [
           {
            "marker": {
             "colorbar": {
              "outlinewidth": 0,
              "ticks": ""
             }
            },
            "type": "scatterpolargl"
           }
          ],
          "scatterternary": [
           {
            "marker": {
             "colorbar": {
              "outlinewidth": 0,
              "ticks": ""
             }
            },
            "type": "scatterternary"
           }
          ],
          "surface": [
           {
            "colorbar": {
             "outlinewidth": 0,
             "ticks": ""
            },
            "colorscale": [
             [
              0,
              "#0d0887"
             ],
             [
              0.1111111111111111,
              "#46039f"
             ],
             [
              0.2222222222222222,
              "#7201a8"
             ],
             [
              0.3333333333333333,
              "#9c179e"
             ],
             [
              0.4444444444444444,
              "#bd3786"
             ],
             [
              0.5555555555555556,
              "#d8576b"
             ],
             [
              0.6666666666666666,
              "#ed7953"
             ],
             [
              0.7777777777777778,
              "#fb9f3a"
             ],
             [
              0.8888888888888888,
              "#fdca26"
             ],
             [
              1,
              "#f0f921"
             ]
            ],
            "type": "surface"
           }
          ],
          "table": [
           {
            "cells": {
             "fill": {
              "color": "#EBF0F8"
             },
             "line": {
              "color": "white"
             }
            },
            "header": {
             "fill": {
              "color": "#C8D4E3"
             },
             "line": {
              "color": "white"
             }
            },
            "type": "table"
           }
          ]
         },
         "layout": {
          "annotationdefaults": {
           "arrowcolor": "#2a3f5f",
           "arrowhead": 0,
           "arrowwidth": 1
          },
          "autotypenumbers": "strict",
          "coloraxis": {
           "colorbar": {
            "outlinewidth": 0,
            "ticks": ""
           }
          },
          "colorscale": {
           "diverging": [
            [
             0,
             "#8e0152"
            ],
            [
             0.1,
             "#c51b7d"
            ],
            [
             0.2,
             "#de77ae"
            ],
            [
             0.3,
             "#f1b6da"
            ],
            [
             0.4,
             "#fde0ef"
            ],
            [
             0.5,
             "#f7f7f7"
            ],
            [
             0.6,
             "#e6f5d0"
            ],
            [
             0.7,
             "#b8e186"
            ],
            [
             0.8,
             "#7fbc41"
            ],
            [
             0.9,
             "#4d9221"
            ],
            [
             1,
             "#276419"
            ]
           ],
           "sequential": [
            [
             0,
             "#0d0887"
            ],
            [
             0.1111111111111111,
             "#46039f"
            ],
            [
             0.2222222222222222,
             "#7201a8"
            ],
            [
             0.3333333333333333,
             "#9c179e"
            ],
            [
             0.4444444444444444,
             "#bd3786"
            ],
            [
             0.5555555555555556,
             "#d8576b"
            ],
            [
             0.6666666666666666,
             "#ed7953"
            ],
            [
             0.7777777777777778,
             "#fb9f3a"
            ],
            [
             0.8888888888888888,
             "#fdca26"
            ],
            [
             1,
             "#f0f921"
            ]
           ],
           "sequentialminus": [
            [
             0,
             "#0d0887"
            ],
            [
             0.1111111111111111,
             "#46039f"
            ],
            [
             0.2222222222222222,
             "#7201a8"
            ],
            [
             0.3333333333333333,
             "#9c179e"
            ],
            [
             0.4444444444444444,
             "#bd3786"
            ],
            [
             0.5555555555555556,
             "#d8576b"
            ],
            [
             0.6666666666666666,
             "#ed7953"
            ],
            [
             0.7777777777777778,
             "#fb9f3a"
            ],
            [
             0.8888888888888888,
             "#fdca26"
            ],
            [
             1,
             "#f0f921"
            ]
           ]
          },
          "colorway": [
           "#636efa",
           "#EF553B",
           "#00cc96",
           "#ab63fa",
           "#FFA15A",
           "#19d3f3",
           "#FF6692",
           "#B6E880",
           "#FF97FF",
           "#FECB52"
          ],
          "font": {
           "color": "#2a3f5f"
          },
          "geo": {
           "bgcolor": "white",
           "lakecolor": "white",
           "landcolor": "#E5ECF6",
           "showlakes": true,
           "showland": true,
           "subunitcolor": "white"
          },
          "hoverlabel": {
           "align": "left"
          },
          "hovermode": "closest",
          "mapbox": {
           "style": "light"
          },
          "paper_bgcolor": "white",
          "plot_bgcolor": "#E5ECF6",
          "polar": {
           "angularaxis": {
            "gridcolor": "white",
            "linecolor": "white",
            "ticks": ""
           },
           "bgcolor": "#E5ECF6",
           "radialaxis": {
            "gridcolor": "white",
            "linecolor": "white",
            "ticks": ""
           }
          },
          "scene": {
           "xaxis": {
            "backgroundcolor": "#E5ECF6",
            "gridcolor": "white",
            "gridwidth": 2,
            "linecolor": "white",
            "showbackground": true,
            "ticks": "",
            "zerolinecolor": "white"
           },
           "yaxis": {
            "backgroundcolor": "#E5ECF6",
            "gridcolor": "white",
            "gridwidth": 2,
            "linecolor": "white",
            "showbackground": true,
            "ticks": "",
            "zerolinecolor": "white"
           },
           "zaxis": {
            "backgroundcolor": "#E5ECF6",
            "gridcolor": "white",
            "gridwidth": 2,
            "linecolor": "white",
            "showbackground": true,
            "ticks": "",
            "zerolinecolor": "white"
           }
          },
          "shapedefaults": {
           "line": {
            "color": "#2a3f5f"
           }
          },
          "ternary": {
           "aaxis": {
            "gridcolor": "white",
            "linecolor": "white",
            "ticks": ""
           },
           "baxis": {
            "gridcolor": "white",
            "linecolor": "white",
            "ticks": ""
           },
           "bgcolor": "#E5ECF6",
           "caxis": {
            "gridcolor": "white",
            "linecolor": "white",
            "ticks": ""
           }
          },
          "title": {
           "x": 0.05
          },
          "xaxis": {
           "automargin": true,
           "gridcolor": "white",
           "linecolor": "white",
           "ticks": "",
           "title": {
            "standoff": 15
           },
           "zerolinecolor": "white",
           "zerolinewidth": 2
          },
          "yaxis": {
           "automargin": true,
           "gridcolor": "white",
           "linecolor": "white",
           "ticks": "",
           "title": {
            "standoff": 15
           },
           "zerolinecolor": "white",
           "zerolinewidth": 2
          }
         }
        },
        "updatemenus": [
         {
          "buttons": [
           {
            "args": [
             null,
             {
              "frame": {
               "duration": 500,
               "redraw": false
              },
              "fromcurrent": true,
              "mode": "immediate",
              "transition": {
               "duration": 500,
               "easing": "linear"
              }
             }
            ],
            "label": "&#9654;",
            "method": "animate"
           },
           {
            "args": [
             [
              null
             ],
             {
              "frame": {
               "duration": 0,
               "redraw": false
              },
              "fromcurrent": true,
              "mode": "immediate",
              "transition": {
               "duration": 0,
               "easing": "linear"
              }
             }
            ],
            "label": "&#9724;",
            "method": "animate"
           }
          ],
          "direction": "left",
          "pad": {
           "r": 10,
           "t": 70
          },
          "showactive": false,
          "type": "buttons",
          "x": 0.1,
          "xanchor": "right",
          "y": 0,
          "yanchor": "top"
         }
        ],
        "xaxis": {
         "anchor": "y",
         "domain": [
          0,
          1
         ],
         "range": [
          2,
          5
         ],
         "title": {
          "text": "gdpPercap"
         },
         "type": "log"
        },
        "yaxis": {
         "anchor": "x",
         "domain": [
          0,
          1
         ],
         "range": [
          25,
          90
         ],
         "title": {
          "text": "lifeExp"
         }
        }
       }
      }
     },
     "metadata": {},
     "output_type": "display_data"
    }
   ],
   "source": [
    "import plotly.express as px\n",
    "df = px.data.gapminder()\n",
    "px.scatter(df, x='gdpPercap', y='lifeExp', animation_frame='year', animation_group='country',\n",
    "           size='pop', color='continent', hover_name='country',\n",
    "           log_x=True, size_max=55, range_x=[100, 100000], range_y=[25, 90])"
   ]
  }
 ],
 "metadata": {
  "kernelspec": {
   "display_name": "DS_Env",
   "language": "python",
   "name": "python3"
  },
  "language_info": {
   "codemirror_mode": {
    "name": "ipython",
    "version": 3
   },
   "file_extension": ".py",
   "mimetype": "text/x-python",
   "name": "python",
   "nbconvert_exporter": "python",
   "pygments_lexer": "ipython3",
   "version": "3.13.2"
  }
 },
 "nbformat": 4,
 "nbformat_minor": 5
}
