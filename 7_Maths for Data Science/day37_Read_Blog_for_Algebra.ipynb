{
 "cells": [
  {
   "cell_type": "markdown",
   "id": "bae3660a",
   "metadata": {},
   "source": [
    "> # __Read The Blog__ [Link Here...](https://codanics.com/algebra-for-data-science-and-machine-learning/)"
   ]
  }
 ],
 "metadata": {
  "language_info": {
   "name": "python"
  }
 },
 "nbformat": 4,
 "nbformat_minor": 5
}
