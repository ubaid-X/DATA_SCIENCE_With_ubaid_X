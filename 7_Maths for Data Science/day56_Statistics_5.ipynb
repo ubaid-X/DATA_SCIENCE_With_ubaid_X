{
 "cells": [
  {
   "cell_type": "markdown",
   "id": "fa77dda0",
   "metadata": {},
   "source": [
    "---\n",
    "__About Section:__\n",
    "\n",
    "- __Author name:__ UBAIDULLAH\n",
    "\n",
    "- __Email:__ [ai.bussiness.student0@gmail.com](mailto:ai.bussiness.student0@gmail.com)\n",
    "\n",
    "- __GitHub:__ [github.com/ubaid-X/](https://github.com/ubaid-X/)\n",
    "\n",
    "- __LinkedIn Profile:__ [linkedin.com/in/ubaid-ullah-634563373/](https://www.linkedin.com/in/ubaid-ullah-634563373/)\n",
    "\n",
    "- __Kaggle:__ [kaggle.com/ubaidullah01](https://www.kaggle.com/ubaidullah01)\n",
    "\n",
    "---"
   ]
  },
  {
   "cell_type": "markdown",
   "id": "6ae82883",
   "metadata": {},
   "source": [
    ">>># Open the links and read the articles carefully:\n",
    "\n",
    "1. __Central Tendency:__ https://codanics.com/central-tendency/\n",
    "\n",
    "2. __Mean:__ https://codanics.com/mean/\n",
    "\n",
    "3. __Median:__ https://codanics.com/median/\n",
    "\n",
    "4. __Mode:__ https://codanics.com/mode/#google_vignette\n",
    "\n",
    "5. __Population Mean vs Sample Mean:__ https://codanics.com/population-mean-vs-sample-mean/"
   ]
  }
 ],
 "metadata": {
  "language_info": {
   "name": "python"
  }
 },
 "nbformat": 4,
 "nbformat_minor": 5
}
