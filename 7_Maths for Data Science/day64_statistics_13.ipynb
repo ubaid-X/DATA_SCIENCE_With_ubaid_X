{
 "cells": [
  {
   "cell_type": "markdown",
   "id": "623d645c",
   "metadata": {},
   "source": [
    "---\n",
    "__About Section:__\n",
    "\n",
    "- __Author name:__ UBAIDULLAH\n",
    "\n",
    "- __Email:__ [ai.bussiness.student0@gmail.com](mailto:ai.bussiness.student0@gmail.com)\n",
    "\n",
    "- __GitHub:__ [github.com/ubaid-X/](https://github.com/ubaid-X/)\n",
    "\n",
    "- __LinkedIn Profile:__ [linkedin.com/in/ubaid-ullah-634563373/](https://www.linkedin.com/in/ubaid-ullah-634563373/)\n",
    "\n",
    "- __Kaggle:__ [kaggle.com/ubaidullah01](https://www.kaggle.com/ubaidullah01)\n",
    "\n",
    "---"
   ]
  },
  {
   "cell_type": "markdown",
   "id": "ea1c4a32",
   "metadata": {},
   "source": [
    "> # __Statistical Analysis__"
   ]
  },
  {
   "cell_type": "code",
   "execution_count": 2,
   "id": "f535e457",
   "metadata": {},
   "outputs": [],
   "source": [
    "# Importing libraries\n",
    "import pandas as pd\n",
    "import numpy as np\n",
    "import seaborn as sns\n",
    "import matplotlib.pyplot as plt\n",
    "from scipy import stats"
   ]
  },
  {
   "cell_type": "code",
   "execution_count": 37,
   "id": "a85e125c",
   "metadata": {},
   "outputs": [],
   "source": [
    "# loading Titanic Dataset\n",
    "df = sns.load_dataset('titanic')"
   ]
  },
  {
   "cell_type": "markdown",
   "id": "4f913d44",
   "metadata": {},
   "source": [
    "> # __1. Normal Distribution Test__"
   ]
  },
  {
   "cell_type": "code",
   "execution_count": 5,
   "id": "31609deb",
   "metadata": {},
   "outputs": [
    {
     "data": {
      "text/html": [
       "<div>\n",
       "<style scoped>\n",
       "    .dataframe tbody tr th:only-of-type {\n",
       "        vertical-align: middle;\n",
       "    }\n",
       "\n",
       "    .dataframe tbody tr th {\n",
       "        vertical-align: top;\n",
       "    }\n",
       "\n",
       "    .dataframe thead th {\n",
       "        text-align: right;\n",
       "    }\n",
       "</style>\n",
       "<table border=\"1\" class=\"dataframe\">\n",
       "  <thead>\n",
       "    <tr style=\"text-align: right;\">\n",
       "      <th></th>\n",
       "      <th>survived</th>\n",
       "      <th>pclass</th>\n",
       "      <th>sex</th>\n",
       "      <th>age</th>\n",
       "      <th>sibsp</th>\n",
       "      <th>parch</th>\n",
       "      <th>fare</th>\n",
       "      <th>embarked</th>\n",
       "      <th>class</th>\n",
       "      <th>who</th>\n",
       "      <th>adult_male</th>\n",
       "      <th>deck</th>\n",
       "      <th>embark_town</th>\n",
       "      <th>alive</th>\n",
       "      <th>alone</th>\n",
       "    </tr>\n",
       "  </thead>\n",
       "  <tbody>\n",
       "    <tr>\n",
       "      <th>0</th>\n",
       "      <td>0</td>\n",
       "      <td>3</td>\n",
       "      <td>male</td>\n",
       "      <td>22.0</td>\n",
       "      <td>1</td>\n",
       "      <td>0</td>\n",
       "      <td>7.2500</td>\n",
       "      <td>S</td>\n",
       "      <td>Third</td>\n",
       "      <td>man</td>\n",
       "      <td>True</td>\n",
       "      <td>NaN</td>\n",
       "      <td>Southampton</td>\n",
       "      <td>no</td>\n",
       "      <td>False</td>\n",
       "    </tr>\n",
       "    <tr>\n",
       "      <th>1</th>\n",
       "      <td>1</td>\n",
       "      <td>1</td>\n",
       "      <td>female</td>\n",
       "      <td>38.0</td>\n",
       "      <td>1</td>\n",
       "      <td>0</td>\n",
       "      <td>71.2833</td>\n",
       "      <td>C</td>\n",
       "      <td>First</td>\n",
       "      <td>woman</td>\n",
       "      <td>False</td>\n",
       "      <td>C</td>\n",
       "      <td>Cherbourg</td>\n",
       "      <td>yes</td>\n",
       "      <td>False</td>\n",
       "    </tr>\n",
       "    <tr>\n",
       "      <th>2</th>\n",
       "      <td>1</td>\n",
       "      <td>3</td>\n",
       "      <td>female</td>\n",
       "      <td>26.0</td>\n",
       "      <td>0</td>\n",
       "      <td>0</td>\n",
       "      <td>7.9250</td>\n",
       "      <td>S</td>\n",
       "      <td>Third</td>\n",
       "      <td>woman</td>\n",
       "      <td>False</td>\n",
       "      <td>NaN</td>\n",
       "      <td>Southampton</td>\n",
       "      <td>yes</td>\n",
       "      <td>True</td>\n",
       "    </tr>\n",
       "    <tr>\n",
       "      <th>3</th>\n",
       "      <td>1</td>\n",
       "      <td>1</td>\n",
       "      <td>female</td>\n",
       "      <td>35.0</td>\n",
       "      <td>1</td>\n",
       "      <td>0</td>\n",
       "      <td>53.1000</td>\n",
       "      <td>S</td>\n",
       "      <td>First</td>\n",
       "      <td>woman</td>\n",
       "      <td>False</td>\n",
       "      <td>C</td>\n",
       "      <td>Southampton</td>\n",
       "      <td>yes</td>\n",
       "      <td>False</td>\n",
       "    </tr>\n",
       "    <tr>\n",
       "      <th>4</th>\n",
       "      <td>0</td>\n",
       "      <td>3</td>\n",
       "      <td>male</td>\n",
       "      <td>35.0</td>\n",
       "      <td>0</td>\n",
       "      <td>0</td>\n",
       "      <td>8.0500</td>\n",
       "      <td>S</td>\n",
       "      <td>Third</td>\n",
       "      <td>man</td>\n",
       "      <td>True</td>\n",
       "      <td>NaN</td>\n",
       "      <td>Southampton</td>\n",
       "      <td>no</td>\n",
       "      <td>True</td>\n",
       "    </tr>\n",
       "  </tbody>\n",
       "</table>\n",
       "</div>"
      ],
      "text/plain": [
       "   survived  pclass     sex   age  sibsp  parch     fare embarked  class  \\\n",
       "0         0       3    male  22.0      1      0   7.2500        S  Third   \n",
       "1         1       1  female  38.0      1      0  71.2833        C  First   \n",
       "2         1       3  female  26.0      0      0   7.9250        S  Third   \n",
       "3         1       1  female  35.0      1      0  53.1000        S  First   \n",
       "4         0       3    male  35.0      0      0   8.0500        S  Third   \n",
       "\n",
       "     who  adult_male deck  embark_town alive  alone  \n",
       "0    man        True  NaN  Southampton    no  False  \n",
       "1  woman       False    C    Cherbourg   yes  False  \n",
       "2  woman       False  NaN  Southampton   yes   True  \n",
       "3  woman       False    C  Southampton   yes  False  \n",
       "4    man        True  NaN  Southampton    no   True  "
      ]
     },
     "execution_count": 5,
     "metadata": {},
     "output_type": "execute_result"
    }
   ],
   "source": [
    "df.head()"
   ]
  },
  {
   "cell_type": "code",
   "execution_count": 38,
   "id": "95a02de4",
   "metadata": {},
   "outputs": [
    {
     "data": {
      "text/plain": [
       "<Axes: xlabel='age', ylabel='Count'>"
      ]
     },
     "execution_count": 38,
     "metadata": {},
     "output_type": "execute_result"
    },
    {
     "data": {
      "image/png": "[encoded data removed]",
      "text/plain": [
       "<Figure size 640x480 with 1 Axes>"
      ]
     },
     "metadata": {},
     "output_type": "display_data"
    }
   ],
   "source": [
    "# Graphical Method\n",
    "sns.histplot(data=df, x='age', kde=True)"
   ]
  },
  {
   "cell_type": "code",
   "execution_count": 7,
   "id": "7ea7e56f",
   "metadata": {},
   "outputs": [
    {
     "data": {
      "text/plain": [
       "<Axes: xlabel='age', ylabel='Count'>"
      ]
     },
     "execution_count": 7,
     "metadata": {},
     "output_type": "execute_result"
    },
    {
     "data": {
      "image/png": "[encoded data removed]",
      "text/plain": [
       "<Figure size 640x480 with 1 Axes>"
      ]
     },
     "metadata": {},
     "output_type": "display_data"
    }
   ],
   "source": [
    "sns.histplot(data=df, x='age', hue='who', kde=True)"
   ]
  },
  {
   "cell_type": "markdown",
   "id": "1ea5cab2",
   "metadata": {},
   "source": [
    "---\n",
    "# __1.1 Shapiro wilk Test on normal distribution/Gaussian Distribution__\n",
    "\n",
    "- __Null Hypothesis (H0):__ The Data is Normally Distributed\n",
    "- __Altenative Hypothesis (H1):__ The Data is not normally Distributed"
   ]
  },
  {
   "cell_type": "code",
   "execution_count": 25,
   "id": "7692019e",
   "metadata": {},
   "outputs": [
    {
     "name": "stdout",
     "output_type": "stream",
     "text": [
      "177\n"
     ]
    }
   ],
   "source": [
    "# cheking and droping null values\n",
    "print(df['age'].isnull().sum())\n",
    "age_data = df['age'].dropna().values"
   ]
  },
  {
   "cell_type": "code",
   "execution_count": 39,
   "id": "6086e9de",
   "metadata": {},
   "outputs": [
    {
     "data": {
      "text/plain": [
       "<Axes: ylabel='Count'>"
      ]
     },
     "execution_count": 39,
     "metadata": {},
     "output_type": "execute_result"
    },
    {
     "data": {
      "image/png": "[encoded data removed]",
      "text/plain": [
       "<Figure size 640x480 with 1 Axes>"
      ]
     },
     "metadata": {},
     "output_type": "display_data"
    }
   ],
   "source": [
    "sns.histplot(x=age_data, kde=True)"
   ]
  },
  {
   "cell_type": "markdown",
   "id": "e65e2dba",
   "metadata": {},
   "source": [
    "> __If p-value is less than `0.05` so the H0 will be rejected and H1 will be correct vice versa__"
   ]
  },
  {
   "cell_type": "code",
   "execution_count": null,
   "id": "f3bc3ac5",
   "metadata": {},
   "outputs": [
    {
     "name": "stdout",
     "output_type": "stream",
     "text": [
      "0.9814577414504954\n",
      "p-value: 7.337348958673592e-08, Sample does not looks  Gaussian/Normally Distributed rejected the H0\n"
     ]
    }
   ],
   "source": [
    "# Shapiro Wilk Test\n",
    "statistic, p = stats.shapiro(age_data)\n",
    "\n",
    "# Printing the result using if-else conditions\n",
    "if p > 0.05:\n",
    "    print(f'p-value: {p}, Sample looks Gaussian/Normally Distributed (fail to reject)')\n",
    "else:\n",
    "    print(f'p-value: {p}, Sample does not looks  Gaussian/Normally Distributed rejected the H0')"
   ]
  },
  {
   "cell_type": "markdown",
   "id": "fe44de2f",
   "metadata": {},
   "source": [
    "---\n"
   ]
  },
  {
   "cell_type": "code",
   "execution_count": 44,
   "id": "6a5a0c92",
   "metadata": {},
   "outputs": [
    {
     "data": {
      "text/plain": [
       "<Axes: xlabel='fare', ylabel='Count'>"
      ]
     },
     "execution_count": 44,
     "metadata": {},
     "output_type": "execute_result"
    },
    {
     "data": {
      "image/png": "[encoded data removed]",
      "text/plain": [
       "<Figure size 640x480 with 1 Axes>"
      ]
     },
     "metadata": {},
     "output_type": "display_data"
    }
   ],
   "source": [
    "sns.histplot(data=df, x='fare', kde=True)"
   ]
  },
  {
   "cell_type": "code",
   "execution_count": 45,
   "id": "64b1b935",
   "metadata": {},
   "outputs": [
    {
     "name": "stdout",
     "output_type": "stream",
     "text": [
      "p-value: 1.0840444395829658e-43, Sample does not looks  Gaussian/Normally Distributed rejected the H0\n"
     ]
    }
   ],
   "source": [
    "# Shapiro Wilk Test\n",
    "statistic, p = stats.shapiro(df['fare'])\n",
    "\n",
    "# Printing the result using if-else conditions\n",
    "if p > 0.05:\n",
    "    print(f'p-value: {p}, Sample looks Gaussian/Normally Distributed (fail to reject)')\n",
    "else:\n",
    "    print(f'p-value: {p}, Sample does not looks  Gaussian/Normally Distributed rejected the H0')"
   ]
  },
  {
   "cell_type": "markdown",
   "id": "5aa78282",
   "metadata": {},
   "source": [
    "---\n",
    "\n",
    "# __1.2 Kolmogorov-Smirnov Test on normal distribution/Gaussian Distribution__\n",
    "- __Null Hypothesis (H0):__ The Data is Normally Distributed\n",
    "- __Altenative Hypothesis (H1):__ The Data is not normally Distributed "
   ]
  },
  {
   "cell_type": "code",
   "execution_count": 47,
   "id": "f86aef43",
   "metadata": {},
   "outputs": [
    {
     "name": "stdout",
     "output_type": "stream",
     "text": [
      "p-value: 0.0, Sample does not looks  Gaussian/Normally Distributed rejected the H0\n"
     ]
    }
   ],
   "source": [
    "# Kolmogorov-Smirnov Test\n",
    "statistic, p = stats.kstest(age_data, 'norm')\n",
    "\n",
    "# Printing the result using if-else conditions\n",
    "if p > 0.05:\n",
    "    print(f'p-value: {p}, Sample looks Gaussian/Normally Distributed (fail to reject)')\n",
    "else:\n",
    "    print(f'p-value: {p}, Sample does not looks  Gaussian/Normally Distributed rejected the H0')"
   ]
  },
  {
   "cell_type": "markdown",
   "id": "ce9be9a5",
   "metadata": {},
   "source": [
    "---\n",
    "# __1.3 Anderson-Darling Test on normal distribution/Gaussian Distribution__\n",
    "- __Null Hypothesis (H0):__ The Data is Normally Distributed\n",
    "- __Altenative Hypothesis (H1):__ The Data is not normally Distributed"
   ]
  },
  {
   "cell_type": "code",
   "execution_count": 49,
   "id": "ae65727b",
   "metadata": {},
   "outputs": [
    {
     "name": "stdout",
     "output_type": "stream",
     "text": [
      "Statistic: 3.8230373853616584\n",
      "At 15.0% significance level: Sample does not look Gaussian/Normally Distributed (reject H0)\n",
      "At 10.0% significance level: Sample does not look Gaussian/Normally Distributed (reject H0)\n",
      "At 5.0% significance level: Sample does not look Gaussian/Normally Distributed (reject H0)\n",
      "At 2.5% significance level: Sample does not look Gaussian/Normally Distributed (reject H0)\n",
      "At 1.0% significance level: Sample does not look Gaussian/Normally Distributed (reject H0)\n"
     ]
    }
   ],
   "source": [
    "# Anderson-Darling Test\n",
    "result = stats.anderson(age_data, dist='norm')\n",
    "\n",
    "# Printing the result using if-else conditions\n",
    "print(f\"Statistic: {result.statistic}\")\n",
    "for i in range(len(result.critical_values)):\n",
    "    sig_level = result.significance_level[i]\n",
    "    crit_value = result.critical_values[i]\n",
    "    if result.statistic < crit_value:\n",
    "        print(f\"At {sig_level}% significance level: Sample looks Gaussian/Normally Distributed (fail to reject H0)\")\n",
    "    else:\n",
    "        print(f\"At {sig_level}% significance level: Sample does not look Gaussian/Normally Distributed (reject H0)\")  "
   ]
  },
  {
   "cell_type": "markdown",
   "id": "6a368ea9",
   "metadata": {},
   "source": [
    "---\n",
    "# __1.4 Q-Q Plot (Quantile-Quantile Plot)__\n",
    "- __Null Hypothesis (H0):__ The Data is Normally Distributed\n",
    "- __Altenative Hypothesis (H1):__ The Data is not normally Distributed"
   ]
  },
  {
   "cell_type": "code",
   "execution_count": 50,
   "id": "c707e34e",
   "metadata": {},
   "outputs": [
    {
     "data": {
      "image/png": "[encoded data removed]",
      "text/plain": [
       "<Figure size 640x480 with 1 Axes>"
      ]
     },
     "metadata": {},
     "output_type": "display_data"
    }
   ],
   "source": [
    "# Q-Q Plot (Quantile-Quantile Plot)\n",
    "stats.probplot(age_data, dist=\"norm\", plot=plt)\n",
    "plt.title(\"Q-Q Plot\")\n",
    "plt.show()\n",
    "# If the points closely follow the reference line, it suggests that the data is normally distributed. If there are significant deviations from the line, it indicates departures from normality.\n"
   ]
  },
  {
   "cell_type": "markdown",
   "id": "a035c222",
   "metadata": {},
   "source": [
    "__So it is not normally distributed because the tailed and upper arrow is skewed...__"
   ]
  },
  {
   "cell_type": "code",
   "execution_count": 51,
   "id": "9a7a7d5a",
   "metadata": {},
   "outputs": [
    {
     "data": {
      "image/png": "[encoded data removed]",
      "text/plain": [
       "<Figure size 640x480 with 1 Axes>"
      ]
     },
     "metadata": {},
     "output_type": "display_data"
    }
   ],
   "source": [
    "# Q-Q Plot (Quantile-Quantile Plot)\n",
    "stats.probplot(df['fare'], dist=\"norm\", plot=plt)\n",
    "plt.title(\"Q-Q Plot\")\n",
    "plt.show()\n",
    "# If the points closely follow the reference line, it suggests that the data is normally distributed. If there are significant deviations from the line, it indicates departures from normality.\n"
   ]
  },
  {
   "cell_type": "markdown",
   "id": "806e107d",
   "metadata": {},
   "source": [
    "__it is also not normall distributed__\n",
    "\n",
    "---"
   ]
  },
  {
   "cell_type": "markdown",
   "id": "36b4fe31",
   "metadata": {},
   "source": [
    "> # __Now Tests on Normally Distributed Data sample__"
   ]
  },
  {
   "cell_type": "code",
   "execution_count": 53,
   "id": "49a3200d",
   "metadata": {},
   "outputs": [
    {
     "data": {
      "text/plain": [
       "<Axes: ylabel='Count'>"
      ]
     },
     "execution_count": 53,
     "metadata": {},
     "output_type": "execute_result"
    },
    {
     "data": {
      "image/png": "[encoded data removed]",
      "text/plain": [
       "<Figure size 640x480 with 1 Axes>"
      ]
     },
     "metadata": {},
     "output_type": "display_data"
    }
   ],
   "source": [
    "# sample of normal Distribution data\n",
    "sample = np.random.normal(loc=0, scale=1, size=1000)\n",
    "\n",
    "sns.histplot(x=sample, kde=True)"
   ]
  },
  {
   "cell_type": "markdown",
   "id": "85d2f5a0",
   "metadata": {},
   "source": [
    "---\n",
    "__1. Shapiro Test__"
   ]
  },
  {
   "cell_type": "code",
   "execution_count": 54,
   "id": "f2b32e0d",
   "metadata": {},
   "outputs": [
    {
     "name": "stdout",
     "output_type": "stream",
     "text": [
      "p-vale: 0.997047943314638 and the Data is Normally Distributed\n"
     ]
    }
   ],
   "source": [
    "statistic, p = stats.shapiro(sample)\n",
    "\n",
    "if p > 0.05:\n",
    "    print(f'p-vale: {p} and the Data is Normally Distributed')\n",
    "else:\n",
    "    print(f'p-vale: {p} and the Data is not Normally Distributed')"
   ]
  },
  {
   "cell_type": "markdown",
   "id": "f11fc69b",
   "metadata": {},
   "source": [
    "---\n",
    "__2. Kolmogorov-Smirnov Test__"
   ]
  },
  {
   "cell_type": "code",
   "execution_count": 55,
   "id": "9f9d7d75",
   "metadata": {},
   "outputs": [
    {
     "name": "stdout",
     "output_type": "stream",
     "text": [
      "p-vale: 0.8047096040857937 and the Data is Normally Distributed\n"
     ]
    }
   ],
   "source": [
    "statistic, p = stats.kstest(sample, 'norm')\n",
    "\n",
    "if p > 0.05:\n",
    "    print(f'p-vale: {p} and the Data is Normally Distributed')\n",
    "else:\n",
    "    print(f'p-vale: {p} and the Data is not Normally Distributed')"
   ]
  },
  {
   "cell_type": "markdown",
   "id": "a8ab1add",
   "metadata": {},
   "source": [
    "---\n",
    "__3. Anderson-Darling Test__"
   ]
  },
  {
   "cell_type": "code",
   "execution_count": 57,
   "id": "6eb80c34",
   "metadata": {},
   "outputs": [
    {
     "name": "stdout",
     "output_type": "stream",
     "text": [
      "Statistic: 0.11388484277688349\n",
      "At 15.0% significance level: Sample looks Gaussian/Normally Distributed (fail to reject H0)\n",
      "At 10.0% significance level: Sample looks Gaussian/Normally Distributed (fail to reject H0)\n",
      "At 5.0% significance level: Sample looks Gaussian/Normally Distributed (fail to reject H0)\n",
      "At 2.5% significance level: Sample looks Gaussian/Normally Distributed (fail to reject H0)\n",
      "At 1.0% significance level: Sample looks Gaussian/Normally Distributed (fail to reject H0)\n"
     ]
    }
   ],
   "source": [
    "result= stats.anderson(sample, dist='norm')\n",
    "print(f\"Statistic: {result.statistic}\")\n",
    "for i in range(len(result.critical_values)):\n",
    "    sig_level = result.significance_level[i]\n",
    "    crit_value = result.critical_values[i]\n",
    "    if result.statistic < crit_value:\n",
    "        print(f\"At {sig_level}% significance level: Sample looks Gaussian/Normally Distributed (fail to reject H0)\")\n",
    "    else:\n",
    "        print(f\"At {sig_level}% significance level: Sample does not look Gaussian/Normally Distributed (reject H0)\")"
   ]
  },
  {
   "cell_type": "markdown",
   "id": "fc93c2ac",
   "metadata": {},
   "source": [
    "---\n",
    "\n",
    "__4. Q-Q Plot (Quantile-Quantile Plot)__"
   ]
  },
  {
   "cell_type": "code",
   "execution_count": 58,
   "id": "ca744aa2",
   "metadata": {},
   "outputs": [
    {
     "data": {
      "image/png": "[encoded data removed]",
      "text/plain": [
       "<Figure size 640x480 with 1 Axes>"
      ]
     },
     "metadata": {},
     "output_type": "display_data"
    }
   ],
   "source": [
    "stats.probplot(sample, dist=\"norm\", plot=plt)\n",
    "plt.title(\"Q-Q Plot\")\n",
    "plt.show()\n",
    "# If the points closely follow the reference line, it suggests that the data is normally distributed. If there are significant deviations from the line, it indicates departures from normality."
   ]
  },
  {
   "cell_type": "markdown",
   "id": "3032dd13",
   "metadata": {},
   "source": [
    "__Now This sample is perfectly Normally distributed__\n",
    "\n",
    "---"
   ]
  },
  {
   "cell_type": "markdown",
   "id": "2720f993",
   "metadata": {},
   "source": [
    "> # ___2. Test of Homogeneity___\n",
    "\n",
    "# 2.1 Levene's Test"
   ]
  },
  {
   "cell_type": "code",
   "execution_count": 62,
   "id": "e65ca9f1",
   "metadata": {},
   "outputs": [
    {
     "name": "stdout",
     "output_type": "stream",
     "text": [
      "w-statistics: 0.1431297709923662\n",
      "p-value: 0.7150310147444894\n",
      "p-value: 0.7150310147444894, Variances are equal (fail to reject H0)\n"
     ]
    }
   ],
   "source": [
    "# sample data\n",
    "team1 = [3.1, 4.5, 5.6, 7.8, 8.9]\n",
    "team2 = [1.3, 3.4, 4.5, 5.6, 6.7]\n",
    "\n",
    "# Applying the Levene's Test\n",
    "w_stat, p_val = stats.levene(team1, team2)\n",
    "\n",
    "print(f'w-statistics: {w_stat}')\n",
    "print(f'p-value: {p_val}')\n",
    "\n",
    "# Print the result using if-else conditions\n",
    "if p_val > 0.05:\n",
    "    print(f\"p-value: {p_val}, Variances are equal (fail to reject H0)\")\n",
    "else:\n",
    "    print(f\"p-value: {p_val}, Variances are not equal (reject H0)\")"
   ]
  },
  {
   "cell_type": "markdown",
   "id": "45cee0c5",
   "metadata": {},
   "source": [
    "---\n",
    "# 2.2 Bartlett's Test"
   ]
  },
  {
   "cell_type": "code",
   "execution_count": 64,
   "id": "9261ecd4",
   "metadata": {},
   "outputs": [
    {
     "name": "stdout",
     "output_type": "stream",
     "text": [
      "t-statistics: 0.06055893436776058\n",
      "p-value: 0.8056146930581808\n",
      "p-value: 0.8056146930581808, Variances are equal (fail to reject H0)\n"
     ]
    }
   ],
   "source": [
    "# sample data\n",
    "team1 = [3.1, 4.5, 5.6, 7.8, 8.9]\n",
    "team2 = [1.3, 3.4, 4.5, 5.6, 6.7]\n",
    "\n",
    "# Applying the Bartlett's Test\n",
    "t_stat, p_val = stats.bartlett(team1, team2)\n",
    "\n",
    "print(f't-statistics: {t_stat}')\n",
    "print(f'p-value: {p_val}')\n",
    "\n",
    "# Print the result using if-else conditions\n",
    "if p_val > 0.05:\n",
    "    print(f\"p-value: {p_val}, Variances are equal (fail to reject H0)\")\n",
    "else:\n",
    "    print(f\"p-value: {p_val}, Variances are not equal (reject H0)\")"
   ]
  },
  {
   "cell_type": "markdown",
   "id": "bf877cdd",
   "metadata": {},
   "source": [
    "---"
   ]
  },
  {
   "cell_type": "markdown",
   "id": "9067cc6d",
   "metadata": {},
   "source": [
    "![test22](./math_pics/test22.png)"
   ]
  },
  {
   "cell_type": "markdown",
   "id": "3d154ac3",
   "metadata": {},
   "source": [
    "---\n",
    "\n",
    "\n",
    "> # 3. Chi-Squared Test\n",
    "\n",
    "> Chi-Squared Test is for only Categorical Data"
   ]
  },
  {
   "cell_type": "code",
   "execution_count": 65,
   "id": "b36ad786",
   "metadata": {},
   "outputs": [
    {
     "data": {
      "text/html": [
       "<div>\n",
       "<style scoped>\n",
       "    .dataframe tbody tr th:only-of-type {\n",
       "        vertical-align: middle;\n",
       "    }\n",
       "\n",
       "    .dataframe tbody tr th {\n",
       "        vertical-align: top;\n",
       "    }\n",
       "\n",
       "    .dataframe thead th {\n",
       "        text-align: right;\n",
       "    }\n",
       "</style>\n",
       "<table border=\"1\" class=\"dataframe\">\n",
       "  <thead>\n",
       "    <tr style=\"text-align: right;\">\n",
       "      <th></th>\n",
       "      <th>survived</th>\n",
       "      <th>pclass</th>\n",
       "      <th>sex</th>\n",
       "      <th>age</th>\n",
       "      <th>sibsp</th>\n",
       "      <th>parch</th>\n",
       "      <th>fare</th>\n",
       "      <th>embarked</th>\n",
       "      <th>class</th>\n",
       "      <th>who</th>\n",
       "      <th>adult_male</th>\n",
       "      <th>deck</th>\n",
       "      <th>embark_town</th>\n",
       "      <th>alive</th>\n",
       "      <th>alone</th>\n",
       "    </tr>\n",
       "  </thead>\n",
       "  <tbody>\n",
       "    <tr>\n",
       "      <th>0</th>\n",
       "      <td>0</td>\n",
       "      <td>3</td>\n",
       "      <td>male</td>\n",
       "      <td>22.0</td>\n",
       "      <td>1</td>\n",
       "      <td>0</td>\n",
       "      <td>7.2500</td>\n",
       "      <td>S</td>\n",
       "      <td>Third</td>\n",
       "      <td>man</td>\n",
       "      <td>True</td>\n",
       "      <td>NaN</td>\n",
       "      <td>Southampton</td>\n",
       "      <td>no</td>\n",
       "      <td>False</td>\n",
       "    </tr>\n",
       "    <tr>\n",
       "      <th>1</th>\n",
       "      <td>1</td>\n",
       "      <td>1</td>\n",
       "      <td>female</td>\n",
       "      <td>38.0</td>\n",
       "      <td>1</td>\n",
       "      <td>0</td>\n",
       "      <td>71.2833</td>\n",
       "      <td>C</td>\n",
       "      <td>First</td>\n",
       "      <td>woman</td>\n",
       "      <td>False</td>\n",
       "      <td>C</td>\n",
       "      <td>Cherbourg</td>\n",
       "      <td>yes</td>\n",
       "      <td>False</td>\n",
       "    </tr>\n",
       "    <tr>\n",
       "      <th>2</th>\n",
       "      <td>1</td>\n",
       "      <td>3</td>\n",
       "      <td>female</td>\n",
       "      <td>26.0</td>\n",
       "      <td>0</td>\n",
       "      <td>0</td>\n",
       "      <td>7.9250</td>\n",
       "      <td>S</td>\n",
       "      <td>Third</td>\n",
       "      <td>woman</td>\n",
       "      <td>False</td>\n",
       "      <td>NaN</td>\n",
       "      <td>Southampton</td>\n",
       "      <td>yes</td>\n",
       "      <td>True</td>\n",
       "    </tr>\n",
       "    <tr>\n",
       "      <th>3</th>\n",
       "      <td>1</td>\n",
       "      <td>1</td>\n",
       "      <td>female</td>\n",
       "      <td>35.0</td>\n",
       "      <td>1</td>\n",
       "      <td>0</td>\n",
       "      <td>53.1000</td>\n",
       "      <td>S</td>\n",
       "      <td>First</td>\n",
       "      <td>woman</td>\n",
       "      <td>False</td>\n",
       "      <td>C</td>\n",
       "      <td>Southampton</td>\n",
       "      <td>yes</td>\n",
       "      <td>False</td>\n",
       "    </tr>\n",
       "    <tr>\n",
       "      <th>4</th>\n",
       "      <td>0</td>\n",
       "      <td>3</td>\n",
       "      <td>male</td>\n",
       "      <td>35.0</td>\n",
       "      <td>0</td>\n",
       "      <td>0</td>\n",
       "      <td>8.0500</td>\n",
       "      <td>S</td>\n",
       "      <td>Third</td>\n",
       "      <td>man</td>\n",
       "      <td>True</td>\n",
       "      <td>NaN</td>\n",
       "      <td>Southampton</td>\n",
       "      <td>no</td>\n",
       "      <td>True</td>\n",
       "    </tr>\n",
       "  </tbody>\n",
       "</table>\n",
       "</div>"
      ],
      "text/plain": [
       "   survived  pclass     sex   age  sibsp  parch     fare embarked  class  \\\n",
       "0         0       3    male  22.0      1      0   7.2500        S  Third   \n",
       "1         1       1  female  38.0      1      0  71.2833        C  First   \n",
       "2         1       3  female  26.0      0      0   7.9250        S  Third   \n",
       "3         1       1  female  35.0      1      0  53.1000        S  First   \n",
       "4         0       3    male  35.0      0      0   8.0500        S  Third   \n",
       "\n",
       "     who  adult_male deck  embark_town alive  alone  \n",
       "0    man        True  NaN  Southampton    no  False  \n",
       "1  woman       False    C    Cherbourg   yes  False  \n",
       "2  woman       False  NaN  Southampton   yes   True  \n",
       "3  woman       False    C  Southampton   yes  False  \n",
       "4    man        True  NaN  Southampton    no   True  "
      ]
     },
     "execution_count": 65,
     "metadata": {},
     "output_type": "execute_result"
    }
   ],
   "source": [
    "df.head()"
   ]
  },
  {
   "cell_type": "markdown",
   "id": "ab8c8eba",
   "metadata": {},
   "source": [
    "- __Null Hypothesis (H0):__ There is no significant association between gender('sex') and servival on the Titanic.This means any observed differences in survival rates between genders in the dataset are due to chance and not due to an underlying relationship.\n",
    "\n",
    "- __Alternative Hypothesis (H1):__ There is a significant association between gender ('sex') and survival ('survived') on the titanic. This implies that the differneces in survival rates are not just due to chance but are influenced by the passenger's gender"
   ]
  },
  {
   "cell_type": "code",
   "execution_count": 67,
   "id": "099e313a",
   "metadata": {},
   "outputs": [
    {
     "data": {
      "text/html": [
       "<div>\n",
       "<style scoped>\n",
       "    .dataframe tbody tr th:only-of-type {\n",
       "        vertical-align: middle;\n",
       "    }\n",
       "\n",
       "    .dataframe tbody tr th {\n",
       "        vertical-align: top;\n",
       "    }\n",
       "\n",
       "    .dataframe thead th {\n",
       "        text-align: right;\n",
       "    }\n",
       "</style>\n",
       "<table border=\"1\" class=\"dataframe\">\n",
       "  <thead>\n",
       "    <tr style=\"text-align: right;\">\n",
       "      <th></th>\n",
       "      <th>survived</th>\n",
       "      <th>pclass</th>\n",
       "      <th>sex</th>\n",
       "      <th>age</th>\n",
       "      <th>sibsp</th>\n",
       "      <th>parch</th>\n",
       "      <th>fare</th>\n",
       "      <th>embarked</th>\n",
       "      <th>class</th>\n",
       "      <th>who</th>\n",
       "      <th>adult_male</th>\n",
       "      <th>deck</th>\n",
       "      <th>embark_town</th>\n",
       "      <th>alive</th>\n",
       "      <th>alone</th>\n",
       "    </tr>\n",
       "  </thead>\n",
       "  <tbody>\n",
       "    <tr>\n",
       "      <th>0</th>\n",
       "      <td>0</td>\n",
       "      <td>3</td>\n",
       "      <td>male</td>\n",
       "      <td>22.0</td>\n",
       "      <td>1</td>\n",
       "      <td>0</td>\n",
       "      <td>7.2500</td>\n",
       "      <td>S</td>\n",
       "      <td>Third</td>\n",
       "      <td>man</td>\n",
       "      <td>True</td>\n",
       "      <td>NaN</td>\n",
       "      <td>Southampton</td>\n",
       "      <td>no</td>\n",
       "      <td>False</td>\n",
       "    </tr>\n",
       "    <tr>\n",
       "      <th>1</th>\n",
       "      <td>1</td>\n",
       "      <td>1</td>\n",
       "      <td>female</td>\n",
       "      <td>38.0</td>\n",
       "      <td>1</td>\n",
       "      <td>0</td>\n",
       "      <td>71.2833</td>\n",
       "      <td>C</td>\n",
       "      <td>First</td>\n",
       "      <td>woman</td>\n",
       "      <td>False</td>\n",
       "      <td>C</td>\n",
       "      <td>Cherbourg</td>\n",
       "      <td>yes</td>\n",
       "      <td>False</td>\n",
       "    </tr>\n",
       "    <tr>\n",
       "      <th>2</th>\n",
       "      <td>1</td>\n",
       "      <td>3</td>\n",
       "      <td>female</td>\n",
       "      <td>26.0</td>\n",
       "      <td>0</td>\n",
       "      <td>0</td>\n",
       "      <td>7.9250</td>\n",
       "      <td>S</td>\n",
       "      <td>Third</td>\n",
       "      <td>woman</td>\n",
       "      <td>False</td>\n",
       "      <td>NaN</td>\n",
       "      <td>Southampton</td>\n",
       "      <td>yes</td>\n",
       "      <td>True</td>\n",
       "    </tr>\n",
       "    <tr>\n",
       "      <th>3</th>\n",
       "      <td>1</td>\n",
       "      <td>1</td>\n",
       "      <td>female</td>\n",
       "      <td>35.0</td>\n",
       "      <td>1</td>\n",
       "      <td>0</td>\n",
       "      <td>53.1000</td>\n",
       "      <td>S</td>\n",
       "      <td>First</td>\n",
       "      <td>woman</td>\n",
       "      <td>False</td>\n",
       "      <td>C</td>\n",
       "      <td>Southampton</td>\n",
       "      <td>yes</td>\n",
       "      <td>False</td>\n",
       "    </tr>\n",
       "    <tr>\n",
       "      <th>4</th>\n",
       "      <td>0</td>\n",
       "      <td>3</td>\n",
       "      <td>male</td>\n",
       "      <td>35.0</td>\n",
       "      <td>0</td>\n",
       "      <td>0</td>\n",
       "      <td>8.0500</td>\n",
       "      <td>S</td>\n",
       "      <td>Third</td>\n",
       "      <td>man</td>\n",
       "      <td>True</td>\n",
       "      <td>NaN</td>\n",
       "      <td>Southampton</td>\n",
       "      <td>no</td>\n",
       "      <td>True</td>\n",
       "    </tr>\n",
       "  </tbody>\n",
       "</table>\n",
       "</div>"
      ],
      "text/plain": [
       "   survived  pclass     sex   age  sibsp  parch     fare embarked  class  \\\n",
       "0         0       3    male  22.0      1      0   7.2500        S  Third   \n",
       "1         1       1  female  38.0      1      0  71.2833        C  First   \n",
       "2         1       3  female  26.0      0      0   7.9250        S  Third   \n",
       "3         1       1  female  35.0      1      0  53.1000        S  First   \n",
       "4         0       3    male  35.0      0      0   8.0500        S  Third   \n",
       "\n",
       "     who  adult_male deck  embark_town alive  alone  \n",
       "0    man        True  NaN  Southampton    no  False  \n",
       "1  woman       False    C    Cherbourg   yes  False  \n",
       "2  woman       False  NaN  Southampton   yes   True  \n",
       "3  woman       False    C  Southampton   yes  False  \n",
       "4    man        True  NaN  Southampton    no   True  "
      ]
     },
     "execution_count": 67,
     "metadata": {},
     "output_type": "execute_result"
    }
   ],
   "source": [
    "df = sns.load_dataset('titanic')\n",
    "df.head()"
   ]
  },
  {
   "cell_type": "code",
   "execution_count": 69,
   "id": "2306dd14",
   "metadata": {},
   "outputs": [
    {
     "data": {
      "text/html": [
       "<div>\n",
       "<style scoped>\n",
       "    .dataframe tbody tr th:only-of-type {\n",
       "        vertical-align: middle;\n",
       "    }\n",
       "\n",
       "    .dataframe tbody tr th {\n",
       "        vertical-align: top;\n",
       "    }\n",
       "\n",
       "    .dataframe thead th {\n",
       "        text-align: right;\n",
       "    }\n",
       "</style>\n",
       "<table border=\"1\" class=\"dataframe\">\n",
       "  <thead>\n",
       "    <tr style=\"text-align: right;\">\n",
       "      <th>survived</th>\n",
       "      <th>0</th>\n",
       "      <th>1</th>\n",
       "    </tr>\n",
       "    <tr>\n",
       "      <th>sex</th>\n",
       "      <th></th>\n",
       "      <th></th>\n",
       "    </tr>\n",
       "  </thead>\n",
       "  <tbody>\n",
       "    <tr>\n",
       "      <th>female</th>\n",
       "      <td>81</td>\n",
       "      <td>233</td>\n",
       "    </tr>\n",
       "    <tr>\n",
       "      <th>male</th>\n",
       "      <td>468</td>\n",
       "      <td>109</td>\n",
       "    </tr>\n",
       "  </tbody>\n",
       "</table>\n",
       "</div>"
      ],
      "text/plain": [
       "survived    0    1\n",
       "sex               \n",
       "female     81  233\n",
       "male      468  109"
      ]
     },
     "execution_count": 69,
     "metadata": {},
     "output_type": "execute_result"
    }
   ],
   "source": [
    "# Create contingency table\n",
    "contingency_table = pd.crosstab(df['sex'], df['survived'])\n",
    "contingency_table"
   ]
  },
  {
   "cell_type": "code",
   "execution_count": 72,
   "id": "724fa32d",
   "metadata": {},
   "outputs": [
    {
     "name": "stdout",
     "output_type": "stream",
     "text": [
      "Chi-Square statistic: 260.71702016732104\n",
      "p-value: 1.1973570627755645e-58\n",
      "Degree of freedom: 1\n",
      "Expected: [[193.47474747 120.52525253]\n",
      " [355.52525253 221.47474747]]\n"
     ]
    }
   ],
   "source": [
    "# perform the Chi-Square Test\n",
    "\n",
    "chi2, p, dof, expected = stats.chi2_contingency(contingency_table)\n",
    "\n",
    "# print the results\n",
    "print(f'Chi-Square statistic: {chi2}')\n",
    "print(f'p-value: {p}')\n",
    "print(f'Degree of freedom: {dof}')\n",
    "print(f'Expected: {expected}')"
   ]
  },
  {
   "cell_type": "markdown",
   "id": "8de7b511",
   "metadata": {},
   "source": [
    "As the p_value in this test is __P-value:__ `1.1973570627755645e-58` which is far less than the `0.05`, so we reject the __Null Hypothesis__\n",
    "\n",
    "---"
   ]
  },
  {
   "cell_type": "markdown",
   "id": "e74857af",
   "metadata": {},
   "source": [
    "> # __4. T-Test / Student T-Test__\n",
    "\n",
    "> If the values of sample is less than 30 than we can perform t-test or student t-test `< 30`.\n",
    "\n",
    "# 4.1 One-Sample T-test"
   ]
  },
  {
   "cell_type": "code",
   "execution_count": 74,
   "id": "4170a0eb",
   "metadata": {},
   "outputs": [
    {
     "name": "stdout",
     "output_type": "stream",
     "text": [
      "t-statistic: 0.0\n",
      "p-value: 1.0\n",
      "p-value: 1.0, Sample mean is equal to the population mean (fail to reject)\n"
     ]
    }
   ],
   "source": [
    "# sample data\n",
    "x = [1, 2, 3, 4, 5]\n",
    "\n",
    "# Known population Mean\n",
    "mu = 3\n",
    "\n",
    "# perform one sample t-test\n",
    "t_statistic, p = stats.ttest_1samp(x, mu)\n",
    "\n",
    "# print results\n",
    "print(f't-statistic: {t_statistic}')\n",
    "print(f'p-value: {p}')\n",
    "\n",
    "# printing result using the if-else condition\n",
    "if p > 0.05:\n",
    "    print(f'p-value: {p}, Sample mean is equal to the population mean (fail to reject)')\n",
    "else:\n",
    "    print(f'p-value: {p}, Sample mean is not equal to population mean (H0 rejected )')"
   ]
  },
  {
   "cell_type": "code",
   "execution_count": 76,
   "id": "58a97ca5",
   "metadata": {},
   "outputs": [
    {
     "name": "stdout",
     "output_type": "stream",
     "text": [
      "t-statistic: -4.242640687119285\n",
      "p-value: 0.013235599563682695\n",
      "p-value: 0.013235599563682695, Sample mean is not equal to population mean (H0 rejected )\n"
     ]
    }
   ],
   "source": [
    "# sample data\n",
    "x = [1, 2, 3, 4, 5]\n",
    "\n",
    "# Known population Mean\n",
    "mu = 6\n",
    "\n",
    "# perform one sample t-test\n",
    "t_statistic, p = stats.ttest_1samp(x, mu)\n",
    "\n",
    "# print results\n",
    "print(f't-statistic: {t_statistic}')\n",
    "print(f'p-value: {p}')\n",
    "\n",
    "# printing result using the if-else condition\n",
    "if p > 0.05:\n",
    "    print(f'p-value: {p}, Sample mean is equal to the population mean (fail to reject)')\n",
    "else:\n",
    "    print(f'p-value: {p}, Sample mean is not equal to population mean (H0 rejected )')"
   ]
  },
  {
   "cell_type": "markdown",
   "id": "bdca2c03",
   "metadata": {},
   "source": [
    "---\n",
    "# 4.2 Two Sample T-test (independent)"
   ]
  },
  {
   "cell_type": "code",
   "execution_count": 79,
   "id": "c74fd152",
   "metadata": {},
   "outputs": [
    {
     "name": "stdout",
     "output_type": "stream",
     "text": [
      "t-statistic: 1.1913994752879298\n",
      "p-value: 0.26764100938059676\n",
      "p-value: 0.26764100938059676, team1 mean is not equal to team2 mean (H0 rejected)\n"
     ]
    }
   ],
   "source": [
    "# sample data\n",
    "team1 = [3.1, 4.5, 5.6, 7.8, 8.9]\n",
    "team2 = [1.3, 3.4, 4.5, 5.6, 6.7]\n",
    "\n",
    "# perform independant two-sample t-test\n",
    "t_stat, p_val = stats.ttest_ind(team1, team2)\n",
    "\n",
    "print(f't-statistic: {t_stat}')\n",
    "print(f'p-value: {p_val}')\n",
    "\n",
    "if p > 0.05:\n",
    "    print(f'p-value: {p_val}, team1 mean is equal to team2 mean (fail to reject)')\n",
    "else:\n",
    "    print(f'p-value: {p_val}, team1 mean is not equal to team2 mean (H0 rejected)')"
   ]
  },
  {
   "cell_type": "markdown",
   "id": "f28716ad",
   "metadata": {},
   "source": [
    "---\n",
    "# 4.3 Paired Sample t-test"
   ]
  },
  {
   "cell_type": "code",
   "execution_count": 80,
   "id": "2f4e72f4",
   "metadata": {},
   "outputs": [
    {
     "name": "stdout",
     "output_type": "stream",
     "text": [
      "t-statistic: -inf\n",
      "p-value: 0.0\n",
      "p-value: 0.26764100938059676, before mean is not equal to after mean (H0 rejected)\n"
     ]
    },
    {
     "name": "stderr",
     "output_type": "stream",
     "text": [
      "c:\\Users\\Computer Valley\\.conda\\envs\\DS_Env\\Lib\\site-packages\\scipy\\stats\\_axis_nan_policy.py:423: RuntimeWarning: Precision loss occurred in moment calculation due to catastrophic cancellation. This occurs when the data are nearly identical. Results may be unreliable.\n",
      "  return hypotest_fun_in(*args, **kwds)\n"
     ]
    }
   ],
   "source": [
    "# sample data\n",
    "before = [2, 3, 4, 5, 6]\n",
    "after = [3, 4, 5, 6, 7]\n",
    "\n",
    "# perform paired sample t-test\n",
    "t_stat, p = stats.ttest_rel(before, after)\n",
    "\n",
    "print(f't-statistic: {t_stat}')\n",
    "print(f'p-value: {p}')\n",
    "\n",
    "if p > 0.05:\n",
    "    print(f'p-value: {p_val}, before mean is equal to after mean (fail to reject H0)')\n",
    "else:\n",
    "    print(f'p-value: {p_val}, before mean is not equal to after mean (H0 rejected)')"
   ]
  },
  {
   "cell_type": "markdown",
   "id": "70581337",
   "metadata": {},
   "source": [
    "---\n",
    "\n",
    "> # __5. ANOVA__\n",
    "Analysis of Variance\n",
    "\n",
    "# 5.1 One-way ANOVA"
   ]
  },
  {
   "cell_type": "code",
   "execution_count": 81,
   "id": "f43f3fb0",
   "metadata": {},
   "outputs": [
    {
     "name": "stdout",
     "output_type": "stream",
     "text": [
      "p-value: 3.941826860079641e-10, Means are not equal (rejected H0)\n"
     ]
    }
   ],
   "source": [
    "# sample data\n",
    "a = [2.3, 3.4, 4.5, 1.4, 5.2]\n",
    "b = [12.5, 13.6, 14.7, 11.6, 15.4]\n",
    "c = [22.7, 23.8, 24.9, 21.8, 25.6]\n",
    "\n",
    "# perform one-way ANOVA\n",
    "f_stat, p_val = stats.f_oneway(a, b, c)\n",
    "\n",
    "# printing the result base on if else condition\n",
    "if p_val > 0.05:\n",
    "    print(f'p-value: {p_val}, Means are equal (fail to reject H0)')\n",
    "else:\n",
    "    print(f'p-value: {p_val}, Means are not equal (rejected H0)')"
   ]
  }
 ],
 "metadata": {
  "kernelspec": {
   "display_name": "DS_Env",
   "language": "python",
   "name": "python3"
  },
  "language_info": {
   "codemirror_mode": {
    "name": "ipython",
    "version": 3
   },
   "file_extension": ".py",
   "mimetype": "text/x-python",
   "name": "python",
   "nbconvert_exporter": "python",
   "pygments_lexer": "ipython3",
   "version": "3.13.2"
  }
 },
 "nbformat": 4,
 "nbformat_minor": 5
}
