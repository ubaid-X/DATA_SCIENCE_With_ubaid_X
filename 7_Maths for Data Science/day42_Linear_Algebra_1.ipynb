{
 "cells": [
  {
   "cell_type": "markdown",
   "id": "54183142",
   "metadata": {},
   "source": [
    "---\n",
    "\n",
    "- __Author name:__ UBAIDULLAH\n",
    "\n",
    "- __Email:__ [ai.bussiness.student0@gmail.com](mailto:ai.bussiness.student0@gmail.com)\n",
    "\n",
    "- __GitHub:__ [github.com/ubaid-X/](https://github.com/ubaid-X/)\n",
    "\n",
    "- __LinkedIn Profile:__ [linkedin.com/in/ubaid-ullah-634563373/](https://www.linkedin.com/in/ubaid-ullah-634563373/)\n",
    "\n",
    "- __Kaggle:__ [kaggle.com/ubaidullah01](https://www.kaggle.com/ubaidullah01)\n",
    "\n",
    "---"
   ]
  },
  {
   "cell_type": "markdown",
   "id": "27028b61",
   "metadata": {},
   "source": [
    "---\n",
    "\n",
    "> # __Linear Algebra__\n",
    "\n",
    "Linear algebra is a branch of mathematics that deals with vectors, vector spaces, linear mappings and systems of linear equations. It's fundamental in many areas of mathematics and it's applications, including engineering, physics, computer science and economics.\n",
    "\n",
    "---\n",
    "\n",
    "### __1. Vector__\n",
    "\n",
    "- __Definition:__\n",
    "A vector is an object that has both a magnitude(size) and a direction. In Linear Algebra, vectors are often represented as a list of numbers(coordinates), which define it's position in space.\n",
    "\n",
    "__Think of a vector__ as an arrow pointing from one point to another in space. For instance, in a 2-Dimensional plane, the vector (3, 4) can be visualized as an arrow pointing from the origin (0, 0) to the point (3, 4).\n",
    "\n",
    "__Example:__ In a 2D space, a vector can be represented as `V = (x, y)`, where `x` and `y` are the coordinates. 1D Array are vectors\n",
    "\n",
    "---\n",
    "\n",
    "### __2. Vector Space:__\n",
    "\n",
    "- __Definition:__\n",
    "This is a collection of vectors that can be added together and multiplied by scalers(numbers)\n",
    "\n",
    "__Example:__ Imagine all the arrows(vectors) that can start from a single point in a plane. No matter  hiw long these arrows are or in what direction they point, they all belong to the same __2-Dimentional Vector Space__.\n",
    "\n",
    "---\n",
    "\n",
    "### __Matrix:__ A matrix is a rectangle array of numbers, symbols or expressions, arranged in rows and columns.2D Arrays are Matrix which have both columns and rows.\n",
    "\n",
    "---"
   ]
  }
 ],
 "metadata": {
  "language_info": {
   "name": "python"
  }
 },
 "nbformat": 4,
 "nbformat_minor": 5
}
