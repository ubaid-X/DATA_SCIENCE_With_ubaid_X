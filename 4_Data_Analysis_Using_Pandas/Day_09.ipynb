{
 "cells": [
  {
   "cell_type": "markdown",
   "id": "fa2de07d",
   "metadata": {},
   "source": [
    "---\n",
    "\n",
    "__Author name__: UBAIDULLAH\n",
    "\n",
    "[GitHub Profile](https://github.com/ubaid-X/)\n",
    "\n",
    "[LinkedIn Profile](https://https://www.linkedin.com/in/ubaid-ullah-634563373/)\n",
    "\n",
    "[Kaggle Profile](https://www.kaggle.com/ubaidullah01)\n",
    "\n",
    "__Email__: `ai.bussiness.student0@gmail.com`\n",
    "\n",
    "---"
   ]
  },
  {
   "cell_type": "markdown",
   "id": "c882efef",
   "metadata": {},
   "source": [
    "> # ROWS NAME\n",
    "\n",
    "1. Records\n",
    "2. Observation\n",
    "3. Instances\n",
    "4. Entries\n",
    "5. Data point"
   ]
  },
  {
   "cell_type": "markdown",
   "id": "9ce49b04",
   "metadata": {},
   "source": [
    "> # COLUMN NAME:\n",
    "\n",
    "1. Attributes\n",
    "2. Dimentions\n",
    "3. Variable\n",
    "4. Properties\n",
    "5. features\n",
    "6. Fields"
   ]
  },
  {
   "cell_type": "markdown",
   "id": "3f47c01a",
   "metadata": {},
   "source": [
    "\n",
    "> ### Dataframe\n",
    "when data come in table so it will called Dataframe specifically in pandas\n",
    "but in excel it is also called <span style='color:blue'>Dataset</span>"
   ]
  },
  {
   "cell_type": "markdown",
   "id": "dce7da65",
   "metadata": {},
   "source": [
    "# CSV file:\n",
    "comma seperated values\n",
    "\n",
    "# TSV files:\n",
    "Tab sepeated values"
   ]
  },
  {
   "cell_type": "markdown",
   "id": "cf6b8993",
   "metadata": {},
   "source": [
    "colecting data = measuring\n",
    "\n",
    "# Level of Measuring:\n",
    "\n",
    "![EDA_1](EDA_PIC/EDA_1.png)\n",
    "\n",
    "![EDA_2](EDA_PIC/EDA_2.png)\n",
    "\n",
    "![EDA_3](EDA_PIC/EDA_3.png)\n",
    "\n",
    "![EDA_4](EDA_PIC/EDA_4.png)\n",
    "\n",
    "![EDA_5](EDA_PIC/EDA_5.png)\n",
    "\n",
    "![EDA_6](EDA_PIC/EDA_6.png)\n",
    "\n",
    "![EDA_7](EDA_PIC/EDA_7.png)\n",
    "\n",
    "![EDA_8](EDA_PIC/EDA_8.png)\n",
    "\n",
    "![EDA_9](EDA_PIC/EDA_9.png)\n",
    "\n",
    "![EDA_10](EDA_PIC/EDA_10.jpg)\n",
    "\n",
    "![EDA_11](EDA_PIC/EDA_11.png)\n",
    "\n",
    "![EDA_12](EDA_PIC/EDA_12.png)\n"
   ]
  }
 ],
 "metadata": {
  "kernelspec": {
   "display_name": "DS_Env",
   "language": "python",
   "name": "python3"
  },
  "language_info": {
   "name": "python",
   "version": "3.13.2"
  }
 },
 "nbformat": 4,
 "nbformat_minor": 5
}
