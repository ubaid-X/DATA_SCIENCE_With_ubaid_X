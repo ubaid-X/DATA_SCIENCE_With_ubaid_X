{
 "cells": [
  {
   "cell_type": "markdown",
   "id": "54ef7ac0",
   "metadata": {},
   "source": [
    "---\n",
    "\n",
    "- __Author name:__ UBAIDULLAH\n",
    "\n",
    "- __Email:__ [ai.bussiness.student0@gmail.com](mailto:ai.bussiness.student0@gmail.com)\n",
    "\n",
    "- __GitHub:__ [github.com/ubaid-X/](https://github.com/ubaid-X/)\n",
    "\n",
    "- __LinkedIn Profile:__ [linkedin.com/in/ubaid-ullah-634563373/](https://www.linkedin.com/in/ubaid-ullah-634563373/)\n",
    "\n",
    "- __Kaggle:__ [kaggle.com/ubaidullah01](https://www.kaggle.com/ubaidullah01)\n",
    "\n",
    "---"
   ]
  },
  {
   "cell_type": "markdown",
   "id": "49c739b2",
   "metadata": {},
   "source": [
    "> # 1- Automatic EDA on titanic using `ydata_profiling`"
   ]
  },
  {
   "cell_type": "code",
   "execution_count": 1,
   "id": "8da0988b",
   "metadata": {},
   "outputs": [
    {
     "name": "stderr",
     "output_type": "stream",
     "text": [
      "c:\\Users\\Computer Valley\\.conda\\envs\\ydata_profiling\\lib\\site-packages\\tqdm\\auto.py:21: TqdmWarning: IProgress not found. Please update jupyter and ipywidgets. See https://ipywidgets.readthedocs.io/en/stable/user_install.html\n",
      "  from .autonotebook import tqdm as notebook_tqdm\n"
     ]
    },
    {
     "data": {
      "text/html": [
       "\n",
       "            <div>\n",
       "                <ins><a href=\"https://ydata.ai/register\">Upgrade to ydata-sdk</a></ins>\n",
       "                <p>\n",
       "                    Improve your data and profiling with ydata-sdk, featuring data quality scoring, redundancy detection, outlier identification, text validation, and synthetic data generation.\n",
       "                </p>\n",
       "            </div>\n",
       "            "
      ],
      "text/plain": [
       "<IPython.core.display.HTML object>"
      ]
     },
     "metadata": {},
     "output_type": "display_data"
    }
   ],
   "source": [
    "# importing libraries\n",
    "import pandas as pd \n",
    "import ydata_profiling as yp"
   ]
  },
  {
   "cell_type": "code",
   "execution_count": null,
   "id": "f2093c7b",
   "metadata": {},
   "outputs": [
    {
     "data": {
      "text/html": [
       "<div>\n",
       "<style scoped>\n",
       "    .dataframe tbody tr th:only-of-type {\n",
       "        vertical-align: middle;\n",
       "    }\n",
       "\n",
       "    .dataframe tbody tr th {\n",
       "        vertical-align: top;\n",
       "    }\n",
       "\n",
       "    .dataframe thead th {\n",
       "        text-align: right;\n",
       "    }\n",
       "</style>\n",
       "<table border=\"1\" class=\"dataframe\">\n",
       "  <thead>\n",
       "    <tr style=\"text-align: right;\">\n",
       "      <th></th>\n",
       "      <th>Unnamed: 0</th>\n",
       "      <th>survived</th>\n",
       "      <th>pclass</th>\n",
       "      <th>sex</th>\n",
       "      <th>age</th>\n",
       "      <th>sibsp</th>\n",
       "      <th>parch</th>\n",
       "      <th>fare</th>\n",
       "      <th>embarked</th>\n",
       "      <th>class</th>\n",
       "      <th>who</th>\n",
       "      <th>adult_male</th>\n",
       "      <th>deck</th>\n",
       "      <th>embark_town</th>\n",
       "      <th>alive</th>\n",
       "      <th>alone</th>\n",
       "    </tr>\n",
       "  </thead>\n",
       "  <tbody>\n",
       "    <tr>\n",
       "      <th>0</th>\n",
       "      <td>0</td>\n",
       "      <td>0</td>\n",
       "      <td>3</td>\n",
       "      <td>male</td>\n",
       "      <td>22.0</td>\n",
       "      <td>1</td>\n",
       "      <td>0</td>\n",
       "      <td>7.2500</td>\n",
       "      <td>S</td>\n",
       "      <td>Third</td>\n",
       "      <td>man</td>\n",
       "      <td>True</td>\n",
       "      <td>NaN</td>\n",
       "      <td>Southampton</td>\n",
       "      <td>no</td>\n",
       "      <td>False</td>\n",
       "    </tr>\n",
       "    <tr>\n",
       "      <th>1</th>\n",
       "      <td>1</td>\n",
       "      <td>1</td>\n",
       "      <td>1</td>\n",
       "      <td>female</td>\n",
       "      <td>38.0</td>\n",
       "      <td>1</td>\n",
       "      <td>0</td>\n",
       "      <td>71.2833</td>\n",
       "      <td>C</td>\n",
       "      <td>First</td>\n",
       "      <td>woman</td>\n",
       "      <td>False</td>\n",
       "      <td>C</td>\n",
       "      <td>Cherbourg</td>\n",
       "      <td>yes</td>\n",
       "      <td>False</td>\n",
       "    </tr>\n",
       "    <tr>\n",
       "      <th>2</th>\n",
       "      <td>2</td>\n",
       "      <td>1</td>\n",
       "      <td>3</td>\n",
       "      <td>female</td>\n",
       "      <td>26.0</td>\n",
       "      <td>0</td>\n",
       "      <td>0</td>\n",
       "      <td>7.9250</td>\n",
       "      <td>S</td>\n",
       "      <td>Third</td>\n",
       "      <td>woman</td>\n",
       "      <td>False</td>\n",
       "      <td>NaN</td>\n",
       "      <td>Southampton</td>\n",
       "      <td>yes</td>\n",
       "      <td>True</td>\n",
       "    </tr>\n",
       "    <tr>\n",
       "      <th>3</th>\n",
       "      <td>3</td>\n",
       "      <td>1</td>\n",
       "      <td>1</td>\n",
       "      <td>female</td>\n",
       "      <td>35.0</td>\n",
       "      <td>1</td>\n",
       "      <td>0</td>\n",
       "      <td>53.1000</td>\n",
       "      <td>S</td>\n",
       "      <td>First</td>\n",
       "      <td>woman</td>\n",
       "      <td>False</td>\n",
       "      <td>C</td>\n",
       "      <td>Southampton</td>\n",
       "      <td>yes</td>\n",
       "      <td>False</td>\n",
       "    </tr>\n",
       "    <tr>\n",
       "      <th>4</th>\n",
       "      <td>4</td>\n",
       "      <td>0</td>\n",
       "      <td>3</td>\n",
       "      <td>male</td>\n",
       "      <td>35.0</td>\n",
       "      <td>0</td>\n",
       "      <td>0</td>\n",
       "      <td>8.0500</td>\n",
       "      <td>S</td>\n",
       "      <td>Third</td>\n",
       "      <td>man</td>\n",
       "      <td>True</td>\n",
       "      <td>NaN</td>\n",
       "      <td>Southampton</td>\n",
       "      <td>no</td>\n",
       "      <td>True</td>\n",
       "    </tr>\n",
       "  </tbody>\n",
       "</table>\n",
       "</div>"
      ],
      "text/plain": [
       "   Unnamed: 0  survived  pclass     sex   age  sibsp  parch     fare embarked  \\\n",
       "0           0         0       3    male  22.0      1      0   7.2500        S   \n",
       "1           1         1       1  female  38.0      1      0  71.2833        C   \n",
       "2           2         1       3  female  26.0      0      0   7.9250        S   \n",
       "3           3         1       1  female  35.0      1      0  53.1000        S   \n",
       "4           4         0       3    male  35.0      0      0   8.0500        S   \n",
       "\n",
       "   class    who  adult_male deck  embark_town alive  alone  \n",
       "0  Third    man        True  NaN  Southampton    no  False  \n",
       "1  First  woman       False    C    Cherbourg   yes  False  \n",
       "2  Third  woman       False  NaN  Southampton   yes   True  \n",
       "3  First  woman       False    C  Southampton   yes  False  \n",
       "4  Third    man        True  NaN  Southampton    no   True  "
      ]
     },
     "execution_count": 2,
     "metadata": {},
     "output_type": "execute_result"
    }
   ],
   "source": [
    "# import data from local folder\n",
    "df = pd.read_excel(\"../5_Datasets/titanic_ex.xlsx\")\n",
    "df.head()"
   ]
  },
  {
   "cell_type": "code",
   "execution_count": null,
   "id": "70456c25",
   "metadata": {},
   "outputs": [
    {
     "name": "stderr",
     "output_type": "stream",
     "text": [
      "100%|██████████| 16/16 [00:00<00:00, 17.03it/s]1<00:00, 13.48it/s, Describe variable: alone]      \n",
      "Summarize dataset: 100%|██████████| 51/51 [00:11<00:00,  4.31it/s, Completed]                     \n",
      "Generate report structure: 100%|██████████| 1/1 [00:06<00:00,  6.52s/it]\n",
      "Render HTML: 100%|██████████| 1/1 [00:04<00:00,  4.54s/it]\n",
      "Export report to file: 100%|██████████| 1/1 [00:00<00:00, 34.09it/s]\n"
     ]
    }
   ],
   "source": [
    "# ydata profile report\n",
    "profile = yp.ProfileReport(df)\n",
    "profile.to_file(output_file='../5_Datasets/ydata_titanic.html')"
   ]
  },
  {
   "cell_type": "markdown",
   "id": "623f522b",
   "metadata": {},
   "source": [
    "> extension name:  `HTML Preview` to download"
   ]
  },
  {
   "cell_type": "markdown",
   "id": "3673fd38",
   "metadata": {},
   "source": [
    "---\n",
    "---\n",
    "> # 2- Automatic EDA On Pak Population Dataset"
   ]
  },
  {
   "cell_type": "code",
   "execution_count": null,
   "id": "6507c956",
   "metadata": {},
   "outputs": [],
   "source": [
    "df_pop = pd.read_excel(\"../5_Datasets/pakistan_population_ex.xlsx\")"
   ]
  },
  {
   "cell_type": "code",
   "execution_count": null,
   "id": "12201716",
   "metadata": {},
   "outputs": [
    {
     "name": "stderr",
     "output_type": "stream",
     "text": [
      "100%|██████████| 22/22 [00:00<00:00, 46.75it/s]0<00:00, 36.14it/s, Describe variable: ANNUAL GROWTH RATE (URBAN)]\n",
      "Summarize dataset: 100%|██████████| 355/355 [01:23<00:00,  4.27it/s, Completed]                                                     \n",
      "Generate report structure: 100%|██████████| 1/1 [00:15<00:00, 15.27s/it]\n",
      "Render HTML: 100%|██████████| 1/1 [00:24<00:00, 24.06s/it]\n",
      "Export report to file: 100%|██████████| 1/1 [00:00<00:00,  5.28it/s]\n"
     ]
    }
   ],
   "source": [
    "# ydata profile report\n",
    "profile = yp.ProfileReport(df_pop)\n",
    "profile.to_file(output_file='../5_Datasets/ydata_pak_population.html')"
   ]
  },
  {
   "cell_type": "markdown",
   "id": "ba62e8dd",
   "metadata": {},
   "source": [
    "---\n",
    "---\n",
    "\n",
    "> # 3- Automatic EDA of Mobile_Shop Data"
   ]
  },
  {
   "cell_type": "code",
   "execution_count": 1,
   "id": "34ca8422",
   "metadata": {},
   "outputs": [
    {
     "name": "stderr",
     "output_type": "stream",
     "text": [
      "c:\\Users\\Computer Valley\\.conda\\envs\\ydata_profiling\\lib\\site-packages\\tqdm\\auto.py:21: TqdmWarning: IProgress not found. Please update jupyter and ipywidgets. See https://ipywidgets.readthedocs.io/en/stable/user_install.html\n",
      "  from .autonotebook import tqdm as notebook_tqdm\n"
     ]
    },
    {
     "data": {
      "text/html": [
       "\n",
       "            <div>\n",
       "                <ins><a href=\"https://ydata.ai/register\">Upgrade to ydata-sdk</a></ins>\n",
       "                <p>\n",
       "                    Improve your data and profiling with ydata-sdk, featuring data quality scoring, redundancy detection, outlier identification, text validation, and synthetic data generation.\n",
       "                </p>\n",
       "            </div>\n",
       "            "
      ],
      "text/plain": [
       "<IPython.core.display.HTML object>"
      ]
     },
     "metadata": {},
     "output_type": "display_data"
    }
   ],
   "source": [
    "# importing libraries\n",
    "import pandas as pd \n",
    "import ydata_profiling as yp"
   ]
  },
  {
   "cell_type": "code",
   "execution_count": null,
   "id": "ca22aed6",
   "metadata": {},
   "outputs": [
    {
     "data": {
      "text/html": [
       "<div>\n",
       "<style scoped>\n",
       "    .dataframe tbody tr th:only-of-type {\n",
       "        vertical-align: middle;\n",
       "    }\n",
       "\n",
       "    .dataframe tbody tr th {\n",
       "        vertical-align: top;\n",
       "    }\n",
       "\n",
       "    .dataframe thead th {\n",
       "        text-align: right;\n",
       "    }\n",
       "</style>\n",
       "<table border=\"1\" class=\"dataframe\">\n",
       "  <thead>\n",
       "    <tr style=\"text-align: right;\">\n",
       "      <th></th>\n",
       "      <th>battery</th>\n",
       "      <th>camera</th>\n",
       "      <th>display</th>\n",
       "      <th>memory</th>\n",
       "      <th>name</th>\n",
       "      <th>price</th>\n",
       "      <th>processor</th>\n",
       "      <th>rating</th>\n",
       "      <th>reviews</th>\n",
       "      <th>warranty</th>\n",
       "    </tr>\n",
       "  </thead>\n",
       "  <tbody>\n",
       "    <tr>\n",
       "      <th>0</th>\n",
       "      <td>5000 mAh Battery</td>\n",
       "      <td>12MP + 2MP | 8MP Front Camera</td>\n",
       "      <td>15.8 cm (6.22 inch) HD+ Display</td>\n",
       "      <td>4 GB RAM | 64 GB ROM | Expandable Upto 512 GB</td>\n",
       "      <td>Redmi 8 (Ruby Red, 64 GB)</td>\n",
       "      <td>9999</td>\n",
       "      <td>Qualcomm Snapdragon 439 Processor</td>\n",
       "      <td>4.4</td>\n",
       "      <td>55,078 Reviews</td>\n",
       "      <td>Brand Warranty of 1 Year Available for Mobile ...</td>\n",
       "    </tr>\n",
       "    <tr>\n",
       "      <th>1</th>\n",
       "      <td>5000 mAh Battery</td>\n",
       "      <td>12MP + 8MP + 2MP + 2MP | 8MP Front Camera</td>\n",
       "      <td>16.56 cm (6.52 inch) HD+ Display</td>\n",
       "      <td>4 GB RAM | 64 GB ROM</td>\n",
       "      <td>Realme 5i (Aqua Blue, 64 GB)</td>\n",
       "      <td>10999</td>\n",
       "      <td>Qualcomm Snapdragon 665 2 GHz Processor</td>\n",
       "      <td>4.5</td>\n",
       "      <td>20,062 Reviews</td>\n",
       "      <td>Sunrise Design</td>\n",
       "    </tr>\n",
       "    <tr>\n",
       "      <th>2</th>\n",
       "      <td>5000 mAh Battery</td>\n",
       "      <td>12MP + 8MP + 2MP + 2MP | 8MP Front Camera</td>\n",
       "      <td>16.56 cm (6.52 inch) HD+ Display</td>\n",
       "      <td>4 GB RAM | 128 GB ROM</td>\n",
       "      <td>Realme 5i (Aqua Blue, 128 GB)</td>\n",
       "      <td>11999</td>\n",
       "      <td>Qualcomm Snapdragon 665 (2 GHz) Processor</td>\n",
       "      <td>4.5</td>\n",
       "      <td>20,062 Reviews</td>\n",
       "      <td>Sunrise Design</td>\n",
       "    </tr>\n",
       "    <tr>\n",
       "      <th>3</th>\n",
       "      <td>5000 mAh Battery</td>\n",
       "      <td>12MP + 8MP + 2MP + 2MP | 8MP Front Camera</td>\n",
       "      <td>16.56 cm (6.52 inch) HD+ Display</td>\n",
       "      <td>4 GB RAM | 128 GB ROM</td>\n",
       "      <td>Realme 5i (Forest Green, 128 GB)</td>\n",
       "      <td>11999</td>\n",
       "      <td>Qualcomm Snapdragon 665 (2 GHz) Processor</td>\n",
       "      <td>4.5</td>\n",
       "      <td>20,062 Reviews</td>\n",
       "      <td>Sunrise Design</td>\n",
       "    </tr>\n",
       "    <tr>\n",
       "      <th>4</th>\n",
       "      <td>4000 mAh Battery</td>\n",
       "      <td>13MP + 2MP | 5MP Front Camera</td>\n",
       "      <td>15.49 cm (6.1 inch) HD+ Display</td>\n",
       "      <td>3 GB RAM | 32 GB ROM | Expandable Upto 256 GB</td>\n",
       "      <td>Realme C2 (Diamond Blue, 32 GB)</td>\n",
       "      <td>7499</td>\n",
       "      <td>MediaTek P22 Octa Core 2.0 GHz Processor</td>\n",
       "      <td>4.4</td>\n",
       "      <td>10,091 Reviews</td>\n",
       "      <td>Dual Nano SIM slots and Memory Card Slot</td>\n",
       "    </tr>\n",
       "  </tbody>\n",
       "</table>\n",
       "</div>"
      ],
      "text/plain": [
       "            battery                                     camera  \\\n",
       "0  5000 mAh Battery              12MP + 2MP | 8MP Front Camera   \n",
       "1  5000 mAh Battery  12MP + 8MP + 2MP + 2MP | 8MP Front Camera   \n",
       "2  5000 mAh Battery  12MP + 8MP + 2MP + 2MP | 8MP Front Camera   \n",
       "3  5000 mAh Battery  12MP + 8MP + 2MP + 2MP | 8MP Front Camera   \n",
       "4  4000 mAh Battery              13MP + 2MP | 5MP Front Camera   \n",
       "\n",
       "                            display  \\\n",
       "0   15.8 cm (6.22 inch) HD+ Display   \n",
       "1  16.56 cm (6.52 inch) HD+ Display   \n",
       "2  16.56 cm (6.52 inch) HD+ Display   \n",
       "3  16.56 cm (6.52 inch) HD+ Display   \n",
       "4   15.49 cm (6.1 inch) HD+ Display   \n",
       "\n",
       "                                          memory  \\\n",
       "0  4 GB RAM | 64 GB ROM | Expandable Upto 512 GB   \n",
       "1                           4 GB RAM | 64 GB ROM   \n",
       "2                          4 GB RAM | 128 GB ROM   \n",
       "3                          4 GB RAM | 128 GB ROM   \n",
       "4  3 GB RAM | 32 GB ROM | Expandable Upto 256 GB   \n",
       "\n",
       "                               name  price  \\\n",
       "0         Redmi 8 (Ruby Red, 64 GB)   9999   \n",
       "1      Realme 5i (Aqua Blue, 64 GB)  10999   \n",
       "2     Realme 5i (Aqua Blue, 128 GB)  11999   \n",
       "3  Realme 5i (Forest Green, 128 GB)  11999   \n",
       "4   Realme C2 (Diamond Blue, 32 GB)   7499   \n",
       "\n",
       "                                   processor  rating         reviews  \\\n",
       "0          Qualcomm Snapdragon 439 Processor     4.4  55,078 Reviews   \n",
       "1    Qualcomm Snapdragon 665 2 GHz Processor     4.5  20,062 Reviews   \n",
       "2  Qualcomm Snapdragon 665 (2 GHz) Processor     4.5  20,062 Reviews   \n",
       "3  Qualcomm Snapdragon 665 (2 GHz) Processor     4.5  20,062 Reviews   \n",
       "4   MediaTek P22 Octa Core 2.0 GHz Processor     4.4  10,091 Reviews   \n",
       "\n",
       "                                            warranty  \n",
       "0  Brand Warranty of 1 Year Available for Mobile ...  \n",
       "1                                     Sunrise Design  \n",
       "2                                     Sunrise Design  \n",
       "3                                     Sunrise Design  \n",
       "4           Dual Nano SIM slots and Memory Card Slot  "
      ]
     },
     "execution_count": 4,
     "metadata": {},
     "output_type": "execute_result"
    }
   ],
   "source": [
    "# Importing dataset\n",
    "df_mobile = pd.read_csv(\"../5_Datasets/mobile_shop1.csv\")\n",
    "df_mobile.head()"
   ]
  },
  {
   "cell_type": "code",
   "execution_count": null,
   "id": "bc838007",
   "metadata": {},
   "outputs": [
    {
     "name": "stderr",
     "output_type": "stream",
     "text": [
      "100%|██████████| 10/10 [00:00<00:00, 14.05it/s]1<00:00, 11.07it/s, Describe variable: warranty]\n",
      "Summarize dataset: 100%|██████████| 24/24 [00:03<00:00,  6.01it/s, Completed]                  \n",
      "Generate report structure: 100%|██████████| 1/1 [00:12<00:00, 12.20s/it]\n",
      "Render HTML: 100%|██████████| 1/1 [00:02<00:00,  2.39s/it]\n",
      "Export report to file: 100%|██████████| 1/1 [00:00<00:00, 34.72it/s]\n"
     ]
    }
   ],
   "source": [
    "# creating Profile raport\n",
    "profile = yp.ProfileReport(df_mobile)\n",
    "profile.to_file(\"../5_Datasets/ydata_mobile_shop.html\")"
   ]
  },
  {
   "cell_type": "code",
   "execution_count": 7,
   "id": "9bffc718",
   "metadata": {},
   "outputs": [
    {
     "name": "stdout",
     "output_type": "stream",
     "text": [
      "<class 'pandas.core.frame.DataFrame'>\n",
      "RangeIndex: 984 entries, 0 to 983\n",
      "Data columns (total 10 columns):\n",
      " #   Column     Non-Null Count  Dtype  \n",
      "---  ------     --------------  -----  \n",
      " 0   battery    984 non-null    object \n",
      " 1   camera     984 non-null    object \n",
      " 2   display    984 non-null    object \n",
      " 3   memory     984 non-null    object \n",
      " 4   name       984 non-null    object \n",
      " 5   price      984 non-null    int64  \n",
      " 6   processor  983 non-null    object \n",
      " 7   rating     971 non-null    float64\n",
      " 8   reviews    971 non-null    object \n",
      " 9   warranty   836 non-null    object \n",
      "dtypes: float64(1), int64(1), object(8)\n",
      "memory usage: 77.0+ KB\n"
     ]
    }
   ],
   "source": [
    "df_mobile.info()"
   ]
  }
 ],
 "metadata": {
  "kernelspec": {
   "display_name": "ydata_profiling",
   "language": "python",
   "name": "python3"
  },
  "language_info": {
   "codemirror_mode": {
    "name": "ipython",
    "version": 3
   },
   "file_extension": ".py",
   "mimetype": "text/x-python",
   "name": "python",
   "nbconvert_exporter": "python",
   "pygments_lexer": "ipython3",
   "version": "3.10.0"
  }
 },
 "nbformat": 4,
 "nbformat_minor": 5
}
