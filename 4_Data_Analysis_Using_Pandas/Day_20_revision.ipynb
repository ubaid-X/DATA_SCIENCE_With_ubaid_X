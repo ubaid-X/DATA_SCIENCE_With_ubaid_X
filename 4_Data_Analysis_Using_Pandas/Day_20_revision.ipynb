{
 "cells": [
  {
   "cell_type": "markdown",
   "id": "de96ecca",
   "metadata": {},
   "source": [
    "> # __Day-20 For reading the given blogs 💙__\n",
    "\n",
    "### 1. `Pandas python Library for EDA Analysis: A Comprehensive Guide`\n",
    "\n",
    "[link](https://codanics.com/pandas-python-library-for-eda-a-comprehensive-guide/)\n",
    "\n",
    "### 2. `Now Quize Time😃`\n",
    "\n",
    "[link](https://codanics.com/master-pandas-exploratory-data-analysis-eda-quiz/)\n",
    "\n",
    "### 3.  `Why EDA is necessary?`\n",
    "\n",
    "[link](https://codanics.com/why-eda-is-important/)\n",
    "\n",
    "### `4. Importance of Missing values`\n",
    "\n",
    "[link](https://codanics.com/missing-values-k-rolay/)\n",
    "\n",
    "### 5. `Outlier-1`\n",
    "\n",
    "[link](https://codanics.com/outliers-data-science-mein-ghair-mutawaqa-mehman/#google_vignette)\n",
    "\n",
    "### 6. `Outlier-2`\n",
    "\n",
    "[link](https://codanics.com/handling-outliers-in-data-science-and-machine-learning/)"
   ]
  }
 ],
 "metadata": {
  "language_info": {
   "name": "python"
  }
 },
 "nbformat": 4,
 "nbformat_minor": 5
}
