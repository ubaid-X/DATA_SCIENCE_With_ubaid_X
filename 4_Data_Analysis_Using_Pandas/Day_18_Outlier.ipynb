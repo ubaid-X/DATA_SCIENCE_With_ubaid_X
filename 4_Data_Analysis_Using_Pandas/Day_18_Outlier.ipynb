{
 "cells": [
  {
   "cell_type": "markdown",
   "id": "485af1d5",
   "metadata": {},
   "source": [
    "> # Day18. Outliers "
   ]
  },
  {
   "cell_type": "markdown",
   "id": "a347bfb1",
   "metadata": {},
   "source": [
    "![outlier1](./EDA_PIC/outlier_1.png)\n",
    "\n",
    "![outlier2](./EDA_PIC/outlier_2.png)\n",
    "\n",
    "![outlier3](./EDA_PIC/outlier_3.png)\n",
    "\n",
    "![outlier4](./EDA_PIC/outlier_4.png)\n",
    "\n",
    "![outlier5](./EDA_PIC/outlier_5.png)\n",
    "\n",
    "![outlier6](./EDA_PIC/outlier_6.png)\n",
    "\n",
    "![outlier7](./EDA_PIC/outlier_7.png)\n",
    "\n",
    "> ## Outlier:\n",
    "An Outlier is a data point that is significantly different from the rest of the data. It doestn't follow the pattern or trend that most of the data follows.\n",
    "\n",
    "`Example:` In a data set of salaries like \n",
    "`[30k, 35k, 32k, 500k]`, Here __500k__ is Outlier\n",
    "\n",
    "### Main Types:\n",
    "1. __Global Outlier__:\n",
    "\n",
    "__Meaning__: A data point which are very different from other data points in the dataset.\n",
    "\n",
    "__Example__: In a list of people's ages [25, 27, 30, 29, 105], Here `105` is Global Outlier---it is way outside thr usual range.\n",
    "\n",
    "2. __Contextual Outlier__:\n",
    "\n",
    "__Meaning__: A data point that is only considered an outlier in a specific context(like season or time) matters.\n",
    "\n",
    "__Example__: A temperature of 40C is normal in summmer but would be a context outlier in winter.\n",
    "\n",
    "3. __Collective Outlier__:\n",
    "\n",
    "__Meaning__: A group of data points that are normal individually but strange together.\n",
    "\n",
    "__Example__: If a network sudduenly shows a group of users logging in at _3AM_ from the same location, it may be a collective outlier(could signal a security issue), even if each login alone looks okay. \n",
    "\n",
    "![outlier8](./EDA_PIC/outlier_8.png)\n",
    "\n",
    "![outlier9](./EDA_PIC/outlier_9.png)\n",
    "\n",
    "![outlier10](./EDA_PIC/outlier_10.png)\n",
    "\n",
    "![outlier11](./EDA_PIC/outlier_11.png)\n",
    "\n",
    "> # How to Identify Outlier?\n",
    " __Three Mthods__:\n",
    "1. _Using Histogram_ \n",
    "2. _Using BoxPlot => Inter Quartile Range_\n",
    "3. _Z-Score Method_\n",
    "![outlier_12](./EDA_PIC/outlier_12.jpg)\n",
    "\n",
    "![outlier_13](./EDA_PIC/outlier_13.jpg)\n",
    "\n",
    "![outlier14](./EDA_PIC/outlier_14.png)\n",
    "> ### IQR = Q_3 - Q_1\n",
    "\n",
    "![outlier15](./EDA_PIC/outlier_15.png)\n",
    "\n",
    "![outlier16](./EDA_PIC/outlier_16.png)\n",
    "\n",
    "> ## How to deal with Outliers?\n",
    "\n",
    "![outlier17](./EDA_PIC/outlier_17.png)\n",
    "\n",
    "![outlier18](./EDA_PIC/outlier_18.jpg)\n",
    "\n",
    "![outlier19](./EDA_PIC/outlier_19.png)\n"
   ]
  },
  {
   "cell_type": "markdown",
   "id": "6e762ab4",
   "metadata": {},
   "source": [
    "> # Identifying and removing Outliers using IQR( InterQuartile Range ) "
   ]
  },
  {
   "cell_type": "code",
   "execution_count": 1,
   "id": "bd085509",
   "metadata": {},
   "outputs": [
    {
     "name": "stdout",
     "output_type": "stream",
     "text": [
      "   survived  pclass     sex   age  sibsp  parch     fare embarked  class  \\\n",
      "0         0       3    male  22.0      1      0   7.2500        S  Third   \n",
      "1         1       1  female  38.0      1      0  71.2833        C  First   \n",
      "2         1       3  female  26.0      0      0   7.9250        S  Third   \n",
      "3         1       1  female  35.0      1      0  53.1000        S  First   \n",
      "4         0       3    male  35.0      0      0   8.0500        S  Third   \n",
      "\n",
      "     who  adult_male deck  embark_town alive  alone  \n",
      "0    man        True  NaN  Southampton    no  False  \n",
      "1  woman       False    C    Cherbourg   yes  False  \n",
      "2  woman       False  NaN  Southampton   yes   True  \n",
      "3  woman       False    C  Southampton   yes  False  \n",
      "4    man        True  NaN  Southampton    no   True  \n",
      "   survived  pclass     sex   age  sibsp  parch     fare embarked  class  \\\n",
      "0         0       3    male  22.0      1      0   7.2500        S  Third   \n",
      "1         1       1  female  38.0      1      0  71.2833        C  First   \n",
      "2         1       3  female  26.0      0      0   7.9250        S  Third   \n",
      "3         1       1  female  35.0      1      0  53.1000        S  First   \n",
      "4         0       3    male  35.0      0      0   8.0500        S  Third   \n",
      "\n",
      "     who  adult_male deck  embark_town alive  alone  \n",
      "0    man        True  NaN  Southampton    no  False  \n",
      "1  woman       False    C    Cherbourg   yes  False  \n",
      "2  woman       False  NaN  Southampton   yes   True  \n",
      "3  woman       False    C  Southampton   yes  False  \n",
      "4    man        True  NaN  Southampton    no   True  \n"
     ]
    }
   ],
   "source": [
    "import seaborn as sns\n",
    "import pandas as pd\n",
    "\n",
    "# Load the Titanic dataset\n",
    "titanic = sns.load_dataset('titanic')\n",
    "\n",
    "# Display the first few rows of the dataset\n",
    "print(titanic.head())\n",
    "\n",
    "# Calculate the IQR for the 'age' column\n",
    "Q1 = titanic['age'].quantile(0.25)\n",
    "Q3 = titanic['age'].quantile(0.75)\n",
    "IQR = Q3 - Q1\n",
    "\n",
    "# Define bounds for the outliers\n",
    "lower_bound = Q1 - 1.5 * IQR\n",
    "upper_bound = Q3 + 1.5 * IQR\n",
    "\n",
    "# Remove outliers\n",
    "titanic_no_outliers = titanic[(titanic['age'] >= lower_bound) & (titanic['age'] <= upper_bound)]\n",
    "\n",
    "# Display the first few rows of the dataset without outliers\n",
    "print(titanic_no_outliers.head())"
   ]
  },
  {
   "cell_type": "markdown",
   "id": "8896ef98",
   "metadata": {},
   "source": [
    "## Causes of Outliers\n",
    "\n",
    "`Data Entry Errors:` Human errors such as errors caused during data collection, recording, or entry can cause outliers in data.\n",
    "\n",
    "`Measurement Error:` It can be a result of faulty equipment or the result of experimenter error.\n",
    "\n",
    "`Experimental Error:` For example, in a controlled environment, an unforeseen factor might disrupt an experiment leading to anomalous results.\n",
    "\n",
    "`Intentional Outlier:` These are sometimes introduced to test detection methods.\n",
    "\n",
    "`Sampling Errors:` For instance, during sample collection or extraction, certain unusual samples might be picked.\n",
    "\n",
    "`Natural Outlier:` They don’t necessarily represent any anomaly. For instance, in a class of students, one student may genuinely be extraordinarily tall or short.\n",
    "\n",
    "__Why should we care about outliers?__\n",
    "\n",
    "So, why should you care about outliers? These unconventional data points matter for several compelling reasons:\n",
    "\n",
    "`Hidden Clues:` Outliers often whisper important clues. They could be hints of hidden patterns that could change the way you understand your data.\n",
    "\n",
    "`Quality Check:` Outliers can signal data quality issues. Are they real anomalies, or are they just mistakes in how the data was collected?\n",
    "\n",
    "`Real-World Impact:` In fields like fraud detection, finance, and healthcare, outliers often represent real-world events that need your attention.\n",
    "\n",
    "__Detecting Outliers__\n",
    "\n",
    "`Visualization tools:` Box plots, scatter plots, and histograms can be used to spot outliers.\n",
    "\n",
    "`Statistical Tests:` The Z-score or IQR (Interquartile Range) and Percentile Methods can be used to identify outliers.\n",
    "\n",
    "`Machine Learning algorithms:` There are algorithms like DBSCAN and Isolation Forest that can be used to detect outliers.\n",
    "Now, let’s explore how to find these unusual data points.\n",
    "\n",
    "> **The Z-Score Method**\n",
    "\n",
    "Imagine the Z-score as your detective tool. It helps you figure out how different a data point is from the average – a direct sign of its uniqueness."
   ]
  },
  {
   "cell_type": "markdown",
   "id": "8eb60586",
   "metadata": {},
   "source": [
    "# Install libraries\n",
    "`pip install numpy`\n",
    "\n",
    "`pip install scipy`"
   ]
  },
  {
   "cell_type": "code",
   "execution_count": 1,
   "id": "69fc757f",
   "metadata": {},
   "outputs": [
    {
     "name": "stdout",
     "output_type": "stream",
     "text": [
      "Indices of Outliers: [9]\n"
     ]
    }
   ],
   "source": [
    "# Import libraries\n",
    "import numpy as np\n",
    "from scipy import stats\n",
    "\n",
    "# Sample data\n",
    "data = [2.5, 2.7, 2.8, 3.0, 3.2, 3.4, 3.6, 3.8, 4.0, 100.0]\n",
    "\n",
    "# Calculate the Z-score for each data point\n",
    "z_scores = np.abs(stats.zscore(data))\n",
    "\n",
    "# Set a threshold for identifying outliers\n",
    "threshold = 2.5# Find outliers\n",
    "outliers = np.where(z_scores > threshold)[0]\n",
    "\n",
    "print(\"Indices of Outliers:\", outliers)"
   ]
  },
  {
   "cell_type": "markdown",
   "id": "ec366995",
   "metadata": {},
   "source": [
    "> **IQR (Interquartile Range) – Data Detective Work**\n",
    "\n",
    "Think of the Interquartile Range (IQR) as your data detective. It identifies outliers by looking at the range between the first and third quartiles, making unusual data points stand out."
   ]
  },
  {
   "cell_type": "code",
   "execution_count": null,
   "id": "058b9ca1",
   "metadata": {},
   "outputs": [],
   "source": [
    "# Import library\n",
    "import numpy as np\n",
    "\n",
    "# Sample data\n",
    "data = [10, 15, 20, 25, 30, 35, 40, 45, 50, 100]\n",
    "\n",
    "# Calculate the IQR\n",
    "q1, q3 = np.percentile(data, [25, 75])\n",
    "iqr = q3 - q1\n",
    "\n",
    "# Set a threshold for identifying outliers\n",
    "threshold = 1.5# Find outliers\n",
    "outliers = [x for x in data if (q1 - threshold * iqr) > x > (q3 + threshold * iqr)]\n",
    "\n",
    "print(\"Outliers:\", outliers)"
   ]
  },
  {
   "cell_type": "markdown",
   "id": "1bc58e28",
   "metadata": {},
   "source": [
    "> **Clustering (K-means)**\n",
    "\n",
    "Clustering techniques like K-means can be used to identify outliers by grouping data points into clusters. Outliers belong to clusters with very few data points."
   ]
  },
  {
   "cell_type": "code",
   "execution_count": null,
   "id": "910333d6",
   "metadata": {},
   "outputs": [],
   "source": [
    "# Import library\n",
    "from sklearn.cluster import KMeans\n",
    "\n",
    "# Sample data\n",
    "data = [[2, 2], [3, 3], [3, 4], [30, 30], [31, 31], [32, 32]]\n",
    "\n",
    "# Create a K-means model with two clusters (normal and outlier)\n",
    "kmeans = KMeans(n_clusters=2)\n",
    "kmeans.fit(data)\n",
    "\n",
    "# Predict cluster labels\n",
    "labels = kmeans.predict(data)\n",
    "\n",
    "# Identify outliers based on cluster labels\n",
    "outliers = [data[i] for i, label inenumerate(labels) if label == 1]\n",
    "\n",
    "print(\"Outliers:\", outliers)"
   ]
  },
  {
   "cell_type": "markdown",
   "id": "4c972dac",
   "metadata": {},
   "source": [
    "> **Machine Learning Algorithms (Isolation Forest)**\n",
    "\n",
    "The Isolation Forest is an algorithm specifically designed for anomaly detection. It works by creating isolation trees, where outliers are isolated in shorter trees compared to normal data points."
   ]
  },
  {
   "cell_type": "code",
   "execution_count": null,
   "id": "e5b8ef20",
   "metadata": {},
   "outputs": [],
   "source": [
    "# Import library\n",
    "from sklearn.ensemble import IsolationForest\n",
    "\n",
    "# Sample data\n",
    "data = [[2], [3], [4], [30], [31], [32]]\n",
    "\n",
    "# Create an Isolation Forest model\n",
    "clf = IsolationForest(contamination=0.2)\n",
    "\n",
    "# Fit the model\n",
    "clf.fit(data)\n",
    "\n",
    "# Predict outliers\n",
    "outliers = [data[i] for i, pred in enumerate(clf.predict(data)) if pred == -1]\n",
    "\n",
    "print(\"Outliers:\", outliers)"
   ]
  },
  {
   "cell_type": "markdown",
   "id": "53eb9b54",
   "metadata": {},
   "source": [
    "## **Handling Outliers**\n",
    "\n",
    "1. `Removing the outlier:` This is the most common method where all detected outliers are removed from the dataset.\n",
    "\n",
    "2. `Transforming and binning values:` Outliers can be transformed to bring them within a range. Techniques like log transformation or square root transformation can be used.\n",
    "\n",
    "3. `Imputation:` Outliers can also be replaced with mean, median, or mode values.\n",
    "\n",
    "4. `Separate treatment:` In some use-cases, it’s beneficial to treat outliers separately rather than removing or imputing them.\n",
    "\n",
    "5. `Robus Statistical Methods:` Some of the statistical methods to analyze and model the data are less sensitive to outliers and provide more accurate results in the data.\n",
    "\n",
    "> **Once you’ve found these unusual data points, what should you do with them?**\n",
    "\n",
    "### **1. Removing Outliers – Cutting Losse Ends**\n",
    "\n",
    "Removing outliers is like tidying up your dataset. If they don’t belong in the story you’re telling, consider leaving them out."
   ]
  },
  {
   "cell_type": "code",
   "execution_count": null,
   "id": "c2b75878",
   "metadata": {},
   "outputs": [],
   "source": [
    "# Sample data\n",
    "data = [2, 3, 4, 30, 31, 32]\n",
    "\n",
    "# Set a threshold for identifying outliers\n",
    "threshold = 5# Remove outliers\n",
    "data_no_outliers = [x for x if x <= threshold]\n",
    "\n",
    "print(\"Data without outliers:\", data_no_outliers)"
   ]
  },
  {
   "cell_type": "markdown",
   "id": "c4ca0772",
   "metadata": {},
   "source": [
    "### **2. Data Transformation – Changing the Shape**\n",
    "\n",
    "Data transformation is like giving your data a new shape. By applying techniques like logarithmic transformation, you can make your data easier to understand."
   ]
  },
  {
   "cell_type": "code",
   "execution_count": null,
   "id": "49ac874c",
   "metadata": {},
   "outputs": [],
   "source": [
    "# Import numpy\n",
    "import numpy as np\n",
    "\n",
    "# Sample data\n",
    "data = [2, 3, 4, 30, 31, 32]\n",
    "\n",
    "# Apply a logarithmic transformation to mitigate the impact of outliers\n",
    "data_transformed = [np.log(x) for x in data]\n",
    "\n",
    "print(\"Transformed data:\", data_transformed)"
   ]
  },
  {
   "cell_type": "markdown",
   "id": "07308b3e",
   "metadata": {},
   "source": [
    "### **Imputation – Data Resurrection**\n",
    "\n",
    "Imputation involves replacing outlier values with more representative values, such as the mean or median of the non-outlier data points."
   ]
  },
  {
   "cell_type": "code",
   "execution_count": null,
   "id": "d68b9039",
   "metadata": {},
   "outputs": [],
   "source": [
    "# Import numpy\n",
    "import numpy as np\n",
    "\n",
    "# Sample data\n",
    "data = [2, 3, 4, 30, 31, 32]\n",
    "\n",
    "# Set a threshold for identifying outliers\n",
    "threshold = 5# Replace outliers with the median value\n",
    "median = np.median(data)\n",
    "data_imputed = [x if x <= threshold else median for x in data]\n",
    "\n",
    "print(\"Imputed data:\", data_imputed)"
   ]
  },
  {
   "cell_type": "markdown",
   "id": "cbb345d6",
   "metadata": {},
   "source": [
    "### **Outliers in Real-World Applications**\n",
    "\n",
    "Outliers are pervasive in various industries:\n",
    "\n",
    "1. **Finance**\n",
    "\n",
    "In financial analysis, outliers can indicate market anomalies or financial irregularities.\n",
    "\n",
    "2. **Healthcare**\n",
    "\n",
    "Outliers in healthcare data can signify rare diseases or extreme patient outcomes.\n",
    "\n",
    "3. **Environmental Monitoring**\n",
    "\n",
    "Anomalies in environmental data can point to unusual events, like natural disasters.\n",
    "\n",
    "### **Best Practices for Handling Outliers**\n",
    "\n",
    "To effectively manage outliers in your machine learning projects, consider the following best practices:\n",
    "\n",
    "- **Understand the Domain**\n",
    "\n",
    "Familiarize yourself with the domain you’re working in to distinguish meaningful outliers from noise.\n",
    "\n",
    "- **Use Multiple Techniques**\n",
    "\n",
    "Combine outlier detection methods to ensure robust results.\n",
    "\n",
    "- **Consider Impact**\n",
    "\n",
    "Evaluate the impact of different outlier treatment methods on your specific problem and dataset.\n",
    "\n",
    "- **Document Your Process**\n",
    "\n",
    "Keep a clear record of how you handle outliers for transparency and reproducibility.\n",
    "\n",
    "### **Conclusion**\n",
    "\n",
    "Outliers in a dataset are observations that deviate dramatically from the rest of the data points. They might arise as a result of data gathering mistakes or abnormalities, or they can be real findings that are just infrequent or extraordinary.\n",
    "If outliers are not appropriately accounted for, they might produce misleading, inconsistent, and erroneous findings. As a result, identifying and dealing with outliers is critical in order to produce accurate and useful data analysis findings.\n",
    "Outliers may be detected using a variety of methods, including the percentile approach, IQR method, and z-score method. Outliers can be dealt with in a variety of methods, including removal, transformation, imputation, and so on.\n",
    "As you venture further into the world of data, don’t shy away from outliers. They are the remarkable characters of your dataset, each with a unique story to share. Embrace your curiosity and let the secrets hidden in your data come to light. Understanding the mysteries of outliers is not just a science; it’s an art."
   ]
  }
 ],
 "metadata": {
  "kernelspec": {
   "display_name": "DS_Env",
   "language": "python",
   "name": "python3"
  },
  "language_info": {
   "codemirror_mode": {
    "name": "ipython",
    "version": 3
   },
   "file_extension": ".py",
   "mimetype": "text/x-python",
   "name": "python",
   "nbconvert_exporter": "python",
   "pygments_lexer": "ipython3",
   "version": "3.13.2"
  }
 },
 "nbformat": 4,
 "nbformat_minor": 5
}
