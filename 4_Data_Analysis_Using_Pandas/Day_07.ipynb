{
 "cells": [
  {
   "cell_type": "markdown",
   "id": "29e02318",
   "metadata": {},
   "source": [
    "---\n",
    "\n",
    "__Author name__: UBAIDULLAH\n",
    "\n",
    "[GitHub Profile](https://github.com/ubaid-X/)\n",
    "\n",
    "[LinkedIn Profile](https://https://www.linkedin.com/in/ubaid-ullah-634563373/)\n",
    "\n",
    "[Kaggle Profile](https://www.kaggle.com/ubaidullah01)\n",
    "\n",
    "__Email__: `ai.bussiness.student0@gmail.com`\n",
    "\n",
    "---"
   ]
  },
  {
   "cell_type": "markdown",
   "id": "1a8aa605",
   "metadata": {},
   "source": [
    "> ### __sample overview of pandas methods__"
   ]
  },
  {
   "cell_type": "code",
   "execution_count": null,
   "id": "369e0abe",
   "metadata": {},
   "outputs": [],
   "source": [
    "# importing modules\n",
    "import pandas as pd \n",
    "import seaborn as sns\n",
    "\n",
    "# loading data-set from  seaborn + storing in kishti \n",
    "kishti = sns.load_dataset(\"titanic\")    # kishti become data-frame\n",
    "\n",
    "# printing information about titanic data-set\n",
    "kishti.info()\n",
    "\n",
    "# printing top(upper) 5 line & lower top 5 line\n",
    "kishti.head()\n",
    "kishti.tail()\n",
    "\n",
    "# printing top(upper) n line & lower top n line\n",
    "n = 13\n",
    "kishti.head(n)\n",
    "kishti.tail(n)\n",
    "\n",
    "# writing data to excel \n",
    "kishti.to_excel(\"../5_Datasets/titanic_ex.xlsx\")\n",
    "\n",
    "# writing data to csv file\n",
    "kishti.to_csv(\"../5_Datasets/titanic.csv\")"
   ]
  },
  {
   "cell_type": "code",
   "execution_count": null,
   "id": "db1211a6",
   "metadata": {},
   "outputs": [],
   "source": [
    "# reading excel file\n",
    "df = pd.read_excel(\"../5_Datasets/titanic_ex.xlsx\")\n",
    "\n",
    "# reading csv file\n",
    "df_2 = pd.read_csv(\"../5_Datasets/titanic.csv\")\n",
    "df"
   ]
  }
 ],
 "metadata": {
  "kernelspec": {
   "display_name": "DS_Env",
   "language": "python",
   "name": "python3"
  },
  "language_info": {
   "codemirror_mode": {
    "name": "ipython",
    "version": 3
   },
   "file_extension": ".py",
   "mimetype": "text/x-python",
   "name": "python",
   "nbconvert_exporter": "python",
   "pygments_lexer": "ipython3",
   "version": "3.13.2"
  }
 },
 "nbformat": 4,
 "nbformat_minor": 5
}
