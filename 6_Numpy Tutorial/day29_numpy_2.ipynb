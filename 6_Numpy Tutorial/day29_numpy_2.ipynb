{
 "cells": [
  {
   "cell_type": "markdown",
   "id": "947ff496",
   "metadata": {},
   "source": [
    "---\n",
    "\n",
    "- __Author name:__ UBAIDULLAH\n",
    "\n",
    "- __Email:__ [ai.bussiness.student0@gmail.com](mailto:ai.bussiness.student0@gmail.com)\n",
    "\n",
    "- __GitHub:__ [github.com/ubaid-X/](https://github.com/ubaid-X/)\n",
    "\n",
    "- __LinkedIn Profile:__ [linkedin.com/in/ubaid-ullah-634563373/](https://www.linkedin.com/in/ubaid-ullah-634563373/)\n",
    "\n",
    "- __Kaggle:__ [kaggle.com/ubaidullah01](https://www.kaggle.com/ubaidullah01)\n",
    "\n",
    "---"
   ]
  },
  {
   "cell_type": "markdown",
   "id": "390b9fa2",
   "metadata": {},
   "source": [
    "> # __Numpy (Part-2)__"
   ]
  },
  {
   "cell_type": "markdown",
   "id": "5d09e2a6",
   "metadata": {},
   "source": [
    "### __Empty Array__\n",
    "\n",
    "In NumPy, an empty array is an array that is created without initializing its values. It allocates memory for the array but doesn't fill it with specific numbers—so it may contain random or garbage values.\n",
    "\n",
    "---\n",
    "\n",
    "Syntax:\n",
    "python\n",
    "import numpy as np\n",
    "arr = np.empty((2, 3))\n",
    "\n",
    "This creates a 2x3 array where the values are uninitialized.\n",
    "\n",
    "---\n",
    "\n",
    "Output Example (random values):\n",
    "python\n",
    "array([[1.0302365e-312, 2.1432158e-312, 0.0000000e+000],\n",
    "       [6.2304207e-307, 1.3796130e-306, 0.0000000e+000]])\n",
    "\n",
    "\n",
    "---\n",
    "✅ Use Case:\n",
    "Use np.empty() when:\n",
    "- You're going to fill the array immediately after creation.\n",
    "- You want to optimize performance by skipping initialization.\n",
    "\n",
    "---\n",
    "*np.empty() vs np.zeros() in NumPy*\n",
    "\n",
    "| Feature            | np.empty()                                | np.zeros()                                |\n",
    "|--------------------|----------------------------------------------|----------------------------------------------|\n",
    "| What it does   | Creates an array without filling values | Creates an array filled with 0s          |\n",
    "| Speed          | Faster (no initialization)                  | Slightly slower (fills with 0s)              |\n",
    "| Values inside  | Garbage/random values                   | All elements are 0                       |\n",
    "| Use when       | You will overwrite all values anyway    | You need a clean/empty array of 0s       |\n",
    "| Risk           | Risk of using uninitialized data            | Safe to use immediately                      |\n",
    "\n",
    "---\n",
    "🧠 When to Use Each?\n",
    "\n",
    "- Use *np.empty()* if you're going to fill the array right after creating it. Saves time.\n",
    "- Use *np.zeros()* when you want to be safe and start with known values.\n",
    "\n",
    "👀 Summary:\n",
    "\n",
    "- np.empty(): Fast, but you must fill it yourself.\n",
    "- np.zeros(): Safe and clean, but a little slower.\n",
    "\n",
    "---\n",
    "\n",
    "> ### __Example__"
   ]
  },
  {
   "cell_type": "code",
   "execution_count": 2,
   "id": "d67f3a7b",
   "metadata": {},
   "outputs": [],
   "source": [
    "import numpy as np"
   ]
  },
  {
   "cell_type": "code",
   "execution_count": 5,
   "id": "512653d2",
   "metadata": {},
   "outputs": [
    {
     "name": "stdout",
     "output_type": "stream",
     "text": [
      "[0. 0.]\n",
      "----------------------\n",
      "0.0\n"
     ]
    }
   ],
   "source": [
    "empty = np.empty((2))\n",
    "print(empty)\n",
    "print(\"----------------------\")\n",
    "print(empty[0])"
   ]
  },
  {
   "cell_type": "code",
   "execution_count": 9,
   "id": "23778238",
   "metadata": {},
   "outputs": [
    {
     "name": "stdout",
     "output_type": "stream",
     "text": [
      "[[6.23042070e-307 4.67296746e-307 1.69121096e-306]\n",
      " [3.22649121e-307 2.67020271e-306 2.42092166e-322]]\n",
      "-----------------\n",
      "6.230420704259778e-307\n"
     ]
    }
   ],
   "source": [
    "empty = np.empty([2, 3])\n",
    "print(empty)\n",
    "print(\"-----------------\")\n",
    "print(empty[0, 0])\n"
   ]
  },
  {
   "cell_type": "code",
   "execution_count": 10,
   "id": "3ad039f1",
   "metadata": {},
   "outputs": [
    {
     "data": {
      "text/plain": [
       "array([0, 1, 2, 3, 4, 5])"
      ]
     },
     "execution_count": 10,
     "metadata": {},
     "output_type": "execute_result"
    }
   ],
   "source": [
    "# ascending range from 0 to 5\n",
    "x = np.arange(6)\n",
    "x"
   ]
  },
  {
   "cell_type": "code",
   "execution_count": 12,
   "id": "72381ead",
   "metadata": {},
   "outputs": [
    {
     "name": "stdout",
     "output_type": "stream",
     "text": [
      "[ 0  2  4  6  8 10]\n"
     ]
    }
   ],
   "source": [
    "# np.arange(start, stop, step)\n",
    "even = np.arange(0, 11, 2) # even numbers from 0 to 10\n",
    "print(even)"
   ]
  },
  {
   "cell_type": "code",
   "execution_count": null,
   "id": "8cc10072",
   "metadata": {},
   "outputs": [
    {
     "data": {
      "text/plain": [
       "array([ 2. ,  3.5,  5. ,  6.5,  8. ,  9.5, 11. , 12.5, 14. ])"
      ]
     },
     "execution_count": 13,
     "metadata": {},
     "output_type": "execute_result"
    }
   ],
   "source": [
    "# defference(1.5) between each number from 2 to 15\n",
    "z = np.arange(2, 15, 1.5)\n",
    "z"
   ]
  },
  {
   "cell_type": "markdown",
   "id": "ebbf3580",
   "metadata": {},
   "source": [
    "---\n",
    "\n",
    "*What is linspace()?*\n",
    "\n",
    "`linspace()` is a function in NumPy used to create a linearly spaced list of numbers — like equal steps between two values.\n",
    "\n",
    "---\n",
    "\n",
    "Structure (Syntax):\n",
    "python\n",
    "numpy.linspace(start, stop, num)\n",
    "\n",
    "\n",
    "- start → where to begin\n",
    "- stop → where to end\n",
    "- num → how many values you want (including start and stop)\n",
    "\n",
    "---\n",
    "\n",
    "Example:\n",
    "python\n",
    "import numpy as np\n",
    "\n",
    "arr = np.linspace(0, 10, 5)\n",
    "print(arr)\n",
    "\n",
    "**Output:**\n",
    "\n",
    "[ 0.   2.5  5.   7.5 10. ]\n",
    "\n",
    "\n",
    "It created 5 numbers evenly spaced from 0 to 10.\n",
    "\n",
    "---\n",
    "\n",
    "✅ Real-World Use Cases:\n",
    "\n",
    "1. Plotting smooth graphs:  \n",
    "   When plotting a curve, you need smooth x-values — linspace() is perfect.\n",
    "\n",
    "2. Physics simulations:  \n",
    "   For example, generating time steps between 0 and 1 second.\n",
    "\n",
    "3. AI/ML hyperparameter tuning:  \n",
    "   Testing models with learning rates like from 0.01 to 1.0 in equal steps.\n",
    "\n",
    "4. Animation frames or video timeline creation.\n",
    "\n",
    "---\n",
    "\n",
    "> ### linspace() vs arange()\n",
    "\n",
    "- *linspace()* → You tell it how many values you want between two numbers.\n",
    "- *arange()* → You tell it the step size between numbers.\n",
    "\n",
    "---"
   ]
  },
  {
   "cell_type": "code",
   "execution_count": 3,
   "id": "9d0af837",
   "metadata": {},
   "outputs": [
    {
     "data": {
      "text/plain": [
       "array([ 0.        ,  1.11111111,  2.22222222,  3.33333333,  4.44444444,\n",
       "        5.55555556,  6.66666667,  7.77777778,  8.88888889, 10.        ])"
      ]
     },
     "execution_count": 3,
     "metadata": {},
     "output_type": "execute_result"
    }
   ],
   "source": [
    "# np.linspace() to create an array with values that are spaced linearly ina specified interval is used for line trend\n",
    "lin = np.linspace(0, 10, num=10)\n",
    "lin"
   ]
  },
  {
   "cell_type": "code",
   "execution_count": 7,
   "id": "d2fb693a",
   "metadata": {},
   "outputs": [
    {
     "data": {
      "text/plain": [
       "array([0.00000000e+00, 5.88235640e-06, 1.17647128e-05, ...,\n",
       "       9.99998824e+00, 9.99999412e+00, 1.00000000e+01], shape=(1700000,))"
      ]
     },
     "execution_count": 7,
     "metadata": {},
     "output_type": "execute_result"
    }
   ],
   "source": [
    "lin = np.linspace(0, 10, num=1700000)\n",
    "lin"
   ]
  },
  {
   "cell_type": "markdown",
   "id": "514f413e",
   "metadata": {},
   "source": [
    "---\n",
    "- __you can explicitely specify which data type you want using `dtype` keyword__ \n",
    "\n",
    "---"
   ]
  },
  {
   "cell_type": "code",
   "execution_count": 11,
   "id": "dda884df",
   "metadata": {},
   "outputs": [
    {
     "name": "stdout",
     "output_type": "stream",
     "text": [
      "[[1 1 1]\n",
      " [1 1 1]]\n",
      "-----------------\n",
      "int64\n"
     ]
    }
   ],
   "source": [
    "x = np.ones((2, 3), dtype=np.int64) \n",
    "print(x)\n",
    "print(\"-----------------\")\n",
    "# now checking the dtype of x\n",
    "print(x.dtype)"
   ]
  },
  {
   "cell_type": "markdown",
   "id": "5a010cff",
   "metadata": {},
   "source": [
    "> - __int16 vs int32 vs int64 vs int128__\n",
    "\n",
    "What they are:\n",
    "They are integer data types with different bit sizes used in programming (like NumPy or AI models) to store numbers.\n",
    "\n",
    "---\n",
    "\n",
    "Basic Difference:\n",
    "\n",
    "| Type     | Bits | Range (Approx.)                       | Memory Used |\n",
    "|----------|------|----------------------------------------|--------------|\n",
    "| int16 | 16   | -32,768 to +32,767                    | 2 Bytes      |\n",
    "| int32 | 32   | -2.1 Billion to +2.1 Billion           | 4 Bytes      |\n",
    "| int64 | 64   | -9 Quintillion to +9 Quintillion       | 8 Bytes      |\n",
    "| int128| 128  | Extremely large range (not always supported) | 16 Bytes     |\n",
    "\n",
    "---\n",
    "Basic Difference:\n",
    "\n",
    "| Type     | Bits | Range (Approx.)                       | Memory Used |\n",
    "|----------|------|----------------------------------------|--------------|\n",
    "| int16 | 16   | -32,768 to +32,767                    | 2 Bytes      |\n",
    "| int32 | 32   | -2.1 Billion to +2.1 Billion           | 4 Bytes      |\n",
    "| int64 | 64   | -9 Quintillion to +9 Quintillion       | 8 Bytes      |\n",
    "| int128| 128  | Extremely large range (not always supported) | 16 Bytes     |\n",
    "\n",
    "---\n",
    "\n",
    "Why use different types?\n",
    "- int16: Saves memory, but holds smaller numbers → e.g., pixel values in images.\n",
    "- int32: Default for most AI tasks, balances range and size.\n",
    "- int64: For big numbers like timestamps or large IDs.\n",
    "- int128: Rarely used. Mostly in scientific or crypto applications.\n",
    "\n",
    "---\n",
    "\n",
    "Real-World AI Use Case:\n",
    "- Image AI: Uses int8 or int16 for speed/memory.\n",
    "- Model IDs, timestamps: int64\n",
    "- Though int128 isn't widely supported in standard NumPy or most hardware, it can be used in:\n",
    "  1. Cryptography: Handling very large prime numbers and keys.\n",
    "  2. Blockchain: Calculating balances or hashes with massive integer precision.\n",
    "  3. Scientific Computing: Extremely large integer values in simulations.\n",
    "  4. Custom High-Precision Libraries: Where exact integer math is crucial.\n",
    "\n",
    "> Note: Most CPUs and GPUs don't natively support int128, so it's emulated in software and is slower.\n",
    "\n",
    "\n",
    "- Deep learning weights or computations: often float32/64, but intermediate steps may use int types."
   ]
  },
  {
   "cell_type": "markdown",
   "id": "dfbe4b6e",
   "metadata": {},
   "source": [
    "--- \n",
    "- __Sorting array__\n",
    "---"
   ]
  },
  {
   "cell_type": "code",
   "execution_count": 18,
   "id": "4e503344",
   "metadata": {},
   "outputs": [
    {
     "data": {
      "text/plain": [
       "array([ 20,   1, 100,   2,   4])"
      ]
     },
     "execution_count": 18,
     "metadata": {},
     "output_type": "execute_result"
    }
   ],
   "source": [
    "arr = np.array([20, 1, 100, 2, 4], dtype=np.int64)\n",
    "arr"
   ]
  },
  {
   "cell_type": "code",
   "execution_count": 20,
   "id": "bcc5e1ae",
   "metadata": {},
   "outputs": [
    {
     "data": {
      "text/plain": [
       "array([  1,   2,   4,  20, 100])"
      ]
     },
     "execution_count": 20,
     "metadata": {},
     "output_type": "execute_result"
    }
   ],
   "source": [
    "# now sorting the array + storing into original array\n",
    "arr = np.sort(arr)\n",
    "arr"
   ]
  },
  {
   "cell_type": "markdown",
   "id": "f0dba5d9",
   "metadata": {},
   "source": [
    "> __Different methods of sorting__\n",
    "\n",
    "---\n",
    "\n",
    "✳ 1. np.argsort()\n",
    "→ Returns indices that would sort the array.\n",
    "\n",
    "📘 Syntax:\n",
    "python\n",
    "np.argsort(array, axis=-1)\n",
    "\n",
    "\n",
    "---\n",
    "\n",
    "🧪 1D Example – Pakistani Marks List\n",
    "python\n",
    "```\n",
    "import numpy as np\n",
    "marks = np.array([88, 45, 75, 90])\n",
    "print(np.argsort(marks))\n",
    "```\n",
    "\n",
    "Output:\n",
    "\n",
    "[1 2 0 3]\n",
    "\n",
    "🧠 Use Case: Rank students from lowest to highest.\n",
    "\n",
    "---\n",
    "\n",
    "🧪 2D Example – City-wise Scores\n",
    "python\n",
    "```\n",
    "scores = np.array([[45, 88], [90, 75]])\n",
    "print(np.argsort(scores, axis=1))  # Sort each row\n",
    "```\n",
    "\n",
    "Output:\n",
    "\n",
    "[[0 1]\n",
    " [1 0]]\n",
    "\n",
    "\n",
    "---\n",
    "\n",
    "🧪 3D Example – Exam marks across cities\n",
    "python\n",
    "```\n",
    "data = np.array([\n",
    "  [[5, 9], [2, 4]],\n",
    "  [[8, 1], [6, 3]]\n",
    "])\n",
    "print(np.argsort(data, axis=2))\n",
    "```\n",
    "\n",
    "Output:\n",
    "\n",
    "[[[0 1]\n",
    "  [0 1]]\n",
    "\n",
    " [[1 0]\n",
    "  [1 0]]]\n",
    "\n",
    "\n",
    "---\n",
    "\n",
    "✳ 2. np.lexsort()\n",
    "→ Sorts using multiple keys (like Excel: sort by name, then marks).\n",
    "\n",
    "📘 Syntax:\n",
    "python\n",
    "np.lexsort((key2, key1))\n",
    "\n",
    "\n",
    "---\n",
    "\n",
    "🧪 1D Example – Sort by City then Age\n",
    "python\n",
    "```\n",
    "cities = np.array(['Lahore', 'Karachi', 'Lahore', 'Islamabad'])\n",
    "ages = np.array([25, 30, 20, 22])\n",
    "print(np.lexsort((ages, cities)))\n",
    "```\n",
    "\n",
    "---\n",
    "Output:\n",
    "\n",
    "[3 1 2 0]\n",
    "\n",
    "\n",
    "🧠 Use Case: Sort students by city name, then age.\n",
    "\n",
    "---\n",
    "\n",
    "🧪 2D/3D: Works only with 1D key arrays. For complex sorting, flatten data.\n",
    "\n",
    "---\n",
    "\n",
    "✳ 3. np.searchsorted()\n",
    "→ Find where to insert a number in a sorted array.\n",
    "\n",
    "📘 Syntax:\n",
    "python\n",
    "np.searchsorted(sorted_array, value)\n",
    "\n",
    "\n",
    "---\n",
    "\n",
    "🧪 1D Example – Sorted Donations\n",
    "python\n",
    "```\n",
    "donations = np.array([100, 200, 300])\n",
    "print(np.searchsorted(donations, 250))\n",
    "```\n",
    "\n",
    "Output:\n",
    "\n",
    "2\n",
    "\n",
    "\n",
    "---\n",
    "\n",
    "🧪 2D & 3D:\n",
    "Not supported directly — flatten or loop required.\n",
    "\n",
    "---\n",
    "\n",
    "✳ 4. np.partition()\n",
    "*→ Rearranges array so smallest k elements come first (not sorted).*\n",
    "\n",
    "📘 Syntax:\n",
    "python\n",
    "np.partition(array, kth)\n",
    "\n",
    "\n",
    "---\n",
    "\n",
    "🧪 1D Example – Cricket Scores\n",
    "python\n",
    "```\n",
    "scores = np.array([60, 30, 90, 10])\n",
    "print(np.partition(scores, 2))\n",
    "```\n",
    "\n",
    "Output:\n",
    "\n",
    "[30 10 60 90]  # Any order, but 2 smallest first\n",
    "\n",
    "\n",
    "---\n",
    "\n",
    "🧪 2D Example\n",
    "python\n",
    "```\n",
    "scores = np.array([[60, 10], [90, 30]])\n",
    "print(np.partition(scores, 1, axis=1))\n",
    "```\n",
    "\n",
    "Output:\n",
    "\n",
    "[[10 60]\n",
    " [30 90]]\n",
    "\n",
    "\n",
    "---\n",
    "\n",
    "🧪 3D Example\n",
    "python\n",
    "```\n",
    "data = np.array([\n",
    "  [[5, 3], [7, 1]],\n",
    "  [[4, 6], [2, 8]]\n",
    "])\n",
    "print(np.partition(data, 1, axis=2))\n",
    "```\n",
    "\n",
    "Output:\n",
    "\n",
    "[[[3 5]\n",
    "  [1 7]]\n",
    "\n",
    " [[4 6]\n",
    "  [2 8]]]\n",
    "\n",
    "\n",
    "---\n",
    "\n",
    "✅ Summary Table\n",
    "| Function        | Purpose                          | Works on | Key Use Case                        |\n",
    "|----------------|----------------------------------|----------|-------------------------------------|\n",
    "| argsort()     | Return sort indices              | 1D–3D   | Ranking marks or salaries           |\n",
    "| lexsort()     | Sort by multiple keys            | 1D keys | Sort by city then age               |\n",
    "| searchsorted()| Insert index in sorted array     | 1D only | Insert in sorted donations          |\n",
    "| partition()   | Quick split of small/big values  | 1D–3D   | Top-N cricket scores or salaries    |\n",
    "\n",
    "---"
   ]
  },
  {
   "cell_type": "markdown",
   "id": "49f055fe",
   "metadata": {},
   "source": [
    "---\n",
    "- __Concatenation__\n",
    "---"
   ]
  },
  {
   "cell_type": "code",
   "execution_count": 2,
   "id": "3bcffe77",
   "metadata": {},
   "outputs": [],
   "source": [
    "a = np.array([1, 2, 3, 4, 5])\n",
    "b = np.array([6, 7, 8, 9, 10])"
   ]
  },
  {
   "cell_type": "code",
   "execution_count": null,
   "id": "ad899495",
   "metadata": {},
   "outputs": [
    {
     "data": {
      "text/plain": [
       "array([ 1,  2,  3,  4,  5,  6,  7,  8,  9, 10])"
      ]
     },
     "execution_count": 3,
     "metadata": {},
     "output_type": "execute_result"
    }
   ],
   "source": [
    "# concatenating the above 1D arrays\n",
    "c = np.concatenate((a, b))\n",
    "c"
   ]
  },
  {
   "cell_type": "markdown",
   "id": "58bf31e9",
   "metadata": {},
   "source": [
    "---\n",
    "- __we can concatecate 2D array__ \n",
    "---"
   ]
  },
  {
   "cell_type": "code",
   "execution_count": null,
   "id": "f717928b",
   "metadata": {},
   "outputs": [],
   "source": [
    "x = np.array([[1, 2], [3, 4]]) # 2x2 Array\n",
    "y = np.array([[5, 6]])   # 1x2 Array\n"
   ]
  },
  {
   "cell_type": "code",
   "execution_count": null,
   "id": "824697ef",
   "metadata": {},
   "outputs": [
    {
     "data": {
      "text/plain": [
       "array([[1, 2],\n",
       "       [3, 4],\n",
       "       [5, 6]])"
      ]
     },
     "execution_count": 6,
     "metadata": {},
     "output_type": "execute_result"
    }
   ],
   "source": [
    "# concatenate 2D Arrays\n",
    "z = np.concatenate((x, y)) # by default it is row-wise=> axis=0\n",
    "z"
   ]
  },
  {
   "cell_type": "markdown",
   "id": "bcfcd3ca",
   "metadata": {},
   "source": [
    "### __we can concatenate on both row-wise(top-bottom) and column-wise(left-right)__ ###\n",
    "\n",
    ">  __1. row-wise(top-bottom)__"
   ]
  },
  {
   "cell_type": "code",
   "execution_count": 9,
   "id": "116087da",
   "metadata": {},
   "outputs": [
    {
     "data": {
      "text/plain": [
       "array([[1, 2],\n",
       "       [3, 4],\n",
       "       [5, 6]])"
      ]
     },
     "execution_count": 9,
     "metadata": {},
     "output_type": "execute_result"
    }
   ],
   "source": [
    "z = np.concatenate((x, y), axis=0)\n",
    "z"
   ]
  },
  {
   "cell_type": "markdown",
   "id": "2c91c542",
   "metadata": {},
   "source": [
    "> __1. column-wise(left-right)__"
   ]
  },
  {
   "cell_type": "code",
   "execution_count": null,
   "id": "2f0a2802",
   "metadata": {},
   "outputs": [
    {
     "data": {
      "text/plain": [
       "array([[1, 2, 5, 6],\n",
       "       [3, 4, 7, 8]])"
      ]
     },
     "execution_count": 12,
     "metadata": {},
     "output_type": "execute_result"
    }
   ],
   "source": [
    "x = np.array([[1, 2], [3, 4]]) # 2x2 Array\n",
    "y = np.array([[5, 6], [7, 8]]) # 2x2 array\n",
    "z = np.concatenate((x, y), axis=1)\n",
    "z"
   ]
  },
  {
   "cell_type": "code",
   "execution_count": 13,
   "id": "61c1d0f1",
   "metadata": {},
   "outputs": [
    {
     "data": {
      "text/plain": [
       "2"
      ]
     },
     "execution_count": 13,
     "metadata": {},
     "output_type": "execute_result"
    }
   ],
   "source": [
    "# checking dimension of z\n",
    "z.ndim"
   ]
  },
  {
   "cell_type": "markdown",
   "id": "d3a686c3",
   "metadata": {},
   "source": [
    "---\n",
    "- __Creating 3D Array__\n",
    "\n",
    "you will need `Two(2) or more 2D Array ` to create a __3D Array__\n",
    "\n",
    "---"
   ]
  },
  {
   "cell_type": "code",
   "execution_count": null,
   "id": "c1b8d2f0",
   "metadata": {},
   "outputs": [
    {
     "name": "stdout",
     "output_type": "stream",
     "text": [
      "3D\n",
      "-----------\n",
      "[[[ 2  3  4]\n",
      "  [ 1  4  1]]\n",
      "\n",
      " [[ 6  7  5]\n",
      "  [ 9 10  9]]]\n"
     ]
    }
   ],
   "source": [
    "# creating 3D array\n",
    "x = np.array([[[2, 3, 4],\n",
    "               [1, 4, 1]],\n",
    "              \n",
    "              [[6, 7, 5],\n",
    "               [9, 10, 9]]])\n",
    "print(f\"{x.ndim}D\")\n",
    "print(\"-----------\")\n",
    "print(x)"
   ]
  },
  {
   "cell_type": "code",
   "execution_count": 29,
   "id": "b72a7293",
   "metadata": {},
   "outputs": [
    {
     "name": "stdout",
     "output_type": "stream",
     "text": [
      "Dimention: 3D\n",
      "shape:(3, 1, 3)\n"
     ]
    }
   ],
   "source": [
    "# creating 2nd 3D Array\n",
    "x = np.array([[[1, 2, 3]],\n",
    "             [[6, 7, 9]],\n",
    "             [[4, 5, 8]]])\n",
    "print(f\"Dimention: {x.ndim}D\")  # 3D\n",
    "print(f\"shape:{x.shape}\")  # (layers/depth, rows, columns)"
   ]
  },
  {
   "cell_type": "code",
   "execution_count": null,
   "id": "c46092be",
   "metadata": {},
   "outputs": [
    {
     "name": "stdout",
     "output_type": "stream",
     "text": [
      "[[[ 2  3  4 11 34]\n",
      "  [ 1  4  1 22 48]]\n",
      "\n",
      " [[ 6  7  5 33 56]\n",
      "  [ 9 10  9 44 74]]\n",
      "\n",
      " [[ 1  9  4 10 22]\n",
      "  [ 2  8  5  3  2]]]\n"
     ]
    }
   ],
   "source": [
    "# creating 3rd 3D array\n",
    "x = np.array([[[2, 3, 4, 11, 34],\n",
    "               [1, 4, 1, 22, 48]],\n",
    "              \n",
    "              [[6, 7, 5, 33, 56],\n",
    "               [9, 10, 9, 44, 74]],\n",
    "              \n",
    "              [[1, 9, 4, 10, 22], \n",
    "               [2, 8, 5, 3, 2]]])\n",
    "\n",
    "print(x)"
   ]
  },
  {
   "cell_type": "code",
   "execution_count": 24,
   "id": "8a393e0f",
   "metadata": {},
   "outputs": [
    {
     "name": "stdout",
     "output_type": "stream",
     "text": [
      "Dimention: 3D\n"
     ]
    }
   ],
   "source": [
    "print(f\"Dimention: {x.ndim}D\")  # 3D"
   ]
  },
  {
   "cell_type": "code",
   "execution_count": 25,
   "id": "7db4af9d",
   "metadata": {},
   "outputs": [
    {
     "name": "stdout",
     "output_type": "stream",
     "text": [
      "length: 3\n"
     ]
    }
   ],
   "source": [
    "print(f\"length: {len(x)}\") # here length = layers or depth"
   ]
  },
  {
   "cell_type": "code",
   "execution_count": 27,
   "id": "937fe0bb",
   "metadata": {},
   "outputs": [
    {
     "name": "stdout",
     "output_type": "stream",
     "text": [
      "Total values: 30\n"
     ]
    }
   ],
   "source": [
    "print(f\"Total values: {x.size}\") # total values in 3D array"
   ]
  },
  {
   "cell_type": "code",
   "execution_count": 28,
   "id": "21af504d",
   "metadata": {},
   "outputs": [
    {
     "name": "stdout",
     "output_type": "stream",
     "text": [
      "shape:(3, 2, 5)\n"
     ]
    }
   ],
   "source": [
    "print(f\"shape:{x.shape}\")  # (layers/depth, rows, columns)\n"
   ]
  },
  {
   "cell_type": "markdown",
   "id": "401669aa",
   "metadata": {},
   "source": [
    "---\n",
    "- __Reshaping Array__\n",
    "\n",
    "when reshaping an array so we have to find their shape like `(3,1,3)` => multiplication of this shape is `9` so while reshaping an array we have to ensure that the multiplication of shape of  new array same as the old\n",
    "\n",
    "__Example__\n",
    "old array shape:(3, 1, 3) => 3 * 1 * 3 => 9\n",
    "\n",
    "new array shape(3, 3) => 3 * 3 => 9\n",
    "\n",
    "---"
   ]
  },
  {
   "cell_type": "code",
   "execution_count": 44,
   "id": "9d342de2",
   "metadata": {},
   "outputs": [
    {
     "name": "stdout",
     "output_type": "stream",
     "text": [
      "(3, 1, 4)\n"
     ]
    }
   ],
   "source": [
    "a = np.array([[[1, 2, 3, 4]],\n",
    "             [[6, 7, 9, 5]],\n",
    "             [[4, 5, 8, 5]]])\n",
    "print(a.shape)"
   ]
  },
  {
   "cell_type": "code",
   "execution_count": 46,
   "id": "2e46e8a2",
   "metadata": {},
   "outputs": [
    {
     "data": {
      "text/plain": [
       "(6, 2)"
      ]
     },
     "execution_count": 46,
     "metadata": {},
     "output_type": "execute_result"
    }
   ],
   "source": [
    "# now reshaping the array\n",
    "a2 = a.reshape(6, 2)\n",
    "a2.shape"
   ]
  },
  {
   "cell_type": "code",
   "execution_count": 48,
   "id": "29b19876",
   "metadata": {},
   "outputs": [
    {
     "data": {
      "text/plain": [
       "array([[[1, 2, 3, 4]],\n",
       "\n",
       "       [[6, 7, 9, 5]],\n",
       "\n",
       "       [[4, 5, 8, 5]]])"
      ]
     },
     "execution_count": 48,
     "metadata": {},
     "output_type": "execute_result"
    }
   ],
   "source": [
    "# before reshaping \n",
    "a"
   ]
  },
  {
   "cell_type": "code",
   "execution_count": 49,
   "id": "46cf6ac5",
   "metadata": {},
   "outputs": [
    {
     "data": {
      "text/plain": [
       "array([[1, 2],\n",
       "       [3, 4],\n",
       "       [6, 7],\n",
       "       [9, 5],\n",
       "       [4, 5],\n",
       "       [8, 5]])"
      ]
     },
     "execution_count": 49,
     "metadata": {},
     "output_type": "execute_result"
    }
   ],
   "source": [
    "# after reshaping\n",
    "a2"
   ]
  },
  {
   "cell_type": "code",
   "execution_count": 50,
   "id": "e9303bb5",
   "metadata": {},
   "outputs": [
    {
     "data": {
      "text/plain": [
       "array([[[1, 2],\n",
       "        [3, 4],\n",
       "        [6, 7]],\n",
       "\n",
       "       [[9, 5],\n",
       "        [4, 5],\n",
       "        [8, 5]]])"
      ]
     },
     "execution_count": 50,
     "metadata": {},
     "output_type": "execute_result"
    }
   ],
   "source": [
    "# reshaping the a2\n",
    "a2.reshape(2,3,2)\n"
   ]
  },
  {
   "cell_type": "code",
   "execution_count": 51,
   "id": "71f9ee5b",
   "metadata": {},
   "outputs": [
    {
     "data": {
      "text/plain": [
       "array([[[1, 2, 3, 4]],\n",
       "\n",
       "       [[6, 7, 9, 5]],\n",
       "\n",
       "       [[4, 5, 8, 5]]])"
      ]
     },
     "execution_count": 51,
     "metadata": {},
     "output_type": "execute_result"
    }
   ],
   "source": [
    "# now reshaping to the first one\n",
    "a2.reshape(3, 1, 4)"
   ]
  },
  {
   "cell_type": "markdown",
   "id": "c6843589",
   "metadata": {},
   "source": [
    "---\n",
    "- __how to convert a 1D array into a 2D array(how to add a new axis to an array)__\n",
    "\n",
    "---"
   ]
  },
  {
   "cell_type": "code",
   "execution_count": 52,
   "id": "5d16c658",
   "metadata": {},
   "outputs": [
    {
     "data": {
      "text/plain": [
       "(5,)"
      ]
     },
     "execution_count": 52,
     "metadata": {},
     "output_type": "execute_result"
    }
   ],
   "source": [
    "# creating 1D Array\n",
    "a = np.array([1, 3, 5, 4, 2])\n",
    "a.shape"
   ]
  },
  {
   "cell_type": "code",
   "execution_count": 55,
   "id": "9c302b43",
   "metadata": {},
   "outputs": [
    {
     "name": "stdout",
     "output_type": "stream",
     "text": [
      "(1, 5)\n",
      "---------\n",
      "[[1 3 5 4 2]]\n"
     ]
    }
   ],
   "source": [
    "# converting that into 2D array\n",
    "a2 = a[np.newaxis, :]\n",
    "print(a2.shape)\n",
    "print(\"---------\")\n",
    "print(a2)"
   ]
  },
  {
   "cell_type": "code",
   "execution_count": 56,
   "id": "c3568894",
   "metadata": {},
   "outputs": [
    {
     "name": "stdout",
     "output_type": "stream",
     "text": [
      "(5, 1)\n"
     ]
    },
    {
     "data": {
      "text/plain": [
       "array([[1],\n",
       "       [3],\n",
       "       [5],\n",
       "       [4],\n",
       "       [2]])"
      ]
     },
     "execution_count": 56,
     "metadata": {},
     "output_type": "execute_result"
    }
   ],
   "source": [
    "a3 = a[:, np.newaxis]\n",
    "print(a3.shape)\n",
    "a3"
   ]
  },
  {
   "cell_type": "markdown",
   "id": "894494f1",
   "metadata": {},
   "source": [
    "\n",
    "---\n",
    "\n",
    "🧠 What is np.expand_dims()?\n",
    "\n",
    "Think of a NumPy array like a box that holds numbers. Sometimes we want to add an extra layer (dimension) to that box to help with math or machine learning tasks.\n",
    "\n",
    "👉 np.expand_dims() is like putting your toy in a bigger box. It doesn’t change the toy (data), just gives it more shape.\n",
    "\n",
    "---\n",
    "\n",
    "🛠 Syntax\n",
    "\n",
    "python\n",
    "np.expand_dims(array, axis)\n",
    "\n",
    "\n",
    "- array: The data you have (like a list or NumPy array).\n",
    "- axis: Where you want to add the new box (dimension).  \n",
    "  - axis=0: Add dimension at the front.\n",
    "  - axis=1: Add dimension in the middle.\n",
    "\n",
    "---\n",
    "\n",
    "🎲 Examples\n",
    "\n",
    "```python\n",
    "import numpy as np\n",
    "\n",
    "Simple 1D array (like a line of numbers)\n",
    "arr = np.array([1, 2, 3])\n",
    "print(arr.shape)  # Output: (3,)\n",
    "```\n",
    "\n",
    "Example 1: Add a dimension at axis=0\n",
    "```python\n",
    "expanded = np.expand_dims(arr, axis=0)\n",
    "print(expanded.shape)  # Output: (1, 3)\n",
    "```\n",
    "\n",
    "🔍 Now it's like:\n",
    "\n",
    "[[1, 2, 3]]\n",
    "\n",
    "\n",
    "Example 2: Add a dimension at axis=1\n",
    "```python\n",
    "expanded = np.expand_dims(arr, axis=1)\n",
    "print(expanded.shape)  # Output: (3, 1)\n",
    "```\n",
    "\n",
    "🔍 Now it's like:\n",
    "\n",
    "[[1],\n",
    " [2],\n",
    " [3]]\n",
    "\n",
    "\n",
    "---\n",
    "\n",
    "🌍 Real-World Use Cases\n",
    "\n",
    "- 🤖 In machine learning, models often need inputs in 2D or 3D shape.\n",
    "- 📸 In image processing, images may need an extra \"channel\" dimension.\n",
    "- 📈 When preparing data for batch processing or feeding into deep learning models.\n",
    "\n",
    "---\n",
    "\n",
    "🎓 Tip: Use np.expand_dims() when your array is too flat and your model or function says “I need more shape!” 😄\n",
    "\n",
    "---\n"
   ]
  },
  {
   "cell_type": "markdown",
   "id": "73a6ac23",
   "metadata": {},
   "source": [
    "---\n",
    "- __using np.nonzero()__\n",
    "\n",
    "we can use it to print the indices of elements with condition\n",
    "\n",
    "---"
   ]
  }
 ],
 "metadata": {
  "kernelspec": {
   "display_name": "DS_Env",
   "language": "python",
   "name": "python3"
  },
  "language_info": {
   "codemirror_mode": {
    "name": "ipython",
    "version": 3
   },
   "file_extension": ".py",
   "mimetype": "text/x-python",
   "name": "python",
   "nbconvert_exporter": "python",
   "pygments_lexer": "ipython3",
   "version": "3.13.2"
  }
 },
 "nbformat": 4,
 "nbformat_minor": 5
}
