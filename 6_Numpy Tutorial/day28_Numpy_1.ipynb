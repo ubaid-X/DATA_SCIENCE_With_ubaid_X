{
 "cells": [
  {
   "cell_type": "markdown",
   "id": "019d6e74",
   "metadata": {},
   "source": [
    "---\n",
    "\n",
    "- __Author name:__ UBAIDULLAH\n",
    "\n",
    "- __Email:__ [ai.bussiness.student0@gmail.com](mailto:ai.bussiness.student0@gmail.com)\n",
    "\n",
    "- __GitHub:__ [github.com/ubaid-X/](https://github.com/ubaid-X/)\n",
    "\n",
    "- __LinkedIn Profile:__ [linkedin.com/in/ubaid-ullah-634563373/](https://www.linkedin.com/in/ubaid-ullah-634563373/)\n",
    "\n",
    "- __Kaggle:__ [kaggle.com/ubaidullah01](https://www.kaggle.com/ubaidullah01)\n",
    "\n",
    "---"
   ]
  },
  {
   "cell_type": "markdown",
   "id": "e52ca8ab",
   "metadata": {},
   "source": [
    "> # __Numpy Introduction__\n",
    "\n",
    "__NumPy__ is a Python library used to handle large sets of numbers efficiently. It provides powerful tools like arrays and mathematical functions that help in doing fast calculations, especially useful in AI, data science, and machine learning."
   ]
  },
  {
   "cell_type": "markdown",
   "id": "e5692e29",
   "metadata": {},
   "source": [
    "### `pip install numpy`"
   ]
  },
  {
   "cell_type": "code",
   "execution_count": 3,
   "id": "e7a99dd4",
   "metadata": {},
   "outputs": [],
   "source": [
    "# importing numpy library\n",
    "import numpy as np"
   ]
  },
  {
   "cell_type": "markdown",
   "id": "0189c9e7",
   "metadata": {},
   "source": [
    "# What is Array?\n",
    "\n",
    "An array is a data structure that stores multiple values of the same type in a single, contiguous block of memory. In NumPy, arrays are called \"ndarray\" (n-dimensional array) and can hold numbers, strings, or other objects. Arrays allow you to perform mathematical operations efficiently on entire collections of data, making them much faster and more convenient than Python lists for numerical computations."
   ]
  },
  {
   "cell_type": "code",
   "execution_count": 5,
   "id": "fff449b6",
   "metadata": {},
   "outputs": [
    {
     "name": "stdout",
     "output_type": "stream",
     "text": [
      "[0 1 2 3 4 5 6 7 8 9]\n"
     ]
    }
   ],
   "source": [
    "a = np.arange(10)  # This creates an array with numbers from 0 to 9\n",
    "print(a)  # Output: [0 1 2 3 4 5 6 7 8 9]"
   ]
  },
  {
   "cell_type": "code",
   "execution_count": 6,
   "id": "eaf58bd6",
   "metadata": {},
   "outputs": [
    {
     "data": {
      "text/plain": [
       "(10,)"
      ]
     },
     "execution_count": 6,
     "metadata": {},
     "output_type": "execute_result"
    }
   ],
   "source": [
    "a.shape  # This will show the shape of the array, which is (10,)"
   ]
  },
  {
   "cell_type": "markdown",
   "id": "b1abf27a",
   "metadata": {},
   "source": [
    "- from the above code, when have 1D Array with 10 values"
   ]
  },
  {
   "cell_type": "code",
   "execution_count": null,
   "id": "9ad3868c",
   "metadata": {},
   "outputs": [
    {
     "name": "stdout",
     "output_type": "stream",
     "text": [
      "[[0 1 2 3 4 5 6 7 8 9]]\n"
     ]
    }
   ],
   "source": [
    "a2 = a[np.newaxis, :]  # This adds a new axis, converting it to a 2D array\n",
    "print(a2)  # Output: [[0 1 2 3 4 5 6 7 8 9]]"
   ]
  },
  {
   "cell_type": "markdown",
   "id": "c757ced6",
   "metadata": {},
   "source": [
    "> Note: __(rows, columns)__ => Shape"
   ]
  },
  {
   "cell_type": "code",
   "execution_count": 8,
   "id": "b4880e49",
   "metadata": {},
   "outputs": [
    {
     "data": {
      "text/plain": [
       "(1, 10)"
      ]
     },
     "execution_count": 8,
     "metadata": {},
     "output_type": "execute_result"
    }
   ],
   "source": [
    "a2.shape  # Output: (1, 10), indicating it's a 2D array with 1 row and 10 columns"
   ]
  },
  {
   "cell_type": "markdown",
   "id": "29a8ec5c",
   "metadata": {},
   "source": [
    "- from the above code we can see that a2 has one row and ten columns"
   ]
  },
  {
   "cell_type": "code",
   "execution_count": 9,
   "id": "26e36940",
   "metadata": {},
   "outputs": [
    {
     "name": "stdout",
     "output_type": "stream",
     "text": [
      "[[0]\n",
      " [1]\n",
      " [2]\n",
      " [3]\n",
      " [4]\n",
      " [5]\n",
      " [6]\n",
      " [7]\n",
      " [8]\n",
      " [9]]\n"
     ]
    },
    {
     "data": {
      "text/plain": [
       "(10, 1)"
      ]
     },
     "execution_count": 9,
     "metadata": {},
     "output_type": "execute_result"
    }
   ],
   "source": [
    "a2 = a[:, np.newaxis]  # This adds a new axis, converting it to a 2D array\n",
    "print(a2)\n",
    "a2.shape  # This will show the shape of the array, which is (10, 1)"
   ]
  },
  {
   "cell_type": "markdown",
   "id": "5a69a619",
   "metadata": {},
   "source": [
    "- from the above code we can see that a2 has ten rows and one columns"
   ]
  },
  {
   "cell_type": "code",
   "execution_count": 10,
   "id": "c1ad4d3c",
   "metadata": {},
   "outputs": [
    {
     "name": "stdout",
     "output_type": "stream",
     "text": [
      "[[[0]\n",
      "  [1]\n",
      "  [2]\n",
      "  [3]\n",
      "  [4]\n",
      "  [5]\n",
      "  [6]\n",
      "  [7]\n",
      "  [8]\n",
      "  [9]]]\n"
     ]
    },
    {
     "data": {
      "text/plain": [
       "(1, 10, 1)"
      ]
     },
     "execution_count": 10,
     "metadata": {},
     "output_type": "execute_result"
    }
   ],
   "source": [
    "a3 = a2[np.newaxis, :]\n",
    "print(a3)\n",
    "a3.shape"
   ]
  },
  {
   "cell_type": "markdown",
   "id": "f2c8e772",
   "metadata": {},
   "source": [
    "> # In Data Science, arrays of different dimensions are used to represent and process various types of data:\n",
    "\n",
    "- 1D arrays: These are useful for storing simple sequences of data, such as a list of ages, temperatures, or scores. \n",
    "    - Example: [23, 45, 67, 89]\n",
    "\n",
    "- 2D arrays: These are commonly used to represent tabular data, like datasets with rows and columns (similar to spreadsheets or DataFrames).\n",
    "    - Example: Each row could be a data sample, and each column a feature.\n",
    "\n",
    "- 3D arrays: These are needed when working with more complex data, such as images (height x width x color channels), time series data (samples x time steps x features), or batches of data for machine learning models.\n",
    "\n",
    "> # In summary:\n",
    "\n",
    " - 1D arrays: Simple lists or vectors.\n",
    " - 2D arrays: Tables, matrices, or grayscale images.\n",
    " - 3D arrays: Color images, sequences, or batches of data.\n",
    "\n",
    "### __Choosing the right array dimension helps efficiently store, manipulate, and analyze data in Data Science tasks.__"
   ]
  },
  {
   "cell_type": "markdown",
   "id": "77b33897",
   "metadata": {},
   "source": [
    "# Creating Arrays with Numpy"
   ]
  },
  {
   "cell_type": "code",
   "execution_count": null,
   "id": "19d8b918",
   "metadata": {},
   "outputs": [
    {
     "name": "stdout",
     "output_type": "stream",
     "text": [
      "[1 2 3 4 5 6]\n",
      "<class 'numpy.ndarray'>\n",
      "int64\n"
     ]
    },
    {
     "data": {
      "text/plain": [
       "(6,)"
      ]
     },
     "execution_count": 28,
     "metadata": {},
     "output_type": "execute_result"
    }
   ],
   "source": [
    "# 1D Array\n",
    "a = np.array([1, 2, 3, 4, 5, 6])\n",
    "print(a)\n",
    "print(type(a)) # gives the type of the object(array) itself\n",
    "print(a.dtype) # => checking for data type of array elements\n",
    "a.shape\n"
   ]
  },
  {
   "cell_type": "code",
   "execution_count": 22,
   "id": "8a6e3aa4",
   "metadata": {},
   "outputs": [
    {
     "name": "stdout",
     "output_type": "stream",
     "text": [
      "[[ 1  2  3  4  5]\n",
      " [ 6  7  8  9 10]]\n",
      "int64\n"
     ]
    },
    {
     "data": {
      "text/plain": [
       "(2, 5)"
      ]
     },
     "execution_count": 22,
     "metadata": {},
     "output_type": "execute_result"
    }
   ],
   "source": [
    "# 2D Array\n",
    "b = np.array([(1, 2, 3, 4, 5), (6, 7, 8, 9,10)])\n",
    "print(b)\n",
    "print(b.dtype)\n",
    "b.shape"
   ]
  },
  {
   "cell_type": "markdown",
   "id": "f5b7fc80",
   "metadata": {},
   "source": [
    "# initialize arrays with python"
   ]
  },
  {
   "cell_type": "code",
   "execution_count": 24,
   "id": "3066a141",
   "metadata": {},
   "outputs": [
    {
     "name": "stdout",
     "output_type": "stream",
     "text": [
      "float64\n"
     ]
    },
    {
     "data": {
      "text/plain": [
       "array([[0., 0., 0., 0., 0., 0., 0.],\n",
       "       [0., 0., 0., 0., 0., 0., 0.],\n",
       "       [0., 0., 0., 0., 0., 0., 0.],\n",
       "       [0., 0., 0., 0., 0., 0., 0.]])"
      ]
     },
     "execution_count": 24,
     "metadata": {},
     "output_type": "execute_result"
    }
   ],
   "source": [
    "zeros = np.zeros((4, 7))  # (rows, columns)\n",
    "print(zeros.dtype)\n",
    "zeros"
   ]
  },
  {
   "cell_type": "code",
   "execution_count": 23,
   "id": "bee2d863",
   "metadata": {},
   "outputs": [
    {
     "name": "stdout",
     "output_type": "stream",
     "text": [
      "float64\n"
     ]
    },
    {
     "data": {
      "text/plain": [
       "array([[1., 1., 1., 1., 1., 1.],\n",
       "       [1., 1., 1., 1., 1., 1.],\n",
       "       [1., 1., 1., 1., 1., 1.],\n",
       "       [1., 1., 1., 1., 1., 1.]])"
      ]
     },
     "execution_count": 23,
     "metadata": {},
     "output_type": "execute_result"
    }
   ],
   "source": [
    "ones = np.ones((4, 6))\n",
    "print(ones.dtype)\n",
    "ones"
   ]
  },
  {
   "cell_type": "code",
   "execution_count": 25,
   "id": "6bac4353",
   "metadata": {},
   "outputs": [
    {
     "name": "stdout",
     "output_type": "stream",
     "text": [
      "int64\n"
     ]
    },
    {
     "data": {
      "text/plain": [
       "array([[5, 5, 5, 5, 5, 5, 5],\n",
       "       [5, 5, 5, 5, 5, 5, 5],\n",
       "       [5, 5, 5, 5, 5, 5, 5]])"
      ]
     },
     "execution_count": 25,
     "metadata": {},
     "output_type": "execute_result"
    }
   ],
   "source": [
    "full = np.full((3, 7), 5) # => for desireble values like we used 5\n",
    "print(full.dtype)\n",
    "full"
   ]
  },
  {
   "cell_type": "code",
   "execution_count": 26,
   "id": "c39247f7",
   "metadata": {},
   "outputs": [
    {
     "name": "stdout",
     "output_type": "stream",
     "text": [
      "float64\n"
     ]
    },
    {
     "data": {
      "text/plain": [
       "array([[2.2, 2.2, 2.2, 2.2, 2.2, 2.2, 2.2],\n",
       "       [2.2, 2.2, 2.2, 2.2, 2.2, 2.2, 2.2],\n",
       "       [2.2, 2.2, 2.2, 2.2, 2.2, 2.2, 2.2]])"
      ]
     },
     "execution_count": 26,
     "metadata": {},
     "output_type": "execute_result"
    }
   ],
   "source": [
    "full = np.full((3, 7), 2.2) # => for desireble values like we used 2.2\n",
    "print(full.dtype)\n",
    "full"
   ]
  },
  {
   "cell_type": "code",
   "execution_count": 29,
   "id": "a3c923cb",
   "metadata": {},
   "outputs": [
    {
     "name": "stdout",
     "output_type": "stream",
     "text": [
      "<class 'numpy.ndarray'>\n",
      "float64\n"
     ]
    },
    {
     "data": {
      "text/plain": [
       "array([[1., 0., 0., 0., 0.],\n",
       "       [0., 1., 0., 0., 0.],\n",
       "       [0., 0., 1., 0., 0.],\n",
       "       [0., 0., 0., 1., 0.],\n",
       "       [0., 0., 0., 0., 1.]])"
      ]
     },
     "execution_count": 29,
     "metadata": {},
     "output_type": "execute_result"
    }
   ],
   "source": [
    "# creating identity matrix\n",
    "identity = np.eye(5)\n",
    "print(type(identity))\n",
    "print(identity.dtype)\n",
    "identity"
   ]
  },
  {
   "cell_type": "markdown",
   "id": "e34a6874",
   "metadata": {},
   "source": [
    "# Array Attributes"
   ]
  },
  {
   "cell_type": "code",
   "execution_count": null,
   "id": "6dc085c2",
   "metadata": {},
   "outputs": [
    {
     "name": "stdout",
     "output_type": "stream",
     "text": [
      "(6,)\n"
     ]
    },
    {
     "data": {
      "text/plain": [
       "(2, 5)"
      ]
     },
     "execution_count": 36,
     "metadata": {},
     "output_type": "execute_result"
    }
   ],
   "source": [
    "print(a.shape) # shape of the array => (rows, columns) \n",
    "b.shape"
   ]
  },
  {
   "cell_type": "code",
   "execution_count": null,
   "id": "8b92e7b7",
   "metadata": {},
   "outputs": [
    {
     "name": "stdout",
     "output_type": "stream",
     "text": [
      "6\n"
     ]
    },
    {
     "data": {
      "text/plain": [
       "2"
      ]
     },
     "execution_count": 37,
     "metadata": {},
     "output_type": "execute_result"
    }
   ],
   "source": [
    "print(len(a)) # length of array\n",
    "len(b)"
   ]
  },
  {
   "cell_type": "code",
   "execution_count": 40,
   "id": "a6322766",
   "metadata": {},
   "outputs": [
    {
     "name": "stdout",
     "output_type": "stream",
     "text": [
      "6\n",
      "10\n"
     ]
    }
   ],
   "source": [
    "print(a.size) # number of elements in the array\n",
    "print(b.size)"
   ]
  },
  {
   "cell_type": "code",
   "execution_count": null,
   "id": "59e9bc85",
   "metadata": {},
   "outputs": [
    {
     "name": "stdout",
     "output_type": "stream",
     "text": [
      "1\n"
     ]
    },
    {
     "data": {
      "text/plain": [
       "2"
      ]
     },
     "execution_count": 38,
     "metadata": {},
     "output_type": "execute_result"
    }
   ],
   "source": [
    "print(a.ndim) # it will give the dimension of the array\n",
    "print(b.ndim)\n",
    "print(identity.ndim)"
   ]
  },
  {
   "cell_type": "markdown",
   "id": "55d2d5de",
   "metadata": {},
   "source": [
    "# Basic Operations"
   ]
  },
  {
   "cell_type": "code",
   "execution_count": 44,
   "id": "e14382f9",
   "metadata": {},
   "outputs": [
    {
     "data": {
      "text/plain": [
       "array([1, 2, 3, 4, 5])"
      ]
     },
     "execution_count": 44,
     "metadata": {},
     "output_type": "execute_result"
    }
   ],
   "source": [
    "a = np.array([1, 2, 3, 4, 5])\n",
    "a"
   ]
  },
  {
   "cell_type": "code",
   "execution_count": 46,
   "id": "1ab3d2e6",
   "metadata": {},
   "outputs": [
    {
     "data": {
      "text/plain": [
       "array([[ 1,  2,  3,  4,  5],\n",
       "       [ 6,  7,  8,  9, 10]])"
      ]
     },
     "execution_count": 46,
     "metadata": {},
     "output_type": "execute_result"
    }
   ],
   "source": [
    "b"
   ]
  },
  {
   "cell_type": "code",
   "execution_count": 54,
   "id": "9707d38d",
   "metadata": {},
   "outputs": [
    {
     "data": {
      "text/plain": [
       "array([[ 0,  0,  0,  0,  0],\n",
       "       [-5, -5, -5, -5, -5]])"
      ]
     },
     "execution_count": 54,
     "metadata": {},
     "output_type": "execute_result"
    }
   ],
   "source": [
    "g = a - b   # subtraction\n",
    "g"
   ]
  },
  {
   "cell_type": "code",
   "execution_count": 55,
   "id": "5ae41862",
   "metadata": {},
   "outputs": [
    {
     "data": {
      "text/plain": [
       "array([[ 2,  4,  6,  8, 10],\n",
       "       [ 7,  9, 11, 13, 15]])"
      ]
     },
     "execution_count": 55,
     "metadata": {},
     "output_type": "execute_result"
    }
   ],
   "source": [
    "# 1st method\n",
    "h = a + b # Addition\n",
    "h"
   ]
  },
  {
   "cell_type": "code",
   "execution_count": 51,
   "id": "5df3f517",
   "metadata": {},
   "outputs": [
    {
     "data": {
      "text/plain": [
       "array([[ 2,  4,  6,  8, 10],\n",
       "       [ 7,  9, 11, 13, 15]])"
      ]
     },
     "execution_count": 51,
     "metadata": {},
     "output_type": "execute_result"
    }
   ],
   "source": [
    "# 2nd mthod\n",
    "h1 = np.add(a, b)\n",
    "h1"
   ]
  },
  {
   "cell_type": "code",
   "execution_count": 52,
   "id": "f7d7e8b5",
   "metadata": {},
   "outputs": [
    {
     "data": {
      "text/plain": [
       "array([[ 1,  4,  9, 16, 25],\n",
       "       [ 6, 14, 24, 36, 50]])"
      ]
     },
     "execution_count": 52,
     "metadata": {},
     "output_type": "execute_result"
    }
   ],
   "source": [
    "# multiplication\n",
    "i = a * b\n",
    "i"
   ]
  },
  {
   "cell_type": "code",
   "execution_count": 53,
   "id": "afb89317",
   "metadata": {},
   "outputs": [
    {
     "data": {
      "text/plain": [
       "array([[1.        , 1.        , 1.        , 1.        , 1.        ],\n",
       "       [0.16666667, 0.28571429, 0.375     , 0.44444444, 0.5       ]])"
      ]
     },
     "execution_count": 53,
     "metadata": {},
     "output_type": "execute_result"
    }
   ],
   "source": [
    "# Division\n",
    "j = a / b\n",
    "j"
   ]
  },
  {
   "cell_type": "code",
   "execution_count": 56,
   "id": "5e9c78f1",
   "metadata": {},
   "outputs": [
    {
     "data": {
      "text/plain": [
       "array([1, 2, 3, 4, 5])"
      ]
     },
     "execution_count": 56,
     "metadata": {},
     "output_type": "execute_result"
    }
   ],
   "source": [
    "a"
   ]
  },
  {
   "cell_type": "code",
   "execution_count": 58,
   "id": "1c8809be",
   "metadata": {},
   "outputs": [
    {
     "data": {
      "text/plain": [
       "array([ 1,  4,  9, 16, 25])"
      ]
     },
     "execution_count": 58,
     "metadata": {},
     "output_type": "execute_result"
    }
   ],
   "source": [
    "# Taking square of each element in a array\n",
    "k = a ** 2\n",
    "k"
   ]
  }
 ],
 "metadata": {
  "kernelspec": {
   "display_name": "DS_Env",
   "language": "python",
   "name": "python3"
  },
  "language_info": {
   "codemirror_mode": {
    "name": "ipython",
    "version": 3
   },
   "file_extension": ".py",
   "mimetype": "text/x-python",
   "name": "python",
   "nbconvert_exporter": "python",
   "pygments_lexer": "ipython3",
   "version": "3.13.2"
  }
 },
 "nbformat": 4,
 "nbformat_minor": 5
}
