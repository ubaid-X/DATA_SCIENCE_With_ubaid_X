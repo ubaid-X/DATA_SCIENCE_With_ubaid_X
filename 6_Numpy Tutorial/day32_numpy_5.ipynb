{
 "cells": [
  {
   "cell_type": "markdown",
   "id": "c15c4858",
   "metadata": {},
   "source": [
    "---\n",
    "\n",
    "- __Author name:__ UBAIDULLAH\n",
    "\n",
    "- __Email:__ [ai.bussiness.student0@gmail.com](mailto:ai.bussiness.student0@gmail.com)\n",
    "\n",
    "- __GitHub:__ [github.com/ubaid-X/](https://github.com/ubaid-X/)\n",
    "\n",
    "- __LinkedIn Profile:__ [linkedin.com/in/ubaid-ullah-634563373/](https://www.linkedin.com/in/ubaid-ullah-634563373/)\n",
    "\n",
    "- __Kaggle:__ [kaggle.com/ubaidullah01](https://www.kaggle.com/ubaidullah01)\n",
    "\n",
    "---"
   ]
  },
  {
   "cell_type": "markdown",
   "id": "63d0d3fc",
   "metadata": {},
   "source": [
    "---\n",
    "> # __Creating Matrices__\n",
    "\n",
    "you can pass python lists of lists to create 2D array(`\"Matrix\"`)to represent them in numpy"
   ]
  },
  {
   "cell_type": "code",
   "execution_count": 48,
   "id": "fdf1b4ad",
   "metadata": {},
   "outputs": [],
   "source": [
    "import numpy as np"
   ]
  },
  {
   "cell_type": "code",
   "execution_count": 49,
   "id": "2a00faa0",
   "metadata": {},
   "outputs": [
    {
     "data": {
      "text/plain": [
       "array([[1, 2, 3],\n",
       "       [4, 5, 6]])"
      ]
     },
     "execution_count": 49,
     "metadata": {},
     "output_type": "execute_result"
    }
   ],
   "source": [
    "# creating 2x3(rows, columns) matrix\n",
    "a = np.array([[1, 2, 3], [4, 5,  6]])\n",
    "a"
   ]
  },
  {
   "cell_type": "code",
   "execution_count": 50,
   "id": "682547e0",
   "metadata": {},
   "outputs": [
    {
     "name": "stdout",
     "output_type": "stream",
     "text": [
      "[[ 0  2  4  6  8 10 12 14 16 18]\n",
      " [20 22 24 26 28 30 32 34 36 38]\n",
      " [40 42 44 46 48 50 52 54 56 58]\n",
      " [60 62 64 66 68 70 72 74 76 78]\n",
      " [80 82 84 86 88 90 92 94 96 98]]\n"
     ]
    }
   ],
   "source": [
    "# creating a matrix of big dimension\n",
    "b = np.arange(0, 100, 2).reshape(5, 10)\n",
    "print(b) "
   ]
  },
  {
   "cell_type": "code",
   "execution_count": 51,
   "id": "2bf34ab4",
   "metadata": {},
   "outputs": [
    {
     "data": {
      "text/plain": [
       "array([[26, 28],\n",
       "       [46, 48]])"
      ]
     },
     "execution_count": 51,
     "metadata": {},
     "output_type": "execute_result"
    }
   ],
   "source": [
    "# slicing a matrix\n",
    "b[1:3, 3:5]"
   ]
  },
  {
   "cell_type": "code",
   "execution_count": 52,
   "id": "a4d5b5b0",
   "metadata": {},
   "outputs": [
    {
     "data": {
      "text/plain": [
       "array([[ 6,  8],\n",
       "       [26, 28],\n",
       "       [46, 48],\n",
       "       [66, 68],\n",
       "       [86, 88]])"
      ]
     },
     "execution_count": 52,
     "metadata": {},
     "output_type": "execute_result"
    }
   ],
   "source": [
    "# slicing a matrix\n",
    "b[0:, 3:5]"
   ]
  },
  {
   "cell_type": "markdown",
   "id": "c454ddde",
   "metadata": {},
   "source": [
    "### __Explaination__\n",
    "\n",
    "syntax: `b[range of rows, range of columns]`\n",
    "\n",
    "`b[0:3, 3:5]` meaning:\n",
    "\n",
    "take three rows of (`0, 1, 2`) indexes and take columns of (`3, 4`) index"
   ]
  },
  {
   "cell_type": "code",
   "execution_count": 53,
   "id": "1ac63707",
   "metadata": {},
   "outputs": [
    {
     "data": {
      "text/plain": [
       "array([[ 0,  2,  4,  6,  8, 10, 12, 14, 16, 18],\n",
       "       [20, 22, 24, 26, 28, 30, 32, 34, 36, 38],\n",
       "       [40, 42, 44, 46, 48, 50, 52, 54, 56, 58],\n",
       "       [60, 62, 64, 66, 68, 70, 72, 74, 76, 78],\n",
       "       [80, 82, 84, 86, 88, 90, 92, 94, 96, 98]])"
      ]
     },
     "execution_count": 53,
     "metadata": {},
     "output_type": "execute_result"
    }
   ],
   "source": [
    "# it will give all matrix\n",
    "b[:, :]"
   ]
  },
  {
   "cell_type": "code",
   "execution_count": 54,
   "id": "cac4f056",
   "metadata": {},
   "outputs": [
    {
     "data": {
      "text/plain": [
       "array([ 0, 20, 40])"
      ]
     },
     "execution_count": 54,
     "metadata": {},
     "output_type": "execute_result"
    }
   ],
   "source": [
    "b[0:3, 0] #taking two rows and column"
   ]
  },
  {
   "cell_type": "code",
   "execution_count": 55,
   "id": "e267f1e9",
   "metadata": {},
   "outputs": [
    {
     "data": {
      "text/plain": [
       "array([26, 28])"
      ]
     },
     "execution_count": 55,
     "metadata": {},
     "output_type": "execute_result"
    }
   ],
   "source": [
    "b[1, 3:5]  # taking one row and two columns"
   ]
  },
  {
   "cell_type": "code",
   "execution_count": 56,
   "id": "505c01f7",
   "metadata": {},
   "outputs": [
    {
     "data": {
      "text/plain": [
       "array([[ 0,  2,  4,  6,  8, 10, 12, 14, 16, 18],\n",
       "       [20, 22, 24, 26, 28, 30, 32, 34, 36, 38],\n",
       "       [40, 42, 44, 46, 48, 50, 52, 54, 56, 58]])"
      ]
     },
     "execution_count": 56,
     "metadata": {},
     "output_type": "execute_result"
    }
   ],
   "source": [
    "b[0:3] # taking three rows and all columns"
   ]
  },
  {
   "cell_type": "code",
   "execution_count": 57,
   "id": "0c14acd8",
   "metadata": {},
   "outputs": [
    {
     "data": {
      "text/plain": [
       "array([20, 22, 24, 26, 28, 30, 32, 34, 36, 38])"
      ]
     },
     "execution_count": 57,
     "metadata": {},
     "output_type": "execute_result"
    }
   ],
   "source": [
    "b[1] # taking one rows and all values of it(column)"
   ]
  },
  {
   "cell_type": "code",
   "execution_count": 58,
   "id": "3d05a98a",
   "metadata": {},
   "outputs": [
    {
     "data": {
      "text/plain": [
       "array([[ 6,  8, 10],\n",
       "       [26, 28, 30],\n",
       "       [46, 48, 50]])"
      ]
     },
     "execution_count": 58,
     "metadata": {},
     "output_type": "execute_result"
    }
   ],
   "source": [
    "# creating another matrix from existing\n",
    "c = b[0:3, 3:6]\n",
    "c"
   ]
  },
  {
   "cell_type": "markdown",
   "id": "e268e2c5",
   "metadata": {},
   "source": [
    "---\n",
    "- __Aggregate matrices the same way as we aggregated vectors__"
   ]
  },
  {
   "cell_type": "code",
   "execution_count": 59,
   "id": "f718453c",
   "metadata": {},
   "outputs": [
    {
     "data": {
      "text/plain": [
       "np.int64(50)"
      ]
     },
     "execution_count": 59,
     "metadata": {},
     "output_type": "execute_result"
    }
   ],
   "source": [
    "# maximum value in c matrix\n",
    "c.max()"
   ]
  },
  {
   "cell_type": "code",
   "execution_count": 60,
   "id": "e8dc56e2",
   "metadata": {},
   "outputs": [
    {
     "data": {
      "text/plain": [
       "array([46, 48, 50])"
      ]
     },
     "execution_count": 60,
     "metadata": {},
     "output_type": "execute_result"
    }
   ],
   "source": [
    "# row which have max count of values\n",
    "c.max(axis=0)"
   ]
  },
  {
   "cell_type": "code",
   "execution_count": 61,
   "id": "25a5c9ff",
   "metadata": {},
   "outputs": [
    {
     "data": {
      "text/plain": [
       "array([10, 30, 50])"
      ]
     },
     "execution_count": 61,
     "metadata": {},
     "output_type": "execute_result"
    }
   ],
   "source": [
    "# column which have max count of values\n",
    "c.max(axis=1)"
   ]
  },
  {
   "cell_type": "markdown",
   "id": "784a67a0",
   "metadata": {},
   "source": [
    "---"
   ]
  },
  {
   "cell_type": "code",
   "execution_count": 62,
   "id": "174f26a2",
   "metadata": {},
   "outputs": [
    {
     "data": {
      "text/plain": [
       "np.int64(6)"
      ]
     },
     "execution_count": 62,
     "metadata": {},
     "output_type": "execute_result"
    }
   ],
   "source": [
    "# minimum value in c matrix\n",
    "c.min()"
   ]
  },
  {
   "cell_type": "code",
   "execution_count": 63,
   "id": "4e64b699",
   "metadata": {},
   "outputs": [
    {
     "data": {
      "text/plain": [
       "array([ 6,  8, 10])"
      ]
     },
     "execution_count": 63,
     "metadata": {},
     "output_type": "execute_result"
    }
   ],
   "source": [
    "# row which have min count of values\n",
    "c.min(axis=0)"
   ]
  },
  {
   "cell_type": "code",
   "execution_count": 64,
   "id": "cc821a86",
   "metadata": {},
   "outputs": [
    {
     "data": {
      "text/plain": [
       "array([ 6, 26, 46])"
      ]
     },
     "execution_count": 64,
     "metadata": {},
     "output_type": "execute_result"
    }
   ],
   "source": [
    "# column which have min count of values\n",
    "c.min(axis=1)"
   ]
  },
  {
   "cell_type": "markdown",
   "id": "a6aa762f",
   "metadata": {},
   "source": [
    "---"
   ]
  },
  {
   "cell_type": "code",
   "execution_count": 65,
   "id": "a48f40f0",
   "metadata": {},
   "outputs": [
    {
     "data": {
      "text/plain": [
       "np.int64(252)"
      ]
     },
     "execution_count": 65,
     "metadata": {},
     "output_type": "execute_result"
    }
   ],
   "source": [
    "# sum of all values in c matrix\n",
    "c.sum()"
   ]
  },
  {
   "cell_type": "markdown",
   "id": "f2cb646f",
   "metadata": {},
   "source": [
    "---"
   ]
  },
  {
   "cell_type": "code",
   "execution_count": 66,
   "id": "fe77ebea",
   "metadata": {},
   "outputs": [
    {
     "data": {
      "text/plain": [
       "np.float64(28.0)"
      ]
     },
     "execution_count": 66,
     "metadata": {},
     "output_type": "execute_result"
    }
   ],
   "source": [
    "# mean of all values in c matrix\n",
    "c.mean()"
   ]
  },
  {
   "cell_type": "markdown",
   "id": "5a462384",
   "metadata": {},
   "source": [
    "---"
   ]
  },
  {
   "cell_type": "code",
   "execution_count": 67,
   "id": "9b97d1b8",
   "metadata": {},
   "outputs": [
    {
     "data": {
      "text/plain": [
       "array([[ 0,  2],\n",
       "       [ 4,  6],\n",
       "       [ 8, 10],\n",
       "       [12, 14],\n",
       "       [16, 18]])"
      ]
     },
     "execution_count": 67,
     "metadata": {},
     "output_type": "execute_result"
    }
   ],
   "source": [
    "d = np.arange(0, 20, 2).reshape(5, 2)\n",
    "d"
   ]
  },
  {
   "cell_type": "code",
   "execution_count": 68,
   "id": "016efbb2",
   "metadata": {},
   "outputs": [
    {
     "data": {
      "text/plain": [
       "array([[10,  7],\n",
       "       [14, 11],\n",
       "       [18, 15],\n",
       "       [22, 19],\n",
       "       [26, 23]])"
      ]
     },
     "execution_count": 68,
     "metadata": {},
     "output_type": "execute_result"
    }
   ],
   "source": [
    "# add this values rows wise with every row, we can also do operations like  *,-,/ etc\n",
    "d + np.array([10, 5])"
   ]
  },
  {
   "cell_type": "code",
   "execution_count": 69,
   "id": "574e39dc",
   "metadata": {},
   "outputs": [
    {
     "data": {
      "text/plain": [
       "array([[  0,  10],\n",
       "       [ 40,  30],\n",
       "       [ 80,  50],\n",
       "       [120,  70],\n",
       "       [160,  90]])"
      ]
     },
     "execution_count": 69,
     "metadata": {},
     "output_type": "execute_result"
    }
   ],
   "source": [
    "# multiplication\n",
    "d * np.array([10, 5])"
   ]
  },
  {
   "cell_type": "code",
   "execution_count": 70,
   "id": "32e269df",
   "metadata": {},
   "outputs": [
    {
     "data": {
      "text/plain": [
       "array([[ 0,  2],\n",
       "       [ 4,  6],\n",
       "       [ 8, 10],\n",
       "       [12, 14],\n",
       "       [16, 18],\n",
       "       [44, 66]])"
      ]
     },
     "execution_count": 70,
     "metadata": {},
     "output_type": "execute_result"
    }
   ],
   "source": [
    "# adding new row\n",
    "np.vstack((d, np.array([44, 66])))"
   ]
  },
  {
   "cell_type": "markdown",
   "id": "a0284b1e",
   "metadata": {},
   "source": [
    "---\n",
    "- __How to get Unique items and counts__"
   ]
  },
  {
   "cell_type": "code",
   "execution_count": 71,
   "id": "98057093",
   "metadata": {},
   "outputs": [
    {
     "data": {
      "text/plain": [
       "array([ 11,  22,  33,  34, 100])"
      ]
     },
     "execution_count": 71,
     "metadata": {},
     "output_type": "execute_result"
    }
   ],
   "source": [
    "# it will give unique array from duplicate array\n",
    "a = np.array([11, 11, 22, 22, 33, 33, 34, 34, 100])\n",
    "np.unique(a)"
   ]
  },
  {
   "cell_type": "code",
   "execution_count": 72,
   "id": "0951dc59",
   "metadata": {},
   "outputs": [
    {
     "data": {
      "text/plain": [
       "(array([ 11,  22,  33,  34, 100]), array([0, 2, 4, 6, 8]))"
      ]
     },
     "execution_count": 72,
     "metadata": {},
     "output_type": "execute_result"
    }
   ],
   "source": [
    "# to get the indeces of unique value in a numpy array\n",
    "np.unique(a, return_index=True)"
   ]
  },
  {
   "cell_type": "code",
   "execution_count": 73,
   "id": "ef5de0e7",
   "metadata": {},
   "outputs": [
    {
     "data": {
      "text/plain": [
       "(array([ 11,  22,  33,  34, 100]), array([2, 2, 2, 2, 1]))"
      ]
     },
     "execution_count": 73,
     "metadata": {},
     "output_type": "execute_result"
    }
   ],
   "source": [
    "# frequency count of unique values in numpy array\n",
    "np.unique(a, return_counts=True)"
   ]
  },
  {
   "cell_type": "code",
   "execution_count": 74,
   "id": "cf6b8264",
   "metadata": {},
   "outputs": [
    {
     "data": {
      "text/plain": [
       "array([[ 1,  2,  3,  4],\n",
       "       [11, 22, 33, 44],\n",
       "       [ 1,  2,  3,  4],\n",
       "       [ 1,  4,  3,  2]])"
      ]
     },
     "execution_count": 74,
     "metadata": {},
     "output_type": "execute_result"
    }
   ],
   "source": [
    "# creating 2D array\n",
    "e = np.array([[1, 2, 3, 4], [11, 22, 33 ,44], [1, 2, 3, 4], [1, 4, 3, 2]])\n",
    "e"
   ]
  },
  {
   "cell_type": "code",
   "execution_count": 75,
   "id": "2be2bf53",
   "metadata": {},
   "outputs": [
    {
     "data": {
      "text/plain": [
       "array([[ 1,  2,  3,  4],\n",
       "       [ 1,  4,  3,  2],\n",
       "       [11, 22, 33, 44]])"
      ]
     },
     "execution_count": 75,
     "metadata": {},
     "output_type": "execute_result"
    }
   ],
   "source": [
    "# we can also do it on 2D array as same as above\n",
    "# unique rows\n",
    "np.unique(e, axis=0)\n",
    "\n",
    "# we can also do it column-wise (axis=1)"
   ]
  },
  {
   "cell_type": "code",
   "execution_count": 76,
   "id": "d3938da8",
   "metadata": {},
   "outputs": [
    {
     "data": {
      "text/plain": [
       "array([[ 1, 11,  1,  1],\n",
       "       [ 2, 22,  2,  4],\n",
       "       [ 3, 33,  3,  3],\n",
       "       [ 4, 44,  4,  2]])"
      ]
     },
     "execution_count": 76,
     "metadata": {},
     "output_type": "execute_result"
    }
   ],
   "source": [
    "# Transposing an array\n",
    "e.transpose()"
   ]
  },
  {
   "cell_type": "code",
   "execution_count": 77,
   "id": "6c59678a",
   "metadata": {},
   "outputs": [
    {
     "data": {
      "text/plain": [
       "array([[ 1, 11,  1,  1],\n",
       "       [ 2, 22,  2,  4],\n",
       "       [ 3, 33,  3,  3],\n",
       "       [ 4, 44,  4,  2]])"
      ]
     },
     "execution_count": 77,
     "metadata": {},
     "output_type": "execute_result"
    }
   ],
   "source": [
    "# we can also use .T for transpose\n",
    "e.T"
   ]
  },
  {
   "cell_type": "markdown",
   "id": "5bc8e7e7",
   "metadata": {},
   "source": [
    "---\n",
    "> # __How to reverse an Array__"
   ]
  },
  {
   "cell_type": "markdown",
   "id": "0ded07e6",
   "metadata": {},
   "source": [
    "- __reversing 1D array__"
   ]
  },
  {
   "cell_type": "code",
   "execution_count": 78,
   "id": "0867083c",
   "metadata": {},
   "outputs": [
    {
     "data": {
      "text/plain": [
       "array([1, 2, 3, 4, 5, 6])"
      ]
     },
     "execution_count": 78,
     "metadata": {},
     "output_type": "execute_result"
    }
   ],
   "source": [
    "arr = np.array([1, 2, 3, 4, 5, 6])\n",
    "arr"
   ]
  },
  {
   "cell_type": "code",
   "execution_count": 79,
   "id": "22ad2235",
   "metadata": {},
   "outputs": [
    {
     "data": {
      "text/plain": [
       "array([6, 5, 4, 3, 2, 1])"
      ]
     },
     "execution_count": 79,
     "metadata": {},
     "output_type": "execute_result"
    }
   ],
   "source": [
    "np.flip(arr)"
   ]
  },
  {
   "cell_type": "markdown",
   "id": "ada1230d",
   "metadata": {},
   "source": [
    "- __reversing 2D array__"
   ]
  },
  {
   "cell_type": "code",
   "execution_count": 84,
   "id": "8bd07981",
   "metadata": {},
   "outputs": [
    {
     "data": {
      "text/plain": [
       "array([[1, 2, 3],\n",
       "       [4, 5, 6],\n",
       "       [7, 8, 9]])"
      ]
     },
     "execution_count": 84,
     "metadata": {},
     "output_type": "execute_result"
    }
   ],
   "source": [
    "arr_2d = np.array([[1, 2, 3], [4, 5, 6], [7, 8, 9]])\n",
    "arr_2d"
   ]
  },
  {
   "cell_type": "code",
   "execution_count": 86,
   "id": "4fbfdcb9",
   "metadata": {},
   "outputs": [
    {
     "data": {
      "text/plain": [
       "array([[9, 8, 7],\n",
       "       [6, 5, 4],\n",
       "       [3, 2, 1]])"
      ]
     },
     "execution_count": 86,
     "metadata": {},
     "output_type": "execute_result"
    }
   ],
   "source": [
    "np.flip(arr_2d)"
   ]
  },
  {
   "cell_type": "code",
   "execution_count": 87,
   "id": "beeb163e",
   "metadata": {},
   "outputs": [
    {
     "data": {
      "text/plain": [
       "array([[7, 8, 9],\n",
       "       [4, 5, 6],\n",
       "       [1, 2, 3]])"
      ]
     },
     "execution_count": 87,
     "metadata": {},
     "output_type": "execute_result"
    }
   ],
   "source": [
    "# reversing only rows in array\n",
    "np.flip(arr_2d, axis=0)"
   ]
  },
  {
   "cell_type": "code",
   "execution_count": 85,
   "id": "c34eabcd",
   "metadata": {},
   "outputs": [
    {
     "data": {
      "text/plain": [
       "array([[3, 2, 1],\n",
       "       [6, 5, 4],\n",
       "       [9, 8, 7]])"
      ]
     },
     "execution_count": 85,
     "metadata": {},
     "output_type": "execute_result"
    }
   ],
   "source": [
    "# reversing only columns\n",
    "np.flip(arr_2d, axis=1)"
   ]
  },
  {
   "cell_type": "markdown",
   "id": "e4df6056",
   "metadata": {},
   "source": [
    "- __we can also reverse the content of one column or one row__"
   ]
  },
  {
   "cell_type": "code",
   "execution_count": 90,
   "id": "0ad7381b",
   "metadata": {},
   "outputs": [
    {
     "data": {
      "text/plain": [
       "array([3, 2, 1])"
      ]
     },
     "execution_count": 90,
     "metadata": {},
     "output_type": "execute_result"
    }
   ],
   "source": [
    "# reversing only first row\n",
    "np.flip(arr_2d[0])"
   ]
  },
  {
   "cell_type": "code",
   "execution_count": 91,
   "id": "64722c6a",
   "metadata": {},
   "outputs": [
    {
     "data": {
      "text/plain": [
       "array([7, 4, 1])"
      ]
     },
     "execution_count": 91,
     "metadata": {},
     "output_type": "execute_result"
    }
   ],
   "source": [
    "# reversing only first column\n",
    "np.flip(arr_2d[:, 0])"
   ]
  },
  {
   "cell_type": "markdown",
   "id": "9cc5dd37",
   "metadata": {},
   "source": [
    "---\n",
    "> # __Saving and loading files using numpy__"
   ]
  },
  {
   "cell_type": "code",
   "execution_count": 95,
   "id": "ab1cdbe9",
   "metadata": {},
   "outputs": [],
   "source": [
    "csv_arr = np.array([1, 2, 3, 4, 5])\n",
    "\n",
    "# Saving the array to a CSV file\n",
    "np.savetxt('./np dataset/array.csv', csv_arr, delimiter=',')"
   ]
  },
  {
   "cell_type": "markdown",
   "id": "9a4027d5",
   "metadata": {},
   "source": [
    "- __Now loading CSV file__"
   ]
  },
  {
   "cell_type": "code",
   "execution_count": 96,
   "id": "1b2a1aeb",
   "metadata": {},
   "outputs": [
    {
     "data": {
      "text/plain": [
       "array([1., 2., 3., 4., 5.])"
      ]
     },
     "execution_count": 96,
     "metadata": {},
     "output_type": "execute_result"
    }
   ],
   "source": [
    "df = np.loadtxt('./np dataset/array.csv')\n",
    "df"
   ]
  },
  {
   "cell_type": "markdown",
   "id": "fff1b0ac",
   "metadata": {},
   "source": [
    "---\n",
    "> # __for more you can visit numpy officially documentation__\n",
    "---"
   ]
  },
  {
   "cell_type": "markdown",
   "id": "276bcdd2",
   "metadata": {},
   "source": [
    "> # __Read the blog__ [click here](https://codanics.com/data-preprocessing-for-data-science/)"
   ]
  }
 ],
 "metadata": {
  "kernelspec": {
   "display_name": "DS_Env",
   "language": "python",
   "name": "python3"
  },
  "language_info": {
   "codemirror_mode": {
    "name": "ipython",
    "version": 3
   },
   "file_extension": ".py",
   "mimetype": "text/x-python",
   "name": "python",
   "nbconvert_exporter": "python",
   "pygments_lexer": "ipython3",
   "version": "3.13.2"
  }
 },
 "nbformat": 4,
 "nbformat_minor": 5
}
