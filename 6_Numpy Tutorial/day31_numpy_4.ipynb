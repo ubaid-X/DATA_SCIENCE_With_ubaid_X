{
 "cells": [
  {
   "cell_type": "markdown",
   "id": "4d37d80d",
   "metadata": {},
   "source": [
    "---\n",
    "\n",
    "- __Author name:__ UBAIDULLAH\n",
    "\n",
    "- __Email:__ [ai.bussiness.student0@gmail.com](mailto:ai.bussiness.student0@gmail.com)\n",
    "\n",
    "- __GitHub:__ [github.com/ubaid-X/](https://github.com/ubaid-X/)\n",
    "\n",
    "- __LinkedIn Profile:__ [linkedin.com/in/ubaid-ullah-634563373/](https://www.linkedin.com/in/ubaid-ullah-634563373/)\n",
    "\n",
    "- __Kaggle:__ [kaggle.com/ubaidullah01](https://www.kaggle.com/ubaidullah01)\n",
    "\n",
    "---"
   ]
  },
  {
   "cell_type": "markdown",
   "id": "470b62f8",
   "metadata": {},
   "source": [
    "---\n",
    "> # __How to create an array from existing data__\n",
    "---\n"
   ]
  },
  {
   "cell_type": "code",
   "execution_count": 1,
   "id": "5a0b8cc7",
   "metadata": {},
   "outputs": [],
   "source": [
    "import numpy as np"
   ]
  },
  {
   "cell_type": "code",
   "execution_count": null,
   "id": "3c910142",
   "metadata": {},
   "outputs": [
    {
     "data": {
      "text/plain": [
       "array([  0,   7,  14,  21,  28,  35,  42,  49,  56,  63,  70,  77,  84,\n",
       "        91,  98, 105, 112, 119, 126, 133, 140, 147, 154, 161, 168, 175,\n",
       "       182, 189, 196, 203, 210, 217, 224, 231, 238, 245, 252, 259, 266,\n",
       "       273, 280, 287, 294, 301, 308, 315, 322, 329, 336, 343, 350, 357,\n",
       "       364, 371, 378, 385, 392, 399, 406, 413, 420, 427, 434, 441, 448,\n",
       "       455, 462, 469, 476, 483, 490, 497])"
      ]
     },
     "execution_count": 3,
     "metadata": {},
     "output_type": "execute_result"
    }
   ],
   "source": [
    "# creating an array\n",
    "a = np.arange(0, 500, 7)\n",
    "a"
   ]
  },
  {
   "cell_type": "code",
   "execution_count": 4,
   "id": "00bb4c9f",
   "metadata": {},
   "outputs": [
    {
     "data": {
      "text/plain": [
       "72"
      ]
     },
     "execution_count": 4,
     "metadata": {},
     "output_type": "execute_result"
    }
   ],
   "source": [
    "len(a)"
   ]
  },
  {
   "cell_type": "code",
   "execution_count": 5,
   "id": "a5665bb6",
   "metadata": {},
   "outputs": [
    {
     "data": {
      "text/plain": [
       "array([273, 280, 287, 294])"
      ]
     },
     "execution_count": 5,
     "metadata": {},
     "output_type": "execute_result"
    }
   ],
   "source": [
    "# creating array from existing data\n",
    "arr1 = a[39:43]\n",
    "arr1"
   ]
  },
  {
   "cell_type": "markdown",
   "id": "f03a336c",
   "metadata": {},
   "source": [
    "---\n",
    "- __we can stack two or more existing arrays, both vertically and horizontally using `vstack()` and `hstack()`__\n",
    "  - we can also do it using concatenate method which we learned previous lectures\n",
    "---"
   ]
  },
  {
   "cell_type": "code",
   "execution_count": 6,
   "id": "a2eb286a",
   "metadata": {},
   "outputs": [],
   "source": [
    "# creating arrays\n",
    "a1 = np.array([[1, 2 , 3], \n",
    "               [7, 8, 9]])\n",
    "\n",
    "a2 = np.array([[4, 5, 6],\n",
    "              [11, 13, 17]])"
   ]
  },
  {
   "cell_type": "code",
   "execution_count": 7,
   "id": "c59f2661",
   "metadata": {},
   "outputs": [
    {
     "name": "stdout",
     "output_type": "stream",
     "text": [
      "[[1 2 3]\n",
      " [7 8 9]]\n",
      "---------\n",
      "[[ 4  5  6]\n",
      " [11 13 17]]\n"
     ]
    }
   ],
   "source": [
    "print(a1)\n",
    "print(\"---------\")\n",
    "print(a2)"
   ]
  },
  {
   "cell_type": "code",
   "execution_count": 11,
   "id": "4a551642",
   "metadata": {},
   "outputs": [
    {
     "data": {
      "text/plain": [
       "array([[ 1,  2,  3],\n",
       "       [ 7,  8,  9],\n",
       "       [ 4,  5,  6],\n",
       "       [11, 13, 17]])"
      ]
     },
     "execution_count": 11,
     "metadata": {},
     "output_type": "execute_result"
    }
   ],
   "source": [
    "# Now stacking vertically \n",
    "b = np.vstack((a1, a2))\n",
    "b"
   ]
  },
  {
   "cell_type": "code",
   "execution_count": 13,
   "id": "9be15024",
   "metadata": {},
   "outputs": [
    {
     "data": {
      "text/plain": [
       "array([[ 1,  2,  3,  4,  5,  6],\n",
       "       [ 7,  8,  9, 11, 13, 17]])"
      ]
     },
     "execution_count": 13,
     "metadata": {},
     "output_type": "execute_result"
    }
   ],
   "source": [
    "# Now stacking horizontally\n",
    "c = np.hstack((a1, a2))\n",
    "c"
   ]
  }
 ],
 "metadata": {
  "kernelspec": {
   "display_name": "DS_Env",
   "language": "python",
   "name": "python3"
  },
  "language_info": {
   "codemirror_mode": {
    "name": "ipython",
    "version": 3
   },
   "file_extension": ".py",
   "mimetype": "text/x-python",
   "name": "python",
   "nbconvert_exporter": "python",
   "pygments_lexer": "ipython3",
   "version": "3.13.2"
  }
 },
 "nbformat": 4,
 "nbformat_minor": 5
}
