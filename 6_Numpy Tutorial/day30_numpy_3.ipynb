{
 "cells": [
  {
   "cell_type": "markdown",
   "id": "7e9a5a7d",
   "metadata": {},
   "source": [
    "---\n",
    "\n",
    "- __Author name:__ UBAIDULLAH\n",
    "\n",
    "- __Email:__ [ai.bussiness.student0@gmail.com](mailto:ai.bussiness.student0@gmail.com)\n",
    "\n",
    "- __GitHub:__ [github.com/ubaid-X/](https://github.com/ubaid-X/)\n",
    "\n",
    "- __LinkedIn Profile:__ [linkedin.com/in/ubaid-ullah-634563373/](https://www.linkedin.com/in/ubaid-ullah-634563373/)\n",
    "\n",
    "- __Kaggle:__ [kaggle.com/ubaidullah01](https://www.kaggle.com/ubaidullah01)\n",
    "\n",
    "---"
   ]
  },
  {
   "cell_type": "markdown",
   "id": "d4194852",
   "metadata": {},
   "source": [
    "---\n",
    "> # __Indexing and slicing__\n",
    "\n",
    "---"
   ]
  },
  {
   "cell_type": "code",
   "execution_count": 1,
   "id": "04d7b2d6",
   "metadata": {},
   "outputs": [],
   "source": [
    "# importing numpy library\n",
    "import numpy as np"
   ]
  },
  {
   "cell_type": "code",
   "execution_count": 2,
   "id": "a263f8f3",
   "metadata": {},
   "outputs": [
    {
     "data": {
      "text/plain": [
       "array([1, 2, 3, 4, 5, 6, 7, 8, 9])"
      ]
     },
     "execution_count": 2,
     "metadata": {},
     "output_type": "execute_result"
    }
   ],
   "source": [
    "# creating 1D array\n",
    "data = np.arange(1, 10)\n",
    "data"
   ]
  },
  {
   "cell_type": "code",
   "execution_count": 3,
   "id": "bcfa6394",
   "metadata": {},
   "outputs": [
    {
     "name": "stdout",
     "output_type": "stream",
     "text": [
      "1\n",
      "2\n"
     ]
    }
   ],
   "source": [
    "# accessing value on specific index\n",
    "print(data[0])  # first element\n",
    "print(data[1])  # second element"
   ]
  },
  {
   "cell_type": "code",
   "execution_count": 4,
   "id": "f2acbda7",
   "metadata": {},
   "outputs": [
    {
     "data": {
      "text/plain": [
       "array([1, 2, 3])"
      ]
     },
     "execution_count": 4,
     "metadata": {},
     "output_type": "execute_result"
    }
   ],
   "source": [
    "# slicing\n",
    "data[0:3]  # first three elements"
   ]
  },
  {
   "cell_type": "code",
   "execution_count": 5,
   "id": "2e60e0cf",
   "metadata": {},
   "outputs": [
    {
     "data": {
      "text/plain": [
       "array([2, 3, 4, 5, 6, 7, 8, 9])"
      ]
     },
     "execution_count": 5,
     "metadata": {},
     "output_type": "execute_result"
    }
   ],
   "source": [
    "data[1:]  # from second element to the end"
   ]
  },
  {
   "cell_type": "code",
   "execution_count": 6,
   "id": "731ed270",
   "metadata": {},
   "outputs": [
    {
     "data": {
      "text/plain": [
       "array([1, 2, 3])"
      ]
     },
     "execution_count": 6,
     "metadata": {},
     "output_type": "execute_result"
    }
   ],
   "source": [
    "data[:3]  # from start to the third value"
   ]
  },
  {
   "cell_type": "code",
   "execution_count": 7,
   "id": "bb0addce",
   "metadata": {},
   "outputs": [
    {
     "data": {
      "text/plain": [
       "np.int64(9)"
      ]
     },
     "execution_count": 7,
     "metadata": {},
     "output_type": "execute_result"
    }
   ],
   "source": [
    "data[-1]  # last element"
   ]
  },
  {
   "cell_type": "code",
   "execution_count": 8,
   "id": "73d04ded",
   "metadata": {},
   "outputs": [
    {
     "data": {
      "text/plain": [
       "array([7, 8, 9])"
      ]
     },
     "execution_count": 8,
     "metadata": {},
     "output_type": "execute_result"
    }
   ],
   "source": [
    "data[-3:]  # last three elements from the end"
   ]
  },
  {
   "cell_type": "code",
   "execution_count": 9,
   "id": "45812589",
   "metadata": {},
   "outputs": [
    {
     "data": {
      "text/plain": [
       "array([4, 5, 6, 7])"
      ]
     },
     "execution_count": 9,
     "metadata": {},
     "output_type": "execute_result"
    }
   ],
   "source": [
    "data[-6:-2] # from -6 to -2 (not including -2)"
   ]
  },
  {
   "cell_type": "code",
   "execution_count": 10,
   "id": "7c5dc4a3",
   "metadata": {},
   "outputs": [
    {
     "data": {
      "text/plain": [
       "array([[1, 2, 3],\n",
       "       [4, 5, 6],\n",
       "       [7, 8, 9]])"
      ]
     },
     "execution_count": 10,
     "metadata": {},
     "output_type": "execute_result"
    }
   ],
   "source": [
    "# creating 2D array\n",
    "b = np.array([[1, 2, 3],\n",
    "              [4, 5, 6],\n",
    "              [7, 8, 9]])\n",
    "b"
   ]
  },
  {
   "cell_type": "code",
   "execution_count": 11,
   "id": "e21149dd",
   "metadata": {},
   "outputs": [
    {
     "data": {
      "text/plain": [
       "array([1, 2, 3])"
      ]
     },
     "execution_count": 11,
     "metadata": {},
     "output_type": "execute_result"
    }
   ],
   "source": [
    "b[0] # accessing the first row"
   ]
  },
  {
   "cell_type": "code",
   "execution_count": 12,
   "id": "0d6ba27c",
   "metadata": {},
   "outputs": [
    {
     "data": {
      "text/plain": [
       "np.int64(2)"
      ]
     },
     "execution_count": 12,
     "metadata": {},
     "output_type": "execute_result"
    }
   ],
   "source": [
    "b[0, 1]  # accessing the first row and second column => specific value(point) => 2"
   ]
  },
  {
   "cell_type": "code",
   "execution_count": 13,
   "id": "f8b2cdf0",
   "metadata": {},
   "outputs": [
    {
     "data": {
      "text/plain": [
       "array([[5, 6],\n",
       "       [8, 9]])"
      ]
     },
     "execution_count": 13,
     "metadata": {},
     "output_type": "execute_result"
    }
   ],
   "source": [
    "b[1:, 1:] # accessing all rows from the second row and all columns from the second column"
   ]
  },
  {
   "cell_type": "code",
   "execution_count": 14,
   "id": "8f03eeaa",
   "metadata": {},
   "outputs": [
    {
     "data": {
      "text/plain": [
       "array([1, 2, 3, 4])"
      ]
     },
     "execution_count": 14,
     "metadata": {},
     "output_type": "execute_result"
    }
   ],
   "source": [
    "b[b < 5] # accessing all values less than 5"
   ]
  },
  {
   "cell_type": "code",
   "execution_count": 15,
   "id": "30550321",
   "metadata": {},
   "outputs": [
    {
     "data": {
      "text/plain": [
       "array([2, 4, 6, 8])"
      ]
     },
     "execution_count": 15,
     "metadata": {},
     "output_type": "execute_result"
    }
   ],
   "source": [
    "b[b % 2 == 0] # accessing all even values in the array"
   ]
  },
  {
   "cell_type": "code",
   "execution_count": 16,
   "id": "ab1c7ced",
   "metadata": {},
   "outputs": [
    {
     "data": {
      "text/plain": [
       "array([1, 3, 5, 7, 9])"
      ]
     },
     "execution_count": 16,
     "metadata": {},
     "output_type": "execute_result"
    }
   ],
   "source": [
    "b[b % 2 == 1] # accessing all odd values in the array"
   ]
  },
  {
   "cell_type": "markdown",
   "id": "957dcd7a",
   "metadata": {},
   "source": [
    "> ## Logical operator in python\n",
    "\n",
    "---\n",
    "\n",
    "| 🔢 Operator | 🔧 Python Syntax | 🧠 Explanation | 💻 Example + Output |\n",
    "|----------------|----------------------|--------------------|-------------------------|\n",
    "| AND        | and (like &)    | Returns True only if both conditions are true | True and False → False |\n",
    "| OR         | or (like |)     | Returns True if at least one condition is true | True or False → True |\n",
    "| NOT        | not (like !)     | Reverses the truth value (True → False) | not True → False |\n",
    "\n",
    "---\n",
    "\n",
    "✅ Detailed Example:\n",
    "\n",
    "python\n",
    "\n",
    "`a = 5`\n",
    "\n",
    "`b = 10`\n",
    "\n",
    "`print(a > 3 and b < 15)`   # True and True → True\n",
    "\n",
    "`print(a < 3 or b == 10)`   # False or True → True\n",
    "\n",
    "`print(not (a == 5))`     # not True → False\n",
    "\n",
    "\n",
    "__Output:__\n",
    "\n",
    "True \n",
    "\n",
    "True   \n",
    "\n",
    "False\n",
    "\n",
    "\n",
    "---"
   ]
  },
  {
   "cell_type": "code",
   "execution_count": 17,
   "id": "92fa4417",
   "metadata": {},
   "outputs": [
    {
     "data": {
      "text/plain": [
       "array([3, 4, 5, 6, 7])"
      ]
     },
     "execution_count": 17,
     "metadata": {},
     "output_type": "execute_result"
    }
   ],
   "source": [
    "# using two conditions\n",
    "b[(b > 2) & (b < 8)] # accessing all values greater than 2 and less than 8"
   ]
  },
  {
   "cell_type": "code",
   "execution_count": 18,
   "id": "227fc50c",
   "metadata": {},
   "outputs": [
    {
     "data": {
      "text/plain": [
       "array([[1, 2, 3],\n",
       "       [4, 5, 6],\n",
       "       [7, 8, 9]])"
      ]
     },
     "execution_count": 18,
     "metadata": {},
     "output_type": "execute_result"
    }
   ],
   "source": [
    "# creating 2D array\n",
    "a  =np.array([[1, 2, 3],\n",
    "              [4, 5, 6],\n",
    "              [7, 8, 9]])\n",
    "a"
   ]
  },
  {
   "cell_type": "code",
   "execution_count": 19,
   "id": "6d2442ec",
   "metadata": {},
   "outputs": [
    {
     "data": {
      "text/plain": [
       "array([4, 6])"
      ]
     },
     "execution_count": 19,
     "metadata": {},
     "output_type": "execute_result"
    }
   ],
   "source": [
    "# using three conditions\n",
    "b[(b > 2) & (b < 8) & (b % 2 == 0)] # accessing all even values which are greater than 2 and less than 8"
   ]
  },
  {
   "cell_type": "code",
   "execution_count": 20,
   "id": "74050e0e",
   "metadata": {},
   "outputs": [
    {
     "data": {
      "text/plain": [
       "array([1, 2, 3, 4, 5, 6, 7, 8, 9])"
      ]
     },
     "execution_count": 20,
     "metadata": {},
     "output_type": "execute_result"
    }
   ],
   "source": [
    "b[(b > 2) | (b < 8)] # accessing all values greater than 2 or less than 8"
   ]
  },
  {
   "cell_type": "code",
   "execution_count": 21,
   "id": "836394d3",
   "metadata": {},
   "outputs": [
    {
     "data": {
      "text/plain": [
       "(array([1, 2, 2, 2]), array([2, 0, 1, 2]))"
      ]
     },
     "execution_count": 21,
     "metadata": {},
     "output_type": "execute_result"
    }
   ],
   "source": [
    "np.nonzero(a > 5)  # using np.nonzero() to get indices of elements greater than 5   "
   ]
  }
 ],
 "metadata": {
  "kernelspec": {
   "display_name": "DS_Env",
   "language": "python",
   "name": "python3"
  },
  "language_info": {
   "codemirror_mode": {
    "name": "ipython",
    "version": 3
   },
   "file_extension": ".py",
   "mimetype": "text/x-python",
   "name": "python",
   "nbconvert_exporter": "python",
   "pygments_lexer": "ipython3",
   "version": "3.13.2"
  }
 },
 "nbformat": 4,
 "nbformat_minor": 5
}
